{
 "cells": [
  {
   "cell_type": "markdown",
   "id": "pl_cjIJ77VP7",
   "metadata": {
    "id": "pl_cjIJ77VP7"
   },
   "source": [
    "# Scaling Law on MNIST\n",
    "\n",
    "In this notebook, we explore scaling law on MNIST or fashion-MNIST dataset. We use simple feed-forward neural network as models for our experiments.\n",
    "\n",
    "By using MNIST dataset and much simpler models, we can easily explore the inside of the scaling law, with much less consumption of time and computational resources. It is like the Aplysia for neural science."
   ]
  },
  {
   "cell_type": "code",
   "execution_count": 1,
   "id": "b7f57fa0-8328-4cc4-9d4e-4790023df9ad",
   "metadata": {
    "id": "b7f57fa0-8328-4cc4-9d4e-4790023df9ad"
   },
   "outputs": [
    {
     "name": "stderr",
     "output_type": "stream",
     "text": [
      "2024-03-27 15:33:02.057320: I tensorflow/core/platform/cpu_feature_guard.cc:182] This TensorFlow binary is optimized to use available CPU instructions in performance-critical operations.\n",
      "To enable the following instructions: SSE3 SSE4.1 SSE4.2 AVX AVX2 FMA, in other operations, rebuild TensorFlow with the appropriate compiler flags.\n"
     ]
    }
   ],
   "source": [
    "import os\n",
    "import json\n",
    "import numpy as np\n",
    "import tensorflow as tf\n",
    "from keras import Sequential\n",
    "from keras.layers import Dense\n",
    "from keras.losses import SparseCategoricalCrossentropy\n",
    "from keras.optimizers import AdamW\n",
    "from keras.callbacks import EarlyStopping\n",
    "from tqdm import tqdm\n",
    "import matplotlib.pyplot as plt\n",
    "from scipy.stats import linregress\n",
    "\n",
    "os.environ['TF_CPP_MIN_LOG_LEVEL'] = '3'\n",
    "\n",
    "# Reproducibility\n",
    "tf.keras.utils.set_random_seed(1)\n",
    "tf.config.experimental.enable_op_determinism()"
   ]
  },
  {
   "cell_type": "code",
   "execution_count": 2,
   "id": "8A3OFsE9TJT6",
   "metadata": {
    "id": "8A3OFsE9TJT6"
   },
   "outputs": [],
   "source": [
    "EXPERIMENT = {}  # logs the experiment."
   ]
  },
  {
   "cell_type": "markdown",
   "id": "cGGWmjtBMyKt",
   "metadata": {
    "id": "cGGWmjtBMyKt"
   },
   "source": [
    "## Data\n",
    "\n",
    "We use fashion-MNIST instead of MNIST, since it is more complicated so that the range of loss can be sufficient large enough for plotting."
   ]
  },
  {
   "cell_type": "code",
   "execution_count": 3,
   "id": "6094fd8c-d797-4481-a84f-bdd12899c9d8",
   "metadata": {
    "id": "6094fd8c-d797-4481-a84f-bdd12899c9d8"
   },
   "outputs": [],
   "source": [
    "# mnist = tf.keras.datasets.mnist\n",
    "mnist = tf.keras.datasets.fashion_mnist\n",
    "(x_train, y_train), (x_test, y_test) = mnist.load_data()\n",
    "x_train = x_train.astype('float32').reshape([-1, 28*28]) / 255.0\n",
    "x_test = x_test.astype('float32').reshape([-1, 28*28]) / 255.0\n",
    "y_train = y_train.astype('int32')\n",
    "y_test = y_test.astype('int32')"
   ]
  },
  {
   "cell_type": "code",
   "execution_count": 4,
   "id": "ab22a4ea-e4c3-434a-99d1-fb12d63a55c8",
   "metadata": {
    "colab": {
     "base_uri": "https://localhost:8080/"
    },
    "id": "ab22a4ea-e4c3-434a-99d1-fb12d63a55c8",
    "outputId": "511eee47-b878-45cf-86f6-43d99168b05c"
   },
   "outputs": [
    {
     "data": {
      "text/plain": [
       "((60000, 784), (60000,), (10000, 784), (10000,))"
      ]
     },
     "execution_count": 4,
     "metadata": {},
     "output_type": "execute_result"
    }
   ],
   "source": [
    "x_train.shape, y_train.shape, x_test.shape, y_test.shape"
   ]
  },
  {
   "cell_type": "markdown",
   "id": "f0Otj2oi90GM",
   "metadata": {
    "id": "f0Otj2oi90GM"
   },
   "source": [
    "## Model\n",
    "\n",
    "While building the model, we minic the strategy of LM (language model). That is, the first hidden layer is a **linear** layer for embedding. By adding or removing this layer, we find that it is essential for producing the scaling law, and it shall be linear. (See below.)\n",
    "\n",
    "The batch size shall not be too small (such as 32). When batch size is small, the period of validation will be long. The trained model may have been over-fitting."
   ]
  },
  {
   "cell_type": "code",
   "execution_count": 5,
   "id": "8343b26d-1fee-438e-951d-4af4384ec9a8",
   "metadata": {
    "id": "8343b26d-1fee-438e-951d-4af4384ec9a8"
   },
   "outputs": [],
   "source": [
    "EXPERIMENT['batch size'] = 2**12  # shall not be too small.\n",
    "\n",
    "\n",
    "def train_model(hidden_units):\n",
    "    # Build model.\n",
    "    layers = []\n",
    "    layers.append(\n",
    "        Dense(hidden_units[0])  # embedding.\n",
    "        # Dense(hidden_units[0], 'relu')  # no embedding.\n",
    "    )\n",
    "    for n in hidden_units[1:]:\n",
    "        layers.append(Dense(n, 'relu'))\n",
    "    layers.append(Dense(10, 'softmax'))  # output.\n",
    "    model = Sequential(layers)\n",
    "\n",
    "    # Compile and train\n",
    "    model.compile(\n",
    "        optimizer=AdamW(),\n",
    "        loss=SparseCategoricalCrossentropy(),\n",
    "    )\n",
    "    model.fit(\n",
    "        x_train, y_train,\n",
    "        batch_size=EXPERIMENT['batch size'],\n",
    "        validation_data=(x_test, y_test),\n",
    "        epochs=10000,  # sufficiently great enough.\n",
    "        callbacks=[\n",
    "            EarlyStopping(monitor='val_loss'),\n",
    "        ],\n",
    "        verbose=0,\n",
    "    )\n",
    "    return model\n",
    "\n",
    "\n",
    "def get_validation_loss(model):\n",
    "    y_pred = model(x_test)\n",
    "    loss_fn = SparseCategoricalCrossentropy()\n",
    "    return loss_fn(y_test, y_pred)"
   ]
  },
  {
   "cell_type": "code",
   "execution_count": 6,
   "id": "f92530af-946f-4a84-bb44-a903b77a5b7f",
   "metadata": {
    "colab": {
     "base_uri": "https://localhost:8080/"
    },
    "id": "f92530af-946f-4a84-bb44-a903b77a5b7f",
    "outputId": "ca9402b2-a4aa-43a7-acf6-6da4513db56e"
   },
   "outputs": [
    {
     "name": "stderr",
     "output_type": "stream",
     "text": [
      "  0%|                                                                     | 0/10 [00:00<?, ?it/s]2024-03-27 15:33:04.343806: W tensorflow/tsl/framework/cpu_allocator_impl.cc:83] Allocation of 188160000 exceeds 10% of free system memory.\n",
      "2024-03-27 15:33:04.505226: W tensorflow/tsl/framework/cpu_allocator_impl.cc:83] Allocation of 188160000 exceeds 10% of free system memory.\n",
      " 10%|██████                                                       | 1/10 [00:23<03:27, 23.01s/it]2024-03-27 15:33:27.328472: W tensorflow/tsl/framework/cpu_allocator_impl.cc:83] Allocation of 188160000 exceeds 10% of free system memory.\n",
      "2024-03-27 15:33:27.509561: W tensorflow/tsl/framework/cpu_allocator_impl.cc:83] Allocation of 188160000 exceeds 10% of free system memory.\n",
      " 20%|████████████▏                                                | 2/10 [00:46<03:04, 23.06s/it]2024-03-27 15:33:50.489499: W tensorflow/tsl/framework/cpu_allocator_impl.cc:83] Allocation of 188160000 exceeds 10% of free system memory.\n",
      "100%|████████████████████████████████████████████████████████████| 10/10 [08:54<00:00, 53.41s/it]\n"
     ]
    }
   ],
   "source": [
    "EXPERIMENT['embed dim'] = 2**11  # shall not be too small.\n",
    "EXPERIMENT['min log2(n)'] = 4\n",
    "EXPERIMENT['max log2(n)'] = 12\n",
    "EXPERIMENT['num log2(n)'] = 10\n",
    "\n",
    "hidden_units_lst = []\n",
    "eval_losses = []\n",
    "for log2_n in tqdm(np.linspace(\n",
    "    EXPERIMENT['min log2(n)'],\n",
    "    EXPERIMENT['max log2(n)'],\n",
    "    EXPERIMENT['num log2(n)'],\n",
    ")):\n",
    "    n = int(2**log2_n)\n",
    "    hidden_units = [EXPERIMENT['embed dim'], n]\n",
    "    model = train_model(hidden_units)\n",
    "    eval_loss = get_validation_loss(model)\n",
    "\n",
    "    hidden_units_lst.append(hidden_units)\n",
    "    eval_losses.append(eval_loss)"
   ]
  },
  {
   "cell_type": "markdown",
   "id": "d5iF54ICApOK",
   "metadata": {
    "id": "d5iF54ICApOK"
   },
   "source": [
    "## Scaling Law\n",
    "\n",
    "While computing the number of parameters of model, we find that the strategy of LM is essential too. That is, omitting the embedding. By adding or removing the embedding parameters, we find that it is essential for producing the scaling law. (See below.)\n",
    "\n",
    "Biases are omitted."
   ]
  },
  {
   "cell_type": "code",
   "execution_count": 7,
   "id": "XzwqsPqyz1ka",
   "metadata": {
    "colab": {
     "base_uri": "https://localhost:8080/"
    },
    "id": "XzwqsPqyz1ka",
    "outputId": "4b21f2cb-9798-435e-8d92-d1a007a8aa2d"
   },
   "outputs": [
    {
     "data": {
      "text/plain": [
       "array([15.00702727, 15.86500826, 16.76191477, 17.66523875, 18.56161612,\n",
       "       19.44997076, 20.34018262, 21.22861439, 22.11751058, 23.00702727])"
      ]
     },
     "execution_count": 7,
     "metadata": {},
     "output_type": "execute_result"
    }
   ],
   "source": [
    "def get_num_params(hidden_units):\n",
    "    num_params = 0\n",
    "    # num_params += 28*28 * hidden_units[0]  # shall not add this.\n",
    "    for n1, n2 in zip(hidden_units[:-1], hidden_units[1:]):\n",
    "        num_params += n1 * n2\n",
    "    num_params += hidden_units[-1] * 10  # this will not change the slope.\n",
    "    return num_params\n",
    "\n",
    "\n",
    "num_params_lst = [get_num_params(_) for _ in hidden_units_lst]\n",
    "log_num_params = np.array([np.log2(_) for _ in num_params_lst])\n",
    "log_num_params"
   ]
  },
  {
   "cell_type": "markdown",
   "id": "hGg1dSftMPF9",
   "metadata": {
    "id": "hGg1dSftMPF9"
   },
   "source": [
    "We use linear regression to test the linearity between the logorithm of loss and logirithm of number of parameters. Linearity is examed by the p-value. The more the p-value closes to zero, the better linearity it has."
   ]
  },
  {
   "cell_type": "code",
   "execution_count": 57,
   "id": "iIo-afYZfPgQ",
   "metadata": {
    "id": "iIo-afYZfPgQ"
   },
   "outputs": [],
   "source": [
    "def robust_linear_regression(x, y, outliers_sigma=2):\n",
    "    slope, intercept, *_ = linregress(x, y)\n",
    "    errors = np.abs(y - (intercept + slope * x))\n",
    "    min_error = errors.mean() - outliers_sigma * errors.std()\n",
    "    max_error = errors.mean() + outliers_sigma * errors.std()\n",
    "    valid_ids, mask = [], []\n",
    "    for i, e in enumerate(errors):\n",
    "        if e > min_error and e < max_error:\n",
    "            valid_ids.append(i)\n",
    "            mask.append(0)\n",
    "        else:\n",
    "            mask.append(1)\n",
    "    return mask, *linregress(x[valid_ids], y[valid_ids])"
   ]
  },
  {
   "cell_type": "code",
   "execution_count": 58,
   "id": "86f94e61-6a2f-48fc-aeb9-284d95bc4100",
   "metadata": {
    "colab": {
     "base_uri": "https://localhost:8080/"
    },
    "id": "86f94e61-6a2f-48fc-aeb9-284d95bc4100",
    "outputId": "2e5ebca2-b4f8-4bac-fedb-f93c2d5335f0"
   },
   "outputs": [
    {
     "name": "stdout",
     "output_type": "stream",
     "text": [
      "slope: -0.06572827545486798, r: -0.9683208635261359, p: 4.2409696381654364e-06, stderr: 0.005992700457226384\n"
     ]
    }
   ],
   "source": [
    "log_eval_loss = np.array([np.log2(_) for _ in eval_losses])\n",
    "# slope, intercept, rvalue, pvalue, stderr = linregress(log_num_params, log_eval_loss)\n",
    "mask, slope, intercept, rvalue, pvalue, stderr = robust_linear_regression(log_num_params, log_eval_loss)\n",
    "EXPERIMENT['slope'] = slope\n",
    "EXPERIMENT['intercept'] = intercept\n",
    "EXPERIMENT['r-value'] = rvalue\n",
    "EXPERIMENT['p-value'] = pvalue\n",
    "EXPERIMENT['stderr'] = stderr\n",
    "\n",
    "print(f'slope: {slope}, r: {rvalue}, p: {pvalue}, stderr: {stderr}')"
   ]
  },
  {
   "cell_type": "code",
   "execution_count": 59,
   "id": "a605be60-7ae6-4774-b581-bfe30d6f0473",
   "metadata": {},
   "outputs": [
    {
     "data": {
      "text/plain": [
       "array([15.00702727, 15.86500826, 16.76191477, 17.66523875, 18.56161612,\n",
       "       19.44997076, 20.34018262, 21.22861439, 22.11751058, 23.00702727])"
      ]
     },
     "execution_count": 59,
     "metadata": {},
     "output_type": "execute_result"
    }
   ],
   "source": [
    "log_num_params"
   ]
  },
  {
   "cell_type": "code",
   "execution_count": 60,
   "id": "8a6b831d-2cec-43ef-9011-d3d369dccdd1",
   "metadata": {
    "colab": {
     "base_uri": "https://localhost:8080/",
     "height": 449
    },
    "id": "8a6b831d-2cec-43ef-9011-d3d369dccdd1",
    "outputId": "29278f64-e4bd-4cbe-f965-02d5f18ed061"
   },
   "outputs": [
    {
     "data": {
      "image/png": "[encoded data removed]",
      "text/plain": [
       "<Figure size 640x480 with 1 Axes>"
      ]
     },
     "metadata": {},
     "output_type": "display_data"
    }
   ],
   "source": [
    "fitted_line = intercept + slope * log_num_params\n",
    "plt.scatter(log_num_params, log_eval_loss, c=np.array(mask), label='data')\n",
    "plt.plot(log_num_params, fitted_line, 'r', label='fitted line')\n",
    "plt.xlabel('log2(N)')\n",
    "plt.ylabel('log2(L)')\n",
    "plt.legend()\n",
    "plt.show()"
   ]
  },
  {
   "cell_type": "code",
   "execution_count": 11,
   "id": "6nY8CjLIUlV_",
   "metadata": {
    "colab": {
     "base_uri": "https://localhost:8080/"
    },
    "id": "6nY8CjLIUlV_",
    "outputId": "5fca8529-0778-4836-c9e4-7b384d6f134e"
   },
   "outputs": [
    {
     "name": "stdout",
     "output_type": "stream",
     "text": [
      "\n",
      "```json\n",
      "{\"batch size\": 4096, \"embed dim\": 2048, \"min log2(n)\": 4, \"max log2(n)\": 12, \"num log2(n)\": 10, \"slope\": -0.06572827545486798, \"intercept\": -0.04307500549872967, \"r-value\": -0.9683208635261359, \"p-value\": 4.2409696381654364e-06, \"stderr\": 0.005992700457226384}\n",
      "```\n",
      "\n"
     ]
    }
   ],
   "source": [
    "print(f\"\"\"\n",
    "```json\n",
    "{json.dumps(EXPERIMENT)}\n",
    "```\n",
    "\"\"\"\n",
    ")"
   ]
  },
  {
   "cell_type": "markdown",
   "id": "yHBqBw6STtuK",
   "metadata": {
    "id": "yHBqBw6STtuK"
   },
   "source": [
    "## Logs\n",
    "\n",
    "```json\n",
    "{\"batch size\": 4096, \"embed dim\": 256, \"min log2(n)\": 3, \"max log2(n)\": 10, \"num log2(n)\": 10, \"slope\": -0.07210931174580695, \"intercept\": -0.14903608373359423, \"r-value\": -0.8683971441398373, \"p-value\": 0.0011162233975724974, \"stderr\": 0.014557782438301452}\n",
    "```\n",
    "\n",
    "```json\n",
    "{\"batch size\": 4096, \"embed dim\": 512, \"min log2(n)\": 3, \"max log2(n)\": 10, \"num log2(n)\": 10, \"slope\": -0.09797827591261637, \"intercept\": 0.3305037767364305, \"r-value\": -0.9662447040891514, \"p-value\": 5.453111601752118e-06, \"stderr\": 0.00923607425156995}\n",
    "```\n",
    "\n",
    "```json\n",
    "{\"batch size\": 4096, \"embed dim\": 1024, \"min log2(n)\": 3, \"max log2(n)\": 10, \"num log2(n)\": 10, \"slope\": -0.0933416698314622, \"intercept\": 0.3524884570807758, \"r-value\": -0.9270750520557616, \"p-value\": 0.00011322993886859013, \"stderr\": 0.01334452306417338}\n",
    "```\n",
    "\n",
    "```json\n",
    "{\"batch size\": 4096, \"embed dim\": 2048, \"min log2(n)\": 3, \"max log2(n)\": 10, \"num log2(n)\": 10, \"slope\": -0.11601949917283871, \"intercept\": 0.9038105393539273, \"r-value\": -0.8657507275808399, \"p-value\": 0.0012047258515823498, \"stderr\": 0.023712421592066688}\n",
    "```\n",
    "\n",
    "```json\n",
    "{\"batch size\": 4096, \"embed dim\": 2048, \"min log2(n)\": 4, \"max log2(n)\": 10, \"num log2(n)\": 10, \"slope\": -0.07126320956315887, \"intercept\": -0.010553154795286401, \"r-value\": -0.85759098730122, \"p-value\": 0.0015097749197976616, \"stderr\": 0.015110678377675844}\n",
    "```\n",
    "\n",
    "```json\n",
    "{\"batch size\": 4096, \"embed dim\": 2048, \"min log2(n)\": 4, \"max log2(n)\": 12, \"num log2(n)\": 10, \"slope\": -0.05938583650237735, \"intercept\": -0.1329855579677437, \"r-value\": -0.9702309259201718, \"p-value\": 1.4557230319936776e-05, \"stderr\": 0.0056027336122354155}\n",
    "```"
   ]
  },
  {
   "cell_type": "markdown",
   "id": "nMhTLiekMsAd",
   "metadata": {
    "id": "nMhTLiekMsAd"
   },
   "source": [
    "## Conclusion\n",
    "\n",
    "- Fashion MNIST is a more suitable Aplysia than MNIST.\n",
    "- The first linear layer (embedding layer) is essential for producing scaling law. It gives an extremely small p-value. While for a non-linear layer as the first, the p-value is significantly large.\n",
    "- Excluding the parameters in the embedding layer is essential for producing scaling law. It gives an extremely small p-value. While adding these parameters will firnish a significantly large p-value.\n",
    "- Interestingly, the slope we found on such simple model and dataset also around 0.07, as it is found in language models."
   ]
  }
 ],
 "metadata": {
  "accelerator": "GPU",
  "colab": {
   "gpuType": "T4",
   "provenance": []
  },
  "kernelspec": {
   "display_name": ".venv",
   "language": "python",
   "name": ".venv"
  },
  "language_info": {
   "codemirror_mode": {
    "name": "ipython",
    "version": 3
   },
   "file_extension": ".py",
   "mimetype": "text/x-python",
   "name": "python",
   "nbconvert_exporter": "python",
   "pygments_lexer": "ipython3",
   "version": "3.11.6"
  }
 },
 "nbformat": 4,
 "nbformat_minor": 5
}
