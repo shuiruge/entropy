{
 "cells": [
  {
   "cell_type": "markdown",
   "id": "6b2aaafb-cf13-4129-99f7-f5673e0bfe16",
   "metadata": {},
   "source": [
    "# Fractal in Biology\n",
    "\n",
    "This notebook makes numerical experiment on the emergence of fractal in nature. It is inspired by [West, et al. (1997)](https://www.science.org/doi/10.1126/science.276.5309.122). This paper concludes that fractal in biology results in the minimization of total energy cost. In the specific case considered by the authors, the mammalian circulatory systems, the fractal branching of capillary vessel naturally arises from reducing the energy cost of vessel circulation. This numerical experiment gives us some hint about how fractal emerges in nature.\n",
    "\n",
    "In this notebook, we adjust some strange assumptions in West's paper. We further apply the computation here to West's original assumptions, discussed in the notebook _Fractal in Biology (West 1997)_."
   ]
  },
  {
   "cell_type": "markdown",
   "id": "9f2a5cb5-403e-4f7e-92d0-8f6829501b5a",
   "metadata": {},
   "source": [
    "## Notations\n",
    "\n",
    "We follow the notations:\n",
    "\n",
    "- $C$: number of branching levels.\n",
    "- $k$: branching level, from $0$ to $C$.\n",
    "- $n_k$: number of branches at $k$ level.\n",
    "- $r_k$: radius of vessel at $k$ level.\n",
    "- $l_k$: length of vessel at $k$ level.\n",
    "- $\\nu_k$: $n_{k+1} / n_k$.\n",
    "- $\\rho_k$: $r_{k+1} / r_k$.\n",
    "- $\\lambda_k$: $l_{k+1} / l_k$."
   ]
  },
  {
   "cell_type": "markdown",
   "id": "5b28d388-e1b4-491e-85cb-fbca727e1d3d",
   "metadata": {},
   "source": [
    "## Assumptions"
   ]
  },
  {
   "cell_type": "markdown",
   "id": "719ac578-31ea-4353-996d-468fc98cfd73",
   "metadata": {},
   "source": [
    "The assumption that the properties of capillary are universal for all mammals implies that the $l_C$, and $r_C$ are fixed. Also, $n_0=1$. So, we have\n",
    "\n",
    "$$ l_k = \\frac{l_k}{l_{k+1}} \\cdots \\frac{l_{C-1}}{l_C} l_C = l_C \\lambda_k^{-1} \\cdots \\lambda_{C-1}^{-1} = l_C \\prod_{i=k}^{C-1} \\lambda_i^{-1}. $$\n",
    "\n",
    "The same,\n",
    "\n",
    "$$ r_k = r_C \\prod_{i=k}^{C-1} \\rho_i^{-1}. $$\n",
    "\n",
    "But,\n",
    "\n",
    "$$ n_k = n_0 \\frac{n_1}{n_0} \\cdots \\frac{n_k}{n_{k-1}} = \\prod_{i=0}^{k-1} \\nu_i. $$\n",
    "\n",
    "Based on assumption of area-preserving, we have that $n_k r_k^2$ is independent of $k$. This implies\n",
    "\n",
    "$$ \\rho_k = \\nu_k^{-1/2}. $$\n",
    "\n",
    "And by assumption of space-fulfilling, we have that $n_k l_k^3$ is independent of $k$. This implies\n",
    "\n",
    "$$ \\lambda_k = \\nu_k^{-1/3}. $$\n",
    "\n",
    "Because of these, the unique degree of freedom is the $\\nu$."
   ]
  },
  {
   "cell_type": "code",
   "execution_count": 1,
   "id": "499a5415-a2d3-4721-8f5f-d44401f92629",
   "metadata": {},
   "outputs": [
    {
     "name": "stderr",
     "output_type": "stream",
     "text": [
      "2024-03-05 10:38:39.816464: I tensorflow/core/platform/cpu_feature_guard.cc:182] This TensorFlow binary is optimized to use available CPU instructions in performance-critical operations.\n",
      "To enable the following instructions: SSE3 SSE4.1 SSE4.2 AVX AVX2 FMA, in other operations, rebuild TensorFlow with the appropriate compiler flags.\n"
     ]
    }
   ],
   "source": [
    "import numpy as np\n",
    "import tensorflow as tf\n",
    "from tqdm import tqdm\n",
    "import matplotlib.pyplot as plt"
   ]
  },
  {
   "cell_type": "markdown",
   "id": "ffaf22ee-6157-4332-a86f-a32b7cf1e1ea",
   "metadata": {},
   "source": [
    "We use several samples in searching optimal parallelly. So, the $\\nu$, or for numerical stability $\\ln \\nu$, has tensor shape `[samples, levels]`."
   ]
  },
  {
   "cell_type": "code",
   "execution_count": 2,
   "id": "76e91d8f-7e3c-4881-847a-62d2c29e64a9",
   "metadata": {},
   "outputs": [],
   "source": [
    "EXPERIMENT = {\n",
    "    'samples': 10,\n",
    "    'levels': 5,\n",
    "}"
   ]
  },
  {
   "cell_type": "markdown",
   "id": "e04a0ba0-54fe-417c-bbb8-1fe05d7e6e1d",
   "metadata": {},
   "source": [
    "## Loss Function"
   ]
  },
  {
   "cell_type": "markdown",
   "id": "05193765-5627-4d4f-8c4c-2ba3fe031147",
   "metadata": {},
   "source": [
    "The quantity to be minimized is the total resistance of the vessel system. By [Hagen-Poiseuille equation](https://en.wikipedia.org/wiki/Hagen%E2%80%93Poiseuille_equation#Equation), we have the difference of pressure at level $k$, $\\Delta p_k = Q_k R_k$ where $Q_k$ represents the flow rate and $R_k := (8 \\mu l_k)/(\\pi r_k^4)$. Analogy to electricity, $\\Delta p_k$ corresponds to difference of potential $\\Delta V$, and $Q_k$ to current $I$. So, the $R_k$ is the resistance. At level $k$, the vessels are parallel. And for different levels, vessels are serial. So, the total resistance comes to be\n",
    "\n",
    "$$ R_b = \\sum_{k=0}^{C} \\frac{R_k}{n_k} = \\frac{8\\mu}{\\pi} \\sum_{k=0}^{C} \\frac{l_k}{r_k^4 n_k} = \\frac{8\\mu}{\\pi} \\frac{l_C}{r_C^4} \\sum_{k=0}^{C} \\left( \\prod_{i=k}^{C-1} \\frac{\\rho_i^4}{\\lambda_i} \\right) \\left( \\prod_{i=0}^{k-1} \\frac{1}{\\nu_i} \\right). $$\n",
    "\n",
    "Plugging into the relation between $\\rho$, $\\lambda$ and $\\nu$, we find\n",
    "\n",
    "$$ R_b = \\frac{8\\mu}{\\pi} \\frac{l_C}{r_C^4} \\sum_{k=0}^{C} \\left( \\prod_{i=k}^{C-1} \\nu_i^{-5/3} \\right) \\left( \\prod_{i=0}^{k-1} \\nu_i^{-1} \\right). $$\n",
    "\n",
    "For numerical stability, we consider\n",
    "\n",
    "$$ \\ln R_b = \\ln \\left( \\frac{8\\mu}{\\pi} \\frac{l_C}{r_C^4} \\right) + \\ln \\sum_{k=0}^{C} \\left( \\prod_{i=k}^{C-1} \\nu_i^{-5/3} \\right) \\left( \\prod_{i=0}^{k-1} \\nu_i^{-1} \\right). $$"
   ]
  },
  {
   "cell_type": "code",
   "execution_count": 3,
   "id": "12747b49-add2-412c-8534-9d3dc9ef0f31",
   "metadata": {},
   "outputs": [
    {
     "data": {
      "text/plain": [
       "<tf.Tensor: shape=(1,), dtype=float64, numpy=array([-2.53612883])>"
      ]
     },
     "execution_count": 3,
     "metadata": {},
     "output_type": "execute_result"
    }
   ],
   "source": [
    "def get_log_resistance(log_nu):\n",
    "    \"\"\"Omit the constant.\"\"\"\n",
    "    logits = []\n",
    "    for k in range(EXPERIMENT['levels']+1):\n",
    "        logit_k = (\n",
    "            -(5/3) * tf.reduce_sum(log_nu[:, k:], axis=1)\n",
    "            - tf.reduce_sum(log_nu[:, :k], axis=1)\n",
    "        )\n",
    "        logits.append(logit_k)\n",
    "    logits = tf.stack(logits, axis=1)\n",
    "    return tf.reduce_logsumexp(logits, axis=1)\n",
    "\n",
    "log_nu = np.log(2) * np.ones([1, EXPERIMENT['levels']])\n",
    "get_log_resistance(log_nu)"
   ]
  },
  {
   "cell_type": "markdown",
   "id": "476a4eb5-94af-4b72-b1c2-235d86426259",
   "metadata": {},
   "source": [
    "Because of the space-fulfilling assumption and the assumption that $l_C$ is invariant, the total volume of the mammal, $V_b$, is proportional to $n_C l_C$, which can be expressed as\n",
    "\n",
    "$$ \\ln V_b = \\ln l_C + \\ln n_C = \\ln l_C + \\sum_{k=0}^{C-1} \\ln \\nu_k. $$"
   ]
  },
  {
   "cell_type": "code",
   "execution_count": 4,
   "id": "95f72cfb-10fe-4934-bdc0-14ccac6bc342",
   "metadata": {},
   "outputs": [
    {
     "data": {
      "text/plain": [
       "<tf.Tensor: shape=(1,), dtype=float64, numpy=array([3.4657359])>"
      ]
     },
     "execution_count": 4,
     "metadata": {},
     "output_type": "execute_result"
    }
   ],
   "source": [
    "def get_log_volume(log_nu):\n",
    "    \"\"\"Omit the constant.\"\"\"\n",
    "    return tf.reduce_sum(log_nu, axis=1)\n",
    "\n",
    "get_log_volume(log_nu)"
   ]
  },
  {
   "cell_type": "markdown",
   "id": "7f2b7cb8-e7a0-4324-aced-be3086625cb3",
   "metadata": {},
   "source": [
    "Since $n_{k+1} \\ge n_k$, $\\nu_k$ shall be greater than unit. So, there is another constraint that, for each $k$,\n",
    "\n",
    "$$ \\ln \\nu_k \\ge 0. $$"
   ]
  },
  {
   "cell_type": "markdown",
   "id": "99beadb8-74a7-4f36-9577-4be6dc346058",
   "metadata": {},
   "source": [
    "Altogether, the loss function shall be\n",
    "\n",
    "$$ \\ln R_b(\\nu) + \\mu \\left( \\ln V_b(\\nu) - \\ln \\bar{V}_b \\right) + \\sum_{k=1}^{C-1} \\omega_k \\left( \\ln \\nu_k - z_k^2 \\right), $$\n",
    "\n",
    "for some observed values $\\bar{V}_b$ given."
   ]
  },
  {
   "cell_type": "markdown",
   "id": "4d1f87f4-ce5f-434a-8f7a-a8366c794b66",
   "metadata": {},
   "source": [
    "What is a proper value of $\\bar{V}_b$. It is natural to suppose that $n_{k+1}/n_k \\ge 2$. This means $\\bar{V}_b$ shall be greater than the volume given by $\\nu_k = 2$ for all $k$. And it shall not be too large, for numerical consideration. In fact, adult human has abount $10^{14}$ cells, so $n_C$ shall be smaller than this.\n",
    "\n",
    "In fact, it is sufficient for the optimized volume to approximate the order of $\\bar{V}_b$. We can regard this optimized volume as the real $\\bar{V}_b$. In other words, $\\bar{V}_b$ is used to determine the order, but not the accurate value."
   ]
  },
  {
   "cell_type": "code",
   "execution_count": 5,
   "id": "76529753-cb7f-4c76-a7b2-a36d9c05b289",
   "metadata": {},
   "outputs": [
    {
     "data": {
      "text/plain": [
       "(<tf.Tensor: shape=(1,), dtype=float64, numpy=array([3.4657359])>,\n",
       " 32.23619130191664)"
      ]
     },
     "execution_count": 5,
     "metadata": {},
     "output_type": "execute_result"
    }
   ],
   "source": [
    "least_log_volume = get_log_volume(np.log(2) * np.ones([1, EXPERIMENT['levels']]))\n",
    "most_log_volume = np.log(1e+14)\n",
    "least_log_volume, most_log_volume"
   ]
  },
  {
   "cell_type": "code",
   "execution_count": 6,
   "id": "7adcc3bf-fd48-4ff8-a5b9-18ab200e3d72",
   "metadata": {},
   "outputs": [],
   "source": [
    "EXPERIMENT['true_log_volume'] = 3e+1"
   ]
  },
  {
   "cell_type": "code",
   "execution_count": 7,
   "id": "dbcd535f-fa21-47ba-a728-ba7c42a34425",
   "metadata": {
    "scrolled": true
   },
   "outputs": [
    {
     "data": {
      "text/plain": [
       "(<tf.Tensor: shape=(1,), dtype=float64, numpy=array([-2.53612883])>,\n",
       " [<tf.Tensor: shape=(1,), dtype=float64, numpy=array([-26.5342641])>,\n",
       "  <tf.Tensor: shape=(1, 5), dtype=float64, numpy=array([[-0.30685282, -0.30685282, -0.30685282, -0.30685282, -0.30685282]])>],\n",
       " <tf.Tensor: shape=(), dtype=float64, numpy=-5.342981653673836>)"
      ]
     },
     "execution_count": 7,
     "metadata": {},
     "output_type": "execute_result"
    }
   ],
   "source": [
    "def get_loss(log_nu, z, mu, omega):\n",
    "    objective = get_log_resistance(log_nu)\n",
    "    loss = tf.reduce_sum(objective)\n",
    "    constraints = []\n",
    "    for multiplier, constraint in [\n",
    "        (mu, get_log_volume(log_nu) - EXPERIMENT['true_log_volume']),\n",
    "        (omega, log_nu - tf.square(z)),\n",
    "        # other constraints......\n",
    "    ]:\n",
    "        loss += tf.reduce_sum(multiplier * constraint)\n",
    "        constraints.append(constraint)\n",
    "    return objective, constraints, loss\n",
    "\n",
    "z = tf.ones_like(log_nu)\n",
    "get_loss(log_nu, z, 0.1, 0.1)"
   ]
  },
  {
   "cell_type": "markdown",
   "id": "58c02dd3-e79d-4f3d-adda-0450249c5249",
   "metadata": {},
   "source": [
    "## Gradient Descent with Constraints\n",
    "\n",
    "The gradient descent algorithm with constraints is described in [Platt and Barr (1988)](https://papers.nips.cc/paper_files/paper/1987/file/a87ff679a2f3e71d9181a67b7542122c-Paper.pdf). Briefly, descent on the parameters (the $\\ln \\nu$ here) and ascent on the multipliers (the $\\mu$ and $\\omega_k$ here). For numerical stability, it is suggested to add an $L_2$-regulation.\n",
    "\n",
    "For example, consider scalar functions $f$ and $g$ where $f$ is lower bounded. If you want to minimize $f(x)$ with constraint $g(x) = 0$, then the loss function will be\n",
    "\n",
    "$$ L(x, \\mu) = f(x) + \\mu g(x), $$\n",
    "\n",
    "where $\\mu$ is the Lagrangian multiplier. Then, optimize the $x$ along the direction\n",
    "\n",
    "$$ \\dot{x}^a = -\\nabla^a L(x, \\mu) = -\\nabla^a f(x) - \\mu \\nabla^a g(x), $$\n",
    "\n",
    "where the $\\nabla$ is taken on $x$ only. And optimize the $\\mu$ along the direction\n",
    "\n",
    "$$ \\dot{\\mu} = {\\color{red}+} \\partial_{\\mu} L(x, \\mu) = g(x). $$\n",
    "\n",
    "Indeed, by taking time derivative, we find\n",
    "\n",
    "$$ \\ddot{x}^a + \\left( \\nabla^a \\nabla_b f(x) + \\mu \\nabla^a \\nabla_b g(x) \\right) \\dot{x}^b + \\nabla^a \\left( \\frac{1}{2} g^2(x) \\right) = 0. $$\n",
    "\n",
    "Analogy to the damped mechanic system, we recognize that the $A^a_b(x) := \\nabla^a \\nabla_b f(x) + \\mu \\nabla^a \\nabla_b g(x)$ term is a friction coefficient and $g^2(x)$ a potential. So, the energy is $E(x) := (1/2) \\dot{x}^2 + (1/2) g^2(x)$, and because of friction, the energy loss rate is $\\dot{E}(x) = -A_{a b}(x) \\dot{x}^a \\dot{x}^b$. So, to ensure that the energy losses, $A(x)$ has to be positive definite, at least being positive definite near the minimum. This is true for $\\nabla^a \\nabla_b f(x)$ since $f$ is lower bounded. So, we have to restrict the scale of $g$ such that $A$ is positive definite. To do so, we add an $L_2$-regulation for $g(x)$, that is, a term $c g^2(x)$ for a large enough positive constant $c$.\n",
    "\n",
    "For inequal constraints, like $h(x) \\ge 0$, we can add an auxiliary parameter $z$ and set the $g$ as $h(x) - z^2$. In this way, when $g = 0$, $h(x) \\ge 0$ is fulfilled. Now, the loss function becomes $L(x, z, \\mu) = f(x) + \\mu \\left( h(x) - z^2 \\right)$. The $z$ is optimized in the same way as $x$, that is $\\dot{z} = -\\nabla_z L(x, z, \\mu) = 2 \\mu z$. Remark that when $z = 0$, $\\dot{z} = 0$ too. Thus $z$ will not be updated and keeps vanishing. This is not what we want. So, at least, $z$ shall not be initialized as $0$ in training."
   ]
  },
  {
   "cell_type": "markdown",
   "id": "391849da-999d-497d-a370-8d85e370e469",
   "metadata": {},
   "source": [
    "You may argue that it is the $L_2$-regulation that makes the constraints fulfilled, instead of gradient ascent on the Lagrangian multipliers. So, we add a test for this argument."
   ]
  },
  {
   "cell_type": "code",
   "execution_count": 8,
   "id": "281bc48f-0045-4173-810a-cfc024e74b26",
   "metadata": {},
   "outputs": [],
   "source": [
    "EXPERIMENT['test_no_multiplier'] = False  # set $\\mu \\equiv 0$, thus restricted by L2-regulation only."
   ]
  },
  {
   "cell_type": "code",
   "execution_count": 9,
   "id": "52a7d9b1-e016-44d6-b11e-7eff090e68b6",
   "metadata": {},
   "outputs": [],
   "source": [
    "def get_train_step(optimizer, l2):\n",
    "    step = tf.Variable(0, dtype=tf.int32, trainable=False)\n",
    "    l2 = tf.convert_to_tensor(l2)\n",
    "\n",
    "    @tf.function\n",
    "    def train_step(log_nu, z, mu, omega):\n",
    "        with tf.GradientTape() as tape:\n",
    "            if EXPERIMENT['test_no_multiplier']:\n",
    "                mu = tf.zeros_like(mu)\n",
    "                omega = tf.zeros_like(omega)\n",
    "            objective, constraints, loss = get_loss(log_nu, z, mu, omega)\n",
    "            loss += l2 * sum(tf.reduce_sum(tf.square(c)) for c in constraints)\n",
    "\n",
    "        # Gradients\n",
    "        vars = [log_nu, z, mu, omega]\n",
    "        if EXPERIMENT['test_no_multiplier']:\n",
    "            vars = [log_nu, z]\n",
    "        grads = tape.gradient(loss, vars, unconnected_gradients='zero')\n",
    "\n",
    "        # Descent for parameters and ascent for multipliers:\n",
    "        grads_and_vars = []\n",
    "        for i, var in enumerate(vars):\n",
    "            if i < 2:\n",
    "                grads_and_vars.append((grads[i], vars[i]))\n",
    "            else:\n",
    "                grads_and_vars.append((-grads[i], vars[i]))\n",
    "\n",
    "        optimizer.apply_gradients(grads_and_vars)\n",
    "        check_nan(vars)\n",
    "        step.assign_add(1)\n",
    "        return objective, constraints, loss, grads_and_vars\n",
    "\n",
    "    return train_step, step\n",
    "\n",
    "def check_nan(xs):\n",
    "    for x in xs:\n",
    "        try:\n",
    "            tf.debugging.check_numerics(x, message='')\n",
    "        except Exception as e:\n",
    "            raise ValueError('NaN value.')"
   ]
  },
  {
   "cell_type": "markdown",
   "id": "ea6ff476-8b7e-4af8-9adf-ca5d7204cf69",
   "metadata": {},
   "source": [
    "## Training"
   ]
  },
  {
   "cell_type": "markdown",
   "id": "a2a69ab6-7311-4e68-bd14-7617d151b5b8",
   "metadata": {},
   "source": [
    "Initialize the parameters and Lagrangian multipliers:"
   ]
  },
  {
   "cell_type": "code",
   "execution_count": 10,
   "id": "3577792b-2678-4513-b7b3-a7d742f040f3",
   "metadata": {},
   "outputs": [],
   "source": [
    "log_nu = tf.Variable(\n",
    "    tf.random.uniform([EXPERIMENT['samples'], EXPERIMENT['levels']],\n",
    "                      2.0, 4.0)\n",
    ")\n",
    "z = tf.Variable(  # z shall not be zero.\n",
    "    tf.random.uniform([EXPERIMENT['samples'], EXPERIMENT['levels']],\n",
    "                      0.5, 1.0)\n",
    ")\n",
    "mu = tf.Variable(tf.zeros([EXPERIMENT['samples'], 1]))\n",
    "omega = tf.Variable(tf.zeros([EXPERIMENT['samples'], EXPERIMENT['levels']]))\n",
    "# optimizer = tf.optimizers.Adam(1e-4)\n",
    "optimizer = tf.optimizers.SGD(1e-4)\n",
    "train_step, step = get_train_step(optimizer, 1e-1)\n",
    "objective_logs = []\n",
    "loss_logs = []"
   ]
  },
  {
   "cell_type": "markdown",
   "id": "db88915a-8b71-49d2-b74c-a4ce1ead9e2d",
   "metadata": {},
   "source": [
    "Let us log the objective and constraints before training."
   ]
  },
  {
   "cell_type": "code",
   "execution_count": 11,
   "id": "cd37f0c9-c281-4b05-819e-30a3c4f7a08c",
   "metadata": {
    "scrolled": true
   },
   "outputs": [
    {
     "data": {
      "text/plain": [
       "(<tf.Tensor: shape=(10,), dtype=float32, numpy=\n",
       " array([-17.066044 , -15.901418 , -14.4945755, -14.721203 , -13.578697 ,\n",
       "        -14.6186285, -13.566076 , -16.292152 , -14.758812 , -13.949476 ],\n",
       "       dtype=float32)>,\n",
       " [<tf.Tensor: shape=(10,), dtype=float32, numpy=\n",
       "  array([-12.8590145, -14.015049 , -15.381681 , -15.172093 , -16.13454  ,\n",
       "         -15.290026 , -16.309023 , -13.622715 , -15.0463295, -15.957072 ],\n",
       "        dtype=float32)>,\n",
       "  <tf.Tensor: shape=(10, 5), dtype=float32, numpy=\n",
       "  array([[1.955045 , 3.0806615, 3.1502624, 2.7101622, 3.4316921],\n",
       "         [2.6464176, 1.7817612, 2.7149508, 2.370292 , 3.411322 ],\n",
       "         [1.694282 , 2.5167341, 2.536312 , 2.3508668, 2.985116 ],\n",
       "         [1.1970382, 3.2057033, 2.1737683, 2.9714398, 2.9238071],\n",
       "         [2.1296844, 2.570364 , 2.7824569, 1.289248 , 1.674576 ],\n",
       "         [1.5530918, 2.001411 , 2.5737438, 2.487197 , 2.965952 ],\n",
       "         [2.1121583, 2.917188 , 1.6126862, 1.4047146, 2.51461  ],\n",
       "         [2.9609573, 2.009213 , 2.0694828, 2.8415508, 3.1532075],\n",
       "         [3.20054  , 2.370702 , 1.7847102, 2.783214 , 2.2270174],\n",
       "         [2.293636 , 1.7903888, 1.8078996, 1.8435903, 3.4605575]],\n",
       "        dtype=float32)>])"
      ]
     },
     "execution_count": 11,
     "metadata": {},
     "output_type": "execute_result"
    }
   ],
   "source": [
    "objective, constraints, _, _ = train_step(log_nu, z, mu, omega)\n",
    "objective, constraints"
   ]
  },
  {
   "cell_type": "code",
   "execution_count": 12,
   "id": "4fc24899-2e20-4b24-8b6e-12308560848b",
   "metadata": {},
   "outputs": [
    {
     "name": "stderr",
     "output_type": "stream",
     "text": [
      "100%|████████████████████████████████████████████████| 1000000/1000000 [07:21<00:00, 2263.07it/s]\n"
     ]
    }
   ],
   "source": [
    "for i in tqdm(range(1000000)):\n",
    "    objective, _, loss, _ = train_step(log_nu, z, mu, omega)\n",
    "    objective_logs.append(objective.numpy().mean())\n",
    "    loss_logs.append(loss.numpy())"
   ]
  },
  {
   "cell_type": "code",
   "execution_count": 13,
   "id": "509b3102-c3d5-4472-ade0-8dc19f3baeb2",
   "metadata": {},
   "outputs": [
    {
     "data": {
      "image/png": "[encoded data removed]",
      "text/plain": [
       "<Figure size 640x480 with 1 Axes>"
      ]
     },
     "metadata": {},
     "output_type": "display_data"
    }
   ],
   "source": [
    "plt.plot(objective_logs, label='expected objective')\n",
    "# plt.plot(loss_logs, label='loss', alpha=0.5)\n",
    "plt.xlabel('training steps')\n",
    "plt.legend()\n",
    "plt.show()"
   ]
  },
  {
   "cell_type": "markdown",
   "id": "fcba1bea-d6c0-40a3-b254-e0796bca0cf6",
   "metadata": {},
   "source": [
    "Let us check the optimization results:"
   ]
  },
  {
   "cell_type": "code",
   "execution_count": 14,
   "id": "4b0cbdac-290d-4499-8768-85a5a97e4e34",
   "metadata": {},
   "outputs": [],
   "source": [
    "objective, constraints, _ = get_loss(log_nu, z, mu, omega)"
   ]
  },
  {
   "cell_type": "code",
   "execution_count": 15,
   "id": "01f67547-d7ed-4f6f-a47d-6e085f3749e0",
   "metadata": {},
   "outputs": [
    {
     "data": {
      "text/plain": [
       "(<tf.Tensor: shape=(), dtype=int64, numpy=5>,\n",
       " <tf.Tensor: shape=(), dtype=float32, numpy=-29.992094>,\n",
       " [<tf.Tensor: shape=(), dtype=float32, numpy=-3.2424927e-05>,\n",
       "  <tf.Tensor: shape=(5,), dtype=float32, numpy=\n",
       "  array([-4.7683716e-07,  0.0000000e+00,  0.0000000e+00,  0.0000000e+00,\n",
       "          0.0000000e+00], dtype=float32)>])"
      ]
     },
     "execution_count": 15,
     "metadata": {},
     "output_type": "execute_result"
    }
   ],
   "source": [
    "min_i = tf.argmin(objective)\n",
    "min_i, objective[min_i], [c[min_i] for c in constraints]"
   ]
  },
  {
   "cell_type": "markdown",
   "id": "a4234118-77a7-444a-850f-3b176e326410",
   "metadata": {},
   "source": [
    "And for checking fractal:"
   ]
  },
  {
   "cell_type": "code",
   "execution_count": 16,
   "id": "e7fe7734-be11-47a5-af17-c0c45c6f7ee6",
   "metadata": {},
   "outputs": [
    {
     "data": {
      "text/plain": [
       "<tf.Tensor: shape=(5,), dtype=float32, numpy=\n",
       "array([5.3167415, 5.4040723, 6.2908278, 5.6939583, 7.294369 ],\n",
       "      dtype=float32)>"
      ]
     },
     "execution_count": 16,
     "metadata": {},
     "output_type": "execute_result"
    }
   ],
   "source": [
    "log_nu[min_i, :]"
   ]
  },
  {
   "cell_type": "code",
   "execution_count": 17,
   "id": "692b5b76-dfc2-49f6-bcce-36012545ed7f",
   "metadata": {},
   "outputs": [
    {
     "data": {
      "image/png": "[encoded data removed]",
      "text/plain": [
       "<Figure size 640x480 with 1 Axes>"
      ]
     },
     "metadata": {},
     "output_type": "display_data"
    }
   ],
   "source": [
    "plt.plot(log_nu[min_i, :], '.', label='$\\\\ln \\\\nu_k$')\n",
    "# plt.plot(tf.exp(log_nu[min_i, :]), '.', label='$\\\\nu_k$')\n",
    "plt.xlabel('$k$')\n",
    "plt.legend()\n",
    "plt.show()"
   ]
  },
  {
   "cell_type": "markdown",
   "id": "78e4589d-3c25-4ad2-877f-357384cc1877",
   "metadata": {},
   "source": [
    "In the end, review the hyper-parameters used for this numerical experiment:"
   ]
  },
  {
   "cell_type": "code",
   "execution_count": 18,
   "id": "b1b701e1-903d-48b9-99fa-bda97e299518",
   "metadata": {},
   "outputs": [
    {
     "data": {
      "text/plain": [
       "{'samples': 10,\n",
       " 'levels': 5,\n",
       " 'true_log_volume': 30.0,\n",
       " 'test_no_multiplier': False}"
      ]
     },
     "execution_count": 18,
     "metadata": {},
     "output_type": "execute_result"
    }
   ],
   "source": [
    "EXPERIMENT"
   ]
  },
  {
   "cell_type": "markdown",
   "id": "8b4b4dcc-749f-4133-a20c-f8d744034294",
   "metadata": {},
   "source": [
    "## Conclusion\n",
    "\n",
    "* An approximate fractal appears when the `true_log_volume` is sufficient large enough, that is, when the mammalian has sufficient volume or number of cells. This condition can be satisfied by any mammalian.\n",
    "* If the Lagrangian multiplier is omitted by setting `TEST_NO_MULTIPLIER = True`, we cannot get the constrained result even though $L_2$-regulation has been employed. The Lagrangian multiplier is essential.\n",
    "* The implementation is not scalable. The CPU usage is quite low."
   ]
  },
  {
   "cell_type": "markdown",
   "id": "b251986b-4365-46e4-8f81-7fabe7aa7e2c",
   "metadata": {},
   "source": [
    "## How does Fractal Emerge in Nature\n",
    "\n",
    "Recall that\n",
    "\n",
    "$$ R_b \\propto \\sum_{k=0}^{C} \\left( \\prod_{i=k}^{C-1} \\nu_i^{-5/3} \\right) \\left( \\prod_{i=0}^{k-1} \\nu_i^{-1} \\right). $$\n",
    "\n",
    "Since $n_C = \\prod_{k=0}^{C-1} \\nu_k$, when the scale of $n_C$ is sufficient large, the scale of $\\nu_k$ may become large too. When $\\nu_k \\gg 1$, the $k=C$ term, the term for terminals, dominates the others. Explicitly, it is\n",
    "\n",
    "$$ \\prod_{i=0}^{C-1} \\nu_i^{-1}. $$\n",
    "\n",
    "In this expression, the components of $\\nu$ are symmetric by permutation. They are equal weight. So, the extreme values of this term has equal components of $\\nu$. The same for the constraints. The components of the auxiliary variable $z$ are also symmetric by permutation. So, the extreme values of the loss $L(\\nu, z; \\mu, \\omega)$ have approximately equal components. This is the reason of the emerge of fractal.\n",
    "\n",
    "In summary, the conditions for fractal to emerge are the large amount of branching and the permutation symmetry in the leading terms of the objective and constraints. When the number of \"children branches\" becomes large enough for each \"parent branch\", the differences in the terms of the objective and constraints become so large that only one or several terms dominate. Within these terms, if the permutation symmetry on the branching numbers is satisfied or approximately satisfied, the fractal must emerge."
   ]
  },
  {
   "cell_type": "markdown",
   "id": "458f0278-4cda-4ed5-a32d-daabb081f406",
   "metadata": {},
   "source": [
    "Let us check this idea. Recall that the logits are sent to a log-sum-exp function, we shall consider the exponentials as the contribution to $R$:"
   ]
  },
  {
   "cell_type": "code",
   "execution_count": 31,
   "id": "b20bc576-a2c9-429e-bcbf-138427e7405d",
   "metadata": {},
   "outputs": [
    {
     "data": {
      "text/plain": [
       "(<tf.Tensor: shape=(1,), dtype=float32, numpy=array([29.999968], dtype=float32)>,\n",
       " <tf.Tensor: shape=(1,), dtype=float32, numpy=array([-29.992094], dtype=float32)>)"
      ]
     },
     "execution_count": 31,
     "metadata": {},
     "output_type": "execute_result"
    }
   ],
   "source": [
    "# x = 6 * np.ones([1, EXPERIMENT['levels']])\n",
    "x = log_nu[min_i, :][tf.newaxis, :]\n",
    "get_log_volume(x), get_log_resistance(x)"
   ]
  },
  {
   "cell_type": "code",
   "execution_count": 30,
   "id": "d4b21a97-2409-408f-8b8b-473e98ed0b11",
   "metadata": {},
   "outputs": [
    {
     "name": "stdout",
     "output_type": "stream",
     "text": [
      "k = 0: tf.Tensor([1.9288529e-22], shape=(1,), dtype=float32)\n",
      "k = 1: tf.Tensor([6.6781098e-21], shape=(1,), dtype=float32)\n",
      "k = 2: tf.Tensor([2.4507139e-19], shape=(1,), dtype=float32)\n",
      "k = 3: tf.Tensor([1.6243293e-17], shape=(1,), dtype=float32)\n",
      "k = 4: tf.Tensor([7.231748e-16], shape=(1,), dtype=float32)\n",
      "k = 5: tf.Tensor([9.3579265e-14], shape=(1,), dtype=float32)\n"
     ]
    }
   ],
   "source": [
    "for k in range(EXPERIMENT['levels']+1):\n",
    "    print(f'k = {k}:',\n",
    "          tf.exp(-(5/3) * tf.reduce_sum(x[:, k:], axis=1)\n",
    "                 - tf.reduce_sum(x[:, :k], axis=1))\n",
    "    )"
   ]
  },
  {
   "cell_type": "markdown",
   "id": "2cef83a2-5604-4b57-af7d-1210634b168c",
   "metadata": {},
   "source": [
    "Indeed, the last term is dominates the others."
   ]
  },
  {
   "cell_type": "markdown",
   "id": "a6a4f62d-8300-4b29-8b87-313f2cc1fa56",
   "metadata": {},
   "source": [
    "## Discussion\n",
    "\n",
    "The resistance $R_b(\\nu)$ can be seen as an action. The true value of $\\nu$ locates in its minima. So, we can construct a probabilistic model of $\\nu$, the branching of vessel system, as\n",
    "\n",
    "$$ p(\\nu) \\propto \\exp(-\\beta R_b(\\nu)) \\delta(V_b(\\nu) - \\bar{V}_b), $$\n",
    "\n",
    "for any positive $\\beta$ characterizing the randomness.\n",
    "\n",
    "TODO"
   ]
  }
 ],
 "metadata": {
  "kernelspec": {
   "display_name": ".venv",
   "language": "python",
   "name": ".venv"
  },
  "language_info": {
   "codemirror_mode": {
    "name": "ipython",
    "version": 3
   },
   "file_extension": ".py",
   "mimetype": "text/x-python",
   "name": "python",
   "nbconvert_exporter": "python",
   "pygments_lexer": "ipython3",
   "version": "3.11.6"
  }
 },
 "nbformat": 4,
 "nbformat_minor": 5
}
