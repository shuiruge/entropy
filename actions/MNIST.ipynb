{
 "cells": [
  {
   "cell_type": "markdown",
   "id": "07274ccd-76f1-46a0-b64d-29dd3d7b8019",
   "metadata": {},
   "source": [
    "## Motivation\n",
    "\n",
    "In this notebook, we exame the idea declared in section 1.5.5 on MNIST data, a classification task."
   ]
  },
  {
   "cell_type": "code",
   "execution_count": 21,
   "id": "b8ab63f7-841b-4fe7-ae73-b0f8a207430e",
   "metadata": {},
   "outputs": [],
   "source": [
    "import numpy as np\n",
    "import tensorflow as tf\n",
    "import matplotlib.pyplot as plt\n",
    "from keras.losses import MSE\n",
    "from sklearn.metrics import accuracy_score\n",
    "from tqdm import tqdm\n",
    "\n",
    "from utils import GradientRelativeEntropy\n",
    "\n",
    "tf.random.set_seed(42)"
   ]
  },
  {
   "cell_type": "markdown",
   "id": "0c8239d4-600f-4b3d-b665-ba64d9bac711",
   "metadata": {},
   "source": [
    "## The MNIST Data"
   ]
  },
  {
   "cell_type": "code",
   "execution_count": 2,
   "id": "d7ff4901-8ca8-4413-80ed-9184138a1ffa",
   "metadata": {},
   "outputs": [],
   "source": [
    "mnist = tf.keras.datasets.mnist\n",
    "(x_train, y_train), (x_test, y_test) = mnist.load_data()\n",
    "x_train = x_train.astype('float32').reshape([-1, 28*28]) / 255.0\n",
    "x_test = x_test.astype('float32').reshape([-1, 28*28]) / 255.0\n",
    "y_train = y_train.astype('float32')\n",
    "y_test = y_test.astype('float32')"
   ]
  },
  {
   "cell_type": "markdown",
   "id": "405d08b9-61df-44d1-a10f-9b2297783c3b",
   "metadata": {},
   "source": [
    "## Train a Model with Gradient Loss"
   ]
  },
  {
   "cell_type": "code",
   "execution_count": 3,
   "id": "65e2d654-323d-43d2-805e-3a10fa1c28d2",
   "metadata": {},
   "outputs": [],
   "source": [
    "model = tf.keras.models.Sequential([\n",
    "    tf.keras.layers.Dense(128, 'relu'),\n",
    "    tf.keras.layers.Dense(128, 'relu'),\n",
    "    tf.keras.layers.Dense(10, 'softmax')\n",
    "])\n",
    "\n",
    "gradient_loss_fn = GradientRelativeEntropy(model)"
   ]
  },
  {
   "cell_type": "code",
   "execution_count": 4,
   "id": "ac0e9b1c-d29b-4ef7-8ede-d29b98e069d6",
   "metadata": {},
   "outputs": [],
   "source": [
    "optimizer = tf.optimizers.Adam()\n",
    "\n",
    "@tf.function\n",
    "def train_step(x, y):\n",
    "    with tf.GradientTape() as tape:\n",
    "        loss = gradient_loss_fn(x, y)\n",
    "    grads = tape.gradient(loss, model.variables)\n",
    "    optimizer.apply_gradients(zip(grads, model.variables))\n",
    "    return loss"
   ]
  },
  {
   "cell_type": "code",
   "execution_count": 5,
   "id": "bd90d270-d554-4474-b95b-33c6826fee95",
   "metadata": {},
   "outputs": [],
   "source": [
    "def evaluate(model):\n",
    "    return accuracy_score(y_test, tf.argmax(model(x_test), axis=1))"
   ]
  },
  {
   "cell_type": "code",
   "execution_count": 6,
   "id": "1992d379-bf40-4022-bcd6-6d26c2b757f7",
   "metadata": {},
   "outputs": [],
   "source": [
    "ds = tf.data.Dataset.from_tensor_slices(\n",
    "    (x_train, tf.one_hot(y_train, 10))\n",
    ")\n",
    "ds = ds.batch(100)"
   ]
  },
  {
   "cell_type": "code",
   "execution_count": 7,
   "id": "7f8317b9-e6c9-4c30-b3c6-7036e6785d07",
   "metadata": {},
   "outputs": [
    {
     "name": "stdout",
     "output_type": "stream",
     "text": [
      "0 0.014201277 0.9384\n",
      "1 0.013840504 0.9547\n",
      "2 0.0134777725 0.9618\n",
      "3 0.013813006 0.9635\n",
      "4 0.0138682425 0.9648\n",
      "5 0.013393953 0.9664\n",
      "6 0.013393424 0.9721\n",
      "7 0.013383634 0.9708\n",
      "8 0.013384362 0.9694\n",
      "9 0.01338481 0.971\n",
      "10 0.013382006 0.9746\n",
      "11 0.013385767 0.9761\n",
      "12 0.014054268 0.9738\n",
      "13 0.013527642 0.9778\n",
      "14 0.014172536 0.9691\n",
      "15 0.013518685 0.9745\n",
      "16 0.013990302 0.9724\n",
      "17 0.013539702 0.9753\n",
      "18 0.013374265 0.9728\n",
      "19 0.013370821 0.9757\n"
     ]
    }
   ],
   "source": [
    "for epoch in range(20):\n",
    "    for x, y in ds:\n",
    "        loss = train_step(x, y)\n",
    "    print(epoch, loss.numpy(), evaluate(model))"
   ]
  },
  {
   "cell_type": "code",
   "execution_count": 8,
   "id": "55dde9a7-4018-4e64-b909-e069729f096c",
   "metadata": {},
   "outputs": [
    {
     "data": {
      "text/plain": [
       "0.9757"
      ]
     },
     "execution_count": 8,
     "metadata": {},
     "output_type": "execute_result"
    }
   ],
   "source": [
    "evaluate(model)"
   ]
  },
  {
   "cell_type": "markdown",
   "id": "b7218605-525e-445c-aa7a-0e44d3d39dc1",
   "metadata": {},
   "source": [
    "## Baseline Model with Usual Loss"
   ]
  },
  {
   "cell_type": "code",
   "execution_count": 9,
   "id": "b9993ada-54dd-4b1f-ab9e-3e3301695c99",
   "metadata": {},
   "outputs": [],
   "source": [
    "baseline_model = tf.keras.models.Sequential([\n",
    "    tf.keras.layers.Dense(128, activation='relu'),\n",
    "    tf.keras.layers.Dense(128, activation='relu'),\n",
    "    tf.keras.layers.Dense(10, 'softmax')\n",
    "])"
   ]
  },
  {
   "cell_type": "code",
   "execution_count": 10,
   "id": "2dc98178-5940-4567-be22-6735de610d85",
   "metadata": {},
   "outputs": [],
   "source": [
    "baseline_model.compile(\n",
    "    optimizer='adam',\n",
    "    loss=tf.keras.losses.SparseCategoricalCrossentropy(),\n",
    "    metrics=['accuracy'],\n",
    ")"
   ]
  },
  {
   "cell_type": "code",
   "execution_count": 11,
   "id": "9fe0e479-a012-4538-a6ca-132352299fc5",
   "metadata": {},
   "outputs": [
    {
     "name": "stdout",
     "output_type": "stream",
     "text": [
      "Epoch 1/20\n",
      "1875/1875 - 2s - loss: 0.2315 - accuracy: 0.9317 - val_loss: 0.1437 - val_accuracy: 0.9551 - 2s/epoch - 1ms/step\n",
      "Epoch 2/20\n",
      "1875/1875 - 2s - loss: 0.0966 - accuracy: 0.9706 - val_loss: 0.1010 - val_accuracy: 0.9681 - 2s/epoch - 949us/step\n",
      "Epoch 3/20\n",
      "1875/1875 - 2s - loss: 0.0695 - accuracy: 0.9786 - val_loss: 0.0777 - val_accuracy: 0.9750 - 2s/epoch - 973us/step\n",
      "Epoch 4/20\n",
      "1875/1875 - 2s - loss: 0.0522 - accuracy: 0.9826 - val_loss: 0.0912 - val_accuracy: 0.9739 - 2s/epoch - 951us/step\n",
      "Epoch 5/20\n",
      "1875/1875 - 2s - loss: 0.0402 - accuracy: 0.9874 - val_loss: 0.0994 - val_accuracy: 0.9728 - 2s/epoch - 951us/step\n",
      "Epoch 6/20\n",
      "1875/1875 - 2s - loss: 0.0339 - accuracy: 0.9890 - val_loss: 0.0898 - val_accuracy: 0.9768 - 2s/epoch - 1ms/step\n",
      "Epoch 7/20\n",
      "1875/1875 - 2s - loss: 0.0266 - accuracy: 0.9913 - val_loss: 0.0893 - val_accuracy: 0.9767 - 2s/epoch - 975us/step\n",
      "Epoch 8/20\n",
      "1875/1875 - 2s - loss: 0.0245 - accuracy: 0.9914 - val_loss: 0.0997 - val_accuracy: 0.9749 - 2s/epoch - 978us/step\n",
      "Epoch 9/20\n",
      "1875/1875 - 2s - loss: 0.0210 - accuracy: 0.9934 - val_loss: 0.0883 - val_accuracy: 0.9784 - 2s/epoch - 1ms/step\n",
      "Epoch 10/20\n",
      "1875/1875 - 2s - loss: 0.0182 - accuracy: 0.9938 - val_loss: 0.0997 - val_accuracy: 0.9776 - 2s/epoch - 976us/step\n",
      "Epoch 11/20\n",
      "1875/1875 - 2s - loss: 0.0179 - accuracy: 0.9941 - val_loss: 0.1067 - val_accuracy: 0.9758 - 2s/epoch - 981us/step\n",
      "Epoch 12/20\n",
      "1875/1875 - 2s - loss: 0.0151 - accuracy: 0.9949 - val_loss: 0.1087 - val_accuracy: 0.9788 - 2s/epoch - 954us/step\n",
      "Epoch 13/20\n",
      "1875/1875 - 2s - loss: 0.0135 - accuracy: 0.9957 - val_loss: 0.1118 - val_accuracy: 0.9783 - 2s/epoch - 988us/step\n",
      "Epoch 14/20\n",
      "1875/1875 - 2s - loss: 0.0138 - accuracy: 0.9953 - val_loss: 0.1086 - val_accuracy: 0.9787 - 2s/epoch - 945us/step\n",
      "Epoch 15/20\n",
      "1875/1875 - 2s - loss: 0.0148 - accuracy: 0.9953 - val_loss: 0.1087 - val_accuracy: 0.9780 - 2s/epoch - 963us/step\n",
      "Epoch 16/20\n",
      "1875/1875 - 2s - loss: 0.0105 - accuracy: 0.9966 - val_loss: 0.1130 - val_accuracy: 0.9792 - 2s/epoch - 978us/step\n",
      "Epoch 17/20\n",
      "1875/1875 - 2s - loss: 0.0122 - accuracy: 0.9959 - val_loss: 0.1399 - val_accuracy: 0.9756 - 2s/epoch - 958us/step\n",
      "Epoch 18/20\n",
      "1875/1875 - 2s - loss: 0.0094 - accuracy: 0.9970 - val_loss: 0.1313 - val_accuracy: 0.9779 - 2s/epoch - 946us/step\n",
      "Epoch 19/20\n",
      "1875/1875 - 2s - loss: 0.0114 - accuracy: 0.9962 - val_loss: 0.1227 - val_accuracy: 0.9791 - 2s/epoch - 964us/step\n",
      "Epoch 20/20\n",
      "1875/1875 - 2s - loss: 0.0090 - accuracy: 0.9971 - val_loss: 0.1328 - val_accuracy: 0.9779 - 2s/epoch - 949us/step\n"
     ]
    },
    {
     "data": {
      "text/plain": [
       "<keras.src.callbacks.History at 0x7f643684c110>"
      ]
     },
     "execution_count": 11,
     "metadata": {},
     "output_type": "execute_result"
    }
   ],
   "source": [
    "baseline_model.fit(\n",
    "    x_train, y_train,\n",
    "    epochs=20,\n",
    "    validation_data=(x_test, y_test),\n",
    "    verbose=2,\n",
    ")"
   ]
  },
  {
   "cell_type": "code",
   "execution_count": 12,
   "id": "637a961b-4f4b-4c9a-a5d3-b944c1ea01a9",
   "metadata": {},
   "outputs": [
    {
     "data": {
      "text/plain": [
       "0.9779"
      ]
     },
     "execution_count": 12,
     "metadata": {},
     "output_type": "execute_result"
    }
   ],
   "source": [
    "evaluate(baseline_model)"
   ]
  },
  {
   "cell_type": "markdown",
   "id": "cff6385a-4ca4-45fb-bf99-9953641fec71",
   "metadata": {},
   "source": [
    "## Model Robustness\n",
    "\n",
    "Now, we compare the robustness of the model and the baseline. To do so, we add Gaussian noise to the test data and check the accuracy."
   ]
  },
  {
   "cell_type": "code",
   "execution_count": 25,
   "id": "4541732f-c484-45a5-b205-3f02d11eb3bd",
   "metadata": {},
   "outputs": [
    {
     "name": "stderr",
     "output_type": "stream",
     "text": [
      "100%|████████████████████████████████████████████████████████████| 50/50 [00:04<00:00, 10.66it/s]\n"
     ]
    }
   ],
   "source": [
    "stddevs, model_accs, baseline_accs = [], [], []\n",
    "for stddev in tqdm(np.linspace(0, 0.5, 50)):\n",
    "    stddevs.append(stddev)\n",
    "    x_test_noised = x_test + tf.random.normal(tf.shape(x_test)) * stddev\n",
    "    model_accs.append(\n",
    "        accuracy_score(y_test, tf.argmax(model(x_test_noised), axis=1))\n",
    "    )\n",
    "    baseline_accs.append(\n",
    "        accuracy_score(y_test, tf.argmax(baseline_model(x_test_noised), axis=1))\n",
    "    )"
   ]
  },
  {
   "cell_type": "code",
   "execution_count": 26,
   "id": "808e7941-5553-4506-aa06-95f8e1040419",
   "metadata": {},
   "outputs": [
    {
     "data": {
      "image/png": "[encoded data removed]",
      "text/plain": [
       "<Figure size 640x480 with 1 Axes>"
      ]
     },
     "metadata": {},
     "output_type": "display_data"
    }
   ],
   "source": [
    "plt.plot(stddevs, model_accs, '--', label='model')\n",
    "plt.plot(stddevs, baseline_accs, '--', label='baseline')\n",
    "plt.legend()\n",
    "plt.grid()\n",
    "plt.show()"
   ]
  },
  {
   "cell_type": "markdown",
   "id": "49ce4da5-feaf-42ea-a25a-cbf25b5fd89d",
   "metadata": {},
   "source": [
    "## Conclusion\n",
    "\n",
    "By simply using the \"gradient loss\", we obtain a result that approaches the baseline. But the robustness is greatly out-performs the baseline."
   ]
  }
 ],
 "metadata": {
  "kernelspec": {
   "display_name": ".venv",
   "language": "python",
   "name": ".venv"
  },
  "language_info": {
   "codemirror_mode": {
    "name": "ipython",
    "version": 3
   },
   "file_extension": ".py",
   "mimetype": "text/x-python",
   "name": "python",
   "nbconvert_exporter": "python",
   "pygments_lexer": "ipython3",
   "version": "3.11.6"
  }
 },
 "nbformat": 4,
 "nbformat_minor": 5
}
