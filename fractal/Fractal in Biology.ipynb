{
 "cells": [
  {
   "cell_type": "markdown",
   "id": "6b2aaafb-cf13-4129-99f7-f5673e0bfe16",
   "metadata": {},
   "source": [
    "# Fractal in Biology\n",
    "\n",
    "This notebook checks the result in [West, et al. (1997)](https://www.science.org/doi/10.1126/science.276.5309.122). This paper concludes that fractal in biology results in the minimization of total energy cost. In the specific case considered by the authors, the mammalian circulatory systems, the fractal branching of capillary vessel naturally arises from reducing the energy cost of vessel circulation. Here, we check this result by numerical optimization method. Our discussion is based on a new paper by [Etienne, et al. (2006)](https://besjournals.onlinelibrary.wiley.com/doi/full/10.1111/j.1365-2435.2006.01136.x), which has better writing style and notations. \n",
    "\n",
    "## Notations\n",
    "\n",
    "We follow the notations in Etinene, et al. (2006):\n",
    "\n",
    "- $C$: number of branching levels.\n",
    "- $k$: branching level, from $1$ to $C$.\n",
    "- $n_k$: number of branches at $k$ level.\n",
    "- $r_k$: radius of vessel at $k$ level.\n",
    "- $l_k$: length of vessel at $k$ level.\n",
    "- $\\nu_k$: $n_{k+1} / n_k$.\n",
    "- $\\rho_k$: $r_{k+1} / r_k$.\n",
    "- $\\lambda_k$: $l_{k+1} / l_k$."
   ]
  },
  {
   "cell_type": "markdown",
   "id": "5b28d388-e1b4-491e-85cb-fbca727e1d3d",
   "metadata": {},
   "source": [
    "## Assumptions"
   ]
  },
  {
   "cell_type": "markdown",
   "id": "719ac578-31ea-4353-996d-468fc98cfd73",
   "metadata": {},
   "source": [
    "The assumption that the properties of capillary are universal for all mammals implies that the $n_C$, $l_C$, and $r_C$ are fixed. So, we have\n",
    "\n",
    "$$ l_k = \\frac{l_k}{l_{k+1}} \\cdots \\frac{l_{C-1}}{l_C} l_C = l_C \\lambda_k^{-1} \\cdots \\lambda_{C-1}^{-1} = l_C \\prod_{i=k}^{C-1} \\lambda_i^{-1}. $$\n",
    "\n",
    "The same,\n",
    "\n",
    "$$ r_k = r_C \\prod_{i=k}^{C-1} \\rho_i^{-1}, $$\n",
    "\n",
    "  and\n",
    "\n",
    "$$ n_k = n_C \\prod_{i=k}^{C-1} \\nu_i^{-1}. $$\n",
    "\n",
    "Based on assumption of area-preserving, we have that $n_k r_k^2$ is independent of $k$. This implies\n",
    "\n",
    "$$ \\rho_k = \\nu_k^{-1/2}. $$\n",
    "\n",
    "And by assumption of space-fulfilling, we have that $n_k l_k^3$ is independent of $k$. This implies\n",
    "\n",
    "$$ \\lambda_k = \\nu_k^{-1/3}. $$\n",
    "\n",
    "Because of these, the unique degree of freedom is the $\\nu$."
   ]
  },
  {
   "cell_type": "code",
   "execution_count": 1,
   "id": "499a5415-a2d3-4721-8f5f-d44401f92629",
   "metadata": {},
   "outputs": [
    {
     "name": "stderr",
     "output_type": "stream",
     "text": [
      "2024-03-03 12:19:40.650922: I tensorflow/core/platform/cpu_feature_guard.cc:182] This TensorFlow binary is optimized to use available CPU instructions in performance-critical operations.\n",
      "To enable the following instructions: SSE3 SSE4.1 SSE4.2 AVX AVX2 FMA, in other operations, rebuild TensorFlow with the appropriate compiler flags.\n"
     ]
    }
   ],
   "source": [
    "import numpy as np\n",
    "import tensorflow as tf\n",
    "from tensorflow.python import keras\n",
    "from tqdm import tqdm\n",
    "import matplotlib.pyplot as plt"
   ]
  },
  {
   "cell_type": "markdown",
   "id": "ffaf22ee-6157-4332-a86f-a32b7cf1e1ea",
   "metadata": {},
   "source": [
    "We use several samples in searching optimal parallelly. So, the $\\nu$, or for numerical stability $\\ln \\nu$, has tensor shape `[samples, levels]`."
   ]
  },
  {
   "cell_type": "code",
   "execution_count": 2,
   "id": "76e91d8f-7e3c-4881-847a-62d2c29e64a9",
   "metadata": {},
   "outputs": [],
   "source": [
    "SAMPLES = 10\n",
    "LEVELS = 100"
   ]
  },
  {
   "cell_type": "markdown",
   "id": "e04a0ba0-54fe-417c-bbb8-1fe05d7e6e1d",
   "metadata": {},
   "source": [
    "## Loss Function"
   ]
  },
  {
   "cell_type": "markdown",
   "id": "05193765-5627-4d4f-8c4c-2ba3fe031147",
   "metadata": {},
   "source": [
    "The quantity to be minimized is the total resistance of the vessel system. By [Hagen-Poiseuille equation](https://en.wikipedia.org/wiki/Hagen%E2%80%93Poiseuille_equation#Equation), we have the difference of pressure at level $k$, $\\Delta p_k = Q_k R_k$ where $Q_k$ represents the flow rate and $R_k := (8 \\mu l_k)/(\\pi r_k^4)$. Analogy to electricity, $\\Delta p_k$ corresponds to difference of potential $\\Delta V$, and $Q_k$ to current $I$. So, the $R_k$ is the resistance. At level $k$, the vessels are parallel. And for different levels, vessels are serial. So, the total resistance comes to be\n",
    "\n",
    "$$ R_b = \\sum_{k=1}^{C} \\frac{R_k}{n_k} = \\frac{8\\mu}{\\pi} \\sum_{k=1}^{C} \\frac{l_k}{r_k^4 n_k} = \\frac{8\\mu}{\\pi} \\frac{l_C}{r_C^4 n_C} \\sum_{k=1}^{C} \\prod_{i=k}^{C-1} \\frac{\\rho_i^4 \\nu_i}{\\lambda_i}. $$\n",
    "\n",
    "Plugging into the relation between $\\rho$, $\\lambda$ and $\\nu$, we find\n",
    "\n",
    "$$ R_b = \\frac{8\\mu}{\\pi} \\frac{l_C}{r_C^4 n_C} \\sum_{k=1}^{C} \\prod_{i=k}^{C-1} \\nu_i^{-2/3}. $$\n",
    "\n",
    "For numerical stability, we consider\n",
    "\n",
    "$$ \\ln R_b = \\ln \\left( \\frac{8\\mu}{\\pi} \\frac{l_C}{r_C^4 n_C} \\right) + \\ln \\sum_{k=1}^{C} \\prod_{i=k}^{C-1} \\nu_i^{-2/3}. $$"
   ]
  },
  {
   "cell_type": "code",
   "execution_count": 3,
   "id": "12747b49-add2-412c-8534-9d3dc9ef0f31",
   "metadata": {},
   "outputs": [
    {
     "data": {
      "text/plain": [
       "<tf.Tensor: shape=(1,), dtype=float64, numpy=array([0.53204747])>"
      ]
     },
     "execution_count": 3,
     "metadata": {},
     "output_type": "execute_result"
    }
   ],
   "source": [
    "def get_log_resistance(log_nu):\n",
    "    \"\"\"Omit the constant.\"\"\"\n",
    "    logits = []\n",
    "    for k in range(LEVELS):\n",
    "        logits.append(-(2/3) * tf.reduce_sum(log_nu[:, k:], axis=1))\n",
    "    logits = tf.stack(logits, axis=1)\n",
    "    return tf.reduce_logsumexp(logits, axis=1)\n",
    "\n",
    "log_nu = np.log(2) * np.ones([1, LEVELS])\n",
    "get_log_resistance(log_nu)"
   ]
  },
  {
   "cell_type": "markdown",
   "id": "476a4eb5-94af-4b72-b1c2-235d86426259",
   "metadata": {},
   "source": [
    "It is also assumed that the blood volume is proportional to the body size. The blood volumne is given by\n",
    "\n",
    "$$ V_b = \\pi \\sum_{k=1}^C r_k^2 l_k n_k = \\pi r_C^2 l_C n_C \\sum_{k=1}^C \\prod_{i=k}^{C-1} \\frac{1}{\\rho_i^2 \\lambda_i \\nu_i} = \\pi r_C^2 l_C n_C \\sum_{k=1}^C \\prod_{i=k}^{C-1} \\nu_i^{1/3}. $$\n",
    "\n",
    "If the body size is fixed, then $V_b$ shall be fixed too. Then,\n",
    "\n",
    "$$ \\ln V_b = \\ln \\left( \\pi r_C^2 l_C n_C \\right) + \\ln \\sum_{k=1}^C \\prod_{i=k}^{C-1} \\nu_i^{1/3}. $$"
   ]
  },
  {
   "cell_type": "code",
   "execution_count": 4,
   "id": "95f72cfb-10fe-4934-bdc0-14ccac6bc342",
   "metadata": {},
   "outputs": [
    {
     "data": {
      "text/plain": [
       "<tf.Tensor: shape=(1,), dtype=float64, numpy=array([24.68333243])>"
      ]
     },
     "execution_count": 4,
     "metadata": {},
     "output_type": "execute_result"
    }
   ],
   "source": [
    "def get_log_volume(log_nu):\n",
    "    \"\"\"Omit the constant.\"\"\"\n",
    "    logits = []\n",
    "    for k in range(LEVELS):\n",
    "        logits.append((1/3) * tf.reduce_sum(log_nu[:, k:], axis=1))\n",
    "    logits = tf.stack(logits, axis=1)\n",
    "    return tf.reduce_logsumexp(logits, axis=1)\n",
    "\n",
    "get_log_volume(log_nu)"
   ]
  },
  {
   "cell_type": "markdown",
   "id": "7f2b7cb8-e7a0-4324-aced-be3086625cb3",
   "metadata": {},
   "source": [
    "Since $n_{k+1} \\ge n_k$, $\\nu_k$ shall be greater than unit. So, there is another constraint that, for each $k$,\n",
    "\n",
    "$$ \\ln \\nu_k \\ge 0. $$"
   ]
  },
  {
   "cell_type": "markdown",
   "id": "99beadb8-74a7-4f36-9577-4be6dc346058",
   "metadata": {},
   "source": [
    "Altogether, the loss function shall be\n",
    "\n",
    "$$ \\ln R_b(\\nu) + \\mu \\left( \\ln V_b(\\nu) - \\ln \\bar{V}_b \\right) + \\sum_{k=1}^{C-1} \\omega_k \\left( \\ln \\nu_k - z_k^2 \\right), $$\n",
    "\n",
    "for some observed values $\\bar{V}_b$ given. By omitting the constants, it becomes\n",
    "\n",
    "$$ \\ln \\sum_{k=1}^{C} \\prod_{i=k}^{C-1} \\nu_i^{-2/3} + \\mu \\left( \\ln \\sum_{k=1}^C \\prod_{i=k}^{C-1} \\nu_i^{1/3} - \\ln \\bar{V}_b \\right) + \\sum_{k=1}^{C-1} \\omega_k \\left( \\ln \\nu_k - z_k^2 \\right). $$"
   ]
  },
  {
   "cell_type": "markdown",
   "id": "4d1f87f4-ce5f-434a-8f7a-a8366c794b66",
   "metadata": {},
   "source": [
    "What is a proper value of $\\bar{V}_b$. It is natural to suppose that $n_{k+1}/n_k \\ge 2$. This means $\\bar{V}_b$ shall be greater than the volume given by $\\nu = 2$. And it shall not be too large, for numerical consideration.\n",
    "\n",
    "In fact, it is sufficient for the optimized volume to approximate the order of $\\bar{V}_b$. We can regard this optimized volume as the real $\\bar{V}_b$. In other words, $\\bar{V}_b$ is used to determine the order, but not the accurate value."
   ]
  },
  {
   "cell_type": "code",
   "execution_count": 5,
   "id": "76529753-cb7f-4c76-a7b2-a36d9c05b289",
   "metadata": {},
   "outputs": [
    {
     "data": {
      "text/plain": [
       "<tf.Tensor: shape=(1,), dtype=float64, numpy=array([24.68333243])>"
      ]
     },
     "execution_count": 5,
     "metadata": {},
     "output_type": "execute_result"
    }
   ],
   "source": [
    "least_log_volume = get_log_volume(np.log(2) * np.ones([1, LEVELS]))\n",
    "least_log_volume"
   ]
  },
  {
   "cell_type": "code",
   "execution_count": 6,
   "id": "7adcc3bf-fd48-4ff8-a5b9-18ab200e3d72",
   "metadata": {},
   "outputs": [],
   "source": [
    "TRUE_LOG_VB = 4e+1"
   ]
  },
  {
   "cell_type": "markdown",
   "id": "278bae2e-e327-4d4e-9e31-c46ba9790877",
   "metadata": {},
   "source": [
    "We add a configuration for forcing fractal. When forcing fractal, we use the $\\ln \\nu_1$ as $\\ln \\nu_k$ for all $k$. We can compare the final $\\ln R_b$ with and without forcing fractal to see if the fractal is really a result of minimizing $\\ln R_b$."
   ]
  },
  {
   "cell_type": "code",
   "execution_count": 7,
   "id": "a182e14d-32c1-4275-a02e-1a0e3d570823",
   "metadata": {},
   "outputs": [],
   "source": [
    "TEST_FORCE_FRACTAL = False"
   ]
  },
  {
   "cell_type": "code",
   "execution_count": 8,
   "id": "dbcd535f-fa21-47ba-a728-ba7c42a34425",
   "metadata": {},
   "outputs": [
    {
     "data": {
      "text/plain": [
       "(<tf.Tensor: shape=(1,), dtype=float64, numpy=array([0.53204747])>,\n",
       " [<tf.Tensor: shape=(1,), dtype=float64, numpy=array([-15.31666757])>,\n",
       "  <tf.Tensor: shape=(1, 100), dtype=float64, numpy=\n",
       "  array([[-0.30685282, -0.30685282, -0.30685282, -0.30685282, -0.30685282,\n",
       "          -0.30685282, -0.30685282, -0.30685282, -0.30685282, -0.30685282,\n",
       "          -0.30685282, -0.30685282, -0.30685282, -0.30685282, -0.30685282,\n",
       "          -0.30685282, -0.30685282, -0.30685282, -0.30685282, -0.30685282,\n",
       "          -0.30685282, -0.30685282, -0.30685282, -0.30685282, -0.30685282,\n",
       "          -0.30685282, -0.30685282, -0.30685282, -0.30685282, -0.30685282,\n",
       "          -0.30685282, -0.30685282, -0.30685282, -0.30685282, -0.30685282,\n",
       "          -0.30685282, -0.30685282, -0.30685282, -0.30685282, -0.30685282,\n",
       "          -0.30685282, -0.30685282, -0.30685282, -0.30685282, -0.30685282,\n",
       "          -0.30685282, -0.30685282, -0.30685282, -0.30685282, -0.30685282,\n",
       "          -0.30685282, -0.30685282, -0.30685282, -0.30685282, -0.30685282,\n",
       "          -0.30685282, -0.30685282, -0.30685282, -0.30685282, -0.30685282,\n",
       "          -0.30685282, -0.30685282, -0.30685282, -0.30685282, -0.30685282,\n",
       "          -0.30685282, -0.30685282, -0.30685282, -0.30685282, -0.30685282,\n",
       "          -0.30685282, -0.30685282, -0.30685282, -0.30685282, -0.30685282,\n",
       "          -0.30685282, -0.30685282, -0.30685282, -0.30685282, -0.30685282,\n",
       "          -0.30685282, -0.30685282, -0.30685282, -0.30685282, -0.30685282,\n",
       "          -0.30685282, -0.30685282, -0.30685282, -0.30685282, -0.30685282,\n",
       "          -0.30685282, -0.30685282, -0.30685282, -0.30685282, -0.30685282,\n",
       "          -0.30685282, -0.30685282, -0.30685282, -0.30685282, -0.30685282]])>],\n",
       " <tf.Tensor: shape=(), dtype=float64, numpy=-4.068147482361481>)"
      ]
     },
     "execution_count": 8,
     "metadata": {},
     "output_type": "execute_result"
    }
   ],
   "source": [
    "def get_loss(log_nu, z, mu, omega):\n",
    "    if TEST_FORCE_FRACTAL:\n",
    "        log_nu = log_nu[:, :1] * tf.ones_like(log_nu)\n",
    "\n",
    "    main = get_log_resistance(log_nu)\n",
    "    loss = tf.reduce_sum(main)\n",
    "    constraints = []\n",
    "    for multiplier, constraint in [\n",
    "        (mu, get_log_volume(log_nu) - TRUE_LOG_VB),\n",
    "        (omega, log_nu - tf.square(z)),\n",
    "        # other constraints......\n",
    "    ]:\n",
    "        loss += tf.reduce_sum(multiplier * constraint)\n",
    "        constraints.append(constraint)\n",
    "    return main, constraints, loss\n",
    "\n",
    "z = tf.ones_like(log_nu)\n",
    "get_loss(log_nu, z, 0.1, 0.1)"
   ]
  },
  {
   "cell_type": "markdown",
   "id": "58c02dd3-e79d-4f3d-adda-0450249c5249",
   "metadata": {},
   "source": [
    "## Gradient Descent with Constraints\n",
    "\n",
    "The gradient descent algorithm with constraints is described in [Platt and Barr (1988)](https://papers.nips.cc/paper_files/paper/1987/file/a87ff679a2f3e71d9181a67b7542122c-Paper.pdf). Briefly, descent on the parameters (the $\\ln \\nu$ here) and ascent on the multipliers (the $\\mu$ and $\\omega_k$ here). For numerical stability, it is suggested to add an $L_2$-regulation.\n",
    "\n",
    "For example, consider scalar functions $f$ and $g$ where $f$ is lower bounded. If you want to minimize $f(x)$ with constraint $g(x) = 0$, then the loss function will be\n",
    "\n",
    "$$ L(x, \\mu) = f(x) + \\mu g(x), $$\n",
    "\n",
    "where $\\mu$ is the Lagrangian multiplier. Then, optimize the $x$ along the direction\n",
    "\n",
    "$$ \\dot{x}^a = -\\nabla^a L(x, \\mu) = -\\nabla^a f(x) - \\mu \\nabla^a g(x), $$\n",
    "\n",
    "where the $\\nabla$ is taken on $x$ only. And optimize the $\\mu$ along the direction\n",
    "\n",
    "$$ \\dot{\\mu} = {\\color{red}+} \\partial_{\\mu} L(x, \\mu) = g(x). $$\n",
    "\n",
    "Indeed, by taking time derivative, we find\n",
    "\n",
    "$$ \\ddot{x}^a + \\left( \\nabla^a \\nabla_b f(x) + \\mu \\nabla^a \\nabla_b g(x) \\right) \\dot{x}^b + \\nabla^a \\left( \\frac{1}{2} g^2(x) \\right) = 0. $$\n",
    "\n",
    "Analogy to the damped mechanic system, we recognize that the $A^a_b(x) := \\nabla^a \\nabla_b f(x) + \\mu \\nabla^a \\nabla_b g(x)$ term is a friction coefficient and $g^2(x)$ a potential. So, the energy is $E(x) := (1/2) \\dot{x}^2 + (1/2) g^2(x)$, and because of friction, the energy loss rate is $\\dot{E}(x) = -A_{a b}(x) \\dot{x}^a \\dot{x}^b$. So, to ensure that the energy losses, $A(x)$ has to be positive definite, at least being positive definite near the minimum. This is true for $\\nabla^a \\nabla_b f(x)$ since $f$ is lower bounded. So, we have to restrict the scale of $g$ such that $A$ is positive definite. To do so, we add an $L_2$-regulation for $g(x)$, that is, a term $c g^2(x)$ for a large enough positive constant $c$.\n",
    "\n",
    "For inequal constraints, like $h(x) \\ge 0$, we can add an auxiliary parameter $z$ and set the $g$ as $h(x) - z^2$. In this way, when $g = 0$, $h(x) \\ge 0$ is fulfilled. Now, the loss function becomes $L(x, z, \\mu) = f(x) + \\mu \\left( h(x) - z^2 \\right)$. The $z$ is optimized in the same way as $x$, that is $\\dot{z} = -\\nabla_z L(x, z, \\mu) = 2 \\mu z$. Remark that when $z = 0$, $\\dot{z} = 0$ too. Thus $z$ will not be updated and keeps vanishing. This is not what we want. So, at least, $z$ shall not be initialized as $0$ in training."
   ]
  },
  {
   "cell_type": "code",
   "execution_count": 9,
   "id": "281bc48f-0045-4173-810a-cfc024e74b26",
   "metadata": {},
   "outputs": [],
   "source": [
    "TEST_NO_MULTIPLIER = False  # set $\\mu \\equiv 0$, thus restricted by L2-regulation only."
   ]
  },
  {
   "cell_type": "code",
   "execution_count": 10,
   "id": "52a7d9b1-e016-44d6-b11e-7eff090e68b6",
   "metadata": {},
   "outputs": [],
   "source": [
    "def get_train_step(optimizer, l2):\n",
    "    step = tf.Variable(0, dtype=tf.int32, trainable=False)\n",
    "    l2 = tf.convert_to_tensor(l2)\n",
    "\n",
    "    @tf.function\n",
    "    def train_step(log_nu, z, mu, omega):\n",
    "        with tf.GradientTape() as tape:\n",
    "            if TEST_NO_MULTIPLIER:\n",
    "                mu = tf.zeros_like(mu)\n",
    "                omega = tf.zeros_like(omega)\n",
    "            main, constraints, loss = get_loss(log_nu, z, mu, omega)\n",
    "            l2_regulaition = l2 * sum(\n",
    "                tf.reduce_sum(tf.square(c)) for c in constraints)\n",
    "            loss += l2_regulaition\n",
    "\n",
    "        # Compute gradients\n",
    "        vars = [log_nu, z, mu, omega]\n",
    "        if TEST_NO_MULTIPLIER:\n",
    "            vars = [log_nu, z]\n",
    "        grads = tape.gradient(loss, vars, unconnected_gradients='zero')\n",
    "\n",
    "        # Descent for parameters and ascent for multipliers:\n",
    "        grads_and_vars = []\n",
    "        for i, var in enumerate(vars):\n",
    "            if i < 2:\n",
    "                grads_and_vars.append((grads[i], vars[i]))\n",
    "            else:\n",
    "                grads_and_vars.append((-grads[i], vars[i]))\n",
    "\n",
    "        optimizer.apply_gradients(grads_and_vars)\n",
    "        check_nan(vars)\n",
    "        step.assign_add(1)\n",
    "        return main, constraints, loss, grads_and_vars\n",
    "\n",
    "    return train_step, step\n",
    "\n",
    "def check_nan(xs):\n",
    "    for x in xs:\n",
    "        try:\n",
    "            tf.debugging.check_numerics(x, message='')\n",
    "        except Exception as e:\n",
    "            raise ValueError('NaN value.')"
   ]
  },
  {
   "cell_type": "code",
   "execution_count": 11,
   "id": "3577792b-2678-4513-b7b3-a7d742f040f3",
   "metadata": {},
   "outputs": [],
   "source": [
    "log_nu = tf.Variable(tf.random.uniform([SAMPLES, LEVELS], np.log(2), np.log(3)))\n",
    "z = tf.Variable(tf.random.uniform([SAMPLES, LEVELS], 0.5, 1.))  # z shall not be zero.\n",
    "mu = tf.Variable(tf.zeros([SAMPLES, 1]))\n",
    "omega = tf.Variable(tf.zeros([SAMPLES, LEVELS]))\n",
    "optimizer = keras.optimizers.adam_v2.Adam()\n",
    "train_step, step = get_train_step(optimizer, 1e-1)"
   ]
  },
  {
   "cell_type": "code",
   "execution_count": 12,
   "id": "cd37f0c9-c281-4b05-819e-30a3c4f7a08c",
   "metadata": {
    "scrolled": true
   },
   "outputs": [
    {
     "data": {
      "text/plain": [
       "(<tf.Tensor: shape=(10,), dtype=float32, numpy=\n",
       " array([0.29798144, 0.26545352, 0.2736627 , 0.27905446, 0.1287151 ,\n",
       "        0.14511931, 0.29263723, 0.23693252, 0.32236534, 0.12673318],\n",
       "       dtype=float32)>,\n",
       " [<tf.Tensor: shape=(10,), dtype=float32, numpy=\n",
       "  array([-9.457937, -9.131018, -9.225586, -8.507209, -8.639772, -8.265069,\n",
       "         -9.254299, -8.64613 , -8.238853, -8.6603  ], dtype=float32)>,\n",
       "  <tf.Tensor: shape=(10, 100), dtype=float32, numpy=\n",
       "  array([[ 3.96402895e-01,  2.78938413e-01,  2.94502556e-01,\n",
       "          -3.66619229e-02,  3.21301281e-01,  6.02404416e-01,\n",
       "           3.02727222e-01, -1.90707088e-01,  1.88166201e-01,\n",
       "           3.08495164e-02,  4.96010482e-01,  5.34219921e-01,\n",
       "           4.20297623e-01,  4.84046400e-01,  5.17382264e-01,\n",
       "           9.79244113e-02,  7.91408300e-01,  6.35234714e-02,\n",
       "          -1.88335419e-01,  3.72929752e-01,  1.11527801e-01,\n",
       "          -5.47063351e-03,  4.59468365e-03,  3.45910132e-01,\n",
       "           4.02637661e-01,  2.90562510e-01,  2.21768439e-01,\n",
       "           2.98461735e-01,  4.73565817e-01, -2.33300865e-01,\n",
       "           5.81970215e-01, -7.31617212e-02,  4.99823451e-01,\n",
       "           2.73790598e-01,  1.84094787e-01,  4.73774254e-01,\n",
       "           2.25785971e-02,  1.48528099e-01, -6.28534555e-02,\n",
       "           3.71579885e-01,  3.47339511e-01,  1.05215192e-01,\n",
       "           1.84050322e-01,  2.94518292e-01,  7.42863655e-01,\n",
       "           3.70477200e-01,  1.05319798e-01, -1.75657570e-01,\n",
       "           2.35095799e-01,  4.83089149e-01,  1.77510023e-01,\n",
       "           6.68137789e-01,  5.64701617e-01,  4.07740116e-01,\n",
       "           8.78953338e-02,  2.36080885e-02,  6.74836636e-01,\n",
       "          -1.44061029e-01,  3.21990252e-01,  1.38549626e-01,\n",
       "           3.94039571e-01,  3.02835345e-01,  7.41851926e-02,\n",
       "           5.64288735e-01,  3.05801094e-01,  2.40123928e-01,\n",
       "           3.22223902e-01,  1.67201757e-01,  1.39460385e-01,\n",
       "           9.00849104e-02, -9.84329581e-02,  4.06500340e-01,\n",
       "          -1.59989774e-01,  3.75739217e-01,  2.38885283e-01,\n",
       "           4.59377289e-01, -4.88563180e-02, -2.02326238e-01,\n",
       "           5.90381980e-01,  6.27488136e-01,  6.25052392e-01,\n",
       "           4.00463253e-01, -5.90323210e-02,  2.55850434e-01,\n",
       "           2.27413177e-01,  5.60653806e-01,  5.98630667e-01,\n",
       "          -1.69331014e-01,  6.20869994e-01,  3.35836083e-01,\n",
       "           1.87694669e-01,  7.92776108e-01,  3.92527819e-01,\n",
       "           1.63561940e-01,  4.45763141e-01,  4.85223532e-03,\n",
       "           4.19737309e-01,  4.16755676e-03,  7.61790395e-01,\n",
       "           3.24363053e-01],\n",
       "         [ 4.34671342e-01,  2.25224793e-01,  6.60946488e-01,\n",
       "           7.44098723e-01,  7.31841624e-01,  5.36026180e-01,\n",
       "           2.48433352e-01,  4.24443543e-01,  2.04147100e-01,\n",
       "          -6.97003603e-02,  5.33682227e-01,  6.40764236e-01,\n",
       "           2.42742419e-01,  2.61305094e-01,  1.80166066e-01,\n",
       "           3.28444839e-02,  4.50061500e-01,  5.55811882e-01,\n",
       "           5.21460295e-01, -3.98936272e-02,  3.77221525e-01,\n",
       "           5.06235421e-01,  7.91245699e-03,  7.52092421e-01,\n",
       "           3.64654243e-01,  6.10825598e-01, -9.03152227e-02,\n",
       "           3.80020499e-01,  5.43687940e-02,  3.57204676e-02,\n",
       "           2.38206625e-01,  4.03815001e-01,  1.09093428e-01,\n",
       "           6.78569078e-01,  4.22428340e-01,  2.25021958e-01,\n",
       "           4.30003017e-01,  2.17247665e-01,  3.93950731e-01,\n",
       "           4.86408502e-01,  3.36111188e-01,  1.47738576e-01,\n",
       "           4.08272862e-01, -6.45452738e-02,  7.21869648e-01,\n",
       "           2.54933596e-01,  2.35763848e-01, -2.30845630e-01,\n",
       "          -6.92913532e-02,  5.94963670e-01,  8.88210535e-02,\n",
       "           1.58432305e-01,  2.71590710e-01,  2.68559635e-01,\n",
       "           1.92055225e-01,  4.10026848e-01,  7.43587136e-01,\n",
       "           4.83390808e-01,  4.19186980e-01,  1.59303248e-01,\n",
       "           3.53076518e-01,  3.42077017e-02,  8.12323451e-01,\n",
       "          -1.03019416e-01,  4.63607550e-01, -6.68301582e-02,\n",
       "           2.64635533e-01,  4.31036532e-01,  4.16795701e-01,\n",
       "           5.19867778e-01,  5.68472505e-01,  6.95024848e-01,\n",
       "           1.78635180e-01,  4.33001399e-01, -4.37834263e-02,\n",
       "           7.18569756e-03,  4.47941363e-01,  6.82537198e-01,\n",
       "           1.57098711e-01,  2.52990544e-01,  3.48426312e-01,\n",
       "           2.63889551e-01,  9.78373885e-02,  1.07508898e-01,\n",
       "           6.98314309e-01,  4.52559143e-01, -3.07195187e-02,\n",
       "           4.94896472e-01,  2.98513770e-01,  1.71933234e-01,\n",
       "           2.13906705e-01,  5.68033099e-01, -1.09292746e-01,\n",
       "           4.86108303e-01,  7.06314206e-01,  2.00271070e-01,\n",
       "           5.06008267e-01,  4.18172657e-01,  3.92554075e-01,\n",
       "           1.22643650e-01],\n",
       "         [ 1.50571167e-01,  3.50713015e-01,  7.59911060e-01,\n",
       "           4.10860240e-01,  6.66158378e-01,  8.33903551e-02,\n",
       "           8.82343650e-02,  4.61034298e-01,  4.61709499e-02,\n",
       "           3.22306335e-01,  6.50041878e-01,  7.20434964e-01,\n",
       "           4.78026599e-01,  3.23503226e-01,  5.90867400e-01,\n",
       "           7.82253206e-01,  5.22009015e-01,  1.55612290e-01,\n",
       "           2.49468863e-01,  4.94515896e-01,  1.80644214e-01,\n",
       "           3.86504740e-01,  3.40618938e-01,  7.70346522e-02,\n",
       "           2.35552669e-01,  2.56929517e-01,  6.45178556e-01,\n",
       "           2.98183501e-01,  4.83018160e-03,  5.44169545e-01,\n",
       "           4.31308299e-01,  7.93524384e-01,  3.53808701e-01,\n",
       "           5.70293069e-01,  3.77733111e-01,  2.42886871e-01,\n",
       "           4.45773005e-02,  1.27977371e-01,  7.42775857e-01,\n",
       "           6.98647797e-01,  3.30557972e-01,  5.77527761e-01,\n",
       "           5.08738577e-01,  2.65081406e-01, -1.29258931e-01,\n",
       "           1.00663602e-01,  4.64661837e-01,  3.58836085e-01,\n",
       "           4.94378537e-01,  7.62516856e-02, -1.10114038e-01,\n",
       "           4.05650258e-01,  7.06204236e-01,  3.31284374e-01,\n",
       "          -4.51487899e-02,  2.98836946e-01,  1.78080797e-03,\n",
       "           6.41923666e-01,  5.33432364e-02,  4.72374082e-01,\n",
       "          -1.37943387e-01,  5.52048206e-01, -1.08158469e-01,\n",
       "           4.63952184e-01,  4.93627965e-01,  5.99608541e-01,\n",
       "           5.91458201e-01,  1.58712268e-02,  1.41414523e-01,\n",
       "           6.30541444e-02,  1.39182627e-01,  4.17863965e-01,\n",
       "           1.47889495e-01,  1.35569096e-01, -1.08994007e-01,\n",
       "           1.68578207e-01,  3.96602213e-01,  1.22088969e-01,\n",
       "           4.18065995e-01,  4.28335935e-01,  4.68859941e-01,\n",
       "           2.18030035e-01,  3.43611538e-01,  4.26510692e-01,\n",
       "           4.35151041e-01,  2.32831657e-01, -1.22586370e-01,\n",
       "           2.14894414e-02,  2.37366557e-02,  6.55731857e-01,\n",
       "           4.22949255e-01,  3.92754376e-01,  2.10192263e-01,\n",
       "           3.43848825e-01,  4.45628166e-02,  4.71098185e-01,\n",
       "          -4.75770831e-02,  3.73484373e-01,  2.52209902e-02,\n",
       "          -1.53303146e-03],\n",
       "         [ 7.11794138e-01,  4.85696614e-01,  2.53396332e-01,\n",
       "           5.39570808e-01,  1.56836271e-01,  4.82467562e-01,\n",
       "           9.26346779e-02,  4.17377144e-01,  1.13758862e-01,\n",
       "           2.63818741e-01,  3.96895707e-01,  3.91705036e-01,\n",
       "           3.09196591e-01,  5.60521245e-01,  4.05127466e-01,\n",
       "           3.20397019e-02,  5.45024753e-01,  7.03946352e-02,\n",
       "          -1.51082277e-01,  1.62371576e-01,  6.57928765e-01,\n",
       "           7.02802479e-01,  1.44496024e-01, -2.11494803e-01,\n",
       "           3.59086752e-01,  3.44985932e-01, -7.94712901e-02,\n",
       "           5.87101221e-01,  6.27530217e-02,  2.30184853e-01,\n",
       "           5.89612484e-01, -9.39655304e-02,  5.17545104e-01,\n",
       "           2.04667985e-01,  2.62586832e-01,  4.44861054e-01,\n",
       "           1.51103020e-01,  1.61105871e-01, -8.85470510e-02,\n",
       "          -2.36490369e-02,  2.66117930e-01,  8.93932581e-02,\n",
       "           4.24010158e-01,  3.97851110e-01,  1.44615710e-01,\n",
       "          -6.28719330e-02,  2.82201946e-01,  1.16518438e-01,\n",
       "          -7.51513243e-03,  2.61728764e-02,  5.49127877e-01,\n",
       "           2.65480518e-01,  5.53145170e-01,  2.67885327e-01,\n",
       "           6.33980393e-01,  4.76869643e-01,  5.66224813e-01,\n",
       "           2.57930934e-01,  2.83102870e-01,  2.83040464e-01,\n",
       "           2.45927155e-01,  9.31779146e-02,  1.60487175e-01,\n",
       "          -1.58219695e-01,  6.30827188e-01,  1.88281953e-01,\n",
       "           4.84247386e-01,  4.06031460e-01,  5.11022687e-01,\n",
       "           4.54800725e-01,  4.05806541e-01,  3.71187359e-01,\n",
       "           1.63218439e-01,  3.06902051e-01,  1.79242909e-01,\n",
       "           3.65834117e-01,  4.11900163e-01,  5.89387774e-01,\n",
       "           5.23244083e-01,  6.18187785e-01,  5.56805611e-01,\n",
       "           4.38741803e-01,  5.74834466e-01,  3.84807229e-01,\n",
       "          -1.76044106e-02,  1.65785730e-01,  2.51962543e-02,\n",
       "           4.92894650e-02,  4.61359918e-01,  2.12697208e-01,\n",
       "           1.02376938e-01,  4.18515384e-01,  2.84467936e-01,\n",
       "           2.69559503e-01,  1.38171673e-01,  1.05957747e-01,\n",
       "          -5.17660379e-03,  4.54182029e-02,  2.53318667e-01,\n",
       "           5.97061098e-01],\n",
       "         [ 1.73002243e-01,  3.34228903e-01,  5.40268898e-01,\n",
       "          -1.01293504e-01,  5.17966270e-01, -1.17708683e-01,\n",
       "           7.82153726e-01,  7.21772909e-02,  5.19398272e-01,\n",
       "           3.09087157e-01,  6.50949478e-02,  4.61739987e-01,\n",
       "           6.32881820e-01,  4.67246830e-01,  3.58025491e-01,\n",
       "           6.00374281e-01,  1.29839659e-01, -3.82363796e-04,\n",
       "           4.75039691e-01,  1.25976443e-01,  4.45594847e-01,\n",
       "           6.29744411e-01,  4.29312646e-01,  5.43291569e-02,\n",
       "           1.47997618e-01,  1.76799357e-01, -2.53629684e-03,\n",
       "           3.35435867e-02,  2.89083838e-01, -1.03218555e-01,\n",
       "           6.73387408e-01,  1.03359520e-01,  1.64590776e-01,\n",
       "           2.08888471e-01,  1.43153489e-01,  3.46284240e-01,\n",
       "           4.83822733e-01,  7.87419677e-01,  2.91150331e-01,\n",
       "           5.61227322e-01,  5.93613029e-01,  3.33637595e-02,\n",
       "           4.07410860e-01,  3.38278055e-01,  3.70314658e-01,\n",
       "           4.58411694e-01,  4.36404109e-01,  1.45283639e-01,\n",
       "           6.09092832e-01,  4.47388530e-01,  4.59319174e-01,\n",
       "           2.89075971e-01,  5.36940515e-01,  6.58735037e-01,\n",
       "           5.13256609e-01,  4.15118009e-01,  3.89131069e-01,\n",
       "           6.41026735e-01,  3.29147756e-01,  4.55096781e-01,\n",
       "           7.23101854e-01,  6.62199378e-01, -3.99151444e-02,\n",
       "           2.36105263e-01,  3.35642397e-01,  6.20810151e-01,\n",
       "          -2.08821476e-01,  2.93818891e-01, -5.88672757e-02,\n",
       "           1.95092022e-01,  2.84426153e-01,  4.24420655e-01,\n",
       "           2.93729305e-02,  3.53554666e-01,  3.14802229e-01,\n",
       "           3.61751676e-01,  4.56823468e-01,  3.56849253e-01,\n",
       "           1.29123092e-01,  4.41113085e-01,  4.05126750e-01,\n",
       "           5.72762251e-01,  6.62284374e-01,  2.48351216e-01,\n",
       "           4.82728928e-01,  4.43787754e-01,  6.81993961e-02,\n",
       "           1.00824296e-01,  3.40736985e-01,  2.44702935e-01,\n",
       "           4.85462546e-02,  1.26587152e-02,  3.25189531e-01,\n",
       "           3.41410577e-01,  3.84039521e-01,  4.39961672e-01,\n",
       "           3.51402938e-01,  1.90606594e-01,  1.70005202e-01,\n",
       "           2.93904424e-01],\n",
       "         [ 3.05455804e-01,  1.17412448e-01,  3.40050846e-01,\n",
       "          -1.42949939e-01,  4.60089743e-01,  4.97598410e-01,\n",
       "           1.24076605e-01,  5.70295811e-01,  5.16056240e-01,\n",
       "           5.70304632e-01, -2.23654211e-01,  9.59814787e-02,\n",
       "           3.59137237e-01,  4.03991520e-01,  1.64946556e-01,\n",
       "           5.46721578e-01,  3.67777497e-01,  6.76250279e-01,\n",
       "           6.10385597e-01, -1.19774401e-01,  2.40364313e-01,\n",
       "           4.48688298e-01,  4.14752007e-01,  7.55357802e-01,\n",
       "           1.30833626e-01, -7.25381970e-02,  2.62424409e-01,\n",
       "           5.16541541e-01,  3.31370175e-01,  4.74419773e-01,\n",
       "           4.73256707e-01,  4.79531109e-01, -1.35421395e-01,\n",
       "           7.26081371e-01, -6.29883409e-02,  2.39995420e-01,\n",
       "           6.81573272e-01, -2.12699592e-01,  4.79301274e-01,\n",
       "           2.77204454e-01,  4.97076631e-01,  3.72806668e-01,\n",
       "           7.55315423e-01,  6.39023066e-01,  1.65333807e-01,\n",
       "           1.85857654e-01,  2.32977450e-01,  2.44551897e-01,\n",
       "          -2.64871716e-01,  8.45752954e-02,  1.99959159e-01,\n",
       "           6.37230933e-01,  3.85079712e-01,  7.17558503e-01,\n",
       "           8.49772692e-02,  5.59091568e-02,  7.81224370e-02,\n",
       "          -2.02497065e-01,  5.42778730e-01,  1.32178247e-01,\n",
       "           2.90985644e-01,  5.70581198e-01,  1.95570409e-01,\n",
       "           4.98326451e-01,  2.91429460e-01,  3.25716376e-01,\n",
       "          -7.28424191e-02,  2.51197249e-01,  7.63743401e-01,\n",
       "          -9.07340050e-02,  4.35618937e-01,  3.67187679e-01,\n",
       "           5.47700524e-01,  6.22280717e-01,  4.25224304e-01,\n",
       "           6.37107253e-01,  2.35176325e-01,  1.04542732e-01,\n",
       "           6.67466044e-01,  8.42863321e-02,  5.01991987e-01,\n",
       "           6.55657053e-03,  2.30431855e-01,  9.14672017e-02,\n",
       "           4.82488871e-02,  3.05759966e-01,  4.90903318e-01,\n",
       "           7.14878082e-01,  4.99197364e-01,  2.01769531e-01,\n",
       "           8.37958455e-02, -1.53375804e-01,  2.19226241e-01,\n",
       "           1.16178751e-01,  3.91648918e-01,  7.56612003e-01,\n",
       "           1.30366743e-01,  1.91657603e-01,  4.54571009e-01,\n",
       "           4.27900434e-01],\n",
       "         [ 5.95395327e-01,  4.39195842e-01,  6.07020736e-01,\n",
       "           7.05516338e-01,  4.72404927e-01,  5.38682997e-01,\n",
       "           4.81431127e-01,  3.99643749e-01,  5.11530459e-01,\n",
       "           6.56155407e-01,  7.06592798e-01,  5.80626130e-01,\n",
       "           5.55077195e-02,  1.71867728e-01,  5.47955215e-01,\n",
       "           2.29492903e-01,  2.29355216e-01,  6.05587006e-01,\n",
       "           6.24014378e-01,  7.06393123e-01,  5.64429164e-01,\n",
       "           1.55973434e-03,  2.52565503e-01,  3.76349568e-01,\n",
       "           6.31535411e-01,  9.69816446e-02,  3.84419382e-01,\n",
       "          -6.38812184e-02, -5.22876978e-02,  5.50600410e-01,\n",
       "           4.21282649e-02,  3.97975981e-01,  2.32892841e-01,\n",
       "           5.45513153e-01, -2.14967728e-02,  9.20304060e-02,\n",
       "           1.61976397e-01,  5.56986332e-02,  1.81302965e-01,\n",
       "           7.12571859e-01,  6.32176757e-01, -1.40481651e-01,\n",
       "           9.75844264e-02,  1.03197694e-01,  3.34745228e-01,\n",
       "           2.15412319e-01,  4.69791949e-01,  8.07152390e-01,\n",
       "           5.04672766e-01,  7.19119310e-01,  3.04639161e-01,\n",
       "           4.90084529e-01,  4.60404158e-01,  1.95629060e-01,\n",
       "           7.81479478e-02,  3.77046883e-01,  3.73362243e-01,\n",
       "           1.24011636e-01, -8.84282589e-03,  3.78043830e-01,\n",
       "           5.66071987e-01, -2.63052821e-01,  2.10572541e-01,\n",
       "           8.65095854e-02,  1.30141735e-01,  4.97823775e-01,\n",
       "           3.90751362e-02,  5.61763883e-01,  4.49125648e-01,\n",
       "           6.17385864e-01,  3.41369867e-01,  3.17845374e-01,\n",
       "           9.01184082e-02,  6.52824223e-01,  9.21220779e-02,\n",
       "           4.82981086e-01,  8.89776349e-02,  6.78903103e-01,\n",
       "           6.38221622e-01,  4.68993962e-01,  2.73410976e-01,\n",
       "           2.44482517e-01,  4.95986432e-01,  4.63547081e-01,\n",
       "           6.03204250e-01, -1.65352821e-02,  3.87279987e-02,\n",
       "           1.95856094e-01,  3.23863328e-01,  4.38652575e-01,\n",
       "           6.17568910e-01, -2.18788385e-02,  3.38059276e-01,\n",
       "           7.55742252e-01,  2.33487010e-01,  5.96739590e-01,\n",
       "           6.85966015e-03,  7.71305323e-01,  3.36444795e-01,\n",
       "           8.52835178e-03],\n",
       "         [ 1.94284737e-01,  3.01774681e-01,  5.47292948e-01,\n",
       "          -1.09104633e-01,  5.67366123e-01, -2.16618419e-01,\n",
       "           2.90028751e-01,  6.35914087e-01,  7.43495226e-02,\n",
       "           4.54695761e-01, -1.73391283e-01,  7.06277609e-01,\n",
       "           7.43853927e-01,  6.84757352e-01, -9.77051258e-03,\n",
       "           1.63810074e-01,  5.98575711e-01,  3.83683980e-01,\n",
       "           1.42459452e-01,  2.70465195e-01,  2.18565524e-01,\n",
       "           7.71004140e-01,  3.29148769e-01,  5.66064417e-01,\n",
       "           4.94518757e-01,  7.87738144e-01,  2.79090315e-01,\n",
       "           2.23427415e-01,  1.59543216e-01,  3.86260927e-01,\n",
       "           1.94669366e-02,  1.72664881e-01,  6.68917894e-01,\n",
       "           6.48119390e-01,  4.64026481e-01,  1.17271781e-01,\n",
       "           1.55616045e-01,  3.15773368e-01, -1.86928630e-01,\n",
       "          -3.31400037e-02,  3.62356961e-01,  4.53514576e-01,\n",
       "           2.76564479e-01,  9.80076194e-02,  3.96550655e-01,\n",
       "           3.08539391e-01, -5.38530946e-02,  4.53726619e-01,\n",
       "           2.57229865e-01, -3.53504419e-02, -8.95631313e-02,\n",
       "           4.72445041e-01,  2.56617486e-01,  6.55150592e-01,\n",
       "           7.81214356e-01, -5.89670539e-02,  2.04816341e-01,\n",
       "           1.56001925e-01,  6.76676393e-01,  1.41837120e-01,\n",
       "           4.83233929e-01,  2.32044220e-01,  2.19832122e-01,\n",
       "           1.49227381e-01,  4.24118936e-01,  1.93630517e-01,\n",
       "           3.90565038e-01,  2.61518300e-01,  6.61829174e-01,\n",
       "           7.34561563e-01,  6.37683392e-01,  2.89437830e-01,\n",
       "           1.41482472e-01,  4.94480520e-01,  5.24420500e-01,\n",
       "           3.53947401e-01,  4.51935887e-01,  4.69107628e-02,\n",
       "           5.63292921e-01,  2.79858887e-01,  9.23037529e-02,\n",
       "           2.53012300e-01,  5.14727712e-01, -1.93991423e-01,\n",
       "           2.41682053e-01,  5.93956828e-01,  5.87429106e-01,\n",
       "           1.93702102e-01,  5.05851924e-01,  2.34940529e-01,\n",
       "           3.23188901e-02,  5.25762022e-01,  3.74907106e-01,\n",
       "           6.86091185e-03,  6.06981635e-01,  6.32544637e-01,\n",
       "           9.88334417e-02,  8.10415447e-01,  2.58169711e-01,\n",
       "           1.37105942e-01],\n",
       "         [-9.33259726e-02,  5.26709378e-01,  6.60717487e-01,\n",
       "           2.46960521e-01,  5.89581370e-01,  3.79917502e-01,\n",
       "          -2.51433849e-02,  5.12243986e-01,  3.13725531e-01,\n",
       "          -1.85400307e-01, -5.70303798e-02,  1.05690539e-01,\n",
       "           6.54070914e-01,  2.61914670e-01,  1.07423544e-01,\n",
       "           4.27848339e-01,  5.64546883e-01,  6.79618597e-01,\n",
       "           5.00536561e-02,  8.03635716e-02, -8.20875168e-03,\n",
       "          -2.02169776e-01,  6.78991318e-01,  1.70536876e-01,\n",
       "           4.69717860e-01,  7.17133284e-02,  3.74526590e-01,\n",
       "           2.54653215e-01, -3.31154466e-02,  7.30431795e-01,\n",
       "           1.63761139e-01,  2.01753616e-01,  7.43090272e-01,\n",
       "           5.30073762e-01,  5.60906529e-02,  4.05499190e-01,\n",
       "           7.76602149e-01,  6.14682138e-01,  5.19641995e-01,\n",
       "           4.56127077e-01,  4.64843571e-01, -4.45365906e-03,\n",
       "           3.82580101e-01,  3.85748357e-01,  1.62747681e-01,\n",
       "           5.61732531e-01,  4.74996984e-01,  5.18810213e-01,\n",
       "           2.35950887e-01,  2.69716918e-01,  1.08963072e-01,\n",
       "           4.72564608e-01,  9.53390598e-02,  9.95199084e-02,\n",
       "           1.66817248e-01,  4.11058128e-01,  3.64867270e-01,\n",
       "           5.39303243e-01, -2.86509395e-02,  6.31399691e-01,\n",
       "           8.34832191e-02,  5.42400002e-01,  6.30142689e-01,\n",
       "           5.28985023e-01, -8.29545856e-02,  2.43483782e-01,\n",
       "           1.27714097e-01,  4.31080043e-01,  4.85254109e-01,\n",
       "           5.91141462e-01,  4.26084399e-01,  4.89052951e-01,\n",
       "           2.47438192e-01, -9.33199525e-02,  6.05349302e-01,\n",
       "           9.15180445e-02,  4.43861485e-02,  1.32736146e-01,\n",
       "           6.66345179e-01,  1.10387266e-01,  2.99281597e-01,\n",
       "           3.02719057e-01, -8.01362395e-02,  3.94150794e-01,\n",
       "           4.11013484e-01,  2.77372599e-02,  5.56431115e-01,\n",
       "           3.02325606e-01,  3.49218190e-01,  4.04690802e-01,\n",
       "           2.97349572e-01,  2.25397646e-01,  6.81111455e-01,\n",
       "           5.75184822e-02,  2.80148923e-01,  5.32373190e-02,\n",
       "           4.79555428e-01,  3.20627391e-01,  1.56280041e-01,\n",
       "           1.25691831e-01],\n",
       "         [ 4.55438763e-01,  4.80248034e-01,  3.18611115e-01,\n",
       "           5.30506670e-01,  5.34250736e-01,  2.60053396e-01,\n",
       "           1.94943368e-01,  1.64984465e-02,  2.89170742e-02,\n",
       "           3.56041074e-01, -2.99637318e-02,  1.67380691e-01,\n",
       "           1.47627950e-01,  3.48950863e-01,  6.68737054e-01,\n",
       "           4.64264750e-02,  1.49770141e-01,  1.23858392e-01,\n",
       "          -1.66779339e-01,  3.27642441e-01,  7.15354562e-01,\n",
       "           1.29005075e-01,  8.03707242e-02, -1.94006026e-01,\n",
       "           3.36258620e-01, -6.86821938e-02,  2.36097097e-01,\n",
       "           2.19008446e-01,  7.31846333e-01,  4.07973200e-01,\n",
       "           1.52145982e-01,  1.98249340e-01,  3.10988605e-01,\n",
       "           2.63941616e-01,  4.27257895e-01,  3.31784725e-01,\n",
       "           5.02517045e-01,  5.27056694e-01,  4.71601844e-01,\n",
       "           3.65393251e-01,  4.92529511e-01,  2.42021352e-01,\n",
       "           7.03239441e-02,  6.12270474e-01,  5.32140851e-01,\n",
       "          -1.88859940e-01, -4.33745980e-02, -6.00934625e-02,\n",
       "           3.95712852e-01,  3.11718583e-02,  4.96377409e-01,\n",
       "           3.50929260e-01,  1.41912460e-01, -9.63747501e-02,\n",
       "           4.82299566e-01, -3.77253294e-02,  7.76545227e-01,\n",
       "           2.57457972e-01,  6.39652967e-01, -2.02147365e-02,\n",
       "          -8.28731656e-02,  5.35835862e-01,  3.71861637e-01,\n",
       "           3.12656254e-01,  6.43633008e-02,  2.27136552e-01,\n",
       "           4.72856641e-01,  6.40924573e-02,  2.37907588e-01,\n",
       "           5.26318371e-01,  3.26601386e-01,  6.85734630e-01,\n",
       "           6.29600048e-01,  3.60291302e-01, -5.56096435e-02,\n",
       "           3.18212986e-01, -1.09593272e-01,  3.60336363e-01,\n",
       "           1.44486487e-01,  4.42618191e-01,  2.50724077e-01,\n",
       "           5.58029056e-01,  5.19527674e-01,  2.82924235e-01,\n",
       "           2.78213859e-01,  7.54187047e-01, -2.36424983e-01,\n",
       "           1.01712883e-01,  5.80082774e-01,  2.66589701e-01,\n",
       "           2.16930807e-01,  4.36191559e-02,  2.70324826e-01,\n",
       "           1.25203967e-01,  6.90290332e-01,  1.18440032e-01,\n",
       "           2.35128582e-01,  6.80870593e-01, -4.72987294e-02,\n",
       "           7.55962253e-01]], dtype=float32)>])"
      ]
     },
     "execution_count": 12,
     "metadata": {},
     "output_type": "execute_result"
    }
   ],
   "source": [
    "main, constraints, _, _ = train_step(log_nu, z, mu, omega)\n",
    "main, constraints"
   ]
  },
  {
   "cell_type": "code",
   "execution_count": 13,
   "id": "4fc24899-2e20-4b24-8b6e-12308560848b",
   "metadata": {},
   "outputs": [
    {
     "name": "stderr",
     "output_type": "stream",
     "text": [
      "100%|███████████████████████████████████████████████████| 200000/200000 [05:52<00:00, 567.47it/s]\n"
     ]
    }
   ],
   "source": [
    "main_logs = []\n",
    "loss_logs = []\n",
    "for i in tqdm(range(200000)):\n",
    "    main, _, loss, _ = train_step(log_nu, z, mu, omega)\n",
    "    main_logs.append(main.numpy().mean())\n",
    "    loss_logs.append(loss.numpy())"
   ]
  },
  {
   "cell_type": "code",
   "execution_count": 14,
   "id": "509b3102-c3d5-4472-ade0-8dc19f3baeb2",
   "metadata": {},
   "outputs": [
    {
     "data": {
      "image/png": "[encoded data removed]",
      "text/plain": [
       "<Figure size 640x480 with 1 Axes>"
      ]
     },
     "metadata": {},
     "output_type": "display_data"
    }
   ],
   "source": [
    "plt.plot(main_logs, label='expected main', alpha=0.5)\n",
    "plt.plot(loss_logs, label='loss', alpha=0.5)\n",
    "plt.xlabel('training steps')\n",
    "plt.legend()\n",
    "plt.show()"
   ]
  },
  {
   "cell_type": "markdown",
   "id": "fcba1bea-d6c0-40a3-b254-e0796bca0cf6",
   "metadata": {},
   "source": [
    "Let us check the optimization results:"
   ]
  },
  {
   "cell_type": "code",
   "execution_count": 15,
   "id": "4b0cbdac-290d-4499-8768-85a5a97e4e34",
   "metadata": {},
   "outputs": [],
   "source": [
    "main, constraints, _ = get_loss(log_nu, z, mu, omega)"
   ]
  },
  {
   "cell_type": "code",
   "execution_count": 16,
   "id": "01f67547-d7ed-4f6f-a47d-6e085f3749e0",
   "metadata": {
    "scrolled": true
   },
   "outputs": [
    {
     "data": {
      "text/plain": [
       "(<tf.Tensor: shape=(), dtype=int64, numpy=9>,\n",
       " <tf.Tensor: shape=(), dtype=float32, numpy=-66.55811>,\n",
       " [<tf.Tensor: shape=(), dtype=float32, numpy=0.19792175>,\n",
       "  <tf.Tensor: shape=(100,), dtype=float32, numpy=\n",
       "  array([-8.99692327e-02,  6.06213212e-02, -3.85181345e-02, -1.43483669e-01,\n",
       "          7.49768391e-02,  5.17037064e-02,  4.03805114e-02, -9.25142094e-02,\n",
       "         -1.17201395e-01, -1.78020932e-02,  9.28719863e-02, -1.39029145e-01,\n",
       "         -9.66106802e-02,  8.63453448e-02,  3.27505954e-02,  6.48505017e-02,\n",
       "          8.06279778e-02,  5.49523942e-02,  6.96652010e-02,  7.15749934e-02,\n",
       "          4.70111668e-02, -8.34989641e-03, -9.22684371e-03, -1.11419139e-02,\n",
       "          6.31186292e-02, -1.00433901e-01, -1.11626729e-01, -1.61662847e-01,\n",
       "          1.15890764e-01,  7.23055005e-02,  1.31302094e-02, -1.14294924e-01,\n",
       "          3.71992253e-02,  5.06868549e-02, -1.26150727e-01,  3.74591425e-02,\n",
       "         -1.08545318e-01,  9.29568261e-02,  9.91634354e-02,  9.78093147e-02,\n",
       "         -1.02043964e-01,  1.01813212e-01, -1.20622844e-01, -1.17680371e-01,\n",
       "          9.62247998e-02, -5.64087331e-02,  8.85751247e-02,  4.33143340e-02,\n",
       "          8.67073685e-02,  3.34608890e-02, -5.36029674e-02, -1.81569904e-03,\n",
       "          8.96257982e-02, -9.84212533e-02, -1.62793119e-02, -1.05181091e-01,\n",
       "          8.91699716e-02, -2.35541891e-02,  4.06605303e-02,  1.80553030e-02,\n",
       "          6.80730641e-02,  7.03062266e-02, -1.00378036e-01, -9.53952000e-02,\n",
       "         -1.31551558e-02,  5.12509197e-02,  9.54661518e-02,  3.54230925e-02,\n",
       "          8.10554847e-02,  8.04366395e-02, -7.36496001e-02, -5.70787303e-02,\n",
       "          8.23511928e-02, -2.74297912e-02,  2.27237847e-02, -7.94654042e-02,\n",
       "          4.28732373e-02, -2.70948317e-02, -3.71970795e-02,  6.90197721e-02,\n",
       "         -5.96034676e-02,  4.40175757e-02,  6.80572689e-02,  1.33578643e-01,\n",
       "          6.51579201e-02, -3.75560299e-02,  1.09038278e-01, -2.48172879e-03,\n",
       "          3.81977707e-02,  6.62798733e-02, -2.09133551e-02, -4.35535163e-02,\n",
       "         -9.68643092e-03, -6.07979670e-02, -3.32058035e-02, -1.75064020e-02,\n",
       "          5.70785888e-02,  1.04708098e-01,  7.90527165e-02,  3.05175781e-05],\n",
       "        dtype=float32)>])"
      ]
     },
     "execution_count": 16,
     "metadata": {},
     "output_type": "execute_result"
    }
   ],
   "source": [
    "min_i = tf.argmin(main)\n",
    "min_i, main[min_i], [c[min_i] for c in constraints]"
   ]
  },
  {
   "cell_type": "markdown",
   "id": "a4234118-77a7-444a-850f-3b176e326410",
   "metadata": {},
   "source": [
    "And for checking fractal:"
   ]
  },
  {
   "cell_type": "code",
   "execution_count": 17,
   "id": "e7fe7734-be11-47a5-af17-c0c45c6f7ee6",
   "metadata": {
    "scrolled": true
   },
   "outputs": [
    {
     "data": {
      "text/plain": [
       "<tf.Tensor: shape=(100,), dtype=float32, numpy=\n",
       "array([-8.99692327e-02,  6.06213212e-02, -3.85181345e-02, -1.28654882e-01,\n",
       "        7.49768391e-02,  5.17037064e-02,  4.03805114e-02, -9.16498527e-02,\n",
       "       -7.38943070e-02, -1.75508000e-02,  9.28719863e-02, -1.36908531e-01,\n",
       "       -9.66106802e-02,  8.63453448e-02,  3.27527411e-02,  6.49615228e-02,\n",
       "        8.06279778e-02,  5.49523942e-02,  7.15121031e-02,  7.15749934e-02,\n",
       "        4.70111668e-02, -8.34989641e-03, -9.22676362e-03, -1.11419111e-02,\n",
       "        6.31186292e-02, -1.00433469e-01, -1.11626729e-01, -1.50859207e-01,\n",
       "        1.15890764e-01,  7.23055005e-02,  1.31302737e-02, -1.14294924e-01,\n",
       "        3.71992253e-02,  5.06868549e-02, -1.26150727e-01,  3.74591425e-02,\n",
       "       -1.08203389e-01,  9.29568261e-02,  9.91634354e-02,  9.78093147e-02,\n",
       "       -1.02043964e-01,  1.01813212e-01, -1.20622844e-01, -1.17678322e-01,\n",
       "        9.62247998e-02, -5.64087331e-02,  8.85751247e-02,  4.33143340e-02,\n",
       "        8.67073685e-02,  3.34608890e-02, -5.36029674e-02, -1.81569904e-03,\n",
       "        8.96257982e-02, -9.84212533e-02, -1.62793119e-02, -1.05181091e-01,\n",
       "        8.91699716e-02, -2.35541891e-02,  4.06605303e-02,  1.80553030e-02,\n",
       "        6.80730641e-02,  7.03062266e-02, -1.00378036e-01, -9.53952000e-02,\n",
       "       -1.31551558e-02,  5.12509197e-02,  9.54661518e-02,  3.54230925e-02,\n",
       "        8.10554847e-02,  8.04366693e-02, -7.36467019e-02, -5.70787303e-02,\n",
       "        8.23511928e-02, -1.99226141e-02,  2.27237847e-02, -7.94654042e-02,\n",
       "        4.28732373e-02, -2.70948317e-02, -3.71970795e-02,  6.90197721e-02,\n",
       "       -5.96024394e-02,  4.40175757e-02,  6.80573657e-02,  1.33578643e-01,\n",
       "        6.51579201e-02, -3.75560299e-02,  1.09038278e-01, -2.48172879e-03,\n",
       "        3.85490879e-02,  6.62798733e-02, -2.04919111e-02, -4.35535163e-02,\n",
       "       -9.68643092e-03, -6.07979670e-02, -3.32058035e-02, -1.75064020e-02,\n",
       "        5.70786297e-02,  1.04708098e-01,  7.90527165e-02,  1.06135796e+02],\n",
       "      dtype=float32)>"
      ]
     },
     "execution_count": 17,
     "metadata": {},
     "output_type": "execute_result"
    }
   ],
   "source": [
    "log_nu[min_i, :]"
   ]
  },
  {
   "cell_type": "code",
   "execution_count": 18,
   "id": "692b5b76-dfc2-49f6-bcce-36012545ed7f",
   "metadata": {},
   "outputs": [
    {
     "data": {
      "image/png": "[encoded data removed]",
      "text/plain": [
       "<Figure size 640x480 with 1 Axes>"
      ]
     },
     "metadata": {},
     "output_type": "display_data"
    }
   ],
   "source": [
    "plt.plot(log_nu[min_i, :], '.', label='$\\\\ln \\\\nu_k$')\n",
    "plt.xlabel('$k$')\n",
    "plt.legend()\n",
    "plt.show()"
   ]
  },
  {
   "cell_type": "markdown",
   "id": "a667b8fa-452e-4f64-b91e-b603ce5a59f5",
   "metadata": {},
   "source": [
    "Zoom in:"
   ]
  },
  {
   "cell_type": "code",
   "execution_count": 23,
   "id": "b8c1ab39-7ae4-47e0-9d3e-0f185ac20abd",
   "metadata": {},
   "outputs": [
    {
     "data": {
      "image/png": "[encoded data removed]",
      "text/plain": [
       "<Figure size 640x480 with 1 Axes>"
      ]
     },
     "metadata": {},
     "output_type": "display_data"
    }
   ],
   "source": [
    "plt.plot(log_nu[min_i, :-5], '.', label='$\\\\ln \\\\nu_k$')\n",
    "plt.xlabel('$k-5$')\n",
    "plt.legend()\n",
    "plt.show()"
   ]
  },
  {
   "cell_type": "markdown",
   "id": "e72f02e4-7296-4df3-bb3f-895410d498b9",
   "metadata": {},
   "source": [
    "Now, we can see how many branches there are. Notice that\n",
    "\n",
    "$$ \\frac{n_c}{n_1} = \\frac{n_C}{n_{C-1}} \\cdots \\frac{n_2}{n_1} = \\prod_{k=1}^{C-1} \\nu_k, $$\n",
    "\n",
    "and that $n_1 = 1$, we find\n",
    "\n",
    "$$ n_c = \\prod_{k=1}^{C-1} \\nu_k. $$"
   ]
  },
  {
   "cell_type": "code",
   "execution_count": 20,
   "id": "2a2c0771-88c5-4197-b4c8-e2cf8509b896",
   "metadata": {},
   "outputs": [
    {
     "data": {
      "text/plain": [
       "<tf.Tensor: shape=(), dtype=float32, numpy=154.22417>"
      ]
     },
     "execution_count": 20,
     "metadata": {},
     "output_type": "execute_result"
    }
   ],
   "source": [
    "def get_log2_nc(log_nu):\n",
    "    return tf.reduce_sum(log_nu, axis=1) * np.log2(np.e)\n",
    "\n",
    "get_log2_nc(log_nu)[min_i]"
   ]
  },
  {
   "cell_type": "markdown",
   "id": "8b4b4dcc-749f-4133-a20c-f8d744034294",
   "metadata": {},
   "source": [
    "## Conclusion\n",
    "\n",
    "* Comparing with the trained `log_nu` with and without `TEST_FORCE_FRACTAL` being true, we find that fractal structure does not minimize $R_b$. In fact, the $R_b$ is the least when the effective number of levels is one. This means **the fractal structure in mammilian vessel system is not induced from minimizing vessel resistance.**\n",
    "* Assigning a proper $\\bar{V}_b$ is critical for obtaining plausible result.\n",
    "* If the Lagrangian multiplier is omitted by setting `TEST_NO_MULTIPLIER = True`, we cannot get the constrained result even though $L_2$-regulation has been employed. The Lagrangian multiplier is essential.\n",
    "* The implementation is not scalable. The CPU usage is quite low."
   ]
  },
  {
   "cell_type": "markdown",
   "id": "a6a4f62d-8300-4b29-8b87-313f2cc1fa56",
   "metadata": {},
   "source": [
    "## Discussion\n",
    "\n",
    "The resistance $R_b(\\nu)$ can be seen as an action. The true value of $\\nu$ locates in its minima. So, we can construct a probabilistic model of $\\nu$, the branching of vessel system, as\n",
    "\n",
    "$$ p(\\nu) \\propto \\exp(-\\beta R_b(\\nu)) \\delta(V_b(\\nu) - \\bar{V}_b), $$\n",
    "\n",
    "for any positive $\\beta$ characterizing the randomness.\n",
    "\n",
    "TODO"
   ]
  }
 ],
 "metadata": {
  "kernelspec": {
   "display_name": ".venv",
   "language": "python",
   "name": ".venv"
  },
  "language_info": {
   "codemirror_mode": {
    "name": "ipython",
    "version": 3
   },
   "file_extension": ".py",
   "mimetype": "text/x-python",
   "name": "python",
   "nbconvert_exporter": "python",
   "pygments_lexer": "ipython3",
   "version": "3.11.6"
  }
 },
 "nbformat": 4,
 "nbformat_minor": 5
}
