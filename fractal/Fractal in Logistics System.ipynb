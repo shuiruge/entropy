{
 "cells": [
  {
   "cell_type": "markdown",
   "id": "6b2aaafb-cf13-4129-99f7-f5673e0bfe16",
   "metadata": {},
   "source": [
    "# Fractal in Logistics System\n",
    "\n",
    "In the notebook _Fractal in Biology_, we tested the emergence of fractal from mammalian vessel system. But, the fractal is absent under the assumptions by West, et al. (1997). In this notebook, we try to update the assumptions to make them more plausible. Instead of mammalian vessel system, we consider a much simpler case: the logistic system of a city.\n",
    "\n",
    "## Notations\n",
    "\n",
    "- $C$: number of levels.\n",
    "- $k$: level, from $0$ to $C$.\n",
    "- $n_k$: number of logistics sites at $k$ level.\n",
    "- $l_k$: logistics scale at $k$ level.\n",
    "- $f_k$: flow rate at $k$ level.\n",
    "- $\\nu_k$: $n_{k+1} / n_k$.\n",
    "- $\\lambda_k$: $l_{k+1} / l_k$.\n",
    "- $\\phi_k$: $f_{k+1} / f_{k}$."
   ]
  },
  {
   "cell_type": "markdown",
   "id": "5b28d388-e1b4-491e-85cb-fbca727e1d3d",
   "metadata": {},
   "source": [
    "## Assumptions"
   ]
  },
  {
   "cell_type": "markdown",
   "id": "719ac578-31ea-4353-996d-468fc98cfd73",
   "metadata": {},
   "source": [
    "Assumptions are made as follow. For details, see [this blog](https://shuiruge.github.io/2024/03/01/complex-system/) (TODO: explain the details here).\n",
    "\n",
    "The $f_C$ and $l_C$ are fixed. Naturally, $n_0 = 1$. Thus,\n",
    "\n",
    "$$ l_k = \\frac{l_k}{l_{k+1}} \\cdots \\frac{l_{C-1}}{l_C} l_C = l_C \\lambda_k^{-1} \\cdots \\lambda_{C-1}^{-1} = l_C \\prod_{i=k}^{C-1} \\lambda_i^{-1}. $$\n",
    "\n",
    "The same,\n",
    "\n",
    "$$ f_k = f_C \\prod_{i=k}^{C-1} \\phi_i^{-1}, $$\n",
    "\n",
    "but,\n",
    "\n",
    "$$ n_k = n_0 \\frac{n_1}{n_0} \\cdots \\frac{n_k}{n_{k-1}} = \\nu_0 \\cdots \\nu_{k-1} = \\prod_{i=0}^{k-1} \\nu_i. $$\n",
    "\n",
    "The perserving of flow rate implies\n",
    "\n",
    "$$ f_k = \\nu_k^{-1}. $$\n",
    "\n",
    "And the space-fulfilling assumption implies\n",
    "\n",
    "$$ \\lambda_k = \\nu_k^{-1/2}. $$\n",
    "\n",
    "Because of these, the unique degree of freedom is the $\\nu$."
   ]
  },
  {
   "cell_type": "code",
   "execution_count": 1,
   "id": "499a5415-a2d3-4721-8f5f-d44401f92629",
   "metadata": {},
   "outputs": [
    {
     "name": "stderr",
     "output_type": "stream",
     "text": [
      "2024-03-03 20:44:52.169496: I tensorflow/core/platform/cpu_feature_guard.cc:182] This TensorFlow binary is optimized to use available CPU instructions in performance-critical operations.\n",
      "To enable the following instructions: SSE3 SSE4.1 SSE4.2 AVX AVX2 FMA, in other operations, rebuild TensorFlow with the appropriate compiler flags.\n"
     ]
    }
   ],
   "source": [
    "import numpy as np\n",
    "import tensorflow as tf\n",
    "from tensorflow.python import keras\n",
    "from tqdm import tqdm\n",
    "import matplotlib.pyplot as plt"
   ]
  },
  {
   "cell_type": "markdown",
   "id": "ffaf22ee-6157-4332-a86f-a32b7cf1e1ea",
   "metadata": {},
   "source": [
    "We use several samples in searching optimal parallelly. So, the $\\nu$, or for numerical stability $\\ln \\nu$, has tensor shape `[samples, levels]`."
   ]
  },
  {
   "cell_type": "code",
   "execution_count": 2,
   "id": "76e91d8f-7e3c-4881-847a-62d2c29e64a9",
   "metadata": {},
   "outputs": [],
   "source": [
    "SAMPLES = 100\n",
    "LEVELS = 10"
   ]
  },
  {
   "cell_type": "markdown",
   "id": "e04a0ba0-54fe-417c-bbb8-1fe05d7e6e1d",
   "metadata": {},
   "source": [
    "## Loss Function"
   ]
  },
  {
   "cell_type": "markdown",
   "id": "05193765-5627-4d4f-8c4c-2ba3fe031147",
   "metadata": {},
   "source": [
    "The objective to be minimized is the total consumption logistics. It is\n",
    "\n",
    "$$ F := \\sum_{k=0}^C n_{k} f_{k} l_{k} = f_C l_C \\sum_{k=0}^C \\prod_{i=0}^{k-1} \\nu_i \\prod_{i=k}^{C-1} (\\phi_i \\lambda_i)^{-1}. $$\n",
    "\n",
    "Plugging the relation between $\\nu$ and $\\phi$ and $\\lambda$, we find\n",
    "\n",
    "$$ F = f_C l_C \\sum_{k=0}^C \\prod_{i=0}^{k-1} \\nu_i \\prod_{i=k}^{C-1} \\nu_i^{3/2}. $$\n",
    "\n",
    "For numerical stability, we consider\n",
    "\n",
    "$$ \\ln F = \\ln (f_C l_C) + \\ln \\sum_{k=0}^C \\prod_{i=0}^{k-1} \\nu_i \\prod_{i=k}^{C-1} \\nu_i^{3/2}. $$"
   ]
  },
  {
   "cell_type": "code",
   "execution_count": 3,
   "id": "12747b49-add2-412c-8534-9d3dc9ef0f31",
   "metadata": {},
   "outputs": [
    {
     "data": {
      "text/plain": [
       "<tf.Tensor: shape=(1,), dtype=float64, numpy=array([11.60281])>"
      ]
     },
     "execution_count": 3,
     "metadata": {},
     "output_type": "execute_result"
    }
   ],
   "source": [
    "def get_log_consumption(log_nu):\n",
    "    \"\"\"Omit the constant.\"\"\"\n",
    "    logits = []\n",
    "    for k in range(LEVELS+1):\n",
    "        logit_k = (\n",
    "            tf.reduce_sum(log_nu[:, :k], axis=1)\n",
    "            + (3/2) * tf.reduce_sum(log_nu[:, k:], axis=1)\n",
    "        )\n",
    "        logits.append(logit_k)\n",
    "    logits = tf.stack(logits, axis=1)\n",
    "    return tf.reduce_logsumexp(logits, axis=1)\n",
    "\n",
    "log_nu = np.log(2) * np.ones([1, LEVELS])\n",
    "get_log_consumption(log_nu)"
   ]
  },
  {
   "cell_type": "markdown",
   "id": "476a4eb5-94af-4b72-b1c2-235d86426259",
   "metadata": {},
   "source": [
    "The population of the city is proportional to $n_C = \\prod_{k=0}^{C-1} \\nu_k$. To investigate the relation between total consumption of logistics and the population of the city, the population shall be fixed."
   ]
  },
  {
   "cell_type": "code",
   "execution_count": 4,
   "id": "95f72cfb-10fe-4934-bdc0-14ccac6bc342",
   "metadata": {},
   "outputs": [
    {
     "data": {
      "text/plain": [
       "<tf.Tensor: shape=(1,), dtype=float64, numpy=array([6.93147181])>"
      ]
     },
     "execution_count": 4,
     "metadata": {},
     "output_type": "execute_result"
    }
   ],
   "source": [
    "def get_log_population(log_nu):\n",
    "    return tf.reduce_sum(log_nu, axis=1)\n",
    "\n",
    "get_log_population(log_nu)"
   ]
  },
  {
   "cell_type": "markdown",
   "id": "7f2b7cb8-e7a0-4324-aced-be3086625cb3",
   "metadata": {},
   "source": [
    "Since $n_{k+1} \\ge n_k$, $\\nu_k$ shall be greater than unit. So, there is another constraint that, for each $k$,\n",
    "\n",
    "$$ \\ln \\nu_k \\ge 0. $$"
   ]
  },
  {
   "cell_type": "markdown",
   "id": "99beadb8-74a7-4f36-9577-4be6dc346058",
   "metadata": {},
   "source": [
    "Altogether, the loss function shall be\n",
    "\n",
    "$$ \\ln F(\\nu) + \\mu \\left( \\ln n_C(\\nu) - \\ln \\bar{n}_C \\right) + \\sum_{k=1}^{C-1} \\omega_k \\left( \\ln \\nu_k - z_k^2 \\right), $$\n",
    "\n",
    "for some observed values $\\bar{n}_C$ given."
   ]
  },
  {
   "cell_type": "markdown",
   "id": "4d1f87f4-ce5f-434a-8f7a-a8366c794b66",
   "metadata": {},
   "source": [
    "What is a proper value of $\\bar{n}_C$. It is natural to suppose that $n_{k+1}/n_k \\ge 2$. This means $\\bar{n}_C$ shall be greater than the volume given by $\\nu = 2$. And it shall not be too large, for numerical consideration.\n",
    "\n",
    "In fact, it is sufficient for the optimized volume to approximate the order of $\\bar{n}_C$. We can regard this optimized volume as the real $\\bar{n}_C$. In other words, $\\bar{n}_C$ is used to determine the order, but not the accurate value."
   ]
  },
  {
   "cell_type": "code",
   "execution_count": 5,
   "id": "76529753-cb7f-4c76-a7b2-a36d9c05b289",
   "metadata": {},
   "outputs": [
    {
     "data": {
      "text/plain": [
       "<tf.Tensor: shape=(1,), dtype=float64, numpy=array([6.93147181])>"
      ]
     },
     "execution_count": 5,
     "metadata": {},
     "output_type": "execute_result"
    }
   ],
   "source": [
    "least_log_population = get_log_population(np.log(2) * np.ones([1, LEVELS]))\n",
    "least_log_population"
   ]
  },
  {
   "cell_type": "code",
   "execution_count": 6,
   "id": "7adcc3bf-fd48-4ff8-a5b9-18ab200e3d72",
   "metadata": {},
   "outputs": [],
   "source": [
    "TRUE_LOG_NC = 3e+1"
   ]
  },
  {
   "cell_type": "code",
   "execution_count": 7,
   "id": "4b4a63f4-8810-44b4-94ca-9634eb151fb3",
   "metadata": {},
   "outputs": [
    {
     "data": {
      "text/plain": [
       "(<tf.Tensor: shape=(1,), dtype=float64, numpy=array([11.60281])>,\n",
       " [<tf.Tensor: shape=(1,), dtype=float64, numpy=array([-23.06852819])>,\n",
       "  <tf.Tensor: shape=(1, 10), dtype=float64, numpy=\n",
       "  array([[-0.30685282, -0.30685282, -0.30685282, -0.30685282, -0.30685282,\n",
       "          -0.30685282, -0.30685282, -0.30685282, -0.30685282, -0.30685282]])>],\n",
       " <tf.Tensor: shape=(), dtype=float64, numpy=8.98910436207234>)"
      ]
     },
     "execution_count": 7,
     "metadata": {},
     "output_type": "execute_result"
    }
   ],
   "source": [
    "def get_loss(log_nu, z, mu, omega):\n",
    "    objective = get_log_consumption(log_nu)\n",
    "    batch_size = tf.cast(tf.shape(log_nu)[0], log_nu.dtype)\n",
    "    loss = tf.reduce_sum(objective) / batch_size\n",
    "    constraints = []\n",
    "    for multiplier, constraint in [\n",
    "        (mu, get_log_population(log_nu) - TRUE_LOG_NC),\n",
    "        (omega, log_nu - tf.square(z)),\n",
    "        # other constraints......\n",
    "    ]:\n",
    "        loss += tf.reduce_sum(multiplier * constraint) / batch_size\n",
    "        constraints.append(constraint)\n",
    "    return objective, constraints, loss\n",
    "\n",
    "z = tf.ones_like(log_nu)\n",
    "get_loss(log_nu, z, 0.1, 0.1)"
   ]
  },
  {
   "cell_type": "markdown",
   "id": "58c02dd3-e79d-4f3d-adda-0450249c5249",
   "metadata": {},
   "source": [
    "## Gradient Descent with Constraints\n",
    "\n",
    "The gradient descent algorithm with constraints is described in [Platt and Barr (1988)](https://papers.nips.cc/paper_files/paper/1987/file/a87ff679a2f3e71d9181a67b7542122c-Paper.pdf). Briefly, descent on the parameters (the $\\ln \\nu$ here) and ascent on the multipliers (the $\\mu$ and $\\omega_k$ here). For numerical stability, it is suggested to add an $L_2$-regulation.\n",
    "\n",
    "For example, consider scalar functions $f$ and $g$ where $f$ is lower bounded. If you want to minimize $f(x)$ with constraint $g(x) = 0$, then the loss function will be\n",
    "\n",
    "$$ L(x, \\mu) = f(x) + \\mu g(x), $$\n",
    "\n",
    "where $\\mu$ is the Lagrangian multiplier. Then, optimize the $x$ along the direction\n",
    "\n",
    "$$ \\dot{x}^a = -\\nabla^a L(x, \\mu) = -\\nabla^a f(x) - \\mu \\nabla^a g(x), $$\n",
    "\n",
    "where the $\\nabla$ is taken on $x$ only. And optimize the $\\mu$ along the direction\n",
    "\n",
    "$$ \\dot{\\mu} = {\\color{red}+} \\partial_{\\mu} L(x, \\mu) = g(x). $$\n",
    "\n",
    "Indeed, by taking time derivative, we find\n",
    "\n",
    "$$ \\ddot{x}^a + \\left( \\nabla^a \\nabla_b f(x) + \\mu \\nabla^a \\nabla_b g(x) \\right) \\dot{x}^b + \\nabla^a \\left( \\frac{1}{2} g^2(x) \\right) = 0. $$\n",
    "\n",
    "Analogy to the damped mechanic system, we recognize that the $A^a_b(x) := \\nabla^a \\nabla_b f(x) + \\mu \\nabla^a \\nabla_b g(x)$ term is a friction coefficient and $g^2(x)$ a potential. So, the energy is $E(x) := (1/2) \\dot{x}^2 + (1/2) g^2(x)$, and because of friction, the energy loss rate is $\\dot{E}(x) = -A_{a b}(x) \\dot{x}^a \\dot{x}^b$. So, to ensure that the energy losses, $A(x)$ has to be positive definite, at least being positive definite near the minimum. This is true for $\\nabla^a \\nabla_b f(x)$ since $f$ is lower bounded. So, we have to restrict the scale of $g$ such that $A$ is positive definite. To do so, we add an $L_2$-regulation for $g(x)$, that is, a term $c g^2(x)$ for a large enough positive constant $c$.\n",
    "\n",
    "For inequal constraints, like $h(x) \\ge 0$, we can add an auxiliary parameter $z$ and set the $g$ as $h(x) - z^2$. In this way, when $g = 0$, $h(x) \\ge 0$ is fulfilled. Now, the loss function becomes $L(x, z, \\mu) = f(x) + \\mu \\left( h(x) - z^2 \\right)$. The $z$ is optimized in the same way as $x$, that is $\\dot{z} = -\\nabla_z L(x, z, \\mu) = 2 \\mu z$. Remark that when $z = 0$, $\\dot{z} = 0$ too. Thus $z$ will not be updated and keeps vanishing. This is not what we want. So, at least, $z$ shall not be initialized as $0$ in training."
   ]
  },
  {
   "cell_type": "code",
   "execution_count": 8,
   "id": "52a7d9b1-e016-44d6-b11e-7eff090e68b6",
   "metadata": {},
   "outputs": [],
   "source": [
    "def get_train_step(optimizer, l2):\n",
    "    step = tf.Variable(0, dtype=tf.int32, trainable=False)\n",
    "    l2 = tf.convert_to_tensor(l2)\n",
    "\n",
    "    @tf.function\n",
    "    def train_step(log_nu, z, mu, omega):\n",
    "        batch_size = tf.cast(tf.shape(log_nu)[0], log_nu.dtype)\n",
    "\n",
    "        with tf.GradientTape() as tape:\n",
    "            objective, constraints, loss = get_loss(log_nu, z, mu, omega)\n",
    "            l2_regulaition = l2 * sum(\n",
    "                tf.reduce_sum(tf.square(c)) / batch_size\n",
    "                for c in constraints)\n",
    "            loss += l2_regulaition\n",
    "\n",
    "        # Compute gradients\n",
    "        vars = [log_nu, z, mu, omega]\n",
    "        grads = tape.gradient(loss, vars, unconnected_gradients='zero')\n",
    "\n",
    "        # Descent for parameters and ascent for multipliers:\n",
    "        grads_and_vars = []\n",
    "        for i, var in enumerate(vars):\n",
    "            if i < 2:\n",
    "                grads_and_vars.append((grads[i], vars[i]))\n",
    "            else:\n",
    "                grads_and_vars.append((-grads[i], vars[i]))\n",
    "\n",
    "        optimizer.apply_gradients(grads_and_vars)\n",
    "        check_nan(vars)\n",
    "        step.assign_add(1)\n",
    "        return objective, constraints, loss, grads_and_vars\n",
    "\n",
    "    return train_step, step\n",
    "\n",
    "def check_nan(xs):\n",
    "    for x in xs:\n",
    "        try:\n",
    "            tf.debugging.check_numerics(x, message='')\n",
    "        except Exception as e:\n",
    "            raise ValueError('NaN value.')"
   ]
  },
  {
   "cell_type": "markdown",
   "id": "04aab122-a5c8-48c6-8853-2338b7ebd377",
   "metadata": {},
   "source": [
    "## Training"
   ]
  },
  {
   "cell_type": "code",
   "execution_count": 9,
   "id": "3577792b-2678-4513-b7b3-a7d742f040f3",
   "metadata": {},
   "outputs": [],
   "source": [
    "log_nu = tf.Variable(tf.random.uniform([SAMPLES, LEVELS], np.log(5), np.log(6)))\n",
    "z = tf.Variable(tf.random.uniform([SAMPLES, LEVELS], 0.5, 1.))  # z shall not be zero.\n",
    "mu = tf.Variable(tf.zeros([SAMPLES, 1]))\n",
    "omega = tf.Variable(tf.zeros([SAMPLES, LEVELS]))\n",
    "optimizer = keras.optimizers.adam_v2.Adam(1e-4)\n",
    "train_step, step = get_train_step(optimizer, 1e-1)"
   ]
  },
  {
   "cell_type": "code",
   "execution_count": 10,
   "id": "cd37f0c9-c281-4b05-819e-30a3c4f7a08c",
   "metadata": {
    "scrolled": true
   },
   "outputs": [
    {
     "data": {
      "text/plain": [
       "(<tf.Tensor: shape=(100,), dtype=float32, numpy=\n",
       " array([26.04026 , 25.954744, 26.220478, 25.794167, 26.486235, 26.015703,\n",
       "        25.991463, 26.040861, 25.99049 , 25.900124, 26.179926, 26.107273,\n",
       "        25.747591, 25.88264 , 26.384985, 26.070627, 26.234747, 25.678675,\n",
       "        25.930687, 25.837082, 26.247297, 25.899788, 26.017614, 25.97602 ,\n",
       "        25.699648, 26.124067, 26.02079 , 25.875097, 26.250225, 26.216038,\n",
       "        26.153454, 25.99244 , 26.613857, 25.972252, 26.449385, 25.47783 ,\n",
       "        25.759747, 26.020433, 25.935827, 26.717916, 25.735058, 26.11999 ,\n",
       "        25.683928, 26.63944 , 25.981615, 25.764881, 26.185299, 26.199173,\n",
       "        25.691593, 25.346802, 26.334448, 25.97376 , 26.2744  , 26.135265,\n",
       "        26.6374  , 26.66961 , 26.066694, 25.697266, 26.029554, 25.881554,\n",
       "        26.293074, 26.118334, 26.371172, 25.7236  , 26.207338, 25.933664,\n",
       "        26.187006, 25.771976, 26.486364, 25.922901, 25.836155, 26.149204,\n",
       "        26.081842, 26.21819 , 26.308243, 25.90195 , 26.21931 , 26.200493,\n",
       "        25.908592, 25.977654, 26.070002, 25.916138, 26.299032, 26.158054,\n",
       "        26.246359, 26.075506, 25.472607, 25.750202, 26.391026, 26.199884,\n",
       "        25.679823, 25.68928 , 26.797821, 26.020054, 25.962725, 26.572504,\n",
       "        26.470882, 25.655619, 26.414612, 25.923307], dtype=float32)>,\n",
       " [<tf.Tensor: shape=(100,), dtype=float32, numpy=\n",
       "  array([-13.023399 , -13.064617 , -12.888847 , -13.181107 , -12.7013645,\n",
       "         -13.01787  , -13.05294  , -13.01445  , -13.03764  , -13.112505 ,\n",
       "         -12.923647 , -12.971046 , -13.2182045, -13.109896 , -12.777996 ,\n",
       "         -12.9907   , -12.874088 , -13.255959 , -13.092388 , -13.148516 ,\n",
       "         -12.881327 , -13.101461 , -13.020796 , -13.060816 , -13.246664 ,\n",
       "         -12.959675 , -13.040298 , -13.118626 , -12.8828945, -12.88353  ,\n",
       "         -12.928192 , -13.053534 , -12.616367 , -13.0598755, -12.7420635,\n",
       "         -13.399467 , -13.1977825, -13.024471 , -13.073826 , -12.544325 ,\n",
       "         -13.209415 , -12.972345 , -13.262505 , -12.596342 , -13.062773 ,\n",
       "         -13.195072 , -12.90741  , -12.90971  , -13.25732  , -13.488487 ,\n",
       "         -12.8008995, -13.052925 , -12.849548 , -12.954836 , -12.6210575,\n",
       "         -12.593138 , -12.987003 , -13.241871 , -13.018711 , -13.128885 ,\n",
       "         -12.837103 , -12.965376 , -12.788801 , -13.231886 , -12.902029 ,\n",
       "         -13.085861 , -12.924631 , -13.199081 , -12.701588 , -13.091106 ,\n",
       "         -13.157724 , -12.939371 , -12.988249 , -12.886387 , -12.839657 ,\n",
       "         -13.0931835, -12.88726  , -12.912998 , -13.102238 , -13.063454 ,\n",
       "         -12.9833355, -13.103056 , -12.840019 , -12.933516 , -12.8843155,\n",
       "         -12.983393 , -13.389187 , -13.204922 , -12.781546 , -12.898666 ,\n",
       "         -13.257374 , -13.26334  , -12.4932785, -13.039171 , -13.055101 ,\n",
       "         -12.646561 , -12.719772 , -13.26684  , -12.755007 , -13.091465 ],\n",
       "        dtype=float32)>,\n",
       "  <tf.Tensor: shape=(100, 10), dtype=float32, numpy=\n",
       "  array([[1.2224178 , 0.83628386, 1.2074835 , 1.1687183 , 1.4239223 ,\n",
       "          1.3239915 , 0.72332627, 1.2999651 , 1.1502645 , 1.4247614 ],\n",
       "         [1.3230287 , 1.3615413 , 0.8221295 , 1.2343373 , 1.4050987 ,\n",
       "          1.5021592 , 0.88584024, 1.0128798 , 1.1118615 , 1.3615088 ],\n",
       "         [1.2149693 , 1.0741495 , 1.4361049 , 1.267914  , 1.2513576 ,\n",
       "          1.0388193 , 1.2526549 , 0.92756295, 1.2265884 , 1.1724567 ],\n",
       "         [1.3653315 , 1.1580985 , 0.8791531 , 1.2358278 , 1.3481419 ,\n",
       "          0.785346  , 1.3051332 , 0.9970054 , 1.0912027 , 0.9221067 ],\n",
       "         [1.4671816 , 1.5032767 , 1.024951  , 0.87093645, 1.386482  ,\n",
       "          1.257535  , 1.0489575 , 0.8967255 , 1.3652619 , 0.7926918 ],\n",
       "         [1.4680972 , 1.1572102 , 1.1095922 , 0.8302423 , 0.92304844,\n",
       "          0.7244881 , 1.1116174 , 0.78188306, 1.1928393 , 1.1408789 ],\n",
       "         [1.2249676 , 1.1662899 , 1.091624  , 1.3346527 , 1.5175793 ,\n",
       "          0.7241748 , 1.2344153 , 1.0874355 , 0.8413046 , 1.3307986 ],\n",
       "         [1.133751  , 1.2171158 , 1.4289889 , 0.71496594, 1.4805001 ,\n",
       "          1.2737374 , 1.142702  , 1.426794  , 1.2589829 , 0.75443316],\n",
       "         [0.8579059 , 1.1774622 , 1.1073829 , 0.9574541 , 0.89729816,\n",
       "          0.6950621 , 0.97191435, 1.5065656 , 0.79188967, 0.8141297 ],\n",
       "         [0.76406884, 1.4464171 , 1.361527  , 1.2715244 , 1.0392187 ,\n",
       "          1.300161  , 1.4312123 , 1.0362304 , 0.89807194, 0.65676206],\n",
       "         [0.7636672 , 0.77627414, 1.1155063 , 1.229282  , 1.1880958 ,\n",
       "          1.1541021 , 1.0780795 , 1.0489095 , 1.4359874 , 1.1981517 ],\n",
       "         [1.2101381 , 1.0886587 , 1.0206096 , 1.0977643 , 1.0252492 ,\n",
       "          1.3881352 , 1.2658461 , 1.4538372 , 1.277931  , 0.8156907 ],\n",
       "         [1.1434498 , 1.2632064 , 1.3552921 , 1.0715938 , 1.1563315 ,\n",
       "          1.1147213 , 1.3312738 , 1.360205  , 1.237062  , 1.16077   ],\n",
       "         [1.0896528 , 1.4164542 , 0.8640383 , 1.4536473 , 0.8411815 ,\n",
       "          0.8923288 , 1.1129909 , 0.8081403 , 0.8498621 , 1.1629515 ],\n",
       "         [1.2712638 , 1.130081  , 1.1400213 , 1.4059274 , 1.1593809 ,\n",
       "          1.0661032 , 1.225517  , 0.9109292 , 0.9501847 , 0.99339545],\n",
       "         [1.169913  , 1.3875304 , 0.93240446, 1.3143001 , 0.98760486,\n",
       "          1.2321675 , 1.290188  , 1.4675671 , 1.0770705 , 1.0554055 ],\n",
       "         [1.4861355 , 1.157206  , 0.86720806, 1.0231826 , 0.8212326 ,\n",
       "          1.2099488 , 1.3633935 , 1.4300753 , 0.8752481 , 0.70392305],\n",
       "         [1.2241833 , 0.63138324, 1.0448266 , 0.8635448 , 1.1337221 ,\n",
       "          1.1998425 , 1.3663397 , 0.71030945, 1.120967  , 1.494238  ],\n",
       "         [0.93378836, 1.4127632 , 1.0979139 , 0.7219918 , 0.9913799 ,\n",
       "          1.4626925 , 1.1894335 , 1.4017801 , 0.78973323, 0.9521559 ],\n",
       "         [1.1308682 , 0.95110744, 1.1673725 , 1.1582731 , 1.2485294 ,\n",
       "          1.2535298 , 1.1374367 , 1.4299811 , 1.0812852 , 1.1068096 ],\n",
       "         [0.89718056, 0.9378288 , 0.8486132 , 1.175765  , 1.2795244 ,\n",
       "          0.82537097, 1.0789504 , 1.134075  , 1.0232587 , 1.4211059 ],\n",
       "         [1.1245036 , 0.9618163 , 1.3231689 , 1.4498268 , 1.4418197 ,\n",
       "          0.9757651 , 0.9590984 , 1.0220326 , 1.3735605 , 1.4370619 ],\n",
       "         [1.3277586 , 1.3876606 , 1.4177896 , 0.9254871 , 0.8995599 ,\n",
       "          0.80197865, 1.148121  , 0.8365072 , 1.1728878 , 1.0821819 ],\n",
       "         [0.95419693, 1.1020426 , 0.98005426, 1.2954051 , 1.3623941 ,\n",
       "          1.1777647 , 1.0937221 , 1.1525116 , 1.202949  , 0.9342854 ],\n",
       "         [1.2911279 , 0.9135212 , 1.2883854 , 1.0744877 , 1.1966323 ,\n",
       "          1.3080182 , 1.2855146 , 0.856193  , 1.2668473 , 1.1255524 ],\n",
       "         [0.71122205, 1.0819304 , 1.3526961 , 1.0588806 , 1.4029354 ,\n",
       "          0.86218274, 1.4375424 , 0.7920924 , 1.1870446 , 0.96959466],\n",
       "         [1.2628797 , 0.925772  , 1.4023423 , 0.77682203, 0.7943526 ,\n",
       "          1.4061975 , 1.2653172 , 0.90907055, 1.2973801 , 0.7986042 ],\n",
       "         [1.1741855 , 0.96313006, 1.0148131 , 1.1585268 , 1.2395858 ,\n",
       "          0.80489314, 1.3709382 , 0.85830355, 1.2696214 , 1.0599923 ],\n",
       "         [1.1892482 , 0.84213424, 1.3763015 , 1.4393337 , 1.4151206 ,\n",
       "          0.8352585 , 1.2681407 , 1.2320468 , 1.4215765 , 1.3722619 ],\n",
       "         [1.0195584 , 0.8435167 , 1.3054374 , 1.152649  , 1.3150461 ,\n",
       "          0.86228293, 1.1103885 , 0.9245682 , 1.3312032 , 0.91228515],\n",
       "         [1.1591077 , 1.373664  , 0.94505215, 1.0564463 , 1.2697431 ,\n",
       "          1.2012839 , 1.3484743 , 1.4417994 , 1.3340021 , 1.3961712 ],\n",
       "         [1.3725376 , 1.022992  , 0.72698706, 1.2146825 , 1.1125727 ,\n",
       "          0.71851254, 1.2491912 , 1.0254376 , 1.5014764 , 1.4922174 ],\n",
       "         [1.0539782 , 1.3872452 , 1.2258475 , 1.2975211 , 1.044017  ,\n",
       "          1.145998  , 1.4535712 , 1.1336968 , 1.5052347 , 0.94442147],\n",
       "         [0.9267937 , 0.9806821 , 1.3118159 , 1.2180238 , 0.81065875,\n",
       "          1.4014164 , 0.80862   , 0.8441235 , 0.8471186 , 1.3459243 ],\n",
       "         [1.0239787 , 1.0425653 , 1.2290139 , 1.2913115 , 1.4528012 ,\n",
       "          1.4130486 , 1.2946143 , 0.8848135 , 1.2512083 , 1.4999127 ],\n",
       "         [0.6511967 , 1.1680564 , 1.1125469 , 0.7825494 , 1.3038476 ,\n",
       "          0.76152873, 1.2691488 , 0.74386525, 0.9794732 , 0.8184073 ],\n",
       "         [1.4606906 , 1.3092256 , 0.8739596 , 1.21153   , 1.2464534 ,\n",
       "          1.3368086 , 1.2914447 , 0.789443  , 0.9832883 , 0.9293196 ],\n",
       "         [1.118884  , 1.3553543 , 1.0531839 , 1.2564945 , 1.2648607 ,\n",
       "          1.464136  , 1.344164  , 1.1974306 , 1.3379817 , 1.3732783 ],\n",
       "         [0.9736765 , 1.1452055 , 1.3007485 , 1.0569885 , 1.2533183 ,\n",
       "          0.8587455 , 1.1286352 , 1.3366102 , 1.2634449 , 1.3376861 ],\n",
       "         [1.3234859 , 0.8159893 , 1.3757701 , 1.1367095 , 1.4018645 ,\n",
       "          0.96398914, 1.3419914 , 1.3540199 , 1.173397  , 1.1329508 ],\n",
       "         [1.3172408 , 0.7141287 , 0.749236  , 0.7506702 , 1.2220992 ,\n",
       "          1.1587512 , 1.1928828 , 1.3427563 , 1.1196249 , 0.91336   ],\n",
       "         [1.3492594 , 1.1764603 , 1.2558107 , 1.4242668 , 1.4332337 ,\n",
       "          1.0581986 , 0.9130267 , 0.81562185, 1.1056455 , 1.1590085 ],\n",
       "         [1.2336208 , 1.2829711 , 1.2584776 , 1.1540608 , 1.366679  ,\n",
       "          1.2159926 , 1.2208214 , 1.2873924 , 1.0952585 , 1.3946745 ],\n",
       "         [1.0190358 , 1.2601974 , 0.84014845, 0.92176026, 1.0426433 ,\n",
       "          0.83260256, 0.9813171 , 1.1787829 , 0.91764104, 1.2159897 ],\n",
       "         [1.3854451 , 1.3532493 , 0.86178416, 0.69299793, 1.3166246 ,\n",
       "          1.3603536 , 1.1315451 , 0.769346  , 1.1060973 , 0.75109154],\n",
       "         [1.4330599 , 0.81577677, 1.3367095 , 1.1425337 , 1.2561934 ,\n",
       "          1.3562622 , 1.1781423 , 0.72907156, 0.9083418 , 1.1354351 ],\n",
       "         [0.8420225 , 1.3230436 , 0.96213764, 0.774934  , 1.2470942 ,\n",
       "          1.0944226 , 1.4663942 , 1.06411   , 1.2053679 , 1.4299421 ],\n",
       "         [0.65190697, 1.3187397 , 1.3488128 , 1.4598445 , 1.4666471 ,\n",
       "          1.3261127 , 1.1657879 , 1.0326319 , 1.2052407 , 1.441077  ],\n",
       "         [1.069247  , 1.3417648 , 1.3999124 , 0.79036134, 1.0265102 ,\n",
       "          0.9000346 , 1.2752476 , 1.0249144 , 0.9165753 , 1.466188  ],\n",
       "         [1.1202092 , 0.8459768 , 1.1643853 , 0.728018  , 1.3312448 ,\n",
       "          0.89963925, 0.93524647, 1.0548711 , 1.4266645 , 1.0985696 ],\n",
       "         [1.0355525 , 0.90056545, 0.75877094, 1.1648443 , 0.889569  ,\n",
       "          1.2429664 , 0.8294365 , 0.91104835, 1.0152221 , 1.3415604 ],\n",
       "         [1.1829721 , 0.7599141 , 0.9908777 , 1.0560551 , 0.64780277,\n",
       "          1.398973  , 0.7188762 , 1.2124425 , 0.9908153 , 0.9799656 ],\n",
       "         [1.2991326 , 0.8345135 , 1.0477133 , 1.2646092 , 1.4894056 ,\n",
       "          0.92184484, 0.7031024 , 0.80412924, 0.7779522 , 1.1476674 ],\n",
       "         [1.3325118 , 0.8481066 , 0.72161305, 1.23225   , 0.8653747 ,\n",
       "          1.2931001 , 1.0473564 , 0.99641275, 1.35057   , 1.4513127 ],\n",
       "         [0.765876  , 0.81926614, 1.3088824 , 1.226794  , 1.0281808 ,\n",
       "          1.0661278 , 1.010698  , 1.0030948 , 1.1870406 , 1.1066554 ],\n",
       "         [0.9833044 , 0.7338392 , 0.92766386, 1.2102938 , 0.9792406 ,\n",
       "          1.3650664 , 1.3869319 , 1.2143538 , 1.4590144 , 1.2928091 ],\n",
       "         [1.4053848 , 1.5153086 , 1.0236325 , 0.7682018 , 1.2956432 ,\n",
       "          1.2623373 , 1.0372518 , 1.0522795 , 1.2930483 , 1.3492179 ],\n",
       "         [1.3890333 , 0.8930029 , 0.70069385, 1.3025151 , 0.752369  ,\n",
       "          0.70335835, 1.1842701 , 1.2579526 , 1.098399  , 0.7229501 ],\n",
       "         [1.0022227 , 1.3633893 , 1.0894518 , 1.1273978 , 0.89646673,\n",
       "          1.3695971 , 1.3443652 , 1.4358768 , 0.8501408 , 0.8753093 ],\n",
       "         [1.216768  , 1.403877  , 1.2209711 , 1.4074132 , 0.8058274 ,\n",
       "          0.78424495, 0.9713311 , 1.2627407 , 1.4786328 , 0.6638408 ],\n",
       "         [1.2883443 , 0.7978624 , 1.413721  , 1.276469  , 0.9794202 ,\n",
       "          0.8698853 , 1.0476644 , 1.0269767 , 1.3894104 , 1.4462885 ],\n",
       "         [0.8415521 , 0.867215  , 1.0218645 , 0.97554827, 1.2239801 ,\n",
       "          0.9734176 , 1.2841799 , 1.1564316 , 1.3718274 , 0.7345928 ],\n",
       "         [1.214445  , 0.8987441 , 1.3155706 , 1.405139  , 1.0306726 ,\n",
       "          1.1166005 , 0.9624298 , 1.0272319 , 1.4386086 , 1.2470306 ],\n",
       "         [0.6935669 , 0.7867627 , 0.9418317 , 0.8635858 , 1.2877834 ,\n",
       "          1.0584905 , 1.1168306 , 0.94093263, 1.3496221 , 1.3655562 ],\n",
       "         [1.0715419 , 1.2813102 , 1.3155723 , 1.130412  , 1.2864895 ,\n",
       "          1.0224257 , 1.2507075 , 1.4704193 , 1.044216  , 0.89548993],\n",
       "         [1.1173108 , 0.94234604, 1.3378185 , 1.4472218 , 1.12413   ,\n",
       "          0.9301416 , 0.7703131 , 1.1163019 , 0.8227426 , 1.3307887 ],\n",
       "         [1.1545635 , 1.3252552 , 1.2814522 , 1.2446376 , 1.4759555 ,\n",
       "          1.431988  , 1.2947276 , 1.1698036 , 0.97035336, 1.3246922 ],\n",
       "         [0.9664679 , 0.967046  , 0.91009843, 1.2215215 , 0.9603178 ,\n",
       "          1.4758259 , 1.0473895 , 0.91688937, 1.2546122 , 0.7363936 ],\n",
       "         [1.0886595 , 1.2865051 , 0.771653  , 1.1031787 , 1.2553085 ,\n",
       "          1.0747292 , 1.4513502 , 1.4465983 , 0.71844405, 1.1872997 ],\n",
       "         [0.91627216, 1.3234162 , 1.1225727 , 1.1220922 , 1.3068613 ,\n",
       "          1.2289077 , 1.3050005 , 0.73174995, 0.8674015 , 1.4128388 ],\n",
       "         [1.2133659 , 0.7258838 , 1.2986242 , 0.8142662 , 0.9997138 ,\n",
       "          1.2633789 , 1.3060639 , 1.4904499 , 1.2138696 , 1.2085661 ],\n",
       "         [0.8351829 , 1.2829531 , 1.3280513 , 0.97332335, 1.1706477 ,\n",
       "          1.1516806 , 1.382253  , 0.889422  , 1.0989859 , 1.1249759 ],\n",
       "         [1.3252176 , 1.1480374 , 0.81709605, 1.1483821 , 1.1115352 ,\n",
       "          0.8103706 , 1.3453077 , 1.1455396 , 1.165017  , 1.3778671 ],\n",
       "         [0.7910313 , 1.2845014 , 1.2808088 , 1.4051638 , 0.8313484 ,\n",
       "          1.3206502 , 0.7089484 , 1.5049742 , 0.9238108 , 1.2839041 ],\n",
       "         [1.1736077 , 1.0959011 , 1.2943277 , 1.2077168 , 1.2236931 ,\n",
       "          0.8537603 , 1.382812  , 0.87883145, 1.3446567 , 1.2813504 ],\n",
       "         [1.1811129 , 1.236341  , 0.9052365 , 0.63805985, 0.9555348 ,\n",
       "          1.1268132 , 1.4239404 , 1.022786  , 1.1037761 , 1.1416354 ],\n",
       "         [1.2457731 , 0.8529656 , 1.0726023 , 0.71934664, 1.1048324 ,\n",
       "          1.2924454 , 1.1402009 , 1.1026137 , 0.9777757 , 1.3000376 ],\n",
       "         [0.87692827, 1.0198898 , 0.965777  , 1.0628469 , 0.87496895,\n",
       "          1.0511546 , 0.84745836, 1.4349461 , 1.0260785 , 1.21752   ],\n",
       "         [0.9793128 , 0.91378456, 1.3864845 , 0.7824043 , 1.2016616 ,\n",
       "          1.4514215 , 1.0816578 , 0.8014896 , 1.3284502 , 0.7554247 ],\n",
       "         [1.340279  , 1.0093157 , 1.3661859 , 1.2581472 , 1.3884974 ,\n",
       "          1.025897  , 1.2639081 , 1.0241401 , 1.4355192 , 1.0347991 ],\n",
       "         [1.2150761 , 0.8689073 , 1.2643496 , 1.2938917 , 1.1202743 ,\n",
       "          0.7759251 , 0.916966  , 1.0915917 , 1.345702  , 0.8769445 ],\n",
       "         [0.98818856, 1.0430918 , 0.9235094 , 1.1540921 , 1.4671234 ,\n",
       "          1.3381143 , 1.4400067 , 1.2003739 , 1.1498291 , 1.4369711 ],\n",
       "         [1.1248895 , 1.4622532 , 0.7719419 , 1.0560167 , 1.3816792 ,\n",
       "          1.1581542 , 1.3479402 , 1.1277704 , 1.3810594 , 1.3247886 ],\n",
       "         [0.9046091 , 1.0861936 , 0.7922862 , 0.8282676 , 1.4615608 ,\n",
       "          1.2222096 , 1.1030977 , 1.484119  , 1.0937579 , 1.153749  ],\n",
       "         [1.0274868 , 1.2483659 , 1.2231412 , 1.1289228 , 1.414104  ,\n",
       "          1.4084052 , 0.9662992 , 1.1376246 , 1.4498608 , 0.9046488 ],\n",
       "         [1.0885427 , 1.3255911 , 1.348112  , 1.4084582 , 1.2819808 ,\n",
       "          1.2285799 , 1.3469412 , 0.6935976 , 1.2564973 , 0.91678613],\n",
       "         [1.3931255 , 1.1899812 , 1.2033556 , 0.9782789 , 0.8373796 ,\n",
       "          1.2743177 , 1.1229367 , 0.78213185, 0.9640107 , 0.77098536],\n",
       "         [0.8390825 , 0.9008601 , 1.4083929 , 1.1061943 , 0.8510477 ,\n",
       "          0.9317053 , 1.3620646 , 0.85704714, 0.79338396, 0.98558444],\n",
       "         [1.3077735 , 1.2544408 , 1.0047293 , 1.4051907 , 0.99448013,\n",
       "          1.3850999 , 1.3998379 , 1.2188951 , 1.3033946 , 1.0434139 ],\n",
       "         [1.3371831 , 0.8558231 , 1.2768817 , 1.4647025 , 0.962692  ,\n",
       "          1.4460641 , 1.0843248 , 0.8472341 , 1.5180311 , 0.8280406 ],\n",
       "         [0.897986  , 1.4436498 , 0.8685337 , 0.84684783, 1.1315771 ,\n",
       "          1.2791909 , 1.339664  , 0.7784715 , 0.93109405, 1.3782629 ],\n",
       "         [1.2349322 , 1.2518758 , 0.9118143 , 1.0901542 , 1.0030415 ,\n",
       "          1.3887492 , 1.3814609 , 1.3521507 , 1.026629  , 1.1647494 ],\n",
       "         [1.4991907 , 0.7970337 , 1.1470509 , 0.85382396, 1.0636313 ,\n",
       "          1.4235427 , 1.1096082 , 1.2073301 , 1.4492533 , 1.2602198 ],\n",
       "         [0.8276375 , 0.98112845, 0.88152736, 0.8570836 , 1.0590051 ,\n",
       "          1.4561486 , 1.3003175 , 0.8101478 , 1.2219557 , 1.0444314 ],\n",
       "         [1.0863304 , 1.3570043 , 1.3682787 , 1.4243042 , 1.242753  ,\n",
       "          1.3319054 , 1.0999806 , 0.864714  , 0.98188365, 1.386517  ],\n",
       "         [1.3590739 , 1.0283328 , 0.8863976 , 1.2286956 , 0.7105802 ,\n",
       "          1.4721458 , 0.89178234, 0.9705661 , 0.73492044, 1.2470579 ],\n",
       "         [1.0336039 , 1.3434105 , 1.3972231 , 0.77622694, 1.506515  ,\n",
       "          1.2777531 , 1.2966869 , 1.0144303 , 1.367598  , 0.98587275],\n",
       "         [0.69642746, 0.98689014, 0.971902  , 1.2770168 , 1.0887499 ,\n",
       "          0.8884625 , 1.0300198 , 0.7834438 , 1.1301315 , 1.122793  ],\n",
       "         [0.7560272 , 1.1970031 , 1.4256004 , 0.87511015, 1.0881801 ,\n",
       "          0.7957871 , 1.1320915 , 1.4482199 , 1.3008754 , 1.2392546 ],\n",
       "         [1.1533144 , 1.1450588 , 1.0212207 , 1.0633616 , 1.1806407 ,\n",
       "          1.3511949 , 1.3528577 , 1.4734926 , 1.3783633 , 1.3466971 ]],\n",
       "        dtype=float32)>])"
      ]
     },
     "execution_count": 10,
     "metadata": {},
     "output_type": "execute_result"
    }
   ],
   "source": [
    "objective, constraints, _, _ = train_step(log_nu, z, mu, omega)\n",
    "objective, constraints"
   ]
  },
  {
   "cell_type": "code",
   "execution_count": 11,
   "id": "4fc24899-2e20-4b24-8b6e-12308560848b",
   "metadata": {},
   "outputs": [
    {
     "name": "stderr",
     "output_type": "stream",
     "text": [
      "100%|██████████████████████████████████████████████████| 500000/500000 [07:47<00:00, 1069.60it/s]\n"
     ]
    }
   ],
   "source": [
    "objective_logs = []\n",
    "loss_logs = []\n",
    "for i in tqdm(range(500000)):\n",
    "    objective, _, loss, _ = train_step(log_nu, z, mu, omega)\n",
    "    objective_logs.append(objective.numpy().mean())\n",
    "    loss_logs.append(loss.numpy())"
   ]
  },
  {
   "cell_type": "code",
   "execution_count": 12,
   "id": "bbb46149-3b49-41c0-8136-ee8489180d7f",
   "metadata": {},
   "outputs": [
    {
     "data": {
      "text/plain": [
       "<tf.Variable 'Variable:0' shape=() dtype=int32, numpy=500001>"
      ]
     },
     "execution_count": 12,
     "metadata": {},
     "output_type": "execute_result"
    }
   ],
   "source": [
    "step"
   ]
  },
  {
   "cell_type": "code",
   "execution_count": 13,
   "id": "509b3102-c3d5-4472-ade0-8dc19f3baeb2",
   "metadata": {},
   "outputs": [
    {
     "data": {
      "image/png": "[encoded data removed]",
      "text/plain": [
       "<Figure size 640x480 with 1 Axes>"
      ]
     },
     "metadata": {},
     "output_type": "display_data"
    }
   ],
   "source": [
    "plt.plot(objective_logs, label='expected objective', alpha=0.5)\n",
    "plt.plot(loss_logs, label='loss', alpha=0.5)\n",
    "plt.xlabel('training steps')\n",
    "plt.legend()\n",
    "plt.show()"
   ]
  },
  {
   "cell_type": "markdown",
   "id": "fcba1bea-d6c0-40a3-b254-e0796bca0cf6",
   "metadata": {},
   "source": [
    "Let us check the optimization results:"
   ]
  },
  {
   "cell_type": "code",
   "execution_count": 14,
   "id": "4b0cbdac-290d-4499-8768-85a5a97e4e34",
   "metadata": {},
   "outputs": [],
   "source": [
    "objective, constraints, _ = get_loss(log_nu, z, mu, omega)"
   ]
  },
  {
   "cell_type": "code",
   "execution_count": 15,
   "id": "01f67547-d7ed-4f6f-a47d-6e085f3749e0",
   "metadata": {
    "scrolled": true
   },
   "outputs": [
    {
     "data": {
      "text/plain": [
       "(<tf.Tensor: shape=(), dtype=int64, numpy=75>,\n",
       " <tf.Tensor: shape=(), dtype=float32, numpy=45.30225>,\n",
       " [<tf.Tensor: shape=(), dtype=float32, numpy=0.11406326>,\n",
       "  <tf.Tensor: shape=(10,), dtype=float32, numpy=\n",
       "  array([ 0.00412798, -0.00792813,  0.00900555, -0.00129914, -0.00334477,\n",
       "         -0.01130676,  0.01172519, -0.01167583,  0.01165295,  0.00159693],\n",
       "        dtype=float32)>])"
      ]
     },
     "execution_count": 15,
     "metadata": {},
     "output_type": "execute_result"
    }
   ],
   "source": [
    "min_i = tf.argmin(objective)\n",
    "min_i, objective[min_i], [c[min_i] for c in constraints]"
   ]
  },
  {
   "cell_type": "markdown",
   "id": "a4234118-77a7-444a-850f-3b176e326410",
   "metadata": {},
   "source": [
    "And for checking fractal:"
   ]
  },
  {
   "cell_type": "code",
   "execution_count": 16,
   "id": "e7fe7734-be11-47a5-af17-c0c45c6f7ee6",
   "metadata": {
    "scrolled": true
   },
   "outputs": [
    {
     "data": {
      "text/plain": [
       "<tf.Tensor: shape=(10,), dtype=float32, numpy=\n",
       "array([4.4105387, 3.1527004, 2.8957572, 2.7736945, 2.779556 , 2.7685332,\n",
       "       2.8808079, 2.7465622, 2.8482168, 2.857697 ], dtype=float32)>"
      ]
     },
     "execution_count": 16,
     "metadata": {},
     "output_type": "execute_result"
    }
   ],
   "source": [
    "log_nu[min_i, :]"
   ]
  },
  {
   "cell_type": "code",
   "execution_count": 17,
   "id": "b8c1ab39-7ae4-47e0-9d3e-0f185ac20abd",
   "metadata": {},
   "outputs": [
    {
     "data": {
      "image/png": "[encoded data removed]",
      "text/plain": [
       "<Figure size 640x480 with 1 Axes>"
      ]
     },
     "metadata": {},
     "output_type": "display_data"
    }
   ],
   "source": [
    "plt.plot(log_nu[min_i, :], '.', label='$\\\\ln \\\\nu_k$')\n",
    "plt.xlabel('$k$')\n",
    "plt.legend()\n",
    "plt.show()"
   ]
  },
  {
   "cell_type": "markdown",
   "id": "9156d5e6-dc04-4194-a084-e3c4611dbb82",
   "metadata": {},
   "source": [
    "Fractal emerges, since the $\\ln \\nu_k$ are approximately equal for $k > 0$."
   ]
  }
 ],
 "metadata": {
  "kernelspec": {
   "display_name": ".venv",
   "language": "python",
   "name": ".venv"
  },
  "language_info": {
   "codemirror_mode": {
    "name": "ipython",
    "version": 3
   },
   "file_extension": ".py",
   "mimetype": "text/x-python",
   "name": "python",
   "nbconvert_exporter": "python",
   "pygments_lexer": "ipython3",
   "version": "3.11.6"
  }
 },
 "nbformat": 4,
 "nbformat_minor": 5
}
