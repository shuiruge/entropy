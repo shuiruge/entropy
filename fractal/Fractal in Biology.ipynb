{
 "cells": [
  {
   "cell_type": "markdown",
   "id": "6b2aaafb-cf13-4129-99f7-f5673e0bfe16",
   "metadata": {},
   "source": [
    "# Fractal in Biology\n",
    "\n",
    "This notebook makes numerical experiment on the emergence of fractal in nature. It is inspired by [West, et al. (1997)](https://www.science.org/doi/10.1126/science.276.5309.122). This paper concludes that fractal in biology results in the minimization of total energy cost. In the specific case considered by the authors, the mammalian circulatory systems, the fractal branching of capillary vessel naturally arises from reducing the energy cost of vessel circulation. This numerical experiment gives us some hint about how fractal emerges in nature.\n",
    "\n",
    "In this notebook, we adjust some strange assumptions in West's paper. We further apply the computation here to West's original assumptions, discussed in the notebook _Fractal in Biology (West 1997)_."
   ]
  },
  {
   "cell_type": "markdown",
   "id": "9f2a5cb5-403e-4f7e-92d0-8f6829501b5a",
   "metadata": {},
   "source": [
    "## Notations\n",
    "\n",
    "We follow the notations:\n",
    "\n",
    "- $C$: number of branching levels.\n",
    "- $k$: branching level, from $0$ to $C$.\n",
    "- $n_k$: number of branches at $k$ level.\n",
    "- $r_k$: radius of vessel at $k$ level.\n",
    "- $l_k$: length of vessel at $k$ level.\n",
    "- $\\nu_k$: $n_{k+1} / n_k$.\n",
    "- $\\rho_k$: $r_{k+1} / r_k$.\n",
    "- $\\lambda_k$: $l_{k+1} / l_k$."
   ]
  },
  {
   "cell_type": "markdown",
   "id": "5b28d388-e1b4-491e-85cb-fbca727e1d3d",
   "metadata": {},
   "source": [
    "## Assumptions"
   ]
  },
  {
   "cell_type": "markdown",
   "id": "719ac578-31ea-4353-996d-468fc98cfd73",
   "metadata": {},
   "source": [
    "The assumption that the properties of capillary are universal for all mammals implies that the $l_C$, and $r_C$ are fixed. Also, $n_0=1$. So, we have\n",
    "\n",
    "$$ l_k = \\frac{l_k}{l_{k+1}} \\cdots \\frac{l_{C-1}}{l_C} l_C = l_C \\lambda_k^{-1} \\cdots \\lambda_{C-1}^{-1} = l_C \\prod_{i=k}^{C-1} \\lambda_i^{-1}. $$\n",
    "\n",
    "The same,\n",
    "\n",
    "$$ r_k = r_C \\prod_{i=k}^{C-1} \\rho_i^{-1}. $$\n",
    "\n",
    "But,\n",
    "\n",
    "$$ n_k = n_0 \\frac{n_1}{n_0} \\cdots \\frac{n_k}{n_{k-1}} = \\prod_{i=0}^{k-1} \\nu_i. $$\n",
    "\n",
    "Based on assumption of area-preserving, we have that $n_k r_k^2$ is independent of $k$. This implies\n",
    "\n",
    "$$ \\rho_k = \\nu_k^{-1/2}. $$\n",
    "\n",
    "And by assumption of space-fulfilling, we have that $n_k l_k^3$ is independent of $k$. This implies\n",
    "\n",
    "$$ \\lambda_k = \\nu_k^{-1/3}. $$\n",
    "\n",
    "Because of these, the unique degree of freedom is the $\\nu$."
   ]
  },
  {
   "cell_type": "code",
   "execution_count": 1,
   "id": "499a5415-a2d3-4721-8f5f-d44401f92629",
   "metadata": {},
   "outputs": [
    {
     "name": "stderr",
     "output_type": "stream",
     "text": [
      "2024-03-03 20:24:28.002481: I tensorflow/core/platform/cpu_feature_guard.cc:182] This TensorFlow binary is optimized to use available CPU instructions in performance-critical operations.\n",
      "To enable the following instructions: SSE3 SSE4.1 SSE4.2 AVX AVX2 FMA, in other operations, rebuild TensorFlow with the appropriate compiler flags.\n"
     ]
    }
   ],
   "source": [
    "import numpy as np\n",
    "import tensorflow as tf\n",
    "from tensorflow.python import keras\n",
    "from tqdm import tqdm\n",
    "import matplotlib.pyplot as plt"
   ]
  },
  {
   "cell_type": "markdown",
   "id": "ffaf22ee-6157-4332-a86f-a32b7cf1e1ea",
   "metadata": {},
   "source": [
    "We use several samples in searching optimal parallelly. So, the $\\nu$, or for numerical stability $\\ln \\nu$, has tensor shape `[samples, levels]`."
   ]
  },
  {
   "cell_type": "code",
   "execution_count": 2,
   "id": "76e91d8f-7e3c-4881-847a-62d2c29e64a9",
   "metadata": {},
   "outputs": [],
   "source": [
    "EXPERIMENT = {\n",
    "    'samples': 100,\n",
    "    'levels': 10,\n",
    "}"
   ]
  },
  {
   "cell_type": "markdown",
   "id": "e04a0ba0-54fe-417c-bbb8-1fe05d7e6e1d",
   "metadata": {},
   "source": [
    "## Loss Function"
   ]
  },
  {
   "cell_type": "markdown",
   "id": "05193765-5627-4d4f-8c4c-2ba3fe031147",
   "metadata": {},
   "source": [
    "The quantity to be minimized is the total resistance of the vessel system. By [Hagen-Poiseuille equation](https://en.wikipedia.org/wiki/Hagen%E2%80%93Poiseuille_equation#Equation), we have the difference of pressure at level $k$, $\\Delta p_k = Q_k R_k$ where $Q_k$ represents the flow rate and $R_k := (8 \\mu l_k)/(\\pi r_k^4)$. Analogy to electricity, $\\Delta p_k$ corresponds to difference of potential $\\Delta V$, and $Q_k$ to current $I$. So, the $R_k$ is the resistance. At level $k$, the vessels are parallel. And for different levels, vessels are serial. So, the total resistance comes to be\n",
    "\n",
    "$$ R_b = \\sum_{k=0}^{C} \\frac{R_k}{n_k} = \\frac{8\\mu}{\\pi} \\sum_{k=0}^{C} \\frac{l_k}{r_k^4 n_k} = \\frac{8\\mu}{\\pi} \\frac{l_C}{r_C^4} \\sum_{k=0}^{C} \\left( \\prod_{i=k}^{C-1} \\frac{\\rho_i^4}{\\lambda_i} \\right) \\left( \\prod_{i=0}^{k-1} \\frac{1}{\\nu_i} \\right). $$\n",
    "\n",
    "Plugging into the relation between $\\rho$, $\\lambda$ and $\\nu$, we find\n",
    "\n",
    "$$ R_b = \\frac{8\\mu}{\\pi} \\frac{l_C}{r_C^4} \\sum_{k=0}^{C} \\left( \\prod_{i=k}^{C-1} \\nu_i^{-5/3} \\right) \\left( \\prod_{i=0}^{k-1} \\nu_i^{-1} \\right). $$\n",
    "\n",
    "For numerical stability, we consider\n",
    "\n",
    "$$ \\ln R_b = \\ln \\left( \\frac{8\\mu}{\\pi} \\frac{l_C}{r_C^4} \\right) + \\ln \\sum_{k=0}^{C} \\left( \\prod_{i=k}^{C-1} \\nu_i^{-5/3} \\right) \\left( \\prod_{i=0}^{k-1} \\nu_i^{-1} \\right). $$"
   ]
  },
  {
   "cell_type": "code",
   "execution_count": 3,
   "id": "12747b49-add2-412c-8534-9d3dc9ef0f31",
   "metadata": {},
   "outputs": [
    {
     "data": {
      "text/plain": [
       "<tf.Tensor: shape=(1,), dtype=float64, numpy=array([-5.94354631])>"
      ]
     },
     "execution_count": 3,
     "metadata": {},
     "output_type": "execute_result"
    }
   ],
   "source": [
    "def get_log_resistance(log_nu):\n",
    "    \"\"\"Omit the constant.\"\"\"\n",
    "    logits = []\n",
    "    for k in range(EXPERIMENT['levels']+1):\n",
    "        logit_k = (\n",
    "            -(5/3) * tf.reduce_sum(log_nu[:, k:], axis=1)\n",
    "            - tf.reduce_sum(log_nu[:, :k], axis=1)\n",
    "        )\n",
    "        logits.append(logit_k)\n",
    "    logits = tf.stack(logits, axis=1)\n",
    "    return tf.reduce_logsumexp(logits, axis=1)\n",
    "\n",
    "log_nu = np.log(2) * np.ones([1, EXPERIMENT['levels']])\n",
    "get_log_resistance(log_nu)"
   ]
  },
  {
   "cell_type": "markdown",
   "id": "476a4eb5-94af-4b72-b1c2-235d86426259",
   "metadata": {},
   "source": [
    "Because of the space-fulfilling assumption and the assumption that $l_C$ is invariant, the total volume of the mammal, $V_b$, is proportional to $n_C l_C$, which can be expressed as\n",
    "\n",
    "$$ \\ln V_b = \\ln l_C + \\ln n_C = \\ln l_C + \\sum_{k=0}^{C-1} \\ln \\nu_k. $$"
   ]
  },
  {
   "cell_type": "code",
   "execution_count": 4,
   "id": "95f72cfb-10fe-4934-bdc0-14ccac6bc342",
   "metadata": {},
   "outputs": [
    {
     "data": {
      "text/plain": [
       "<tf.Tensor: shape=(1,), dtype=float64, numpy=array([6.93147181])>"
      ]
     },
     "execution_count": 4,
     "metadata": {},
     "output_type": "execute_result"
    }
   ],
   "source": [
    "def get_log_volume(log_nu):\n",
    "    \"\"\"Omit the constant.\"\"\"\n",
    "    return tf.reduce_sum(log_nu, axis=1)\n",
    "\n",
    "get_log_volume(log_nu)"
   ]
  },
  {
   "cell_type": "markdown",
   "id": "7f2b7cb8-e7a0-4324-aced-be3086625cb3",
   "metadata": {},
   "source": [
    "Since $n_{k+1} \\ge n_k$, $\\nu_k$ shall be greater than unit. So, there is another constraint that, for each $k$,\n",
    "\n",
    "$$ \\ln \\nu_k \\ge 0. $$"
   ]
  },
  {
   "cell_type": "markdown",
   "id": "99beadb8-74a7-4f36-9577-4be6dc346058",
   "metadata": {},
   "source": [
    "Altogether, the loss function shall be\n",
    "\n",
    "$$ \\ln R_b(\\nu) + \\mu \\left( \\ln V_b(\\nu) - \\ln \\bar{V}_b \\right) + \\sum_{k=1}^{C-1} \\omega_k \\left( \\ln \\nu_k - z_k^2 \\right), $$\n",
    "\n",
    "for some observed values $\\bar{V}_b$ given."
   ]
  },
  {
   "cell_type": "markdown",
   "id": "4d1f87f4-ce5f-434a-8f7a-a8366c794b66",
   "metadata": {},
   "source": [
    "What is a proper value of $\\bar{V}_b$. It is natural to suppose that $n_{k+1}/n_k \\ge 2$. This means $\\bar{V}_b$ shall be greater than the volume given by $\\nu_k = 2$ for all $k$. And it shall not be too large, for numerical consideration. In fact, adult human has abount $10^{14}$ cells, so $n_C$ shall be smaller than this.\n",
    "\n",
    "In fact, it is sufficient for the optimized volume to approximate the order of $\\bar{V}_b$. We can regard this optimized volume as the real $\\bar{V}_b$. In other words, $\\bar{V}_b$ is used to determine the order, but not the accurate value."
   ]
  },
  {
   "cell_type": "code",
   "execution_count": 5,
   "id": "76529753-cb7f-4c76-a7b2-a36d9c05b289",
   "metadata": {},
   "outputs": [
    {
     "data": {
      "text/plain": [
       "(<tf.Tensor: shape=(1,), dtype=float64, numpy=array([6.93147181])>,\n",
       " 32.23619130191664)"
      ]
     },
     "execution_count": 5,
     "metadata": {},
     "output_type": "execute_result"
    }
   ],
   "source": [
    "least_log_volume = get_log_volume(np.log(2) * np.ones([1, EXPERIMENT['levels']]))\n",
    "most_log_volume = np.log(1e+14)\n",
    "least_log_volume, most_log_volume"
   ]
  },
  {
   "cell_type": "code",
   "execution_count": 6,
   "id": "7adcc3bf-fd48-4ff8-a5b9-18ab200e3d72",
   "metadata": {},
   "outputs": [],
   "source": [
    "EXPERIMENT['true_log_volume'] = 3e+1"
   ]
  },
  {
   "cell_type": "code",
   "execution_count": 7,
   "id": "dbcd535f-fa21-47ba-a728-ba7c42a34425",
   "metadata": {
    "scrolled": true
   },
   "outputs": [
    {
     "data": {
      "text/plain": [
       "(<tf.Tensor: shape=(1,), dtype=float64, numpy=array([-5.94354631])>,\n",
       " [<tf.Tensor: shape=(1,), dtype=float64, numpy=array([-23.06852819])>,\n",
       "  <tf.Tensor: shape=(1, 10), dtype=float64, numpy=\n",
       "  array([[-0.30685282, -0.30685282, -0.30685282, -0.30685282, -0.30685282,\n",
       "          -0.30685282, -0.30685282, -0.30685282, -0.30685282, -0.30685282]])>],\n",
       " <tf.Tensor: shape=(), dtype=float64, numpy=-8.55725194484913>)"
      ]
     },
     "execution_count": 7,
     "metadata": {},
     "output_type": "execute_result"
    }
   ],
   "source": [
    "def get_loss(log_nu, z, mu, omega):\n",
    "    objective = get_log_resistance(log_nu)\n",
    "    batch_size = tf.cast(tf.shape(log_nu)[0], log_nu.dtype)\n",
    "    loss = (\n",
    "        tf.reduce_sum(objective)\n",
    "        / batch_size  # average on samples.\n",
    "    )\n",
    "    constraints = []\n",
    "    for multiplier, constraint in [\n",
    "        (mu, get_log_volume(log_nu) - EXPERIMENT['true_log_volume']),\n",
    "        (omega, log_nu - tf.square(z)),\n",
    "        # other constraints......\n",
    "    ]:\n",
    "        loss += (\n",
    "            tf.reduce_sum(multiplier * constraint)\n",
    "            / batch_size  # also average on samples.\n",
    "        )\n",
    "        constraints.append(constraint)\n",
    "    return objective, constraints, loss\n",
    "\n",
    "z = tf.ones_like(log_nu)\n",
    "get_loss(log_nu, z, 0.1, 0.1)"
   ]
  },
  {
   "cell_type": "markdown",
   "id": "58c02dd3-e79d-4f3d-adda-0450249c5249",
   "metadata": {},
   "source": [
    "## Gradient Descent with Constraints\n",
    "\n",
    "The gradient descent algorithm with constraints is described in [Platt and Barr (1988)](https://papers.nips.cc/paper_files/paper/1987/file/a87ff679a2f3e71d9181a67b7542122c-Paper.pdf). Briefly, descent on the parameters (the $\\ln \\nu$ here) and ascent on the multipliers (the $\\mu$ and $\\omega_k$ here). For numerical stability, it is suggested to add an $L_2$-regulation.\n",
    "\n",
    "For example, consider scalar functions $f$ and $g$ where $f$ is lower bounded. If you want to minimize $f(x)$ with constraint $g(x) = 0$, then the loss function will be\n",
    "\n",
    "$$ L(x, \\mu) = f(x) + \\mu g(x), $$\n",
    "\n",
    "where $\\mu$ is the Lagrangian multiplier. Then, optimize the $x$ along the direction\n",
    "\n",
    "$$ \\dot{x}^a = -\\nabla^a L(x, \\mu) = -\\nabla^a f(x) - \\mu \\nabla^a g(x), $$\n",
    "\n",
    "where the $\\nabla$ is taken on $x$ only. And optimize the $\\mu$ along the direction\n",
    "\n",
    "$$ \\dot{\\mu} = {\\color{red}+} \\partial_{\\mu} L(x, \\mu) = g(x). $$\n",
    "\n",
    "Indeed, by taking time derivative, we find\n",
    "\n",
    "$$ \\ddot{x}^a + \\left( \\nabla^a \\nabla_b f(x) + \\mu \\nabla^a \\nabla_b g(x) \\right) \\dot{x}^b + \\nabla^a \\left( \\frac{1}{2} g^2(x) \\right) = 0. $$\n",
    "\n",
    "Analogy to the damped mechanic system, we recognize that the $A^a_b(x) := \\nabla^a \\nabla_b f(x) + \\mu \\nabla^a \\nabla_b g(x)$ term is a friction coefficient and $g^2(x)$ a potential. So, the energy is $E(x) := (1/2) \\dot{x}^2 + (1/2) g^2(x)$, and because of friction, the energy loss rate is $\\dot{E}(x) = -A_{a b}(x) \\dot{x}^a \\dot{x}^b$. So, to ensure that the energy losses, $A(x)$ has to be positive definite, at least being positive definite near the minimum. This is true for $\\nabla^a \\nabla_b f(x)$ since $f$ is lower bounded. So, we have to restrict the scale of $g$ such that $A$ is positive definite. To do so, we add an $L_2$-regulation for $g(x)$, that is, a term $c g^2(x)$ for a large enough positive constant $c$.\n",
    "\n",
    "For inequal constraints, like $h(x) \\ge 0$, we can add an auxiliary parameter $z$ and set the $g$ as $h(x) - z^2$. In this way, when $g = 0$, $h(x) \\ge 0$ is fulfilled. Now, the loss function becomes $L(x, z, \\mu) = f(x) + \\mu \\left( h(x) - z^2 \\right)$. The $z$ is optimized in the same way as $x$, that is $\\dot{z} = -\\nabla_z L(x, z, \\mu) = 2 \\mu z$. Remark that when $z = 0$, $\\dot{z} = 0$ too. Thus $z$ will not be updated and keeps vanishing. This is not what we want. So, at least, $z$ shall not be initialized as $0$ in training."
   ]
  },
  {
   "cell_type": "markdown",
   "id": "391849da-999d-497d-a370-8d85e370e469",
   "metadata": {},
   "source": [
    "You may argue that it is the $L_2$-regulation that makes the constraints fulfilled, instead of gradient ascent on the Lagrangian multipliers. So, we add a test for this argument."
   ]
  },
  {
   "cell_type": "code",
   "execution_count": 8,
   "id": "281bc48f-0045-4173-810a-cfc024e74b26",
   "metadata": {},
   "outputs": [],
   "source": [
    "EXPERIMENT['test_no_multiplier'] = False  # set $\\mu \\equiv 0$, thus restricted by L2-regulation only."
   ]
  },
  {
   "cell_type": "code",
   "execution_count": 9,
   "id": "52a7d9b1-e016-44d6-b11e-7eff090e68b6",
   "metadata": {},
   "outputs": [],
   "source": [
    "def get_train_step(optimizer, l2):\n",
    "    step = tf.Variable(0, dtype=tf.int32, trainable=False)\n",
    "    l2 = tf.convert_to_tensor(l2)\n",
    "\n",
    "    @tf.function\n",
    "    def train_step(log_nu, z, mu, omega):\n",
    "        batch_size = tf.cast(tf.shape(log_nu)[0], log_nu.dtype)\n",
    "\n",
    "        with tf.GradientTape() as tape:\n",
    "            # Loss:\n",
    "            if EXPERIMENT['test_no_multiplier']:\n",
    "                mu = tf.zeros_like(mu)\n",
    "                omega = tf.zeros_like(omega)\n",
    "            objective, constraints, loss = get_loss(log_nu, z, mu, omega)\n",
    "\n",
    "            # L2-regulation:\n",
    "            l2_regulaition = 0.\n",
    "            for c in constraints:\n",
    "                l2_regulaition += l2 * (\n",
    "                    tf.reduce_sum(tf.square(c))\n",
    "                    / batch_size  # average on samples.\n",
    "                )\n",
    "            loss += l2_regulaition\n",
    "\n",
    "        # Gradients\n",
    "        vars = [log_nu, z, mu, omega]\n",
    "        if EXPERIMENT['test_no_multiplier']:\n",
    "            vars = [log_nu, z]\n",
    "        grads = tape.gradient(loss, vars, unconnected_gradients='zero')\n",
    "\n",
    "        # Descent for parameters and ascent for multipliers:\n",
    "        grads_and_vars = []\n",
    "        for i, var in enumerate(vars):\n",
    "            if i < 2:\n",
    "                grads_and_vars.append((grads[i], vars[i]))\n",
    "            else:\n",
    "                grads_and_vars.append((-grads[i], vars[i]))\n",
    "\n",
    "        optimizer.apply_gradients(grads_and_vars)\n",
    "        check_nan(vars)\n",
    "        step.assign_add(1)\n",
    "        return objective, constraints, loss, grads_and_vars\n",
    "\n",
    "    return train_step, step\n",
    "\n",
    "def check_nan(xs):\n",
    "    for x in xs:\n",
    "        try:\n",
    "            tf.debugging.check_numerics(x, message='')\n",
    "        except Exception as e:\n",
    "            raise ValueError('NaN value.')"
   ]
  },
  {
   "cell_type": "markdown",
   "id": "ea6ff476-8b7e-4af8-9adf-ca5d7204cf69",
   "metadata": {},
   "source": [
    "## Training"
   ]
  },
  {
   "cell_type": "markdown",
   "id": "a2a69ab6-7311-4e68-bd14-7617d151b5b8",
   "metadata": {},
   "source": [
    "Initialize the parameters and Lagrangian multipliers:"
   ]
  },
  {
   "cell_type": "code",
   "execution_count": 10,
   "id": "3577792b-2678-4513-b7b3-a7d742f040f3",
   "metadata": {},
   "outputs": [],
   "source": [
    "log_nu = tf.Variable(\n",
    "    tf.random.uniform([EXPERIMENT['samples'], EXPERIMENT['levels']],\n",
    "                      2.0, 4.0)\n",
    ")\n",
    "z = tf.Variable(  # z shall not be zero.\n",
    "    tf.random.uniform([EXPERIMENT['samples'], EXPERIMENT['levels']],\n",
    "                      0.5, 1.0)\n",
    ")\n",
    "mu = tf.Variable(tf.zeros([EXPERIMENT['samples'], 1]))\n",
    "omega = tf.Variable(tf.zeros([EXPERIMENT['samples'], EXPERIMENT['levels']]))\n",
    "optimizer = keras.optimizers.adam_v2.Adam(1e-5)\n",
    "train_step, step = get_train_step(optimizer, 1e-1)"
   ]
  },
  {
   "cell_type": "markdown",
   "id": "db88915a-8b71-49d2-b74c-a4ce1ead9e2d",
   "metadata": {},
   "source": [
    "Let us log the objective and constraints before training."
   ]
  },
  {
   "cell_type": "code",
   "execution_count": 11,
   "id": "cd37f0c9-c281-4b05-819e-30a3c4f7a08c",
   "metadata": {
    "scrolled": true
   },
   "outputs": [
    {
     "data": {
      "text/plain": [
       "(<tf.Tensor: shape=(100,), dtype=float32, numpy=\n",
       " array([-29.911171, -31.683672, -29.004063, -31.096676, -30.996006,\n",
       "        -30.010109, -29.509394, -30.155214, -29.625   , -25.436653,\n",
       "        -28.348978, -31.749067, -31.8857  , -28.862322, -29.998486,\n",
       "        -29.047522, -31.927204, -30.815168, -30.71717 , -29.979336,\n",
       "        -30.800436, -28.589367, -30.03633 , -31.526217, -27.893822,\n",
       "        -33.630154, -31.303165, -33.034073, -30.06322 , -29.37624 ,\n",
       "        -30.390785, -30.582819, -30.886795, -29.460308, -31.365137,\n",
       "        -28.136425, -30.149738, -28.573097, -28.764765, -32.30482 ,\n",
       "        -27.01657 , -33.181026, -27.523933, -31.853283, -32.248974,\n",
       "        -27.81605 , -29.978003, -31.687546, -27.857435, -30.298822,\n",
       "        -31.000904, -28.131857, -31.5271  , -29.532007, -28.23612 ,\n",
       "        -34.2832  , -28.632296, -31.43976 , -28.84251 , -33.023357,\n",
       "        -32.285946, -29.196165, -30.66077 , -29.447392, -28.967836,\n",
       "        -29.441147, -26.472937, -29.874573, -32.66243 , -28.136816,\n",
       "        -28.192827, -30.381521, -28.904488, -30.600445, -28.24092 ,\n",
       "        -30.322266, -30.095043, -29.767565, -31.935127, -29.398895,\n",
       "        -30.429127, -28.902151, -29.800913, -26.35397 , -29.373966,\n",
       "        -31.757967, -32.175137, -30.45332 , -31.542952, -30.865702,\n",
       "        -30.198984, -27.439205, -29.754198, -31.601255, -32.603085,\n",
       "        -31.446041, -31.313957, -30.745867, -32.403515, -32.281227],\n",
       "       dtype=float32)>,\n",
       " [<tf.Tensor: shape=(100,), dtype=float32, numpy=\n",
       "  array([ 0.04748917,  1.8452129 , -0.8979111 ,  1.1814346 ,  1.2637806 ,\n",
       "          0.18337631, -0.2912979 ,  0.3119297 , -0.26421356, -4.429367  ,\n",
       "         -1.4079475 ,  1.8253441 ,  1.9599152 , -0.9162884 ,  0.08848   ,\n",
       "         -0.85240173,  2.041542  ,  1.0046043 ,  0.8076496 ,  0.20631409,\n",
       "          0.9019966 , -1.3013535 ,  0.13488388,  1.6439228 , -1.8655262 ,\n",
       "          3.706955  ,  1.5656338 ,  3.1764107 ,  0.206316  , -0.47016335,\n",
       "          0.5751991 ,  0.70492554,  0.9851723 , -0.4309082 ,  1.4886398 ,\n",
       "         -1.7229443 ,  0.27445793, -1.2598076 , -1.116293  ,  2.3830414 ,\n",
       "         -2.847086  ,  3.3189545 , -2.3119526 ,  2.0206985 ,  2.3466454 ,\n",
       "         -2.0380497 ,  0.1665783 ,  1.7647552 , -2.049778  ,  0.39525223,\n",
       "          1.1868095 , -1.6919498 ,  1.6410179 , -0.35326004, -1.5436783 ,\n",
       "          4.4083633 , -1.1296902 ,  1.6417007 , -1.0213509 ,  3.0985756 ,\n",
       "          2.3855896 , -0.691391  ,  0.8929539 , -0.44058037, -0.84778214,\n",
       "         -0.35823822, -3.411789  ,  0.05422592,  2.7631378 , -1.7394047 ,\n",
       "         -1.540638  ,  0.62236404, -0.9107971 ,  0.7684765 , -1.5300922 ,\n",
       "          0.49822807,  0.23054886, -0.03992081,  2.0484161 , -0.4887104 ,\n",
       "          0.6760464 , -0.99689865, -0.07068253, -3.4489746 , -0.5451622 ,\n",
       "          1.8477364 ,  2.3777695 ,  0.624876  ,  1.7719173 ,  1.0426235 ,\n",
       "          0.44330215, -2.4081573 , -0.16191101,  1.7092323 ,  2.7328186 ,\n",
       "          1.5547714 ,  1.4684563 ,  0.9584751 ,  2.5908165 ,  2.4432106 ],\n",
       "        dtype=float32)>,\n",
       "  <tf.Tensor: shape=(100, 10), dtype=float32, numpy=\n",
       "  array([[3.651362 , 2.020731 , 2.3531952, 2.4367313, 2.81572  , 2.2709928,\n",
       "          1.8695989, 2.7068896, 1.5988758, 2.75143  ],\n",
       "         [2.834048 , 2.329121 , 3.4210749, 3.22924  , 2.597182 , 1.9123138,\n",
       "          2.7215443, 2.5174441, 2.5382013, 2.0124667],\n",
       "         [1.4528215, 1.7025342, 3.0051482, 2.663476 , 1.090478 , 1.7361767,\n",
       "          2.6546938, 2.9497366, 2.7144256, 3.0695612],\n",
       "         [1.8379958, 2.4220412, 1.7687216, 2.8493526, 2.7408504, 2.198193 ,\n",
       "          3.4331326, 1.597321 , 2.8870845, 3.124773 ],\n",
       "         [3.1024194, 1.4934995, 3.4732544, 3.492758 , 3.1825678, 3.10939  ,\n",
       "          1.9421508, 2.2856097, 1.8589057, 1.7694268],\n",
       "         [2.4868493, 2.758106 , 2.3212945, 2.6621065, 1.4761002, 2.0050833,\n",
       "          1.9486711, 3.4232287, 3.5875442, 1.8540245],\n",
       "         [1.5140562, 3.195461 , 2.9510283, 3.3751507, 3.0814452, 2.466649 ,\n",
       "          2.220964 , 1.3367293, 1.2957273, 1.7121415],\n",
       "         [2.190065 , 2.4206867, 2.4885273, 3.239197 , 3.2000124, 1.9684258,\n",
       "          1.9324119, 1.3467066, 2.940379 , 2.1338675],\n",
       "         [1.6108366, 2.0151885, 3.1576548, 2.6154153, 1.5085409, 2.34546  ,\n",
       "          2.2660923, 2.941169 , 2.6796694, 2.5433915],\n",
       "         [2.0607839, 1.6512289, 3.4547207, 2.0342717, 1.2056503, 1.8309318,\n",
       "          1.8512857, 1.9043918, 1.268376 , 2.8941379],\n",
       "         [2.8208792, 1.4964464, 2.9102664, 1.8767824, 3.610472 , 2.1408954,\n",
       "          3.008711 , 1.9817781, 2.4874415, 1.8611103],\n",
       "         [2.2388122, 3.727278 , 2.7814476, 2.721012 , 1.1424325, 1.838873 ,\n",
       "          2.6711946, 1.5861056, 3.0016212, 2.9796376],\n",
       "         [2.231573 , 3.276507 , 2.7733917, 2.343764 , 2.0720468, 1.8543305,\n",
       "          2.7155879, 1.4002302, 3.2656877, 3.1160893],\n",
       "         [2.9324887, 2.6555138, 2.0432706, 2.2733467, 2.4006379, 2.876097 ,\n",
       "          1.3040181, 2.6573136, 3.2183883, 1.6995345],\n",
       "         [1.1209836, 1.8245243, 2.329637 , 2.6378481, 2.5761724, 1.7003903,\n",
       "          3.2374833, 3.4063582, 1.6213651, 3.2862606],\n",
       "         [2.202029 , 2.463631 , 2.581562 , 3.1630983, 2.817996 , 1.7271453,\n",
       "          1.6333139, 1.7274158, 2.4763591, 3.3457465],\n",
       "         [3.1085424, 1.9990375, 3.5743117, 1.6936928, 2.3342226, 1.9080096,\n",
       "          2.612779 , 2.8231049, 3.0636652, 2.3515754],\n",
       "         [1.9184078, 2.1066456, 3.0670702, 2.510025 , 3.55883  , 2.6803985,\n",
       "          1.8147092, 2.4031663, 2.6927319, 1.6623118],\n",
       "         [2.697233 , 2.4345803, 2.9723878, 1.7408006, 2.8593245, 1.6705859,\n",
       "          2.0588062, 2.3676176, 3.016025 , 3.0658956],\n",
       "         [2.3179276, 2.6345394, 1.540236 , 3.4024758, 2.6871202, 3.3719192,\n",
       "          2.4740133, 2.065977 , 2.1242206, 1.8713043],\n",
       "         [2.2643056, 2.7332468, 1.2186737, 3.0280702, 2.9032037, 1.8806527,\n",
       "          2.0319653, 3.0608292, 2.893064 , 2.9507802],\n",
       "         [2.1454968, 2.5044653, 1.3984601, 2.7811105, 2.2588723, 2.3466043,\n",
       "          2.1805024, 1.7872288, 2.8309083, 2.4284508],\n",
       "         [2.7479448, 3.0205603, 2.0674906, 2.2622132, 2.0081773, 2.3122005,\n",
       "          2.552387 , 2.5605497, 2.0970812, 3.1295424],\n",
       "         [3.4925   , 3.1811028, 2.4496338, 1.7938969, 2.6226435, 1.9327037,\n",
       "          1.572079 , 2.610752 , 3.3876505, 2.6543221],\n",
       "         [2.1198223, 3.050012 , 1.7424546, 3.2277668, 2.439717 , 2.9073703,\n",
       "          2.2931724, 2.123295 , 1.9238309, 1.6318029],\n",
       "         [1.4766058, 3.5043957, 2.8134303, 2.1381993, 3.1919055, 1.6006618,\n",
       "          2.390924 , 3.3222408, 3.7030418, 3.1414273],\n",
       "         [3.4560328, 2.3418949, 3.1885316, 2.199504 , 3.6702783, 2.846633 ,\n",
       "          1.998822 , 1.6568446, 2.2359262, 1.714891 ],\n",
       "         [3.496039 , 2.8962088, 3.3442223, 2.6904466, 3.1403532, 2.3241746,\n",
       "          3.4877887, 1.7353714, 2.0139651, 2.631777 ],\n",
       "         [2.2634342, 1.9065197, 2.5314307, 2.509568 , 1.7589173, 2.3424466,\n",
       "          3.199735 , 2.3447843, 2.1292403, 2.5694635],\n",
       "         [1.9699308, 2.0308795, 1.9791014, 1.9800018, 1.9755118, 2.8060415,\n",
       "          3.3849607, 2.8295217, 3.012045 , 2.4570875],\n",
       "         [2.0866868, 3.0307996, 3.0161693, 2.875739 , 2.085069 , 1.974241 ,\n",
       "          2.0382292, 3.0543828, 2.3085794, 2.1883378],\n",
       "         [2.5889251, 2.0350397, 2.07245  , 1.4579756, 2.688234 , 2.562309 ,\n",
       "          3.2080212, 2.5247037, 2.6297941, 2.9732168],\n",
       "         [2.1667767, 1.4483887, 2.3213186, 2.2867281, 3.0499868, 1.6185186,\n",
       "          3.3566668, 2.143606 , 2.6871107, 3.3038788],\n",
       "         [2.0918121, 2.9077291, 2.5461068, 1.646229 , 1.5553635, 3.3627033,\n",
       "          1.844782 , 2.0369875, 1.8817357, 3.0649235],\n",
       "         [3.0622525, 2.928358 , 3.1365645, 3.4005327, 2.0709715, 1.9546273,\n",
       "          2.121549 , 3.0581112, 1.814958 , 2.6613722],\n",
       "         [2.5665631, 2.6482437, 1.9002876, 1.7193916, 2.7318509, 1.5403049,\n",
       "          1.7477186, 2.3307996, 2.4049966, 2.3058615],\n",
       "         [2.0580978, 2.787207 , 1.5120116, 2.8286865, 1.5044367, 3.1847317,\n",
       "          2.2489133, 2.8657715, 2.2287416, 2.5379753],\n",
       "         [1.5794253, 1.5863254, 2.2671704, 2.105135 , 2.4753482, 1.5598414,\n",
       "          3.5933642, 2.8285856, 3.1759102, 2.3345673],\n",
       "         [1.6966188, 2.2362704, 2.4841676, 1.6756511, 1.9043839, 2.3431695,\n",
       "          3.3908284, 2.4775498, 2.0578554, 3.073851 ],\n",
       "         [2.9353223, 2.3863602, 2.770863 , 2.1811414, 2.980826 , 3.2814128,\n",
       "          2.6063738, 2.4588284, 2.7166476, 3.72475  ],\n",
       "         [1.5989823, 1.5025921, 2.1773381, 2.1316051, 2.462724 , 2.0068445,\n",
       "          2.0962691, 2.265238 , 1.4982816, 2.5857792],\n",
       "         [2.699822 , 3.4724817, 3.0002658, 2.8818169, 1.7229939, 2.1499925,\n",
       "          3.0850654, 2.7851272, 3.1353314, 2.1573906],\n",
       "         [2.1214914, 2.7923   , 1.8653338, 1.9498616, 2.2914948, 1.7703979,\n",
       "          1.9278276, 1.4758589, 3.110929 , 1.9154606],\n",
       "         [2.8349643, 2.8131118, 2.8676803, 2.2063422, 3.0811472, 2.6874223,\n",
       "          2.266423 , 1.6353111, 2.9951305, 2.391429 ],\n",
       "         [2.2350297, 2.1389499, 3.3434842, 2.8638616, 1.7259467, 3.6266751,\n",
       "          3.2986162, 2.7898948, 2.0708401, 2.8691792],\n",
       "         [1.9410224, 1.9313514, 1.6212462, 2.2111151, 2.1182368, 3.341398 ,\n",
       "          1.8099176, 2.4951146, 2.2023537, 2.060652 ],\n",
       "         [3.4061584, 2.2904556, 1.4446682, 2.56492  , 2.263991 , 2.6606677,\n",
       "          1.7516654, 3.6986873, 2.777852 , 2.092175 ],\n",
       "         [3.4047306, 2.191384 , 2.2593303, 2.530194 , 2.3791575, 1.7506224,\n",
       "          3.4950554, 1.9885968, 2.5920293, 3.4931424],\n",
       "         [1.7012885, 1.6963696, 2.9288454, 1.2145123, 2.2648177, 1.6923552,\n",
       "          1.4563007, 1.9506376, 2.971192 , 3.102223 ],\n",
       "         [2.0702777, 2.0761955, 3.2102764, 1.5433867, 2.9025598, 2.9390838,\n",
       "          1.6648761, 2.2253919, 2.8453007, 3.143826 ],\n",
       "         [3.0629919, 1.8199753, 3.0276735, 3.2312691, 3.3044863, 2.8443522,\n",
       "          1.6700585, 1.7904893, 3.3601773, 1.7538841],\n",
       "         [1.3257321, 2.4884338, 3.181226 , 1.5601543, 2.0572252, 2.1690118,\n",
       "          1.8860209, 1.9661429, 3.315681 , 1.6054411],\n",
       "         [2.0635517, 1.9719095, 3.454083 , 3.605129 , 3.3136935, 3.1106248,\n",
       "          1.8641833, 1.6924474, 2.1494255, 2.5884135],\n",
       "         [1.6078411, 3.0284352, 3.4494262, 1.9300461, 2.7991593, 2.072275 ,\n",
       "          2.102206 , 1.813483 , 3.0921893, 3.051673 ],\n",
       "         [2.5341222, 2.0022392, 2.3453724, 2.4202511, 1.7862127, 2.0437806,\n",
       "          3.0621839, 2.762514 , 2.989174 , 1.7294097],\n",
       "         [3.4279797, 3.0650642, 2.9334962, 2.4915392, 2.9706364, 1.9559762,\n",
       "          3.614951 , 3.3264832, 2.953571 , 2.8749268],\n",
       "         [2.2934544, 1.723417 , 1.7358127, 2.9752374, 3.092495 , 2.5758352,\n",
       "          2.5881343, 1.7714642, 2.0401304, 1.8404388],\n",
       "         [2.0968196, 2.98719  , 1.7359433, 2.0158322, 2.7909048, 3.5277832,\n",
       "          2.6395023, 3.463267 , 2.5987196, 1.8844092],\n",
       "         [2.913791 , 2.0859065, 2.0570843, 3.0681746, 2.6903172, 1.3053322,\n",
       "          2.872785 , 1.7019618, 2.7815065, 2.6234276],\n",
       "         [3.087391 , 2.9666054, 2.0976872, 3.4280903, 1.8381133, 3.0420392,\n",
       "          2.3046417, 2.385633 , 3.3192976, 3.6873634],\n",
       "         [2.5727139, 1.8923061, 2.7252526, 2.2406533, 2.2479799, 2.3046381,\n",
       "          3.4058883, 3.4095683, 3.1170285, 2.9548564],\n",
       "         [2.24443  , 2.3644488, 2.1197295, 2.6070697, 2.2388878, 2.4023452,\n",
       "          2.2482204, 2.5728548, 2.2329662, 3.1754644],\n",
       "         [2.7550173, 1.829674 , 1.498911 , 3.3704205, 3.2890315, 2.9960997,\n",
       "          3.299158 , 2.0429945, 3.0116313, 1.761153 ],\n",
       "         [2.3889246, 3.189363 , 1.983845 , 1.4612086, 3.2998767, 1.4282513,\n",
       "          2.3251867, 2.724801 , 1.9751266, 3.097978 ],\n",
       "         [1.7290044, 1.8173668, 2.461348 , 1.8003749, 3.1673017, 2.4768662,\n",
       "          3.1596363, 2.9200795, 2.303861 , 2.0231936],\n",
       "         [1.9678781, 2.6722906, 2.5842159, 3.169618 , 1.7662928, 2.548899 ,\n",
       "          3.1631064, 2.1633766, 2.0555427, 1.8696158],\n",
       "         [2.8336868, 1.903224 , 1.7900684, 2.2725675, 2.4152794, 2.2072706,\n",
       "          1.9583592, 1.8003095, 1.6565677, 3.176904 ],\n",
       "         [3.4862814, 2.9564204, 1.678196 , 3.21629  , 1.7054704, 2.544845 ,\n",
       "          1.6740806, 2.526922 , 2.1976206, 2.392385 ],\n",
       "         [2.6476007, 1.9898282, 2.1956265, 2.8618884, 3.4494524, 3.3283007,\n",
       "          1.7996368, 2.7535205, 2.7031984, 3.0308938],\n",
       "         [3.2019637, 1.9932342, 1.8299105, 2.110446 , 1.3145919, 2.8847675,\n",
       "          1.4761745, 2.1974914, 2.954813 , 2.8360732],\n",
       "         [3.0983243, 1.9204018, 2.9635143, 1.6749885, 2.7569804, 3.0458052,\n",
       "          2.5759778, 1.542411 , 1.9483498, 1.2383944],\n",
       "         [2.6346276, 2.6976447, 2.4906487, 2.549678 , 2.6458004, 1.714203 ,\n",
       "          2.288247 , 3.3921757, 3.7133522, 1.3543134],\n",
       "         [3.0067253, 2.8170512, 3.474406 , 1.5684371, 2.0611162, 1.7985983,\n",
       "          2.1498039, 2.4101903, 2.4965796, 1.7156453],\n",
       "         [2.9259036, 2.212026 , 3.3061526, 2.070796 , 2.7309837, 2.0019274,\n",
       "          2.8471954, 2.5612664, 2.6690402, 2.2456114],\n",
       "         [2.8891563, 2.6435623, 2.8114772, 1.0565428, 1.3156879, 3.281265 ,\n",
       "          1.4183401, 1.2134447, 2.955472 , 1.4895861],\n",
       "         [3.1832573, 3.5325217, 2.7639737, 2.8390732, 1.868967 , 2.693829 ,\n",
       "          3.19687  , 1.8201039, 1.6199411, 2.2507446],\n",
       "         [1.9900461, 2.155239 , 2.91289  , 2.3575637, 3.1605036, 3.0394423,\n",
       "          3.037715 , 1.5669291, 1.4698113, 2.6095586],\n",
       "         [2.0739648, 2.5887368, 3.3867714, 2.3264809, 1.829561 , 2.2559822,\n",
       "          2.4955919, 2.0297332, 2.3776543, 2.220271 ],\n",
       "         [2.528818 , 3.1526473, 1.490655 , 2.1836848, 3.0845113, 2.1397145,\n",
       "          3.5327923, 2.4360042, 3.1345832, 2.8902807],\n",
       "         [2.9883606, 3.1841366, 1.0708541, 2.202118 , 3.1695411, 2.8864484,\n",
       "          2.2830715, 1.2014132, 1.771348 , 2.844367 ],\n",
       "         [2.4912004, 2.606026 , 2.8130052, 2.52546  , 1.4934424, 3.2359366,\n",
       "          3.3060534, 2.3605938, 2.1612077, 1.300828 ],\n",
       "         [1.6419835, 1.677458 , 3.088645 , 2.004228 , 3.6053114, 1.8731723,\n",
       "          1.2915304, 2.6838155, 2.469131 , 3.1457121],\n",
       "         [2.1024418, 2.293627 , 1.0924256, 2.874063 , 2.9733977, 2.7273266,\n",
       "          2.6225045, 2.1853714, 2.3246334, 2.4477684],\n",
       "         [2.4575803, 1.2850161, 1.9678543, 1.5025891, 1.7895305, 2.6955009,\n",
       "          1.5645018, 2.2552629, 2.431458 , 2.0777667],\n",
       "         [1.4599956, 2.296651 , 1.699506 , 2.9762025, 1.1354225, 2.8657134,\n",
       "          2.8787396, 1.4311244, 3.1760464, 3.480027 ],\n",
       "         [3.157762 , 2.1519015, 2.8650932, 3.0497026, 2.8270688, 1.6639829,\n",
       "          2.0966172, 2.215271 , 3.0283344, 3.3149529],\n",
       "         [1.8365576, 2.7567604, 1.791882 , 3.1291   , 3.1481357, 3.2610807,\n",
       "          2.6856713, 2.9836223, 3.1652887, 1.4400675],\n",
       "         [1.8842753, 1.7614253, 2.9875598, 3.3197043, 2.3962343, 2.8539402,\n",
       "          2.5565765, 2.9339392, 2.9021828, 1.6992917],\n",
       "         [3.1912448, 3.158708 , 3.2429144, 3.174389 , 1.79633  , 2.3590605,\n",
       "          1.6852404, 3.108718 , 2.2867632, 1.2566408],\n",
       "         [1.8486955, 3.196834 , 2.5212424, 3.5516725, 3.271338 , 1.9130887,\n",
       "          1.269783 , 3.2454584, 2.561177 , 2.033992 ],\n",
       "         [2.876381 , 2.7648618, 2.7524953, 1.9844834, 2.96733  , 2.5777745,\n",
       "          2.8336663, 1.9213128, 2.0832448, 1.7819607],\n",
       "         [1.6580654, 2.0884721, 2.86431  , 1.7278157, 2.571255 , 1.9427505,\n",
       "          3.1120143, 1.8670781, 1.5225508, 2.450687 ],\n",
       "         [1.8079634, 2.066368 , 2.6770916, 3.169288 , 2.9263089, 1.3806531,\n",
       "          3.0403793, 2.4422643, 2.111575 , 3.1892142],\n",
       "         [3.3160968, 2.168338 , 2.741365 , 1.7267239, 2.8747182, 2.0630784,\n",
       "          2.9410198, 2.8414557, 3.197818 , 3.0789835],\n",
       "         [1.7594497, 2.7167025, 3.3569138, 2.8464127, 2.9314504, 1.632839 ,\n",
       "          3.4083495, 3.272187 , 2.7902887, 2.63383  ],\n",
       "         [2.9330819, 2.315455 , 2.5496497, 2.7526224, 2.6434488, 2.2420385,\n",
       "          1.6963284, 3.3002944, 2.7434602, 3.0326197],\n",
       "         [3.457837 , 2.7926693, 1.6657082, 2.2221968, 1.9237273, 1.8557733,\n",
       "          3.508338 , 2.610576 , 3.0558267, 2.4269567],\n",
       "         [2.2880473, 3.331759 , 3.1975706, 2.3932052, 3.3973722, 1.096111 ,\n",
       "          2.4516702, 2.1040578, 3.2579808, 1.4264452],\n",
       "         [3.5990903, 1.725906 , 2.9061365, 2.3246903, 1.6527033, 3.1334927,\n",
       "          3.2198715, 3.3520446, 2.5033991, 1.9735299],\n",
       "         [2.6659288, 3.5503094, 1.1803062, 2.2818756, 3.6246684, 3.1432824,\n",
       "          1.6854293, 3.051042 , 2.3535662, 1.9648654]], dtype=float32)>])"
      ]
     },
     "execution_count": 11,
     "metadata": {},
     "output_type": "execute_result"
    }
   ],
   "source": [
    "objective, constraints, _, _ = train_step(log_nu, z, mu, omega)\n",
    "objective, constraints"
   ]
  },
  {
   "cell_type": "code",
   "execution_count": 12,
   "id": "4fc24899-2e20-4b24-8b6e-12308560848b",
   "metadata": {},
   "outputs": [
    {
     "name": "stderr",
     "output_type": "stream",
     "text": [
      "100%|██████████████████████████████████████████████████| 500000/500000 [05:50<00:00, 1425.86it/s]\n"
     ]
    }
   ],
   "source": [
    "objective_logs = []\n",
    "loss_logs = []\n",
    "for i in tqdm(range(500000)):\n",
    "    objective, _, loss, _ = train_step(log_nu, z, mu, omega)\n",
    "    objective_logs.append(objective.numpy().mean())\n",
    "    loss_logs.append(loss.numpy())"
   ]
  },
  {
   "cell_type": "code",
   "execution_count": 13,
   "id": "1ba67f4a-e301-412e-a24c-d76d6aabcc52",
   "metadata": {},
   "outputs": [
    {
     "data": {
      "text/plain": [
       "<tf.Variable 'Variable:0' shape=() dtype=int32, numpy=500001>"
      ]
     },
     "execution_count": 13,
     "metadata": {},
     "output_type": "execute_result"
    }
   ],
   "source": [
    "step"
   ]
  },
  {
   "cell_type": "code",
   "execution_count": 14,
   "id": "509b3102-c3d5-4472-ade0-8dc19f3baeb2",
   "metadata": {},
   "outputs": [
    {
     "data": {
      "image/png": "[encoded data removed]",
      "text/plain": [
       "<Figure size 640x480 with 1 Axes>"
      ]
     },
     "metadata": {},
     "output_type": "display_data"
    }
   ],
   "source": [
    "plt.plot(objective_logs, label='expected objective', alpha=0.5)\n",
    "plt.plot(loss_logs, label='loss', alpha=0.5)\n",
    "plt.xlabel('training steps')\n",
    "plt.legend()\n",
    "plt.show()"
   ]
  },
  {
   "cell_type": "markdown",
   "id": "fcba1bea-d6c0-40a3-b254-e0796bca0cf6",
   "metadata": {},
   "source": [
    "Let us check the optimization results:"
   ]
  },
  {
   "cell_type": "code",
   "execution_count": 15,
   "id": "4b0cbdac-290d-4499-8768-85a5a97e4e34",
   "metadata": {},
   "outputs": [],
   "source": [
    "objective, constraints, _ = get_loss(log_nu, z, mu, omega)"
   ]
  },
  {
   "cell_type": "code",
   "execution_count": 16,
   "id": "01f67547-d7ed-4f6f-a47d-6e085f3749e0",
   "metadata": {},
   "outputs": [
    {
     "data": {
      "text/plain": [
       "(<tf.Tensor: shape=(), dtype=int64, numpy=21>,\n",
       " <tf.Tensor: shape=(), dtype=float32, numpy=-29.925974>,\n",
       " [<tf.Tensor: shape=(), dtype=float32, numpy=-0.017887115>,\n",
       "  <tf.Tensor: shape=(10,), dtype=float32, numpy=\n",
       "  array([-1.0962486e-03,  1.1847019e-03,  9.7298622e-04,  9.4127655e-04,\n",
       "         -1.1346340e-03,  1.1897087e-03, -3.3140182e-05, -3.5762787e-06,\n",
       "          5.9914589e-04,  5.9986115e-04], dtype=float32)>])"
      ]
     },
     "execution_count": 16,
     "metadata": {},
     "output_type": "execute_result"
    }
   ],
   "source": [
    "min_i = tf.argmin(objective)\n",
    "min_i, objective[min_i], [c[min_i] for c in constraints]"
   ]
  },
  {
   "cell_type": "markdown",
   "id": "a4234118-77a7-444a-850f-3b176e326410",
   "metadata": {},
   "source": [
    "And for checking fractal:"
   ]
  },
  {
   "cell_type": "code",
   "execution_count": 17,
   "id": "e7fe7734-be11-47a5-af17-c0c45c6f7ee6",
   "metadata": {},
   "outputs": [
    {
     "data": {
      "text/plain": [
       "<tf.Tensor: shape=(10,), dtype=float32, numpy=\n",
       "array([3.1962795, 2.4739454, 3.0981777, 2.756678 , 3.1535733, 2.7324555,\n",
       "       2.0910814, 3.1849167, 2.7657125, 4.5292926], dtype=float32)>"
      ]
     },
     "execution_count": 17,
     "metadata": {},
     "output_type": "execute_result"
    }
   ],
   "source": [
    "log_nu[min_i, :]"
   ]
  },
  {
   "cell_type": "code",
   "execution_count": 18,
   "id": "692b5b76-dfc2-49f6-bcce-36012545ed7f",
   "metadata": {},
   "outputs": [
    {
     "data": {
      "image/png": "[encoded data removed]",
      "text/plain": [
       "<Figure size 640x480 with 1 Axes>"
      ]
     },
     "metadata": {},
     "output_type": "display_data"
    }
   ],
   "source": [
    "plt.plot(log_nu[min_i, :], '.', label='$\\\\ln \\\\nu_k$')\n",
    "plt.xlabel('$k$')\n",
    "plt.legend()\n",
    "plt.show()"
   ]
  },
  {
   "cell_type": "markdown",
   "id": "78e4589d-3c25-4ad2-877f-357384cc1877",
   "metadata": {},
   "source": [
    "In the end, review the hyper-parameters used for this numerical experiment:"
   ]
  },
  {
   "cell_type": "code",
   "execution_count": 19,
   "id": "b1b701e1-903d-48b9-99fa-bda97e299518",
   "metadata": {},
   "outputs": [
    {
     "data": {
      "text/plain": [
       "{'samples': 100,\n",
       " 'levels': 10,\n",
       " 'true_log_volume': 30.0,\n",
       " 'test_no_multiplier': False}"
      ]
     },
     "execution_count": 19,
     "metadata": {},
     "output_type": "execute_result"
    }
   ],
   "source": [
    "EXPERIMENT"
   ]
  },
  {
   "cell_type": "markdown",
   "id": "8b4b4dcc-749f-4133-a20c-f8d744034294",
   "metadata": {},
   "source": [
    "## Conclusion\n",
    "\n",
    "* Fractal appears when the `true_log_volume` is sufficient large enough, that is, when the mammalian has sufficient volume or number of cells. This condition can be satisfied by any mammalian.\n",
    "* If the Lagrangian multiplier is omitted by setting `TEST_NO_MULTIPLIER = True`, we cannot get the constrained result even though $L_2$-regulation has been employed. The Lagrangian multiplier is essential.\n",
    "* The implementation is not scalable. The CPU usage is quite low."
   ]
  },
  {
   "cell_type": "markdown",
   "id": "b251986b-4365-46e4-8f81-7fabe7aa7e2c",
   "metadata": {},
   "source": [
    "## How does Fractal Emerge in Nature\n",
    "\n",
    "Recall that\n",
    "\n",
    "$$ R_b \\propto \\sum_{k=0}^{C} \\left( \\prod_{i=k}^{C-1} \\nu_i^{-5/3} \\right) \\left( \\prod_{i=0}^{k-1} \\nu_i^{-1} \\right). $$\n",
    "\n",
    "Since $n_C = \\prod_{k=0}^{C-1} \\nu_k$, when the scale of $n_C$ is sufficient large, the scale of $\\nu_k$ may become large too. In this situation, the $k=0$ term dominates the others. Explicitly, it is\n",
    "\n",
    "$$ \\prod_{i=k}^{C-1} \\nu_i^{-5/3}. $$\n",
    "\n",
    "In this expression, the components of $\\nu$ are symmetric by permutation. They are equal weight. So, the extreme values of this term has equal components of $\\nu$. The same for the constraints. The components of the auxiliary variable $z$ are also symmetric by permutation. So, the extreme values of the loss $L(\\nu, z; \\mu, \\omega)$ have approximately equal components. This is the reason of the emerge of fractal.\n",
    "\n",
    "In summary, the conditions for fractal to emerge are the large amount of branching and the permutation symmetry in the leading terms of the objective and constraints. When the number of \"children branches\" becomes large enough for each \"parent branch\", the differences in the terms of the objective and constraints become so large that only one or several terms dominate. Within these terms, if the permutation symmetry on the branching numbers is satisfied or approximately satisfied, the fractal must emerge."
   ]
  },
  {
   "cell_type": "markdown",
   "id": "a6a4f62d-8300-4b29-8b87-313f2cc1fa56",
   "metadata": {},
   "source": [
    "## Discussion\n",
    "\n",
    "The resistance $R_b(\\nu)$ can be seen as an action. The true value of $\\nu$ locates in its minima. So, we can construct a probabilistic model of $\\nu$, the branching of vessel system, as\n",
    "\n",
    "$$ p(\\nu) \\propto \\exp(-\\beta R_b(\\nu)) \\delta(V_b(\\nu) - \\bar{V}_b), $$\n",
    "\n",
    "for any positive $\\beta$ characterizing the randomness.\n",
    "\n",
    "TODO"
   ]
  }
 ],
 "metadata": {
  "kernelspec": {
   "display_name": ".venv",
   "language": "python",
   "name": ".venv"
  },
  "language_info": {
   "codemirror_mode": {
    "name": "ipython",
    "version": 3
   },
   "file_extension": ".py",
   "mimetype": "text/x-python",
   "name": "python",
   "nbconvert_exporter": "python",
   "pygments_lexer": "ipython3",
   "version": "3.11.6"
  }
 },
 "nbformat": 4,
 "nbformat_minor": 5
}
