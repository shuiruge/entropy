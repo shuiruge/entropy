{
 "cells": [
  {
   "cell_type": "markdown",
   "id": "6b2aaafb-cf13-4129-99f7-f5673e0bfe16",
   "metadata": {},
   "source": [
    "# Fractal in Biology\n",
    "\n",
    "This notebook makes numerical experiment on the emergence of fractal in nature. It is inspired by [West, et al. (1997)](https://www.science.org/doi/10.1126/science.276.5309.122). This paper concludes that fractal in biology results in the minimization of total energy cost. In the specific case considered by the authors, the mammalian circulatory systems, the fractal branching of capillary vessel naturally arises from reducing the energy cost of vessel circulation. This numerical experiment gives us some hint about how fractal emerges in nature.\n",
    "\n",
    "In this notebook, we adjust some strange assumptions in West's paper. We further apply the computation here to West's original assumptions, discussed in the notebook _Fractal in Biology (West 1997)_."
   ]
  },
  {
   "cell_type": "markdown",
   "id": "9f2a5cb5-403e-4f7e-92d0-8f6829501b5a",
   "metadata": {},
   "source": [
    "## Notations\n",
    "\n",
    "We follow the notations:\n",
    "\n",
    "- $C$: number of branching levels.\n",
    "- $k$: branching level, from $0$ to $C$.\n",
    "- $n_k$: number of branches at $k$ level.\n",
    "- $r_k$: radius of vessel at $k$ level.\n",
    "- $l_k$: length of vessel at $k$ level.\n",
    "- $\\nu_k$: $n_{k+1} / n_k$.\n",
    "- $\\rho_k$: $r_{k+1} / r_k$.\n",
    "- $\\lambda_k$: $l_{k+1} / l_k$."
   ]
  },
  {
   "cell_type": "markdown",
   "id": "5b28d388-e1b4-491e-85cb-fbca727e1d3d",
   "metadata": {},
   "source": [
    "## Assumptions"
   ]
  },
  {
   "cell_type": "markdown",
   "id": "719ac578-31ea-4353-996d-468fc98cfd73",
   "metadata": {},
   "source": [
    "The assumption that the properties of capillary are universal for all mammals implies that the $l_C$, and $r_C$ are fixed. Also, $n_0=1$. So, we have\n",
    "\n",
    "$$ l_k = \\frac{l_k}{l_{k+1}} \\cdots \\frac{l_{C-1}}{l_C} l_C = l_C \\lambda_k^{-1} \\cdots \\lambda_{C-1}^{-1} = l_C \\prod_{i=k}^{C-1} \\lambda_i^{-1}. $$\n",
    "\n",
    "The same,\n",
    "\n",
    "$$ r_k = r_C \\prod_{i=k}^{C-1} \\rho_i^{-1}. $$\n",
    "\n",
    "But,\n",
    "\n",
    "$$ n_k = n_0 \\frac{n_1}{n_0} \\cdots \\frac{n_k}{n_{k-1}} = \\prod_{i=0}^{k-1} \\nu_i. $$\n",
    "\n",
    "Based on assumption of area-preserving, we have that $n_k r_k^2$ is independent of $k$. This implies\n",
    "\n",
    "$$ \\rho_k = \\nu_k^{-1/2}. $$\n",
    "\n",
    "And by assumption of space-fulfilling, we have that $n_k l_k^3$ is independent of $k$. This implies\n",
    "\n",
    "$$ \\lambda_k = \\nu_k^{-1/3}. $$\n",
    "\n",
    "Because of these, the unique degree of freedom is the $\\nu$."
   ]
  },
  {
   "cell_type": "code",
   "execution_count": 1,
   "id": "499a5415-a2d3-4721-8f5f-d44401f92629",
   "metadata": {},
   "outputs": [],
   "source": [
    "import numpy as np\n",
    "from scipy.optimize import minimize\n",
    "from scipy.special import logsumexp\n",
    "import matplotlib.pyplot as plt"
   ]
  },
  {
   "cell_type": "code",
   "execution_count": 2,
   "id": "83369441-45f5-4967-b005-ad800a940558",
   "metadata": {},
   "outputs": [],
   "source": [
    "EXPERIMENT = {\n",
    "    'levels': 5,\n",
    "}"
   ]
  },
  {
   "cell_type": "markdown",
   "id": "e04a0ba0-54fe-417c-bbb8-1fe05d7e6e1d",
   "metadata": {},
   "source": [
    "## Loss Function"
   ]
  },
  {
   "cell_type": "markdown",
   "id": "05193765-5627-4d4f-8c4c-2ba3fe031147",
   "metadata": {},
   "source": [
    "The quantity to be minimized is the total resistance of the vessel system. By [Hagen-Poiseuille equation](https://en.wikipedia.org/wiki/Hagen%E2%80%93Poiseuille_equation#Equation), we have the difference of pressure at level $k$, $\\Delta p_k = Q_k R_k$ where $Q_k$ represents the flow rate and $R_k := (8 \\mu l_k)/(\\pi r_k^4)$. Analogy to electricity, $\\Delta p_k$ corresponds to difference of potential $\\Delta V$, and $Q_k$ to current $I$. So, the $R_k$ is the resistance. At level $k$, the vessels are parallel. And for different levels, vessels are serial. So, the total resistance comes to be\n",
    "\n",
    "$$ R_b = \\sum_{k=0}^{C} \\frac{R_k}{n_k} = \\frac{8\\mu}{\\pi} \\sum_{k=0}^{C} \\frac{l_k}{r_k^4 n_k} = \\frac{8\\mu}{\\pi} \\frac{l_C}{r_C^4} \\sum_{k=0}^{C} \\left( \\prod_{i=k}^{C-1} \\frac{\\rho_i^4}{\\lambda_i} \\right) \\left( \\prod_{i=0}^{k-1} \\frac{1}{\\nu_i} \\right). $$\n",
    "\n",
    "Plugging into the relation between $\\rho$, $\\lambda$ and $\\nu$, we find\n",
    "\n",
    "$$ R_b = \\frac{8\\mu}{\\pi} \\frac{l_C}{r_C^4} \\sum_{k=0}^{C} \\left( \\prod_{i=k}^{C-1} \\nu_i^{-5/3} \\right) \\left( \\prod_{i=0}^{k-1} \\nu_i^{-1} \\right). $$\n",
    "\n",
    "For numerical stability, we consider\n",
    "\n",
    "$$ \\ln R_b = \\ln \\left( \\frac{8\\mu}{\\pi} \\frac{l_C}{r_C^4} \\right) + \\ln \\sum_{k=0}^{C} \\left( \\prod_{i=k}^{C-1} \\nu_i^{-5/3} \\right) \\left( \\prod_{i=0}^{k-1} \\nu_i^{-1} \\right). $$"
   ]
  },
  {
   "cell_type": "code",
   "execution_count": 3,
   "id": "12747b49-add2-412c-8534-9d3dc9ef0f31",
   "metadata": {},
   "outputs": [
    {
     "data": {
      "text/plain": [
       "-2.5361288342337813"
      ]
     },
     "execution_count": 3,
     "metadata": {},
     "output_type": "execute_result"
    }
   ],
   "source": [
    "def get_log_resistance(log_nu):\n",
    "    \"\"\"Omit the constant.\"\"\"\n",
    "    logits = [\n",
    "        -(5/3) * np.sum(log_nu[k:]) - np.sum(log_nu[:k])\n",
    "        for k in range(EXPERIMENT['levels']+1)\n",
    "    ]\n",
    "    logits = np.stack(logits)\n",
    "    return logsumexp(logits)\n",
    "\n",
    "log_nu = np.log(2) * np.ones([EXPERIMENT['levels']])\n",
    "get_log_resistance(log_nu)"
   ]
  },
  {
   "cell_type": "markdown",
   "id": "476a4eb5-94af-4b72-b1c2-235d86426259",
   "metadata": {},
   "source": [
    "Because of the space-fulfilling assumption and the assumption that $l_C$ is invariant, the total volume of the mammal, $V_b$, is proportional to $n_C l_C$, which can be expressed as\n",
    "\n",
    "$$ \\ln V_b = \\ln l_C + \\ln n_C = \\ln l_C + \\sum_{k=0}^{C-1} \\ln \\nu_k. $$"
   ]
  },
  {
   "cell_type": "code",
   "execution_count": 4,
   "id": "95f72cfb-10fe-4934-bdc0-14ccac6bc342",
   "metadata": {},
   "outputs": [
    {
     "data": {
      "text/plain": [
       "3.4657359027997265"
      ]
     },
     "execution_count": 4,
     "metadata": {},
     "output_type": "execute_result"
    }
   ],
   "source": [
    "def get_log_volume(log_nu):\n",
    "    \"\"\"Omit the constant.\"\"\"\n",
    "    return np.sum(log_nu)\n",
    "\n",
    "get_log_volume(log_nu)"
   ]
  },
  {
   "cell_type": "markdown",
   "id": "7f2b7cb8-e7a0-4324-aced-be3086625cb3",
   "metadata": {},
   "source": [
    "Since $n_{k+1} \\ge n_k$, $\\nu_k$ shall be greater than unit. So, there is another constraint that, for each $k$,\n",
    "\n",
    "$$ \\ln \\nu_k \\ge 0. $$"
   ]
  },
  {
   "cell_type": "markdown",
   "id": "99beadb8-74a7-4f36-9577-4be6dc346058",
   "metadata": {},
   "source": [
    "Altogether, the loss function shall be\n",
    "\n",
    "$$ \\ln R_b(\\nu) + \\mu \\left( \\ln V_b(\\nu) - \\ln \\bar{V}_b \\right) + \\sum_{k=1}^{C-1} \\omega_k \\left( \\ln \\nu_k - z_k^2 \\right), $$\n",
    "\n",
    "for some observed values $\\bar{V}_b$ given."
   ]
  },
  {
   "cell_type": "markdown",
   "id": "4d1f87f4-ce5f-434a-8f7a-a8366c794b66",
   "metadata": {},
   "source": [
    "What is a proper value of $\\bar{V}_b$. It is natural to suppose that $n_{k+1}/n_k \\ge 2$. This means $\\bar{V}_b$ shall be greater than the volume given by $\\nu_k = 2$ for all $k$.\n",
    "\n",
    "In fact, it is sufficient for the optimized volume to approximate the order of $\\bar{V}_b$. We can regard this optimized volume as the real $\\bar{V}_b$. In other words, $\\bar{V}_b$ is used to determine the order, but not the accurate value."
   ]
  },
  {
   "cell_type": "code",
   "execution_count": 5,
   "id": "76529753-cb7f-4c76-a7b2-a36d9c05b289",
   "metadata": {},
   "outputs": [
    {
     "data": {
      "text/plain": [
       "3.4657359027997265"
      ]
     },
     "execution_count": 5,
     "metadata": {},
     "output_type": "execute_result"
    }
   ],
   "source": [
    "least_log_volume = get_log_volume(np.log(2) * np.ones([EXPERIMENT['levels']]))\n",
    "least_log_volume"
   ]
  },
  {
   "cell_type": "code",
   "execution_count": 6,
   "id": "7adcc3bf-fd48-4ff8-a5b9-18ab200e3d72",
   "metadata": {},
   "outputs": [],
   "source": [
    "EXPERIMENT['true_log_volume'] = 3e+1"
   ]
  },
  {
   "cell_type": "markdown",
   "id": "7aeae9ff-ec70-493b-b48e-852734a5897a",
   "metadata": {},
   "source": [
    "## Optimization"
   ]
  },
  {
   "cell_type": "code",
   "execution_count": 7,
   "id": "a9c14956-07d9-4d8c-b4db-bf9c58916f80",
   "metadata": {},
   "outputs": [
    {
     "data": {
      "text/plain": [
       " message: Optimization terminated successfully\n",
       " success: True\n",
       "  status: 0\n",
       "     fun: -29.981849964683086\n",
       "       x: [ 1.895e+00  1.686e+00  1.862e+00  1.856e+01  6.000e+00]\n",
       "     nit: 22\n",
       "     jac: [-1.000e+00 -1.000e+00 -1.000e+00 -1.000e+00 -1.012e+00]\n",
       "    nfev: 108\n",
       "    njev: 18"
      ]
     },
     "execution_count": 7,
     "metadata": {},
     "output_type": "execute_result"
    }
   ],
   "source": [
    "initial_values = [np.random.uniform(3., 5.) for _ in range(EXPERIMENT['levels'])]\n",
    "bounds = [(0., None) for _ in range(EXPERIMENT['levels']-1)] + [(0., 6.)]\n",
    "constraints = [\n",
    "    {\n",
    "        'type': 'eq',\n",
    "        'fun': lambda log_nu: get_log_volume(log_nu) - EXPERIMENT['true_log_volume']\n",
    "    },\n",
    "]\n",
    "result = minimize(\n",
    "    get_log_resistance,\n",
    "    initial_values,\n",
    "    bounds=bounds,\n",
    "    constraints=constraints,\n",
    "    tol=1e-80,\n",
    "    options={'maxiter': 1000},\n",
    ")\n",
    "result"
   ]
  },
  {
   "cell_type": "code",
   "execution_count": 8,
   "id": "7c9f73ab-3706-466a-ba38-9a14d955176a",
   "metadata": {},
   "outputs": [
    {
     "data": {
      "text/plain": [
       "array([ 1.8945319 ,  1.68609436,  1.86158882, 18.55778492,  6.        ])"
      ]
     },
     "execution_count": 8,
     "metadata": {},
     "output_type": "execute_result"
    }
   ],
   "source": [
    "optimized_log_nu = result.x\n",
    "optimized_log_nu"
   ]
  },
  {
   "cell_type": "markdown",
   "id": "fcba1bea-d6c0-40a3-b254-e0796bca0cf6",
   "metadata": {},
   "source": [
    "Let us check the optimization results:"
   ]
  },
  {
   "cell_type": "code",
   "execution_count": 9,
   "id": "4b0cbdac-290d-4499-8768-85a5a97e4e34",
   "metadata": {},
   "outputs": [
    {
     "data": {
      "text/plain": [
       "(-29.981849964683086, 30.0)"
      ]
     },
     "execution_count": 9,
     "metadata": {},
     "output_type": "execute_result"
    }
   ],
   "source": [
    "get_log_resistance(optimized_log_nu), get_log_volume(optimized_log_nu)"
   ]
  },
  {
   "cell_type": "markdown",
   "id": "a4234118-77a7-444a-850f-3b176e326410",
   "metadata": {},
   "source": [
    "And for checking fractal:"
   ]
  },
  {
   "cell_type": "code",
   "execution_count": 10,
   "id": "692b5b76-dfc2-49f6-bcce-36012545ed7f",
   "metadata": {},
   "outputs": [
    {
     "data": {
      "image/png": "[encoded data removed]",
      "text/plain": [
       "<Figure size 640x480 with 1 Axes>"
      ]
     },
     "metadata": {},
     "output_type": "display_data"
    }
   ],
   "source": [
    "plt.plot(optimized_log_nu, '.', label='$\\\\ln \\\\nu_k$')\n",
    "# plt.plot(np.exp(optimized_log_nu), '.', label='$\\\\nu_k$')\n",
    "plt.xlabel('$k$')\n",
    "plt.legend()\n",
    "plt.show()"
   ]
  },
  {
   "cell_type": "markdown",
   "id": "78e4589d-3c25-4ad2-877f-357384cc1877",
   "metadata": {},
   "source": [
    "In the end, review the hyper-parameters used for this numerical experiment:"
   ]
  },
  {
   "cell_type": "code",
   "execution_count": 11,
   "id": "b1b701e1-903d-48b9-99fa-bda97e299518",
   "metadata": {},
   "outputs": [
    {
     "data": {
      "text/plain": [
       "{'levels': 5, 'true_log_volume': 30.0}"
      ]
     },
     "execution_count": 11,
     "metadata": {},
     "output_type": "execute_result"
    }
   ],
   "source": [
    "EXPERIMENT"
   ]
  },
  {
   "cell_type": "markdown",
   "id": "8b4b4dcc-749f-4133-a20c-f8d744034294",
   "metadata": {},
   "source": [
    "## Conclusion\n",
    "\n",
    "* An approximate fractal appears when the `true_log_volume` is sufficient large enough, that is, when the mammalian has sufficient volume or number of cells. This condition can be satisfied by any mammalian.\n",
    "* If the Lagrangian multiplier is omitted by setting `TEST_NO_MULTIPLIER = True`, we cannot get the constrained result even though $L_2$-regulation has been employed. The Lagrangian multiplier is essential.\n",
    "* The implementation is not scalable. The CPU usage is quite low."
   ]
  },
  {
   "cell_type": "markdown",
   "id": "b251986b-4365-46e4-8f81-7fabe7aa7e2c",
   "metadata": {},
   "source": [
    "## How does Fractal Emerge in Nature\n",
    "\n",
    "Recall that\n",
    "\n",
    "$$ R_b \\propto \\sum_{k=0}^{C} \\left( \\prod_{i=k}^{C-1} \\nu_i^{-5/3} \\right) \\left( \\prod_{i=0}^{k-1} \\nu_i^{-1} \\right). $$\n",
    "\n",
    "Since $n_C = \\prod_{k=0}^{C-1} \\nu_k$, when the scale of $n_C$ is sufficient large, the scale of $\\nu_k$ may become large too. When $\\nu_k \\gg 1$, the $k=C$ term, the term for terminals, dominates the others. Explicitly, it is\n",
    "\n",
    "$$ \\prod_{i=0}^{C-1} \\nu_i^{-1}. $$\n",
    "\n",
    "In this expression, the components of $\\nu$ are symmetric by permutation. They are equal weight. So, the extreme values of this term has equal components of $\\nu$. The same for the constraints. The components of the auxiliary variable $z$ are also symmetric by permutation. So, the extreme values of the loss $L(\\nu, z; \\mu, \\omega)$ have approximately equal components. This is the reason of the emerge of fractal.\n",
    "\n",
    "In summary, the conditions for fractal to emerge are the large amount of branching and the permutation symmetry in the leading terms of the objective and constraints. When the number of \"children branches\" becomes large enough for each \"parent branch\", the differences in the terms of the objective and constraints become so large that only one or several terms dominate. Within these terms, if the permutation symmetry on the branching numbers is satisfied or approximately satisfied, the fractal must emerge."
   ]
  },
  {
   "cell_type": "markdown",
   "id": "458f0278-4cda-4ed5-a32d-daabb081f406",
   "metadata": {},
   "source": [
    "Let us check this idea. Recall that the logits are sent to a log-sum-exp function, we shall consider the exponentials as the contribution to $R$:"
   ]
  },
  {
   "cell_type": "code",
   "execution_count": 34,
   "id": "b20bc576-a2c9-429e-bcbf-138427e7405d",
   "metadata": {},
   "outputs": [
    {
     "data": {
      "text/plain": [
       "(-29.981514553211866, 30.0, array([6., 6., 6., 6., 6.]))"
      ]
     },
     "execution_count": 34,
     "metadata": {},
     "output_type": "execute_result"
    }
   ],
   "source": [
    "x = 6 * np.ones([EXPERIMENT['levels']])\n",
    "# x = [0., 0., 0., 24., 6.]\n",
    "# x = optimized_log_nu\n",
    "get_log_resistance(x), get_log_volume(x), x"
   ]
  },
  {
   "cell_type": "code",
   "execution_count": 35,
   "id": "d4b21a97-2409-408f-8b8b-473e98ed0b11",
   "metadata": {},
   "outputs": [
    {
     "name": "stdout",
     "output_type": "stream",
     "text": [
      "k = 0: 1.92875e-22\n",
      "k = 1: 1.05306e-20\n",
      "k = 2: 5.74952e-19\n",
      "k = 3: 3.13913e-17\n",
      "k = 4: 1.71391e-15\n",
      "k = 5: 9.35762e-14\n"
     ]
    }
   ],
   "source": [
    "for k in range(EXPERIMENT['levels']+1):\n",
    "    print(f'k = {k}:',\n",
    "          f'{np.exp(-(5/3) * np.sum(x[k:]) - np.sum(x[:k])):.5e}'\n",
    "    )"
   ]
  },
  {
   "cell_type": "markdown",
   "id": "2cef83a2-5604-4b57-af7d-1210634b168c",
   "metadata": {},
   "source": [
    "Indeed, the last term is dominates the others."
   ]
  },
  {
   "cell_type": "markdown",
   "id": "a6a4f62d-8300-4b29-8b87-313f2cc1fa56",
   "metadata": {},
   "source": [
    "## Discussion\n",
    "\n",
    "The resistance $R_b(\\nu)$ can be seen as an action. The true value of $\\nu$ locates in its minima. So, we can construct a probabilistic model of $\\nu$, the branching of vessel system, as\n",
    "\n",
    "$$ p(\\nu) \\propto \\exp(-\\beta R_b(\\nu)) \\delta(V_b(\\nu) - \\bar{V}_b), $$\n",
    "\n",
    "for any positive $\\beta$ characterizing the randomness.\n",
    "\n",
    "TODO"
   ]
  }
 ],
 "metadata": {
  "kernelspec": {
   "display_name": ".venv",
   "language": "python",
   "name": ".venv"
  },
  "language_info": {
   "codemirror_mode": {
    "name": "ipython",
    "version": 3
   },
   "file_extension": ".py",
   "mimetype": "text/x-python",
   "name": "python",
   "nbconvert_exporter": "python",
   "pygments_lexer": "ipython3",
   "version": "3.11.6"
  }
 },
 "nbformat": 4,
 "nbformat_minor": 5
}
