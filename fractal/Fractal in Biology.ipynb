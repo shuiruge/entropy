{
 "cells": [
  {
   "cell_type": "markdown",
   "id": "6b2aaafb-cf13-4129-99f7-f5673e0bfe16",
   "metadata": {},
   "source": [
    "# Fractal in Biology\n",
    "\n",
    "This notebook checks the result in [West, et al. (1997)](https://www.science.org/doi/10.1126/science.276.5309.122). This paper concludes that fractal in biology results in the minimization of total energy cost. In the specific case considered by the authors, the mammalian circulatory systems, the fractal branching of capillary vessel naturally arises from reducing the energy cost of vessel circulation. Here, we check this result by numerical optimization method. Our discussion is based on a new paper by [Etienne, et al. (2006)](https://besjournals.onlinelibrary.wiley.com/doi/full/10.1111/j.1365-2435.2006.01136.x), which has better writing style and notations. \n",
    "\n",
    "## Notations\n",
    "\n",
    "We follow the notations in Etinene, et al. (2006):\n",
    "\n",
    "- $C$: number of branching levels.\n",
    "- $k$: branching level, from $1$ to $C$.\n",
    "- $n_k$: number of branches at $k$ level.\n",
    "- $r_k$: radius of vessel at $k$ level.\n",
    "- $l_k$: length of vessel at $k$ level.\n",
    "- $\\nu_k$: $n_{k+1} / n_k$.\n",
    "- $\\rho_k$: $r_{k+1} / r_k$.\n",
    "- $\\lambda_k$: $l_{k+1} / l_k$."
   ]
  },
  {
   "cell_type": "markdown",
   "id": "5b28d388-e1b4-491e-85cb-fbca727e1d3d",
   "metadata": {},
   "source": [
    "## Assumptions"
   ]
  },
  {
   "cell_type": "markdown",
   "id": "719ac578-31ea-4353-996d-468fc98cfd73",
   "metadata": {},
   "source": [
    "The assumption that the properties of capillary are universal for all mammals implies that the $n_C$, $l_C$, and $r_C$ are fixed. So, we have\n",
    "\n",
    "$$ l_k = \\frac{l_k}{l_{k+1}} \\cdots \\frac{l_{C-1}}{l_C} l_C = l_C \\lambda_k^{-1} \\cdots \\lambda_{C-1}^{-1} = l_C \\prod_{i=k}^{C-1} \\lambda_i^{-1}. $$\n",
    "\n",
    "The same,\n",
    "\n",
    "$$ r_k = r_C \\prod_{i=k}^{C-1} \\rho_i^{-1}, $$\n",
    "\n",
    "  and\n",
    "\n",
    "$$ n_k = n_C \\prod_{i=k}^{C-1} \\nu_i^{-1}. $$\n",
    "\n",
    "Based on assumption of area-preserving, we have that $n_k r_k^2$ is independent of $k$. This implies\n",
    "\n",
    "$$ \\rho_k = \\nu_k^{-1/2}. $$\n",
    "\n",
    "And by assumption of space-fulfilling, we have that $n_k l_k^3$ is independent of $k$. This implies\n",
    "\n",
    "$$ \\lambda_k = \\nu_k^{-1/3}. $$\n",
    "\n",
    "Because of these, the unique degree of freedom is the $\\nu$."
   ]
  },
  {
   "cell_type": "code",
   "execution_count": 1,
   "id": "499a5415-a2d3-4721-8f5f-d44401f92629",
   "metadata": {},
   "outputs": [
    {
     "name": "stderr",
     "output_type": "stream",
     "text": [
      "2024-02-28 21:36:41.807818: I tensorflow/core/platform/cpu_feature_guard.cc:182] This TensorFlow binary is optimized to use available CPU instructions in performance-critical operations.\n",
      "To enable the following instructions: SSE3 SSE4.1 SSE4.2 AVX AVX2 FMA, in other operations, rebuild TensorFlow with the appropriate compiler flags.\n"
     ]
    }
   ],
   "source": [
    "import numpy as np\n",
    "import tensorflow as tf\n",
    "from tensorflow.python import keras\n",
    "from tqdm import tqdm\n",
    "import matplotlib.pyplot as plt"
   ]
  },
  {
   "cell_type": "markdown",
   "id": "ffaf22ee-6157-4332-a86f-a32b7cf1e1ea",
   "metadata": {},
   "source": [
    "We use several samples in searching optimal parallelly. So, the $\\nu$, or for numerical stability $\\ln \\nu$, has tensor shape `[samples, levels]`."
   ]
  },
  {
   "cell_type": "code",
   "execution_count": 2,
   "id": "76e91d8f-7e3c-4881-847a-62d2c29e64a9",
   "metadata": {},
   "outputs": [],
   "source": [
    "SAMPLES = 8\n",
    "LEVELS = 100\n",
    "RANDOM_SEED = 42"
   ]
  },
  {
   "cell_type": "code",
   "execution_count": 3,
   "id": "fa4f934d-8289-49a2-85f5-a66e3b7eb5bc",
   "metadata": {},
   "outputs": [],
   "source": [
    "def init_variable(shape, strategy, range_):\n",
    "    return tf.Variable(initialize(shape, strategy, range_))\n",
    "\n",
    "def initialize(shape, strategy, range_):\n",
    "    if strategy == 'zero':\n",
    "        return tf.zeros(shape)\n",
    "    elif strategy == 'uniform':\n",
    "        return tf.random.uniform(\n",
    "            shape, minval=-range_, maxval=range_, seed=RANDOM_SEED)\n",
    "    else:\n",
    "        raise ValueError()\n",
    "\n",
    "log_nu = initialize([SAMPLES, LEVELS], 'uniform', 1e-1)"
   ]
  },
  {
   "cell_type": "markdown",
   "id": "e04a0ba0-54fe-417c-bbb8-1fe05d7e6e1d",
   "metadata": {},
   "source": [
    "## Loss Function"
   ]
  },
  {
   "cell_type": "markdown",
   "id": "05193765-5627-4d4f-8c4c-2ba3fe031147",
   "metadata": {},
   "source": [
    "The quantity to be minimized is the total resistance of the vessel system. By [Hagen-Poiseuille equation](https://en.wikipedia.org/wiki/Hagen%E2%80%93Poiseuille_equation#Equation), we have the difference of pressure at level $k$, $\\Delta p_k = Q_k R_k$ where $Q_k$ represents the flow rate and $R_k := (8 \\mu l_k)/(\\pi r_k^4)$. Analogy to electricity, $\\Delta p_k$ corresponds to difference of potential $\\Delta V$, and $Q_k$ to current $I$. So, the $R_k$ is the resistance. At level $k$, the vessels are parallel. And for different levels, vessels are serial. So, the total resistance comes to be\n",
    "\n",
    "$$ R_b = \\sum_{k=1}^{C} \\frac{R_k}{n_k} = \\frac{8\\mu}{\\pi} \\sum_{k=1}^{C} \\frac{l_k}{r_k^4 n_k} = \\frac{8\\mu}{\\pi} \\frac{l_C}{r_C^4 n_C} \\sum_{k=1}^{C} \\prod_{i=k}^{C-1} \\frac{\\rho_i^4 \\nu_i}{\\lambda_i}. $$\n",
    "\n",
    "Plugging into the relation between $\\rho$, $\\lambda$ and $\\nu$, we find\n",
    "\n",
    "$$ R_b = \\frac{8\\mu}{\\pi} \\frac{l_C}{r_C^4 n_C} \\sum_{k=1}^{C} \\prod_{i=k}^{C-1} \\nu_i^{-2/3}. $$\n",
    "\n",
    "For numerical stability, we consider\n",
    "\n",
    "$$ \\ln R_b = \\ln \\left( \\frac{8\\mu}{\\pi} \\frac{l_C}{r_C^4 n_C} \\right) + \\ln \\sum_{k=1}^{C} \\prod_{i=k}^{C-1} \\nu_i^{-2/3}. $$"
   ]
  },
  {
   "cell_type": "code",
   "execution_count": 4,
   "id": "12747b49-add2-412c-8534-9d3dc9ef0f31",
   "metadata": {},
   "outputs": [
    {
     "data": {
      "text/plain": [
       "<tf.Tensor: shape=(8,), dtype=float32, numpy=\n",
       "array([4.4783278, 4.4101524, 4.5963864, 4.7894454, 4.945795 , 4.3147306,\n",
       "       4.8378053, 4.573499 ], dtype=float32)>"
      ]
     },
     "execution_count": 4,
     "metadata": {},
     "output_type": "execute_result"
    }
   ],
   "source": [
    "def get_log_resistance(log_nu):\n",
    "    \"\"\"Omit the constant.\"\"\"\n",
    "    logits = []\n",
    "    for i in range(LEVELS):\n",
    "        logits.append(-(2/3) * tf.reduce_sum(log_nu[:, i:], axis=1))\n",
    "    logits = tf.stack(logits, axis=1)\n",
    "    return tf.reduce_logsumexp(logits, axis=1)\n",
    "\n",
    "get_log_resistance(log_nu)"
   ]
  },
  {
   "cell_type": "markdown",
   "id": "476a4eb5-94af-4b72-b1c2-235d86426259",
   "metadata": {},
   "source": [
    "It is also assumed that the blood volume is proportional to the body size. The blood volumne is given by\n",
    "\n",
    "$$ V_b = \\pi \\sum_{k=1}^C r_k^2 l_k n_k = \\pi r_C^2 l_C n_C \\sum_{k=1}^C \\prod_{i=k}^{C-1} \\frac{1}{\\rho_i^2 \\lambda_i \\nu_i} = \\pi r_C^2 l_C n_C \\sum_{k=1}^C \\prod_{i=k}^{C-1} \\nu_i^{1/3}. $$\n",
    "\n",
    "If the body size is fixed, then $V_b$ shall be fixed too. Then,\n",
    "\n",
    "$$ \\ln V_b = \\ln \\left( \\pi r_C^2 l_C n_C \\right) + \\ln \\sum_{k=1}^C \\prod_{i=k}^{C-1} \\nu_i^{1/3}. $$"
   ]
  },
  {
   "cell_type": "code",
   "execution_count": 5,
   "id": "95f72cfb-10fe-4934-bdc0-14ccac6bc342",
   "metadata": {},
   "outputs": [
    {
     "data": {
      "text/plain": [
       "<tf.Tensor: shape=(8,), dtype=float32, numpy=\n",
       "array([4.671967 , 4.7049384, 4.6158667, 4.5159307, 4.4602656, 4.776404 ,\n",
       "       4.495057 , 4.625864 ], dtype=float32)>"
      ]
     },
     "execution_count": 5,
     "metadata": {},
     "output_type": "execute_result"
    }
   ],
   "source": [
    "def get_log_volume(log_nu):\n",
    "    \"\"\"Omit the constant.\"\"\"\n",
    "    logits = []\n",
    "    for i in range(LEVELS):\n",
    "        logits.append((1/3) * tf.reduce_sum(log_nu[:, i:], axis=1))\n",
    "    logits = tf.stack(logits, axis=1)\n",
    "    return tf.reduce_logsumexp(logits, axis=1)\n",
    "\n",
    "get_log_volume(log_nu)"
   ]
  },
  {
   "cell_type": "markdown",
   "id": "99beadb8-74a7-4f36-9577-4be6dc346058",
   "metadata": {},
   "source": [
    "Altogether, the loss function shall be\n",
    "\n",
    "$$ R_b(\\nu) + \\mu_b \\left( \\frac{V_b(\\nu)}{\\bar{V}_b} - 1 \\right), $$\n",
    "\n",
    "or\n",
    "\n",
    "$$ \\ln R_b(\\nu) + \\mu_b \\left( \\ln V_b(\\nu) - \\ln \\bar{V}_b \\right), $$\n",
    "\n",
    "for some observed values $\\bar{V}_b$ and $\\bar{N}$ given. By omitting the constants, it becomes\n",
    "\n",
    "$$ \\ln \\sum_{k=1}^{C} \\prod_{i=k}^{C-1} \\nu_i^{-2/3} + \\mu_b \\left( \\ln \\sum_{k=1}^C \\prod_{i=k}^{C-1} \\nu_i^{1/3} - \\ln \\bar{V}_b \\right). $$"
   ]
  },
  {
   "cell_type": "markdown",
   "id": "4d1f87f4-ce5f-434a-8f7a-a8366c794b66",
   "metadata": {},
   "source": [
    "What is a proper value of $\\bar{V}_b$. It is natural to suppose that $n_{k+1}/n_k >= 2$. This means $\\bar{V}_b$ shall be greater than the volume given by $\\nu = 2$. And it shall not be too large, for numerical consideration.\n",
    "\n",
    "In fact, it is sufficient for the optimized volume to approximate the order of $\\bar{V}_b$. We can regard this optimized volume as the real $\\bar{V}_b$. In other words, $\\bar{V}_b$ is used to determine the order, but not the accurate value."
   ]
  },
  {
   "cell_type": "code",
   "execution_count": 6,
   "id": "76529753-cb7f-4c76-a7b2-a36d9c05b289",
   "metadata": {},
   "outputs": [
    {
     "data": {
      "text/plain": [
       "<tf.Tensor: shape=(1,), dtype=float64, numpy=array([24.68333243])>"
      ]
     },
     "execution_count": 6,
     "metadata": {},
     "output_type": "execute_result"
    }
   ],
   "source": [
    "least_log_volume = get_log_volume(np.log(2) * np.ones([1, LEVELS]))\n",
    "least_log_volume"
   ]
  },
  {
   "cell_type": "code",
   "execution_count": 7,
   "id": "7adcc3bf-fd48-4ff8-a5b9-18ab200e3d72",
   "metadata": {},
   "outputs": [],
   "source": [
    "TRUE_LOG_VB = 3e+1"
   ]
  },
  {
   "cell_type": "code",
   "execution_count": 8,
   "id": "f78d3c15-b420-4fe4-a463-12feb39affd7",
   "metadata": {},
   "outputs": [
    {
     "data": {
      "text/plain": [
       "(<tf.Tensor: shape=(8,), dtype=float32, numpy=\n",
       " array([-5.0656066, -5.0590124, -5.0768266, -5.096814 , -5.107947 ,\n",
       "        -5.044719 , -5.100989 , -5.074827 ], dtype=float32)>,\n",
       " <tf.Tensor: shape=(8,), dtype=float32, numpy=\n",
       " array([4.4783278, 4.4101524, 4.5963864, 4.7894454, 4.945795 , 4.3147306,\n",
       "        4.8378053, 4.573499 ], dtype=float32)>,\n",
       " [<tf.Tensor: shape=(8,), dtype=float32, numpy=\n",
       "  array([-25.328033, -25.295061, -25.384132, -25.48407 , -25.539734,\n",
       "         -25.223597, -25.504944, -25.374136], dtype=float32)>])"
      ]
     },
     "execution_count": 8,
     "metadata": {},
     "output_type": "execute_result"
    }
   ],
   "source": [
    "def get_loss(log_nu, mu_b, mu_n):\n",
    "    \"\"\"l2 for L2-regulation.\"\"\"\n",
    "    main = get_log_resistance(log_nu)\n",
    "    constraints = []\n",
    "    loss = main\n",
    "    for mu, c in [\n",
    "        (mu_b, get_log_volume(log_nu) - TRUE_LOG_VB),\n",
    "        # other constraints...\n",
    "    ]:\n",
    "        loss = mu * c\n",
    "        constraints.append(c)\n",
    "    return loss, main, constraints\n",
    "\n",
    "get_loss(log_nu, 0.2, 0.1)"
   ]
  },
  {
   "cell_type": "markdown",
   "id": "58c02dd3-e79d-4f3d-adda-0450249c5249",
   "metadata": {},
   "source": [
    "## Gradient Descent with Constraints\n",
    "\n",
    "The gradient descent algorithm with constraints is described in [Platt and Barr (1988)](https://papers.nips.cc/paper_files/paper/1987/file/a87ff679a2f3e71d9181a67b7542122c-Paper.pdf). Briefly, descent on the parameters (the $\\ln \\nu$ here) and ascent on the multipliers (the $\\mu_b$ here). For numerical stability, it is suggested to add an $L_2$-regulation.\n",
    "\n",
    "For example, consider scalar functions $f$ and $g$ where $f$ is lower bounded. If you want to minimize $f(x)$ with constraint $g(x) = 0$, then the loss function will be\n",
    "\n",
    "$$ L(x, \\mu) = f(x) + \\mu g(x), $$\n",
    "\n",
    "where $\\mu$ is the Lagrangian multiplier. Then, optimize the $x$ along the direction\n",
    "\n",
    "$$ \\dot{x}^a = -\\nabla^a L(x, \\mu) = -\\nabla^a f(x) - \\mu \\nabla^a g(x), $$\n",
    "\n",
    "where the $\\nabla$ is taken on $x$ only. And optimize the $\\mu$ along the direction\n",
    "\n",
    "$$ \\dot{\\mu} = {\\color{red}+} \\partial_{\\mu} L(x, \\mu) = g(x). $$\n",
    "\n",
    "Indeed, by taking time derivative, we find\n",
    "\n",
    "$$ \\ddot{x}^a + \\left( \\nabla^a \\nabla_b f(x) + \\mu \\nabla^a \\nabla_b g(x) \\right) \\dot{x}^b + \\nabla^a \\left( \\frac{1}{2} g^2(x) \\right) = 0. $$\n",
    "\n",
    "Analogy to the damped mechanic system, we recognize that the $A^a_b(x) := \\nabla^a \\nabla_b f(x) + \\mu \\nabla^a \\nabla_b g(x)$ term is a friction coefficient and $g^2(x)$ a potential. So, the energy is $E(x) := (1/2) \\dot{x}_a \\dot{x}^b + (1/2) g^2(x)$, and because of friction, the energy loss rate is $\\dot{E}(x) = -A_{a b}(x) \\dot{x}^a \\dot{x}^b$. So, to ensure that the energy losses, $A(x)$ has to be positive definite, at least being positive definite near the minimum. This is true for $\\nabla^a \\nabla_b f(x)$ since $f$ is lower bounded. So, we have to restrict the scale of $g$ such that $A$ is positive definite. To do so, we add an $L_2$-regulation for $g(x)$."
   ]
  },
  {
   "cell_type": "code",
   "execution_count": 9,
   "id": "52a7d9b1-e016-44d6-b11e-7eff090e68b6",
   "metadata": {},
   "outputs": [],
   "source": [
    "def get_train_step(optimizer, l2):\n",
    "    step = tf.Variable(0, dtype=tf.int32, trainable=False)\n",
    "    l2 = tf.convert_to_tensor(l2)\n",
    "\n",
    "    @tf.function\n",
    "    def train_step(log_nu, mu_b, mu_n):\n",
    "        with tf.GradientTape() as tape:\n",
    "            loss, main, constraints = get_loss(log_nu, mu_b, mu_n)\n",
    "            for c in constraints:  # add L2-regulation.\n",
    "                loss += l2 * tf.square(c)\n",
    "            total_loss = tf.reduce_sum(loss)\n",
    "\n",
    "        vars = [log_nu, mu_b, mu_n]\n",
    "        grads = tape.gradient(total_loss, vars,\n",
    "                              unconnected_gradients='zero')\n",
    "        # Descent for parameters and ascent for multipliers:\n",
    "        grads_and_vars = []\n",
    "        for i, var in enumerate(vars):\n",
    "            if i < 1:\n",
    "                grads_and_vars.append((grads[i], vars[i]))\n",
    "            else:\n",
    "                grads_and_vars.append((-grads[i], vars[i]))\n",
    "\n",
    "        optimizer.apply_gradients(grads_and_vars)\n",
    "        check_nan(vars)\n",
    "        step.assign_add(1)\n",
    "        return main, constraints, grads_and_vars\n",
    "\n",
    "    return train_step, step\n",
    "    \n",
    "\n",
    "def check_nan(xs):\n",
    "    for x in xs:\n",
    "        try:\n",
    "            tf.debugging.check_numerics(x, message='')\n",
    "        except Exception as e:\n",
    "            raise ValueError('NaN value.')"
   ]
  },
  {
   "cell_type": "code",
   "execution_count": 18,
   "id": "3577792b-2678-4513-b7b3-a7d742f040f3",
   "metadata": {},
   "outputs": [],
   "source": [
    "log_nu = init_variable([SAMPLES, LEVELS], 'uniform', 1e-1)\n",
    "mu_b = init_variable([SAMPLES, 1], 'uniform', 1e-1)\n",
    "mu_n = init_variable([SAMPLES, 1], 'uniform', 1e-1)\n",
    "optimizer = keras.optimizers.adam_v2.Adam()\n",
    "train_step, step = get_train_step(optimizer, 1e-1)"
   ]
  },
  {
   "cell_type": "code",
   "execution_count": 19,
   "id": "cd37f0c9-c281-4b05-819e-30a3c4f7a08c",
   "metadata": {},
   "outputs": [
    {
     "data": {
      "text/plain": [
       "(<tf.Tensor: shape=(8,), dtype=float32, numpy=\n",
       " array([4.879563 , 4.4733663, 4.7339664, 4.9022307, 4.222163 , 4.820443 ,\n",
       "        4.78973  , 4.8132014], dtype=float32)>,\n",
       " [<tf.Tensor: shape=(8,), dtype=float32, numpy=\n",
       "  array([-25.52781 , -25.323158, -25.442928, -25.533648, -25.197252,\n",
       "         -25.495546, -25.475576, -25.489613], dtype=float32)>])"
      ]
     },
     "execution_count": 19,
     "metadata": {},
     "output_type": "execute_result"
    }
   ],
   "source": [
    "main, constraints, _ = train_step(log_nu, mu_b, mu_n)\n",
    "main, constraints"
   ]
  },
  {
   "cell_type": "code",
   "execution_count": 20,
   "id": "4fc24899-2e20-4b24-8b6e-12308560848b",
   "metadata": {},
   "outputs": [
    {
     "name": "stderr",
     "output_type": "stream",
     "text": [
      "100%|███████████████████████████████████████████████████| 500000/500000 [10:47<00:00, 772.53it/s]\n"
     ]
    }
   ],
   "source": [
    "main_logs = []\n",
    "for i in tqdm(range(500000)):\n",
    "    main, _, _ = train_step(log_nu, mu_b, mu_n)\n",
    "    main_logs.append(main.numpy())"
   ]
  },
  {
   "cell_type": "markdown",
   "id": "fcba1bea-d6c0-40a3-b254-e0796bca0cf6",
   "metadata": {},
   "source": [
    "Let us check the optimization results:"
   ]
  },
  {
   "cell_type": "code",
   "execution_count": 13,
   "id": "4b0cbdac-290d-4499-8768-85a5a97e4e34",
   "metadata": {},
   "outputs": [
    {
     "data": {
      "text/plain": [
       "<tf.Tensor: shape=(8,), dtype=float32, numpy=\n",
       "array([0.37848103, 0.49371797, 0.4424957 , 0.45129937, 0.46546507,\n",
       "       0.52704334, 0.41546082, 0.35627335], dtype=float32)>"
      ]
     },
     "execution_count": 13,
     "metadata": {},
     "output_type": "execute_result"
    }
   ],
   "source": [
    "_, main, constraints = get_loss(log_nu, mu_b, mu_n)\n",
    "main"
   ]
  },
  {
   "cell_type": "code",
   "execution_count": 14,
   "id": "24fc8023-486e-4163-92a4-86b7c31d0f68",
   "metadata": {},
   "outputs": [
    {
     "data": {
      "text/plain": [
       "[<tf.Tensor: shape=(8,), dtype=float32, numpy=\n",
       " array([ 6.4849854e-05, -3.2615662e-04, -5.2452087e-04, -4.6539307e-04,\n",
       "        -4.2915344e-04,  2.8228760e-04,  2.7084351e-04,  1.2779236e-03],\n",
       "       dtype=float32)>]"
      ]
     },
     "execution_count": 14,
     "metadata": {},
     "output_type": "execute_result"
    }
   ],
   "source": [
    "constraints"
   ]
  },
  {
   "cell_type": "code",
   "execution_count": 15,
   "id": "01f67547-d7ed-4f6f-a47d-6e085f3749e0",
   "metadata": {},
   "outputs": [
    {
     "data": {
      "text/plain": [
       "(<tf.Tensor: shape=(), dtype=int64, numpy=7>,\n",
       " <tf.Tensor: shape=(), dtype=float32, numpy=0.35627335>,\n",
       " [<tf.Tensor: shape=(), dtype=float32, numpy=0.0012779236>])"
      ]
     },
     "execution_count": 15,
     "metadata": {},
     "output_type": "execute_result"
    }
   ],
   "source": [
    "min_i = tf.argmin(main)\n",
    "min_i, main[min_i], [c[min_i] for c in constraints]"
   ]
  },
  {
   "cell_type": "code",
   "execution_count": 26,
   "id": "86a0dd7a-01a0-4959-8ac9-a46234a8895d",
   "metadata": {},
   "outputs": [
    {
     "data": {
      "image/png": "[encoded data removed]",
      "text/plain": [
       "<Figure size 640x480 with 1 Axes>"
      ]
     },
     "metadata": {},
     "output_type": "display_data"
    }
   ],
   "source": [
    "plt.plot([_[min_i] for _ in main_logs[4000:]])\n",
    "plt.xlabel('training steps')\n",
    "plt.ylabel('main')\n",
    "plt.show()"
   ]
  },
  {
   "cell_type": "markdown",
   "id": "a4234118-77a7-444a-850f-3b176e326410",
   "metadata": {},
   "source": [
    "And for the appearance of fractal:"
   ]
  },
  {
   "cell_type": "code",
   "execution_count": 16,
   "id": "b8c1ab39-7ae4-47e0-9d3e-0f185ac20abd",
   "metadata": {},
   "outputs": [
    {
     "data": {
      "image/png": "[encoded data removed]",
      "text/plain": [
       "<Figure size 640x480 with 1 Axes>"
      ]
     },
     "metadata": {},
     "output_type": "display_data"
    }
   ],
   "source": [
    "plt.plot(tf.exp(log_nu[min_i, :]), label='$\\\\nu_k$')\n",
    "plt.xlabel('$k$')\n",
    "plt.ylabel('$\\\\nu$')\n",
    "plt.legend()\n",
    "plt.show()"
   ]
  },
  {
   "cell_type": "markdown",
   "id": "42c93fb2-1b72-454d-958f-6fe7ae38ff19",
   "metadata": {},
   "source": [
    "In this figure, even though fluctuated, the $\\nu_k$ begins to saturated for greater $k$. It means fractal starts to appear in the higher levels."
   ]
  },
  {
   "cell_type": "markdown",
   "id": "e72f02e4-7296-4df3-bb3f-895410d498b9",
   "metadata": {},
   "source": [
    "Now, we can see how many branches there are. Notice that\n",
    "\n",
    "$$ \\frac{n_c}{n_1} = \\frac{n_C}{n_{C-1}} \\cdots \\frac{n_2}{n_1} = \\prod_{k=1}^{C-1} \\nu_k, $$\n",
    "\n",
    "and that $n_1 = 1$, we find\n",
    "\n",
    "$$ n_c = \\prod_{k=1}^{C-1} \\nu_k. $$"
   ]
  },
  {
   "cell_type": "code",
   "execution_count": 17,
   "id": "2a2c0771-88c5-4197-b4c8-e2cf8509b896",
   "metadata": {},
   "outputs": [
    {
     "data": {
      "text/plain": [
       "<tf.Tensor: shape=(8,), dtype=float32, numpy=\n",
       "array([125.175964, 125.22247 , 125.18686 , 125.06535 , 125.207146,\n",
       "       125.276764, 125.01372 , 125.133675], dtype=float32)>"
      ]
     },
     "execution_count": 17,
     "metadata": {},
     "output_type": "execute_result"
    }
   ],
   "source": [
    "def get_log2_nc(log_nu):\n",
    "    return tf.reduce_sum(log_nu, axis=1) * np.log2(np.e)\n",
    "\n",
    "get_log2_nc(log_nu)"
   ]
  },
  {
   "cell_type": "markdown",
   "id": "8b4b4dcc-749f-4133-a20c-f8d744034294",
   "metadata": {},
   "source": [
    "## Conclusion\n",
    "\n",
    "* From the trained `log_nu`, it is indicated that fractal appears in the higher levels. This is consistent with the empirical observation of mammalian vessel system. This phenomenon, however, is not consistent with the theoritical calculation made by West, where fractal appears uniformly on every level.\n",
    "* Assigning a proper $\\bar{V}_b$ is critical for obtaining plausible result.\n",
    "* The implementation is not scalable. The CPU usage is quite low."
   ]
  },
  {
   "cell_type": "markdown",
   "id": "a6a4f62d-8300-4b29-8b87-313f2cc1fa56",
   "metadata": {},
   "source": [
    "## Discussion\n",
    "\n",
    "The resistance $R_b(\\nu)$ can be seen as an action. The true value of $\\nu$ locates in its minima. So, we can construct a probabilistic model of $\\nu$, the branching of vessel system, as\n",
    "\n",
    "$$ p(\\nu) \\propto \\exp(-\\beta R_b(\\nu)) \\delta(V_b(\\nu) - \\bar{V}_b), $$\n",
    "\n",
    "for any positive $\\beta$ characterizing the randomness.\n",
    "\n",
    "TODO"
   ]
  }
 ],
 "metadata": {
  "kernelspec": {
   "display_name": ".venv",
   "language": "python",
   "name": ".venv"
  },
  "language_info": {
   "codemirror_mode": {
    "name": "ipython",
    "version": 3
   },
   "file_extension": ".py",
   "mimetype": "text/x-python",
   "name": "python",
   "nbconvert_exporter": "python",
   "pygments_lexer": "ipython3",
   "version": "3.11.6"
  }
 },
 "nbformat": 4,
 "nbformat_minor": 5
}
