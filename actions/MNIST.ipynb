{
 "cells": [
  {
   "cell_type": "markdown",
   "id": "07274ccd-76f1-46a0-b64d-29dd3d7b8019",
   "metadata": {},
   "source": [
    "## Motivation\n",
    "\n",
    "In this note, we exame the idea declared in section 1.5.5 on MNIST data."
   ]
  },
  {
   "cell_type": "code",
   "execution_count": 1,
   "id": "b8ab63f7-841b-4fe7-ae73-b0f8a207430e",
   "metadata": {},
   "outputs": [
    {
     "name": "stderr",
     "output_type": "stream",
     "text": [
      "2024-03-19 14:12:52.703021: I tensorflow/core/platform/cpu_feature_guard.cc:182] This TensorFlow binary is optimized to use available CPU instructions in performance-critical operations.\n",
      "To enable the following instructions: SSE3 SSE4.1 SSE4.2 AVX AVX2 FMA, in other operations, rebuild TensorFlow with the appropriate compiler flags.\n"
     ]
    }
   ],
   "source": [
    "import numpy as np\n",
    "import tensorflow as tf\n",
    "from keras.losses import MSE\n",
    "from sklearn.metrics import accuracy_score\n",
    "\n",
    "from utils import get_gradient_loss_fn"
   ]
  },
  {
   "cell_type": "markdown",
   "id": "0c8239d4-600f-4b3d-b665-ba64d9bac711",
   "metadata": {},
   "source": [
    "## The MNIST Data"
   ]
  },
  {
   "cell_type": "code",
   "execution_count": 2,
   "id": "d7ff4901-8ca8-4413-80ed-9184138a1ffa",
   "metadata": {},
   "outputs": [],
   "source": [
    "mnist = tf.keras.datasets.mnist\n",
    "(x_train, y_train), (x_test, y_test) = mnist.load_data()\n",
    "x_train = x_train.astype('float32').reshape([-1, 28*28]) / 255.0\n",
    "x_test = x_test.astype('float32').reshape([-1, 28*28]) / 255.0\n",
    "y_train = y_train.astype('float32')\n",
    "y_test = y_test.astype('float32')"
   ]
  },
  {
   "cell_type": "markdown",
   "id": "405d08b9-61df-44d1-a10f-9b2297783c3b",
   "metadata": {},
   "source": [
    "## Train a Model with Gradient Loss"
   ]
  },
  {
   "cell_type": "code",
   "execution_count": 3,
   "id": "65e2d654-323d-43d2-805e-3a10fa1c28d2",
   "metadata": {},
   "outputs": [],
   "source": [
    "model = tf.keras.models.Sequential([\n",
    "  tf.keras.layers.Dense(128, activation='relu'),\n",
    "  tf.keras.layers.Dense(10, 'softmax')\n",
    "])\n",
    "\n",
    "get_gradient_loss = get_gradient_loss_fn(\n",
    "    lambda inputs: MSE(inputs[1], model(inputs[0]))\n",
    ")"
   ]
  },
  {
   "cell_type": "code",
   "execution_count": 4,
   "id": "ac0e9b1c-d29b-4ef7-8ede-d29b98e069d6",
   "metadata": {},
   "outputs": [],
   "source": [
    "optimizer = tf.optimizers.Adam()\n",
    "\n",
    "@tf.function\n",
    "def train_step(x, y):\n",
    "    with tf.GradientTape() as tape:\n",
    "        loss = get_gradient_loss((x, y))\n",
    "    grads = tape.gradient(loss, model.variables)\n",
    "    optimizer.apply_gradients(zip(grads, model.variables))\n",
    "    return loss"
   ]
  },
  {
   "cell_type": "code",
   "execution_count": 5,
   "id": "1992d379-bf40-4022-bcd6-6d26c2b757f7",
   "metadata": {},
   "outputs": [],
   "source": [
    "ds = tf.data.Dataset.from_tensor_slices(\n",
    "    (x_train, tf.one_hot(y_train, 10))\n",
    ")\n",
    "ds = ds.batch(100)"
   ]
  },
  {
   "cell_type": "code",
   "execution_count": 6,
   "id": "7f8317b9-e6c9-4c30-b3c6-7036e6785d07",
   "metadata": {},
   "outputs": [
    {
     "name": "stdout",
     "output_type": "stream",
     "text": [
      "0 tf.Tensor(0.00022991777, shape=(), dtype=float32)\n",
      "1 tf.Tensor(0.00016096806, shape=(), dtype=float32)\n",
      "2 tf.Tensor(0.00013518962, shape=(), dtype=float32)\n",
      "3 tf.Tensor(0.00011561232, shape=(), dtype=float32)\n",
      "4 tf.Tensor(0.00011101961, shape=(), dtype=float32)\n",
      "5 tf.Tensor(0.00010521267, shape=(), dtype=float32)\n",
      "6 tf.Tensor(0.00011087055, shape=(), dtype=float32)\n",
      "7 tf.Tensor(0.000108633445, shape=(), dtype=float32)\n",
      "8 tf.Tensor(0.00010395485, shape=(), dtype=float32)\n",
      "9 tf.Tensor(9.801582e-05, shape=(), dtype=float32)\n",
      "10 tf.Tensor(9.600283e-05, shape=(), dtype=float32)\n",
      "11 tf.Tensor(9.6686e-05, shape=(), dtype=float32)\n",
      "12 tf.Tensor(8.454644e-05, shape=(), dtype=float32)\n",
      "13 tf.Tensor(8.760694e-05, shape=(), dtype=float32)\n",
      "14 tf.Tensor(8.176513e-05, shape=(), dtype=float32)\n",
      "15 tf.Tensor(8.39288e-05, shape=(), dtype=float32)\n",
      "16 tf.Tensor(8.118931e-05, shape=(), dtype=float32)\n",
      "17 tf.Tensor(8.327232e-05, shape=(), dtype=float32)\n",
      "18 tf.Tensor(9.277199e-05, shape=(), dtype=float32)\n",
      "19 tf.Tensor(8.073905e-05, shape=(), dtype=float32)\n"
     ]
    }
   ],
   "source": [
    "for epoch in range(20):\n",
    "    for x, y in ds:\n",
    "        loss = train_step(x, y)\n",
    "    print(epoch, loss)"
   ]
  },
  {
   "cell_type": "code",
   "execution_count": 7,
   "id": "55dde9a7-4018-4e64-b909-e069729f096c",
   "metadata": {},
   "outputs": [
    {
     "data": {
      "text/plain": [
       "0.9785"
      ]
     },
     "execution_count": 7,
     "metadata": {},
     "output_type": "execute_result"
    }
   ],
   "source": [
    "accuracy_score(y_test, tf.argmax(model(x_test), axis=1))"
   ]
  },
  {
   "cell_type": "markdown",
   "id": "b7218605-525e-445c-aa7a-0e44d3d39dc1",
   "metadata": {},
   "source": [
    "## Baseline Model"
   ]
  },
  {
   "cell_type": "code",
   "execution_count": 8,
   "id": "b9993ada-54dd-4b1f-ab9e-3e3301695c99",
   "metadata": {},
   "outputs": [],
   "source": [
    "baseline_model = tf.keras.models.Sequential([\n",
    "  tf.keras.layers.Dense(128, activation='relu'),\n",
    "  tf.keras.layers.Dense(10, 'softmax')\n",
    "])"
   ]
  },
  {
   "cell_type": "code",
   "execution_count": 9,
   "id": "2dc98178-5940-4567-be22-6735de610d85",
   "metadata": {},
   "outputs": [],
   "source": [
    "baseline_model.compile(\n",
    "    optimizer='adam',\n",
    "    loss=tf.keras.losses.SparseCategoricalCrossentropy(),\n",
    "    metrics=['accuracy'],\n",
    ")"
   ]
  },
  {
   "cell_type": "code",
   "execution_count": 10,
   "id": "9fe0e479-a012-4538-a6ca-132352299fc5",
   "metadata": {},
   "outputs": [
    {
     "name": "stdout",
     "output_type": "stream",
     "text": [
      "Epoch 1/20\n",
      "1875/1875 [==============================] - 3s 1ms/step - loss: 0.2639 - accuracy: 0.9246 - val_loss: 0.1463 - val_accuracy: 0.9561\n",
      "Epoch 2/20\n",
      "1875/1875 [==============================] - 2s 1ms/step - loss: 0.1178 - accuracy: 0.9656 - val_loss: 0.1030 - val_accuracy: 0.9703\n",
      "Epoch 3/20\n",
      "1875/1875 [==============================] - 2s 1ms/step - loss: 0.0804 - accuracy: 0.9756 - val_loss: 0.0834 - val_accuracy: 0.9741\n",
      "Epoch 4/20\n",
      "1875/1875 [==============================] - 2s 1ms/step - loss: 0.0589 - accuracy: 0.9818 - val_loss: 0.0780 - val_accuracy: 0.9750\n",
      "Epoch 5/20\n",
      "1875/1875 [==============================] - 2s 1ms/step - loss: 0.0452 - accuracy: 0.9862 - val_loss: 0.0767 - val_accuracy: 0.9760\n",
      "Epoch 6/20\n",
      "1875/1875 [==============================] - 3s 1ms/step - loss: 0.0370 - accuracy: 0.9886 - val_loss: 0.0822 - val_accuracy: 0.9748\n",
      "Epoch 7/20\n",
      "1875/1875 [==============================] - 2s 1ms/step - loss: 0.0286 - accuracy: 0.9911 - val_loss: 0.0709 - val_accuracy: 0.9793\n",
      "Epoch 8/20\n",
      "1875/1875 [==============================] - 2s 1ms/step - loss: 0.0244 - accuracy: 0.9928 - val_loss: 0.0780 - val_accuracy: 0.9780\n",
      "Epoch 9/20\n",
      "1875/1875 [==============================] - 2s 1ms/step - loss: 0.0189 - accuracy: 0.9939 - val_loss: 0.0717 - val_accuracy: 0.9802\n",
      "Epoch 10/20\n",
      "1875/1875 [==============================] - 3s 1ms/step - loss: 0.0162 - accuracy: 0.9952 - val_loss: 0.0796 - val_accuracy: 0.9768\n",
      "Epoch 11/20\n",
      "1875/1875 [==============================] - 3s 1ms/step - loss: 0.0131 - accuracy: 0.9961 - val_loss: 0.0883 - val_accuracy: 0.9766\n",
      "Epoch 12/20\n",
      "1875/1875 [==============================] - 3s 1ms/step - loss: 0.0120 - accuracy: 0.9963 - val_loss: 0.0915 - val_accuracy: 0.9756\n",
      "Epoch 13/20\n",
      "1875/1875 [==============================] - 3s 1ms/step - loss: 0.0117 - accuracy: 0.9963 - val_loss: 0.0899 - val_accuracy: 0.9764\n",
      "Epoch 14/20\n",
      "1875/1875 [==============================] - 2s 1ms/step - loss: 0.0076 - accuracy: 0.9980 - val_loss: 0.1012 - val_accuracy: 0.9764\n",
      "Epoch 15/20\n",
      "1875/1875 [==============================] - 3s 1ms/step - loss: 0.0085 - accuracy: 0.9974 - val_loss: 0.0861 - val_accuracy: 0.9799\n",
      "Epoch 16/20\n",
      "1875/1875 [==============================] - 2s 1ms/step - loss: 0.0083 - accuracy: 0.9973 - val_loss: 0.0906 - val_accuracy: 0.9780\n",
      "Epoch 17/20\n",
      "1875/1875 [==============================] - 2s 1ms/step - loss: 0.0069 - accuracy: 0.9978 - val_loss: 0.1049 - val_accuracy: 0.9772\n",
      "Epoch 18/20\n",
      "1875/1875 [==============================] - 2s 1ms/step - loss: 0.0075 - accuracy: 0.9977 - val_loss: 0.0981 - val_accuracy: 0.9795\n",
      "Epoch 19/20\n",
      "1875/1875 [==============================] - 2s 1ms/step - loss: 0.0048 - accuracy: 0.9984 - val_loss: 0.0992 - val_accuracy: 0.9778\n",
      "Epoch 20/20\n",
      "1875/1875 [==============================] - 2s 1ms/step - loss: 0.0051 - accuracy: 0.9984 - val_loss: 0.1049 - val_accuracy: 0.9782\n"
     ]
    },
    {
     "data": {
      "text/plain": [
       "<keras.src.callbacks.History at 0x7f96a36dc590>"
      ]
     },
     "execution_count": 10,
     "metadata": {},
     "output_type": "execute_result"
    }
   ],
   "source": [
    "baseline_model.fit(\n",
    "    x_train, y_train,\n",
    "    epochs=20,\n",
    "    validation_data=(x_test, y_test),\n",
    ")"
   ]
  },
  {
   "cell_type": "code",
   "execution_count": 11,
   "id": "637a961b-4f4b-4c9a-a5d3-b944c1ea01a9",
   "metadata": {},
   "outputs": [
    {
     "data": {
      "text/plain": [
       "0.9782"
      ]
     },
     "execution_count": 11,
     "metadata": {},
     "output_type": "execute_result"
    }
   ],
   "source": [
    "accuracy_score(y_test, tf.argmax(baseline_model(x_test), axis=1))"
   ]
  },
  {
   "cell_type": "markdown",
   "id": "49ce4da5-feaf-42ea-a25a-cbf25b5fd89d",
   "metadata": {},
   "source": [
    "## Conclusion\n",
    "\n",
    "By simply using the \"gradient loss\", we obtain a result that approaches the baseline."
   ]
  }
 ],
 "metadata": {
  "kernelspec": {
   "display_name": ".venv",
   "language": "python",
   "name": ".venv"
  },
  "language_info": {
   "codemirror_mode": {
    "name": "ipython",
    "version": 3
   },
   "file_extension": ".py",
   "mimetype": "text/x-python",
   "name": "python",
   "nbconvert_exporter": "python",
   "pygments_lexer": "ipython3",
   "version": "3.11.6"
  }
 },
 "nbformat": 4,
 "nbformat_minor": 5
}
