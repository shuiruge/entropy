{
 "cells": [
  {
   "cell_type": "code",
   "execution_count": 1,
   "id": "52b4754b-f5bc-469e-92be-28f36ecc9813",
   "metadata": {},
   "outputs": [
    {
     "name": "stderr",
     "output_type": "stream",
     "text": [
      "2024-05-24 11:31:25.717491: I tensorflow/core/platform/cpu_feature_guard.cc:182] This TensorFlow binary is optimized to use available CPU instructions in performance-critical operations.\n",
      "To enable the following instructions: SSE3 SSE4.1 SSE4.2 AVX AVX2 FMA, in other operations, rebuild TensorFlow with the appropriate compiler flags.\n"
     ]
    }
   ],
   "source": [
    "import numpy as np\n",
    "import tensorflow as tf\n",
    "from tqdm import tqdm\n",
    "import matplotlib.pyplot as plt"
   ]
  },
  {
   "cell_type": "code",
   "execution_count": 24,
   "id": "91a3319a-efb0-40e6-9255-1dd24d7258c8",
   "metadata": {},
   "outputs": [],
   "source": [
    "def get_mutual_distance(batch: tf.Tensor) -> tf.Tensor:\n",
    "    \"\"\"See: https://stackoverflow.com/a/37040451\"\"\"\n",
    "    # Compute distance square.\n",
    "    r = tf.reduce_sum(tf.square(batch), axis=1)\n",
    "    r = tf.reshape(r, [-1, 1])\n",
    "    dist_square = r - 2 * tf.matmul(batch, tf.transpose(batch)) + tf.transpose(r)\n",
    "    # Compute distance.\n",
    "    dist_square = tf.where(dist_square < 0, tf.zeros_like(dist_square), dist_square)\n",
    "    return tf.sqrt(dist_square)"
   ]
  },
  {
   "cell_type": "code",
   "execution_count": 25,
   "id": "daab0c60-a171-4056-a07f-1c6d729ecab9",
   "metadata": {},
   "outputs": [],
   "source": [
    "def get_neighbours(x: tf.Tensor, num_nb: int) -> tf.Tensor:\n",
    "    dist = get_mutual_distance(x)\n",
    "    return tf.math.top_k(-dist, num_nb+1)[1][:, 1:]"
   ]
  },
  {
   "cell_type": "code",
   "execution_count": 26,
   "id": "20a31aba-6e43-408d-9e83-adc123ab751b",
   "metadata": {},
   "outputs": [],
   "source": [
    "def get_dynamics(num_nb: int, J: float, dt: float, T: float):\n",
    "    @tf.function\n",
    "    def dynamics(x: tf.Tensor, v: tf.Tensor):\n",
    "        nb = get_neighbours(x, num_nb)\n",
    "        nb_v = tf.gather(v, nb, axis=0)\n",
    "        v += J * (tf.reduce_mean(nb_v, axis=1) - v) * dt\n",
    "        v += tf.random.normal(tf.shape(v)) * tf.sqrt(2*T*dt)\n",
    "        x += v * dt\n",
    "        return x, v\n",
    "    return dynamics\n",
    "\n",
    "dynamics = get_dynamics(5, 1e+1, 1e-2, 1e-1)"
   ]
  },
  {
   "cell_type": "code",
   "execution_count": 27,
   "id": "6ad2977c-7662-4983-9454-f628430b5fed",
   "metadata": {},
   "outputs": [
    {
     "name": "stderr",
     "output_type": "stream",
     "text": [
      "100%|██████████████████████████████████████████████████████| 3000/3000 [00:07<00:00, 388.78it/s]\n"
     ]
    }
   ],
   "source": [
    "x = tf.random.uniform([1000, 3])\n",
    "v = tf.random.uniform([1000, 3])\n",
    "\n",
    "for _ in tqdm(range(3000)):\n",
    "    x, v = dynamics(x, v)"
   ]
  },
  {
   "cell_type": "code",
   "execution_count": 28,
   "id": "9194b4bc-5a4b-43a4-9de2-a9642e253e08",
   "metadata": {},
   "outputs": [
    {
     "data": {
      "text/plain": [
       "(<tf.Tensor: shape=(1000, 3), dtype=float32, numpy=\n",
       " array([[ 0.5435019 , -0.92760694,  1.4264784 ],\n",
       "        [-0.82650614,  0.52262145, -0.47103587],\n",
       "        [ 0.20280771,  0.7534862 , -0.7842557 ],\n",
       "        ...,\n",
       "        [ 0.5779882 , -0.0708055 ,  0.76394856],\n",
       "        [ 0.18462366,  0.664624  ,  0.12583356],\n",
       "        [ 0.25796753,  1.00536   , -0.15685007]], dtype=float32)>,\n",
       " <tf.Tensor: shape=(1000, 3), dtype=float32, numpy=\n",
       " array([[ 18.68617  ,  -1.6713   ,  29.39906  ],\n",
       "        [-15.476074 ,   8.300952 ,  -6.5593567],\n",
       "        [  9.876423 ,  15.785485 ,   2.2921526],\n",
       "        ...,\n",
       "        [ 20.333317 ,  -3.5407214,  30.126661 ],\n",
       "        [ 22.728191 ,  10.767985 ,  18.786856 ],\n",
       "        [  8.831775 ,  34.730206 ,  -5.0739064]], dtype=float32)>)"
      ]
     },
     "execution_count": 28,
     "metadata": {},
     "output_type": "execute_result"
    }
   ],
   "source": [
    "v, x"
   ]
  },
  {
   "cell_type": "code",
   "execution_count": 35,
   "id": "c4e9c164-cba6-4f15-8185-560d95da6e01",
   "metadata": {},
   "outputs": [
    {
     "name": "stderr",
     "output_type": "stream",
     "text": [
      "1000000it [00:00, 1353693.42it/s]\n"
     ]
    }
   ],
   "source": [
    "def binning(x: np.ndarray, y: np.ndarray, num_bins: int, agg_fn=np.mean, eps=1e-1):\n",
    "    x_min = x.min()\n",
    "    x_max = x.max()\n",
    "    num_x = len(x)\n",
    "    bins = np.linspace(x_min, x_max, num_bins+1)\n",
    "    x_bin = [x_min]\n",
    "    y_agg = []\n",
    "    y_cache = []\n",
    "    hist = []\n",
    "    i = 0\n",
    "    for (j, xj) in enumerate(x):\n",
    "        if j == num_x - 1 or xj >= bins[i+1]:\n",
    "            i += 1\n",
    "            if not y_cache:\n",
    "                continue\n",
    "            else:\n",
    "                x_bin.append(xj)\n",
    "                y_agg.append(agg_fn(y_cache))\n",
    "                hist.append(len(y_cache))\n",
    "                y_cache = []\n",
    "        else:\n",
    "            y_cache.append(y[j])\n",
    "    return x_bin, y_agg, hist"
   ]
  },
  {
   "cell_type": "code",
   "execution_count": 45,
   "id": "bc25dc96-af8a-494e-b0df-57d2b6644d08",
   "metadata": {},
   "outputs": [
    {
     "name": "stderr",
     "output_type": "stream",
     "text": [
      "1000000it [00:00, 1359478.55it/s]\n"
     ]
    },
    {
     "data": {
      "text/plain": [
       "31.395947"
      ]
     },
     "execution_count": 45,
     "metadata": {},
     "output_type": "execute_result"
    }
   ],
   "source": [
    "def get_zeta_and_supp(x, v, num_bins):\n",
    "    dist = get_mutual_distance(x)\n",
    "    dist = tf.reshape(dist, [-1])\n",
    "\n",
    "    v_mean = tf.reduce_mean(v, axis=0, keepdims=True)\n",
    "    u = v - v_mean\n",
    "    inner_u = tf.matmul(u, tf.transpose(u))\n",
    "    inner_u = tf.reshape(inner_u, [-1])\n",
    "\n",
    "    # Sort by distance\n",
    "    ids = tf.argsort(dist, axis=0)\n",
    "    sorted_inner_u = tf.gather(inner_u, ids)\n",
    "    sorted_dist = tf.gather(dist, ids)\n",
    "\n",
    "    r_bin, u_mean, hist = binning(sorted_dist.numpy(), sorted_inner_u.numpy(), num_bins)\n",
    "    zeta = r_bin[tf.argmin(tf.square(u_mean))]\n",
    "    return zeta, (sorted_dist, sorted_inner_u, r_bin, u_mean, hist)\n",
    "\n",
    "\n",
    "zeta, (sorted_dist, sorted_inner_u, r_bin, u_mean, hist) = get_zeta_and_supp(x, v, 50)\n",
    "zeta"
   ]
  },
  {
   "cell_type": "code",
   "execution_count": 46,
   "id": "39c7f458-11a0-4a4c-9d48-8fcf22db4f71",
   "metadata": {},
   "outputs": [
    {
     "data": {
      "image/png": "[encoded data removed]",
      "text/plain": [
       "<Figure size 640x480 with 1 Axes>"
      ]
     },
     "metadata": {},
     "output_type": "display_data"
    }
   ],
   "source": [
    "plt.scatter(r_bin[:-1], u_mean, marker='.')\n",
    "plt.hlines(0, xmin=sorted_dist[0], xmax=sorted_dist[-1], linestyles='--')\n",
    "plt.vlines(zeta, ymin=-1, ymax=1, linestyles='--')\n",
    "plt.show()"
   ]
  },
  {
   "cell_type": "code",
   "execution_count": 76,
   "id": "46ae3c75-ecef-41a8-be19-6bbe6a275b76",
   "metadata": {},
   "outputs": [],
   "source": [
    "def get_group_size(x):\n",
    "    dist = tf.reshape(get_mutual_distance(x), [-1])\n",
    "    return tf.reduce_max(dist)"
   ]
  },
  {
   "cell_type": "code",
   "execution_count": 104,
   "id": "ba8661a1-c5cb-4fb7-af84-a2b127ab6d26",
   "metadata": {
    "scrolled": true
   },
   "outputs": [],
   "source": [
    "def check_scale_free(dynamics, min_n, max_n,\n",
    "                     num_n=10, num_repeats=12,\n",
    "                     iter_steps=5000, num_bins=50):\n",
    "    group_sizes, zetas = [], []\n",
    "    for log2_n in tqdm(np.linspace(np.log2(min_n), np.log2(max_n), num_n)):\n",
    "        n = int(2**log2_n)\n",
    "        group_sizes.append([])\n",
    "        zetas.append([])\n",
    "        for _ in range(num_repeats):\n",
    "            x = tf.random.uniform([n, 3])\n",
    "            v = tf.random.uniform([n, 3])\n",
    "        \n",
    "            for _ in range(iter_steps):\n",
    "                x, v = dynamics(x, v)\n",
    "\n",
    "            group_size = get_group_size(x)\n",
    "            group_sizes[-1].append(group_size)\n",
    "\n",
    "            zeta, _ = get_zeta_and_supp(x, v, num_bins)\n",
    "            zetas[-1].append(zeta)\n",
    "    return group_sizes, zetas\n",
    "\n",
    "\n",
    "def plot_check(group_sizes, zetas):\n",
    "    zeta_means = [np.mean(_) for _ in zetas]\n",
    "    zeta_stds = [np.std(_) for _ in zetas]\n",
    "    group_size_means = [np.mean(_) for _ in group_sizes]\n",
    "    group_size_stds = [np.std(_) for _ in group_sizes]\n",
    "    plt.errorbar(x=group_size_means, xerr=group_size_stds,\n",
    "                 y=zeta_means, yerr=zeta_stds,\n",
    "                 capsize=3, fmt=\"ro\", ecolor = \"black\")\n",
    "    plt.xlabel('Group Size')\n",
    "    plt.ylabel('Correlation Length')\n",
    "    plt.show()"
   ]
  },
  {
   "cell_type": "code",
   "execution_count": 84,
   "id": "55abf087-17ae-45e9-942f-e04beb2bba96",
   "metadata": {
    "scrolled": true
   },
   "outputs": [
    {
     "name": "stderr",
     "output_type": "stream",
     "text": [
      "100%|█████████████████████████████████████████████████████| 5000/5000 [00:01<00:00, 4020.43it/s]\n",
      "900it [00:00, 466091.32it/s]\n",
      "100%|█████████████████████████████████████████████████████| 5000/5000 [00:01<00:00, 3829.68it/s]\n",
      "900it [00:00, 463629.77it/s]\n",
      "100%|█████████████████████████████████████████████████████| 5000/5000 [00:01<00:00, 3859.79it/s]\n",
      "900it [00:00, 460182.08it/s]\n",
      "100%|█████████████████████████████████████████████████████| 5000/5000 [00:01<00:00, 3832.59it/s]\n",
      "900it [00:00, 441299.23it/s]\n",
      "100%|█████████████████████████████████████████████████████| 5000/5000 [00:01<00:00, 3475.00it/s]\n",
      "900it [00:00, 440835.41it/s]\n",
      "100%|█████████████████████████████████████████████████████| 5000/5000 [00:01<00:00, 3322.82it/s]\n",
      "900it [00:00, 372900.68it/s]\n",
      "100%|█████████████████████████████████████████████████████| 5000/5000 [00:01<00:00, 3270.90it/s]\n",
      "900it [00:00, 412374.22it/s]\n",
      "100%|█████████████████████████████████████████████████████| 5000/5000 [00:01<00:00, 3184.23it/s]\n",
      "900it [00:00, 325925.88it/s]\n",
      "100%|█████████████████████████████████████████████████████| 5000/5000 [00:01<00:00, 3123.11it/s]\n",
      "900it [00:00, 392235.41it/s]\n",
      "100%|█████████████████████████████████████████████████████| 5000/5000 [00:01<00:00, 3073.27it/s]\n",
      "900it [00:00, 420645.60it/s]\n",
      "100%|█████████████████████████████████████████████████████| 5000/5000 [00:01<00:00, 2858.04it/s]\n",
      "900it [00:00, 387484.46it/s]\n",
      "100%|█████████████████████████████████████████████████████| 5000/5000 [00:01<00:00, 2528.38it/s]\n",
      "900it [00:00, 328421.23it/s]\n",
      "100%|█████████████████████████████████████████████████████| 5000/5000 [00:01<00:00, 2689.34it/s]\n",
      "1936it [00:00, 454275.39it/s]\n",
      "100%|█████████████████████████████████████████████████████| 5000/5000 [00:01<00:00, 2730.94it/s]\n",
      "1936it [00:00, 360080.38it/s]\n",
      "100%|█████████████████████████████████████████████████████| 5000/5000 [00:01<00:00, 2665.23it/s]\n",
      "1936it [00:00, 501399.97it/s]\n",
      "100%|█████████████████████████████████████████████████████| 5000/5000 [00:01<00:00, 2599.58it/s]\n",
      "1936it [00:00, 451999.58it/s]\n",
      "100%|█████████████████████████████████████████████████████| 5000/5000 [00:02<00:00, 2449.63it/s]\n",
      "1936it [00:00, 403707.49it/s]\n",
      "100%|█████████████████████████████████████████████████████| 5000/5000 [00:02<00:00, 2485.18it/s]\n",
      "1936it [00:00, 473369.04it/s]\n",
      "100%|█████████████████████████████████████████████████████| 5000/5000 [00:01<00:00, 2553.10it/s]\n",
      "1936it [00:00, 430709.84it/s]\n",
      "100%|█████████████████████████████████████████████████████| 5000/5000 [00:02<00:00, 2344.73it/s]\n",
      "1936it [00:00, 408788.39it/s]\n",
      "100%|█████████████████████████████████████████████████████| 5000/5000 [00:01<00:00, 2581.20it/s]\n",
      "1936it [00:00, 402806.32it/s]\n",
      "100%|█████████████████████████████████████████████████████| 5000/5000 [00:02<00:00, 2391.71it/s]\n",
      "1936it [00:00, 344162.61it/s]\n",
      "100%|█████████████████████████████████████████████████████| 5000/5000 [00:02<00:00, 2486.17it/s]\n",
      "1936it [00:00, 391862.39it/s]\n",
      "100%|█████████████████████████████████████████████████████| 5000/5000 [00:02<00:00, 2354.94it/s]\n",
      "1936it [00:00, 411669.08it/s]\n",
      "100%|█████████████████████████████████████████████████████| 5000/5000 [00:02<00:00, 2133.14it/s]\n",
      "4225it [00:00, 504898.70it/s]\n",
      "100%|█████████████████████████████████████████████████████| 5000/5000 [00:02<00:00, 2212.31it/s]\n",
      "4225it [00:00, 502351.01it/s]\n",
      "100%|█████████████████████████████████████████████████████| 5000/5000 [00:02<00:00, 2203.29it/s]\n",
      "4225it [00:00, 437878.29it/s]\n",
      "100%|█████████████████████████████████████████████████████| 5000/5000 [00:02<00:00, 2149.09it/s]\n",
      "4225it [00:00, 333081.49it/s]\n",
      "100%|█████████████████████████████████████████████████████| 5000/5000 [00:02<00:00, 2132.97it/s]\n",
      "4225it [00:00, 473505.26it/s]\n",
      "100%|█████████████████████████████████████████████████████| 5000/5000 [00:02<00:00, 2110.38it/s]\n",
      "4225it [00:00, 352290.85it/s]\n",
      "100%|█████████████████████████████████████████████████████| 5000/5000 [00:02<00:00, 2139.85it/s]\n",
      "4225it [00:00, 506355.81it/s]\n",
      "100%|█████████████████████████████████████████████████████| 5000/5000 [00:02<00:00, 2190.74it/s]\n",
      "4225it [00:00, 387588.51it/s]\n",
      "100%|█████████████████████████████████████████████████████| 5000/5000 [00:02<00:00, 2216.07it/s]\n",
      "4225it [00:00, 446146.38it/s]\n",
      "100%|█████████████████████████████████████████████████████| 5000/5000 [00:02<00:00, 2133.19it/s]\n",
      "4225it [00:00, 391484.43it/s]\n",
      "100%|█████████████████████████████████████████████████████| 5000/5000 [00:02<00:00, 2173.69it/s]\n",
      "4225it [00:00, 519873.69it/s]\n",
      "100%|█████████████████████████████████████████████████████| 5000/5000 [00:02<00:00, 2128.82it/s]\n",
      "4225it [00:00, 475768.10it/s]\n",
      "100%|█████████████████████████████████████████████████████| 5000/5000 [00:02<00:00, 1768.11it/s]\n",
      "9216it [00:00, 552344.22it/s]\n",
      "100%|█████████████████████████████████████████████████████| 5000/5000 [00:02<00:00, 1805.99it/s]\n",
      "9216it [00:00, 517320.51it/s]\n",
      "100%|█████████████████████████████████████████████████████| 5000/5000 [00:02<00:00, 1823.69it/s]\n",
      "9216it [00:00, 419694.53it/s]\n",
      "100%|█████████████████████████████████████████████████████| 5000/5000 [00:02<00:00, 1814.22it/s]\n",
      "9216it [00:00, 546518.48it/s]\n",
      "100%|█████████████████████████████████████████████████████| 5000/5000 [00:02<00:00, 1821.06it/s]\n",
      "9216it [00:00, 550190.10it/s]\n",
      "100%|█████████████████████████████████████████████████████| 5000/5000 [00:02<00:00, 1835.27it/s]\n",
      "9216it [00:00, 446498.40it/s]\n",
      "100%|█████████████████████████████████████████████████████| 5000/5000 [00:02<00:00, 1832.40it/s]\n",
      "9216it [00:00, 439482.75it/s]\n",
      "100%|█████████████████████████████████████████████████████| 5000/5000 [00:02<00:00, 1816.75it/s]\n",
      "9216it [00:00, 353689.32it/s]\n",
      "100%|█████████████████████████████████████████████████████| 5000/5000 [00:02<00:00, 1821.17it/s]\n",
      "9216it [00:00, 494754.90it/s]\n",
      "100%|█████████████████████████████████████████████████████| 5000/5000 [00:02<00:00, 1820.01it/s]\n",
      "9216it [00:00, 540217.26it/s]\n",
      "100%|█████████████████████████████████████████████████████| 5000/5000 [00:02<00:00, 1846.83it/s]\n",
      "9216it [00:00, 416762.33it/s]\n",
      "100%|█████████████████████████████████████████████████████| 5000/5000 [00:02<00:00, 1831.78it/s]\n",
      "9216it [00:00, 586174.72it/s]\n",
      "100%|█████████████████████████████████████████████████████| 5000/5000 [00:03<00:00, 1475.43it/s]\n",
      "20164it [00:00, 568690.51it/s]\n",
      "100%|█████████████████████████████████████████████████████| 5000/5000 [00:03<00:00, 1502.77it/s]\n",
      "20164it [00:00, 499129.18it/s]\n",
      "100%|█████████████████████████████████████████████████████| 5000/5000 [00:03<00:00, 1513.26it/s]\n",
      "20164it [00:00, 497628.45it/s]\n",
      "100%|█████████████████████████████████████████████████████| 5000/5000 [00:03<00:00, 1501.96it/s]\n",
      "20164it [00:00, 565939.15it/s]\n",
      "100%|█████████████████████████████████████████████████████| 5000/5000 [00:03<00:00, 1507.35it/s]\n",
      "20164it [00:00, 523713.35it/s]\n",
      "100%|█████████████████████████████████████████████████████| 5000/5000 [00:03<00:00, 1501.92it/s]\n",
      "20164it [00:00, 566530.54it/s]\n",
      "100%|█████████████████████████████████████████████████████| 5000/5000 [00:03<00:00, 1505.76it/s]\n",
      "20164it [00:00, 560096.07it/s]\n",
      "100%|█████████████████████████████████████████████████████| 5000/5000 [00:03<00:00, 1497.28it/s]\n",
      "20164it [00:00, 546855.55it/s]\n",
      "100%|█████████████████████████████████████████████████████| 5000/5000 [00:03<00:00, 1500.88it/s]\n",
      "20164it [00:00, 492467.73it/s]\n",
      "100%|█████████████████████████████████████████████████████| 5000/5000 [00:03<00:00, 1495.49it/s]\n",
      "20164it [00:00, 422920.48it/s]\n",
      "100%|█████████████████████████████████████████████████████| 5000/5000 [00:03<00:00, 1494.78it/s]\n",
      "20164it [00:00, 548042.68it/s]\n",
      "100%|█████████████████████████████████████████████████████| 5000/5000 [00:03<00:00, 1471.44it/s]\n",
      "20164it [00:00, 447810.54it/s]\n",
      "100%|█████████████████████████████████████████████████████| 5000/5000 [00:04<00:00, 1170.92it/s]\n",
      "44100it [00:00, 481490.23it/s]\n",
      "100%|█████████████████████████████████████████████████████| 5000/5000 [00:04<00:00, 1168.52it/s]\n",
      "44100it [00:00, 525673.70it/s]\n",
      "100%|█████████████████████████████████████████████████████| 5000/5000 [00:04<00:00, 1137.55it/s]\n",
      "44100it [00:00, 538091.07it/s]\n",
      "100%|█████████████████████████████████████████████████████| 5000/5000 [00:04<00:00, 1115.46it/s]\n",
      "44100it [00:00, 523258.69it/s]\n",
      "100%|█████████████████████████████████████████████████████| 5000/5000 [00:04<00:00, 1098.52it/s]\n",
      "44100it [00:00, 508038.82it/s]\n",
      "100%|█████████████████████████████████████████████████████| 5000/5000 [00:04<00:00, 1048.49it/s]\n",
      "44100it [00:00, 431009.00it/s]\n",
      "100%|█████████████████████████████████████████████████████| 5000/5000 [00:04<00:00, 1000.83it/s]\n",
      "44100it [00:00, 451719.65it/s]\n",
      "100%|█████████████████████████████████████████████████████| 5000/5000 [00:04<00:00, 1027.76it/s]\n",
      "44100it [00:00, 503456.21it/s]\n",
      "100%|█████████████████████████████████████████████████████| 5000/5000 [00:04<00:00, 1024.57it/s]\n",
      "44100it [00:00, 523599.37it/s]\n",
      "100%|██████████████████████████████████████████████████████| 5000/5000 [00:05<00:00, 985.07it/s]\n",
      "44100it [00:00, 494047.21it/s]\n",
      "100%|█████████████████████████████████████████████████████| 5000/5000 [00:04<00:00, 1018.04it/s]\n",
      "44100it [00:00, 453491.63it/s]\n",
      "100%|█████████████████████████████████████████████████████| 5000/5000 [00:04<00:00, 1038.21it/s]\n",
      "44100it [00:00, 532946.88it/s]\n",
      "100%|██████████████████████████████████████████████████████| 5000/5000 [00:06<00:00, 801.00it/s]\n",
      "96100it [00:00, 753661.73it/s]\n",
      "100%|██████████████████████████████████████████████████████| 5000/5000 [00:06<00:00, 772.79it/s]\n",
      "96100it [00:00, 750206.81it/s]\n",
      "100%|██████████████████████████████████████████████████████| 5000/5000 [00:06<00:00, 786.62it/s]\n",
      "96100it [00:00, 688489.29it/s]\n",
      "100%|██████████████████████████████████████████████████████| 5000/5000 [00:06<00:00, 785.92it/s]\n",
      "96100it [00:00, 778341.32it/s]\n",
      "100%|██████████████████████████████████████████████████████| 5000/5000 [00:06<00:00, 796.20it/s]\n",
      "96100it [00:00, 697751.01it/s]\n",
      "100%|██████████████████████████████████████████████████████| 5000/5000 [00:06<00:00, 786.45it/s]\n",
      "96100it [00:00, 747639.45it/s]\n",
      "100%|██████████████████████████████████████████████████████| 5000/5000 [00:06<00:00, 800.54it/s]\n",
      "96100it [00:00, 645459.40it/s]\n",
      "100%|██████████████████████████████████████████████████████| 5000/5000 [00:06<00:00, 802.49it/s]\n",
      "96100it [00:00, 711188.73it/s]\n",
      "100%|██████████████████████████████████████████████████████| 5000/5000 [00:06<00:00, 793.97it/s]\n",
      "96100it [00:00, 742026.70it/s]\n",
      "100%|██████████████████████████████████████████████████████| 5000/5000 [00:06<00:00, 798.59it/s]\n",
      "96100it [00:00, 675025.56it/s]\n",
      "100%|██████████████████████████████████████████████████████| 5000/5000 [00:06<00:00, 802.27it/s]\n",
      "96100it [00:00, 734519.31it/s]\n",
      "100%|██████████████████████████████████████████████████████| 5000/5000 [00:06<00:00, 799.61it/s]\n",
      "96100it [00:00, 705813.80it/s]\n",
      "100%|██████████████████████████████████████████████████████| 5000/5000 [00:08<00:00, 576.40it/s]\n",
      "209764it [00:00, 814870.44it/s]\n",
      "100%|██████████████████████████████████████████████████████| 5000/5000 [00:08<00:00, 579.53it/s]\n",
      "209764it [00:00, 876943.75it/s]\n",
      "100%|██████████████████████████████████████████████████████| 5000/5000 [00:08<00:00, 574.41it/s]\n",
      "209764it [00:00, 728143.21it/s]\n",
      "100%|██████████████████████████████████████████████████████| 5000/5000 [00:08<00:00, 578.47it/s]\n",
      "209764it [00:00, 750156.87it/s]\n",
      "100%|██████████████████████████████████████████████████████| 5000/5000 [00:08<00:00, 573.20it/s]\n",
      "209764it [00:00, 857700.74it/s]\n",
      "100%|██████████████████████████████████████████████████████| 5000/5000 [00:08<00:00, 582.49it/s]\n",
      "209764it [00:00, 827093.40it/s]\n",
      "100%|██████████████████████████████████████████████████████| 5000/5000 [00:08<00:00, 578.21it/s]\n",
      "209764it [00:00, 804004.41it/s]\n",
      "100%|██████████████████████████████████████████████████████| 5000/5000 [00:08<00:00, 578.93it/s]\n",
      "209764it [00:00, 798109.88it/s]\n",
      "100%|██████████████████████████████████████████████████████| 5000/5000 [00:08<00:00, 576.22it/s]\n",
      "209764it [00:00, 696344.04it/s]\n",
      "100%|██████████████████████████████████████████████████████| 5000/5000 [00:08<00:00, 573.27it/s]\n",
      "209764it [00:00, 669749.68it/s]\n",
      "100%|██████████████████████████████████████████████████████| 5000/5000 [00:08<00:00, 575.62it/s]\n",
      "209764it [00:00, 839846.53it/s]\n",
      "100%|██████████████████████████████████████████████████████| 5000/5000 [00:08<00:00, 579.46it/s]\n",
      "209764it [00:00, 860581.70it/s]\n",
      "100%|██████████████████████████████████████████████████████| 5000/5000 [00:12<00:00, 395.09it/s]\n",
      "458329it [00:00, 861020.10it/s]\n",
      "100%|██████████████████████████████████████████████████████| 5000/5000 [00:12<00:00, 393.11it/s]\n",
      "458329it [00:00, 912993.23it/s] \n",
      "100%|██████████████████████████████████████████████████████| 5000/5000 [00:12<00:00, 395.04it/s]\n",
      "458329it [00:00, 979572.15it/s]\n",
      "100%|██████████████████████████████████████████████████████| 5000/5000 [00:12<00:00, 398.20it/s]\n",
      "458329it [00:00, 906613.35it/s]\n",
      "100%|██████████████████████████████████████████████████████| 5000/5000 [00:12<00:00, 402.79it/s]\n",
      "458329it [00:00, 930921.33it/s]\n",
      "100%|██████████████████████████████████████████████████████| 5000/5000 [00:12<00:00, 397.28it/s]\n",
      "458329it [00:00, 914758.82it/s] \n",
      "100%|██████████████████████████████████████████████████████| 5000/5000 [00:12<00:00, 396.31it/s]\n",
      "458329it [00:00, 878556.87it/s]\n",
      "100%|██████████████████████████████████████████████████████| 5000/5000 [00:12<00:00, 391.43it/s]\n",
      "458329it [00:00, 946158.22it/s]\n",
      "100%|██████████████████████████████████████████████████████| 5000/5000 [00:12<00:00, 400.32it/s]\n",
      "458329it [00:00, 930850.10it/s]\n",
      "100%|██████████████████████████████████████████████████████| 5000/5000 [00:12<00:00, 412.85it/s]\n",
      "458329it [00:00, 894890.31it/s]\n",
      "100%|██████████████████████████████████████████████████████| 5000/5000 [00:12<00:00, 412.17it/s]\n",
      "458329it [00:00, 907227.75it/s]\n",
      "100%|██████████████████████████████████████████████████████| 5000/5000 [00:12<00:00, 407.06it/s]\n",
      "458329it [00:00, 887142.04it/s]\n",
      "100%|██████████████████████████████████████████████████████| 5000/5000 [00:20<00:00, 238.52it/s]\n",
      "1000000it [00:00, 1077753.76it/s]\n",
      "100%|██████████████████████████████████████████████████████| 5000/5000 [00:21<00:00, 234.47it/s]\n",
      "1000000it [00:00, 1068497.33it/s]\n",
      "100%|██████████████████████████████████████████████████████| 5000/5000 [00:21<00:00, 236.46it/s]\n",
      "1000000it [00:00, 1092815.35it/s]\n",
      "100%|██████████████████████████████████████████████████████| 5000/5000 [00:21<00:00, 235.91it/s]\n",
      "1000000it [00:00, 1086044.54it/s]\n",
      "100%|██████████████████████████████████████████████████████| 5000/5000 [00:21<00:00, 234.92it/s]\n",
      "1000000it [00:00, 1065661.21it/s]\n",
      "100%|██████████████████████████████████████████████████████| 5000/5000 [00:21<00:00, 237.27it/s]\n",
      "1000000it [00:00, 1011896.03it/s]\n",
      "100%|██████████████████████████████████████████████████████| 5000/5000 [00:21<00:00, 233.88it/s]\n",
      "1000000it [00:00, 1080727.37it/s]\n",
      "100%|██████████████████████████████████████████████████████| 5000/5000 [00:21<00:00, 236.70it/s]\n",
      "1000000it [00:00, 1061403.86it/s]\n",
      "100%|██████████████████████████████████████████████████████| 5000/5000 [00:20<00:00, 238.49it/s]\n",
      "1000000it [00:00, 1090477.60it/s]\n",
      "100%|██████████████████████████████████████████████████████| 5000/5000 [00:21<00:00, 237.86it/s]\n",
      "1000000it [00:00, 1066099.21it/s]\n",
      "100%|██████████████████████████████████████████████████████| 5000/5000 [00:20<00:00, 239.45it/s]\n",
      "1000000it [00:00, 1079758.06it/s]\n",
      "100%|██████████████████████████████████████████████████████| 5000/5000 [00:20<00:00, 239.04it/s]\n",
      "1000000it [00:00, 1079256.57it/s]\n"
     ]
    }
   ],
   "source": [
    "dynamics = get_dynamics(num_nb=7, J=0.1, dt=0.01, T=0.1)\n",
    "group_sizes, zetas = check_scale_free(dynamics, min_n=30, max_n=1000)"
   ]
  },
  {
   "cell_type": "code",
   "execution_count": 105,
   "id": "cc67bcb1-08e6-45c0-830f-f0e8eb41e1c5",
   "metadata": {},
   "outputs": [
    {
     "data": {
      "image/png": "[encoded data removed]",
      "text/plain": [
       "<Figure size 640x480 with 1 Axes>"
      ]
     },
     "metadata": {},
     "output_type": "display_data"
    }
   ],
   "source": [
    "plot_check(group_sizes, zetas)"
   ]
  },
  {
   "cell_type": "code",
   "execution_count": null,
   "id": "dd6822da-1dd7-4410-98e0-d97d5847a182",
   "metadata": {},
   "outputs": [],
   "source": []
  }
 ],
 "metadata": {
  "kernelspec": {
   "display_name": ".venv",
   "language": "python",
   "name": ".venv"
  },
  "language_info": {
   "codemirror_mode": {
    "name": "ipython",
    "version": 3
   },
   "file_extension": ".py",
   "mimetype": "text/x-python",
   "name": "python",
   "nbconvert_exporter": "python",
   "pygments_lexer": "ipython3",
   "version": "3.11.6"
  }
 },
 "nbformat": 4,
 "nbformat_minor": 5
}
