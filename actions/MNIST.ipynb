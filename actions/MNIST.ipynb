{
 "cells": [
  {
   "cell_type": "markdown",
   "id": "07274ccd-76f1-46a0-b64d-29dd3d7b8019",
   "metadata": {},
   "source": [
    "## Motivation\n",
    "\n",
    "In this notebook, we exame the idea declared in section 1.5.5 on MNIST data, a classification task."
   ]
  },
  {
   "cell_type": "code",
   "execution_count": 1,
   "id": "b8ab63f7-841b-4fe7-ae73-b0f8a207430e",
   "metadata": {},
   "outputs": [
    {
     "name": "stderr",
     "output_type": "stream",
     "text": [
      "2024-03-21 12:32:35.087061: I tensorflow/core/platform/cpu_feature_guard.cc:182] This TensorFlow binary is optimized to use available CPU instructions in performance-critical operations.\n",
      "To enable the following instructions: SSE3 SSE4.1 SSE4.2 AVX AVX2 FMA, in other operations, rebuild TensorFlow with the appropriate compiler flags.\n"
     ]
    }
   ],
   "source": [
    "import numpy as np\n",
    "import tensorflow as tf\n",
    "from keras.losses import MSE\n",
    "from sklearn.metrics import accuracy_score\n",
    "\n",
    "from utils import get_gradient_loss_fn\n",
    "\n",
    "tf.random.set_seed(42)"
   ]
  },
  {
   "cell_type": "markdown",
   "id": "0c8239d4-600f-4b3d-b665-ba64d9bac711",
   "metadata": {},
   "source": [
    "## The MNIST Data"
   ]
  },
  {
   "cell_type": "code",
   "execution_count": 2,
   "id": "d7ff4901-8ca8-4413-80ed-9184138a1ffa",
   "metadata": {},
   "outputs": [],
   "source": [
    "mnist = tf.keras.datasets.mnist\n",
    "(x_train, y_train), (x_test, y_test) = mnist.load_data()\n",
    "x_train = x_train.astype('float32').reshape([-1, 28*28]) / 255.0\n",
    "x_test = x_test.astype('float32').reshape([-1, 28*28]) / 255.0\n",
    "y_train = y_train.astype('float32')\n",
    "y_test = y_test.astype('float32')"
   ]
  },
  {
   "cell_type": "markdown",
   "id": "405d08b9-61df-44d1-a10f-9b2297783c3b",
   "metadata": {},
   "source": [
    "## Train a Model with Gradient Loss"
   ]
  },
  {
   "cell_type": "code",
   "execution_count": 3,
   "id": "65e2d654-323d-43d2-805e-3a10fa1c28d2",
   "metadata": {},
   "outputs": [],
   "source": [
    "model = tf.keras.models.Sequential([\n",
    "    tf.keras.layers.Dense(128, 'relu'),\n",
    "    tf.keras.layers.Dense(128, 'relu'),\n",
    "    tf.keras.layers.Dense(10, 'softmax')\n",
    "])\n",
    "\n",
    "gradient_loss_fn = get_gradient_loss_fn(\n",
    "    lambda inputs: MSE(inputs[1], model(inputs[0]))\n",
    ")"
   ]
  },
  {
   "cell_type": "code",
   "execution_count": 4,
   "id": "ac0e9b1c-d29b-4ef7-8ede-d29b98e069d6",
   "metadata": {},
   "outputs": [],
   "source": [
    "optimizer = tf.optimizers.Adam()\n",
    "\n",
    "@tf.function\n",
    "def train_step(x, y):\n",
    "    with tf.GradientTape() as tape:\n",
    "        loss = gradient_loss_fn((x, y))\n",
    "    grads = tape.gradient(loss, model.variables)\n",
    "    optimizer.apply_gradients(zip(grads, model.variables))\n",
    "    return loss"
   ]
  },
  {
   "cell_type": "code",
   "execution_count": 5,
   "id": "bd90d270-d554-4474-b95b-33c6826fee95",
   "metadata": {},
   "outputs": [],
   "source": [
    "def evaluate(model):\n",
    "    return accuracy_score(y_test, tf.argmax(model(x_test), axis=1))"
   ]
  },
  {
   "cell_type": "code",
   "execution_count": 6,
   "id": "1992d379-bf40-4022-bcd6-6d26c2b757f7",
   "metadata": {},
   "outputs": [],
   "source": [
    "ds = tf.data.Dataset.from_tensor_slices(\n",
    "    (x_train, tf.one_hot(y_train, 10))\n",
    ")\n",
    "ds = ds.batch(100)"
   ]
  },
  {
   "cell_type": "code",
   "execution_count": 7,
   "id": "7f8317b9-e6c9-4c30-b3c6-7036e6785d07",
   "metadata": {},
   "outputs": [
    {
     "name": "stdout",
     "output_type": "stream",
     "text": [
      "0 0.0002057658 0.9437\n",
      "1 0.00021051208 0.9588\n",
      "2 0.00014657776 0.9715\n",
      "3 0.000100423626 0.9695\n",
      "4 9.5032665e-05 0.9706\n",
      "5 0.000113048525 0.9693\n",
      "6 0.00013361908 0.9737\n",
      "7 0.0001144739 0.9748\n",
      "8 8.687482e-05 0.9732\n",
      "9 8.595058e-05 0.9733\n",
      "10 0.00010973251 0.9709\n",
      "11 9.811082e-05 0.9765\n",
      "12 8.027111e-05 0.9756\n",
      "13 8.056414e-05 0.9736\n",
      "14 0.00013870945 0.9772\n",
      "15 8.0807826e-05 0.9779\n",
      "16 9.479944e-05 0.975\n",
      "17 8.1188686e-05 0.9771\n",
      "18 9.18084e-05 0.9809\n",
      "19 8.082365e-05 0.9771\n"
     ]
    }
   ],
   "source": [
    "for epoch in range(20):\n",
    "    for x, y in ds:\n",
    "        loss = train_step(x, y)\n",
    "    print(epoch, loss.numpy(), evaluate(model))"
   ]
  },
  {
   "cell_type": "code",
   "execution_count": 8,
   "id": "55dde9a7-4018-4e64-b909-e069729f096c",
   "metadata": {},
   "outputs": [
    {
     "data": {
      "text/plain": [
       "0.9771"
      ]
     },
     "execution_count": 8,
     "metadata": {},
     "output_type": "execute_result"
    }
   ],
   "source": [
    "evaluate(model)"
   ]
  },
  {
   "cell_type": "markdown",
   "id": "b7218605-525e-445c-aa7a-0e44d3d39dc1",
   "metadata": {},
   "source": [
    "## Baseline Model with Usual Loss"
   ]
  },
  {
   "cell_type": "code",
   "execution_count": 9,
   "id": "b9993ada-54dd-4b1f-ab9e-3e3301695c99",
   "metadata": {},
   "outputs": [],
   "source": [
    "baseline_model = tf.keras.models.Sequential([\n",
    "    tf.keras.layers.Dense(128, activation='relu'),\n",
    "    tf.keras.layers.Dense(128, activation='relu'),\n",
    "    tf.keras.layers.Dense(10, 'softmax')\n",
    "])"
   ]
  },
  {
   "cell_type": "code",
   "execution_count": 10,
   "id": "2dc98178-5940-4567-be22-6735de610d85",
   "metadata": {},
   "outputs": [],
   "source": [
    "baseline_model.compile(\n",
    "    optimizer='adam',\n",
    "    loss=tf.keras.losses.SparseCategoricalCrossentropy(),\n",
    "    metrics=['accuracy'],\n",
    ")"
   ]
  },
  {
   "cell_type": "code",
   "execution_count": 11,
   "id": "9fe0e479-a012-4538-a6ca-132352299fc5",
   "metadata": {},
   "outputs": [
    {
     "name": "stdout",
     "output_type": "stream",
     "text": [
      "Epoch 1/20\n",
      "1875/1875 - 2s - loss: 0.2334 - accuracy: 0.9312 - val_loss: 0.1173 - val_accuracy: 0.9633 - 2s/epoch - 1ms/step\n",
      "Epoch 2/20\n",
      "1875/1875 - 2s - loss: 0.0973 - accuracy: 0.9699 - val_loss: 0.1054 - val_accuracy: 0.9661 - 2s/epoch - 956us/step\n",
      "Epoch 3/20\n",
      "1875/1875 - 2s - loss: 0.0687 - accuracy: 0.9783 - val_loss: 0.0733 - val_accuracy: 0.9779 - 2s/epoch - 962us/step\n",
      "Epoch 4/20\n",
      "1875/1875 - 2s - loss: 0.0518 - accuracy: 0.9831 - val_loss: 0.0790 - val_accuracy: 0.9777 - 2s/epoch - 963us/step\n",
      "Epoch 5/20\n",
      "1875/1875 - 2s - loss: 0.0402 - accuracy: 0.9870 - val_loss: 0.0842 - val_accuracy: 0.9755 - 2s/epoch - 967us/step\n",
      "Epoch 6/20\n",
      "1875/1875 - 2s - loss: 0.0321 - accuracy: 0.9894 - val_loss: 0.0843 - val_accuracy: 0.9773 - 2s/epoch - 966us/step\n",
      "Epoch 7/20\n",
      "1875/1875 - 2s - loss: 0.0281 - accuracy: 0.9908 - val_loss: 0.0776 - val_accuracy: 0.9784 - 2s/epoch - 965us/step\n",
      "Epoch 8/20\n",
      "1875/1875 - 2s - loss: 0.0246 - accuracy: 0.9920 - val_loss: 0.1008 - val_accuracy: 0.9756 - 2s/epoch - 968us/step\n",
      "Epoch 9/20\n",
      "1875/1875 - 2s - loss: 0.0205 - accuracy: 0.9931 - val_loss: 0.0957 - val_accuracy: 0.9777 - 2s/epoch - 971us/step\n",
      "Epoch 10/20\n",
      "1875/1875 - 2s - loss: 0.0192 - accuracy: 0.9937 - val_loss: 0.1005 - val_accuracy: 0.9751 - 2s/epoch - 967us/step\n",
      "Epoch 11/20\n",
      "1875/1875 - 2s - loss: 0.0163 - accuracy: 0.9945 - val_loss: 0.0979 - val_accuracy: 0.9775 - 2s/epoch - 966us/step\n",
      "Epoch 12/20\n",
      "1875/1875 - 2s - loss: 0.0176 - accuracy: 0.9941 - val_loss: 0.1140 - val_accuracy: 0.9754 - 2s/epoch - 969us/step\n",
      "Epoch 13/20\n",
      "1875/1875 - 2s - loss: 0.0122 - accuracy: 0.9959 - val_loss: 0.1128 - val_accuracy: 0.9768 - 2s/epoch - 959us/step\n",
      "Epoch 14/20\n",
      "1875/1875 - 2s - loss: 0.0163 - accuracy: 0.9944 - val_loss: 0.1193 - val_accuracy: 0.9768 - 2s/epoch - 967us/step\n",
      "Epoch 15/20\n",
      "1875/1875 - 2s - loss: 0.0105 - accuracy: 0.9963 - val_loss: 0.1127 - val_accuracy: 0.9784 - 2s/epoch - 958us/step\n",
      "Epoch 16/20\n",
      "1875/1875 - 2s - loss: 0.0119 - accuracy: 0.9963 - val_loss: 0.1248 - val_accuracy: 0.9754 - 2s/epoch - 958us/step\n",
      "Epoch 17/20\n",
      "1875/1875 - 2s - loss: 0.0098 - accuracy: 0.9969 - val_loss: 0.1140 - val_accuracy: 0.9794 - 2s/epoch - 969us/step\n",
      "Epoch 18/20\n",
      "1875/1875 - 2s - loss: 0.0116 - accuracy: 0.9963 - val_loss: 0.1337 - val_accuracy: 0.9763 - 2s/epoch - 957us/step\n",
      "Epoch 19/20\n",
      "1875/1875 - 2s - loss: 0.0093 - accuracy: 0.9970 - val_loss: 0.1317 - val_accuracy: 0.9760 - 2s/epoch - 965us/step\n",
      "Epoch 20/20\n",
      "1875/1875 - 2s - loss: 0.0093 - accuracy: 0.9970 - val_loss: 0.1440 - val_accuracy: 0.9769 - 2s/epoch - 972us/step\n"
     ]
    },
    {
     "data": {
      "text/plain": [
       "<keras.src.callbacks.History at 0x7f4fa9662150>"
      ]
     },
     "execution_count": 11,
     "metadata": {},
     "output_type": "execute_result"
    }
   ],
   "source": [
    "baseline_model.fit(\n",
    "    x_train, y_train,\n",
    "    epochs=20,\n",
    "    validation_data=(x_test, y_test),\n",
    "    verbose=2,\n",
    ")"
   ]
  },
  {
   "cell_type": "code",
   "execution_count": 12,
   "id": "637a961b-4f4b-4c9a-a5d3-b944c1ea01a9",
   "metadata": {},
   "outputs": [
    {
     "data": {
      "text/plain": [
       "0.9769"
      ]
     },
     "execution_count": 12,
     "metadata": {},
     "output_type": "execute_result"
    }
   ],
   "source": [
    "evaluate(baseline_model)"
   ]
  },
  {
   "cell_type": "markdown",
   "id": "cff6385a-4ca4-45fb-bf99-9953641fec71",
   "metadata": {},
   "source": [
    "## Model Robustness\n",
    "\n",
    "Now, we compare the robustness of the model and the baseline. To do so, we add Gaussian noise to the test data and check the accuracy."
   ]
  },
  {
   "cell_type": "code",
   "execution_count": 37,
   "id": "d4719fdd-c6e1-4206-a2dd-cad3acae2a92",
   "metadata": {},
   "outputs": [],
   "source": [
    "stddev = 4e-1\n",
    "noise = tf.random.normal(tf.shape(x_test)) * stddev"
   ]
  },
  {
   "cell_type": "code",
   "execution_count": 38,
   "id": "41d56ef7-827f-433a-aa72-c939d5beffbf",
   "metadata": {},
   "outputs": [],
   "source": [
    "def evaluate_robustness(model):\n",
    "    accuracy = accuracy_score(\n",
    "        y_test, tf.argmax(model(x_test), axis=1))\n",
    "    noised_accuracy = accuracy_score(\n",
    "        y_test, tf.argmax(model(x_test+noise), axis=1))\n",
    "    print(f'Accuracy: {accuracy} -> {noised_accuracy}')"
   ]
  },
  {
   "cell_type": "code",
   "execution_count": 39,
   "id": "20a92992-0d08-4255-9098-9f091690e48c",
   "metadata": {},
   "outputs": [
    {
     "name": "stdout",
     "output_type": "stream",
     "text": [
      "Accuracy: 0.9771 -> 0.8849\n"
     ]
    }
   ],
   "source": [
    "evaluate_robustness(model)"
   ]
  },
  {
   "cell_type": "code",
   "execution_count": 40,
   "id": "e8d06e85-1c3a-4641-a73f-bf8a5c7383de",
   "metadata": {},
   "outputs": [
    {
     "name": "stdout",
     "output_type": "stream",
     "text": [
      "Accuracy: 0.9769 -> 0.8078\n"
     ]
    }
   ],
   "source": [
    "evaluate_robustness(baseline_model)"
   ]
  },
  {
   "cell_type": "markdown",
   "id": "49ce4da5-feaf-42ea-a25a-cbf25b5fd89d",
   "metadata": {},
   "source": [
    "## Conclusion\n",
    "\n",
    "By simply using the \"gradient loss\", we obtain a result that approaches the baseline. But the robustness is greatly out-performs the baseline."
   ]
  }
 ],
 "metadata": {
  "kernelspec": {
   "display_name": ".venv",
   "language": "python",
   "name": ".venv"
  },
  "language_info": {
   "codemirror_mode": {
    "name": "ipython",
    "version": 3
   },
   "file_extension": ".py",
   "mimetype": "text/x-python",
   "name": "python",
   "nbconvert_exporter": "python",
   "pygments_lexer": "ipython3",
   "version": "3.11.6"
  }
 },
 "nbformat": 4,
 "nbformat_minor": 5
}
