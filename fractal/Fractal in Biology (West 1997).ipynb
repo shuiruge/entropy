{
 "cells": [
  {
   "cell_type": "markdown",
   "id": "6b2aaafb-cf13-4129-99f7-f5673e0bfe16",
   "metadata": {},
   "source": [
    "# Fractal in Biology (West 1997)\n",
    "\n",
    "This notebook checks the result in [West, et al. (1997)](https://www.science.org/doi/10.1126/science.276.5309.122). This paper concludes that fractal in biology results in the minimization of total energy cost. In the specific case considered by the authors, the mammalian circulatory systems, the fractal branching of capillary vessel naturally arises from reducing the energy cost of vessel circulation. Here, we check this result by numerical optimization method.\n",
    "\n",
    "## Notations\n",
    "\n",
    "We follow the notations:\n",
    "\n",
    "- $C$: number of branching levels.\n",
    "- $k$: branching level, from $0$ to $C$.\n",
    "- $n_k$: number of branches at $k$ level.\n",
    "- $r_k$: radius of vessel at $k$ level.\n",
    "- $l_k$: length of vessel at $k$ level.\n",
    "- $\\nu_k$: $n_{k+1} / n_k$.\n",
    "- $\\rho_k$: $r_{k+1} / r_k$.\n",
    "- $\\lambda_k$: $l_{k+1} / l_k$."
   ]
  },
  {
   "cell_type": "markdown",
   "id": "5b28d388-e1b4-491e-85cb-fbca727e1d3d",
   "metadata": {},
   "source": [
    "## Assumptions"
   ]
  },
  {
   "cell_type": "markdown",
   "id": "719ac578-31ea-4353-996d-468fc98cfd73",
   "metadata": {},
   "source": [
    "The assumption that the properties of capillary are universal for all mammals implies that the $n_C$, $l_C$, and $r_C$ are fixed. So, we have\n",
    "\n",
    "$$ l_k = \\frac{l_k}{l_{k+1}} \\cdots \\frac{l_{C-1}}{l_C} l_C = l_C \\lambda_k^{-1} \\cdots \\lambda_{C-1}^{-1} = l_C \\prod_{i=k}^{C-1} \\lambda_i^{-1}. $$\n",
    "\n",
    "The same,\n",
    "\n",
    "$$ r_k = r_C \\prod_{i=k}^{C-1} \\rho_i^{-1}, $$\n",
    "\n",
    "  and\n",
    "\n",
    "$$ n_k = n_C \\prod_{i=k}^{C-1} \\nu_i^{-1}. $$\n",
    "\n",
    "Based on assumption of area-preserving, we have that $n_k r_k^2$ is independent of $k$. This implies\n",
    "\n",
    "$$ \\rho_k = \\nu_k^{-1/2}. $$\n",
    "\n",
    "And by assumption of space-fulfilling, we have that $n_k l_k^3$ is independent of $k$. This implies\n",
    "\n",
    "$$ \\lambda_k = \\nu_k^{-1/3}. $$\n",
    "\n",
    "Because of these, the unique degree of freedom is the $\\nu$."
   ]
  },
  {
   "cell_type": "code",
   "execution_count": 1,
   "id": "499a5415-a2d3-4721-8f5f-d44401f92629",
   "metadata": {},
   "outputs": [
    {
     "name": "stderr",
     "output_type": "stream",
     "text": [
      "2024-03-04 21:00:05.045857: I tensorflow/core/platform/cpu_feature_guard.cc:182] This TensorFlow binary is optimized to use available CPU instructions in performance-critical operations.\n",
      "To enable the following instructions: SSE3 SSE4.1 SSE4.2 AVX AVX2 FMA, in other operations, rebuild TensorFlow with the appropriate compiler flags.\n"
     ]
    }
   ],
   "source": [
    "import numpy as np\n",
    "import tensorflow as tf\n",
    "from tensorflow.python import keras\n",
    "from tqdm import tqdm\n",
    "import matplotlib.pyplot as plt"
   ]
  },
  {
   "cell_type": "markdown",
   "id": "ffaf22ee-6157-4332-a86f-a32b7cf1e1ea",
   "metadata": {},
   "source": [
    "We use several samples in searching optimal parallelly. So, the $\\nu$, or for numerical stability $\\ln \\nu$, has tensor shape `[samples, levels]`."
   ]
  },
  {
   "cell_type": "code",
   "execution_count": 2,
   "id": "76e91d8f-7e3c-4881-847a-62d2c29e64a9",
   "metadata": {},
   "outputs": [],
   "source": [
    "SAMPLES = 10\n",
    "LEVELS = 20"
   ]
  },
  {
   "cell_type": "markdown",
   "id": "e04a0ba0-54fe-417c-bbb8-1fe05d7e6e1d",
   "metadata": {},
   "source": [
    "## Loss Function"
   ]
  },
  {
   "cell_type": "markdown",
   "id": "05193765-5627-4d4f-8c4c-2ba3fe031147",
   "metadata": {},
   "source": [
    "The quantity to be minimized is the total resistance of the vessel system. By [Hagen-Poiseuille equation](https://en.wikipedia.org/wiki/Hagen%E2%80%93Poiseuille_equation#Equation), we have the difference of pressure at level $k$, $\\Delta p_k = Q_k R_k$ where $Q_k$ represents the flow rate and $R_k := (8 \\mu l_k)/(\\pi r_k^4)$. Analogy to electricity, $\\Delta p_k$ corresponds to difference of potential $\\Delta V$, and $Q_k$ to current $I$. So, the $R_k$ is the resistance. At level $k$, the vessels are parallel. And for different levels, vessels are serial. So, the total resistance comes to be\n",
    "\n",
    "$$ R_b = \\sum_{k=0}^{C} \\frac{R_k}{n_k} = \\frac{8\\mu}{\\pi} \\sum_{k=0}^{C} \\frac{l_k}{r_k^4 n_k} = \\frac{8\\mu}{\\pi} \\frac{l_C}{r_C^4 n_C} \\sum_{k=0}^{C} \\prod_{i=k}^{C-1} \\frac{\\rho_i^4 \\nu_i}{\\lambda_i}. $$\n",
    "\n",
    "Plugging into the relation between $\\rho$, $\\lambda$ and $\\nu$, we find\n",
    "\n",
    "$$ R_b = \\frac{8\\mu}{\\pi} \\frac{l_C}{r_C^4 n_C} \\sum_{k=0}^{C} \\prod_{i=k}^{C-1} \\nu_i^{-2/3}. $$\n",
    "\n",
    "For numerical stability, we consider\n",
    "\n",
    "$$ \\ln R_b = \\ln \\left( \\frac{8\\mu}{\\pi} \\frac{l_C}{r_C^4 n_C} \\right) + \\ln \\sum_{k=0}^{C} \\prod_{i=k}^{C-1} \\nu_i^{-2/3}. $$"
   ]
  },
  {
   "cell_type": "code",
   "execution_count": 3,
   "id": "12747b49-add2-412c-8534-9d3dc9ef0f31",
   "metadata": {},
   "outputs": [
    {
     "data": {
      "text/plain": [
       "<tf.Tensor: shape=(1,), dtype=float64, numpy=array([0.99408455])>"
      ]
     },
     "execution_count": 3,
     "metadata": {},
     "output_type": "execute_result"
    }
   ],
   "source": [
    "def get_log_resistance(log_nu):\n",
    "    \"\"\"Omit the constant.\"\"\"\n",
    "    logits = []\n",
    "    for k in range(LEVELS+1):\n",
    "        logits.append(-(2/3) * tf.reduce_sum(log_nu[:, k:], axis=1))\n",
    "    logits = tf.stack(logits, axis=1)\n",
    "    return tf.reduce_logsumexp(logits, axis=1)\n",
    "\n",
    "log_nu = np.log(2) * np.ones([1, LEVELS])\n",
    "get_log_resistance(log_nu)"
   ]
  },
  {
   "cell_type": "markdown",
   "id": "476a4eb5-94af-4b72-b1c2-235d86426259",
   "metadata": {},
   "source": [
    "It is also assumed that the blood volume is proportional to the body size. The blood volumne is given by\n",
    "\n",
    "$$ V_b = \\pi \\sum_{k=0}^C r_k^2 l_k n_k = \\pi r_C^2 l_C n_C \\sum_{k=0}^C \\prod_{i=k}^{C-1} \\frac{1}{\\rho_i^2 \\lambda_i \\nu_i} = \\pi r_C^2 l_C n_C \\sum_{k=0}^C \\prod_{i=k}^{C-1} \\nu_i^{1/3}. $$\n",
    "\n",
    "If the body size is fixed, then $V_b$ shall be fixed too. Then,\n",
    "\n",
    "$$ \\ln V_b = \\ln \\left( \\pi r_C^2 l_C n_C \\right) + \\ln \\sum_{k=0}^C \\prod_{i=k}^{C-1} \\nu_i^{1/3}. $$"
   ]
  },
  {
   "cell_type": "code",
   "execution_count": 4,
   "id": "95f72cfb-10fe-4934-bdc0-14ccac6bc342",
   "metadata": {},
   "outputs": [
    {
     "data": {
      "text/plain": [
       "<tf.Tensor: shape=(1,), dtype=float64, numpy=array([6.19156443])>"
      ]
     },
     "execution_count": 4,
     "metadata": {},
     "output_type": "execute_result"
    }
   ],
   "source": [
    "def get_log_volume(log_nu):\n",
    "    \"\"\"Omit the constant.\"\"\"\n",
    "    logits = []\n",
    "    for k in range(LEVELS+1):\n",
    "        logits.append((1/3) * tf.reduce_sum(log_nu[:, k:], axis=1))\n",
    "    logits = tf.stack(logits, axis=1)\n",
    "    return tf.reduce_logsumexp(logits, axis=1)\n",
    "\n",
    "get_log_volume(log_nu)"
   ]
  },
  {
   "cell_type": "markdown",
   "id": "7f2b7cb8-e7a0-4324-aced-be3086625cb3",
   "metadata": {},
   "source": [
    "Since $n_{k+1} \\ge n_k$, $\\nu_k$ shall be greater than unit. So, there is another constraint that, for each $k$,\n",
    "\n",
    "$$ \\ln \\nu_k \\ge 0. $$"
   ]
  },
  {
   "cell_type": "markdown",
   "id": "99beadb8-74a7-4f36-9577-4be6dc346058",
   "metadata": {},
   "source": [
    "Altogether, the loss function shall be\n",
    "\n",
    "$$ \\ln R_b(\\nu) + \\mu \\left( \\ln V_b(\\nu) - \\ln \\bar{V}_b \\right) + \\sum_{k=1}^{C-1} \\omega_k \\left( \\ln \\nu_k - z_k^2 \\right), $$\n",
    "\n",
    "for some observed values $\\bar{V}_b$ given."
   ]
  },
  {
   "cell_type": "markdown",
   "id": "4d1f87f4-ce5f-434a-8f7a-a8366c794b66",
   "metadata": {},
   "source": [
    "What is a proper value of $\\bar{V}_b$. It is natural to suppose that $n_{k+1}/n_k \\ge 2$. This means $\\bar{V}_b$ shall be greater than the volume given by $\\nu = 2$. And it shall not be too large, for numerical consideration.\n",
    "\n",
    "In fact, it is sufficient for the optimized volume to approximate the order of $\\bar{V}_b$. We can regard this optimized volume as the real $\\bar{V}_b$. In other words, $\\bar{V}_b$ is used to determine the order, but not the accurate value."
   ]
  },
  {
   "cell_type": "code",
   "execution_count": 5,
   "id": "76529753-cb7f-4c76-a7b2-a36d9c05b289",
   "metadata": {},
   "outputs": [
    {
     "data": {
      "text/plain": [
       "<tf.Tensor: shape=(1,), dtype=float64, numpy=array([6.19156443])>"
      ]
     },
     "execution_count": 5,
     "metadata": {},
     "output_type": "execute_result"
    }
   ],
   "source": [
    "least_log_volume = get_log_volume(np.log(2) * np.ones([1, LEVELS]))\n",
    "least_log_volume"
   ]
  },
  {
   "cell_type": "code",
   "execution_count": 6,
   "id": "7adcc3bf-fd48-4ff8-a5b9-18ab200e3d72",
   "metadata": {},
   "outputs": [],
   "source": [
    "TRUE_LOG_VOLUME = 3e+1"
   ]
  },
  {
   "cell_type": "code",
   "execution_count": 7,
   "id": "dbcd535f-fa21-47ba-a728-ba7c42a34425",
   "metadata": {},
   "outputs": [
    {
     "data": {
      "text/plain": [
       "(<tf.Tensor: shape=(1,), dtype=float64, numpy=array([0.99408455])>,\n",
       " [<tf.Tensor: shape=(1,), dtype=float64, numpy=array([-23.80843557])>,\n",
       "  <tf.Tensor: shape=(1, 20), dtype=float64, numpy=\n",
       "  array([[-0.30685282, -0.30685282, -0.30685282, -0.30685282, -0.30685282,\n",
       "          -0.30685282, -0.30685282, -0.30685282, -0.30685282, -0.30685282,\n",
       "          -0.30685282, -0.30685282, -0.30685282, -0.30685282, -0.30685282,\n",
       "          -0.30685282, -0.30685282, -0.30685282, -0.30685282, -0.30685282]])>],\n",
       " <tf.Tensor: shape=(), dtype=float64, numpy=-2.0004646427167665>)"
      ]
     },
     "execution_count": 7,
     "metadata": {},
     "output_type": "execute_result"
    }
   ],
   "source": [
    "def get_loss(log_nu, z, mu, omega):\n",
    "    objective = get_log_resistance(log_nu)\n",
    "    loss = tf.reduce_sum(objective)\n",
    "    constraints = []\n",
    "    for multiplier, constraint in [\n",
    "        (mu, get_log_volume(log_nu) - TRUE_LOG_VOLUME),\n",
    "        (omega, log_nu - tf.square(z)),\n",
    "        # other constraints......\n",
    "    ]:\n",
    "        loss += tf.reduce_sum(multiplier * constraint)\n",
    "        constraints.append(constraint)\n",
    "    return objective, constraints, loss\n",
    "\n",
    "z = tf.ones_like(log_nu)\n",
    "get_loss(log_nu, z, 0.1, 0.1)"
   ]
  },
  {
   "cell_type": "markdown",
   "id": "58c02dd3-e79d-4f3d-adda-0450249c5249",
   "metadata": {},
   "source": [
    "## Gradient Descent with Constraints\n",
    "\n",
    "The gradient descent algorithm with constraints is described in [Platt and Barr (1988)](https://papers.nips.cc/paper_files/paper/1987/file/a87ff679a2f3e71d9181a67b7542122c-Paper.pdf). Briefly, descent on the parameters (the $\\ln \\nu$ here) and ascent on the multipliers (the $\\mu$ and $\\omega_k$ here). For numerical stability, it is suggested to add an $L_2$-regulation.\n",
    "\n",
    "For example, consider scalar functions $f$ and $g$ where $f$ is lower bounded. If you want to minimize $f(x)$ with constraint $g(x) = 0$, then the loss function will be\n",
    "\n",
    "$$ L(x, \\mu) = f(x) + \\mu g(x), $$\n",
    "\n",
    "where $\\mu$ is the Lagrangian multiplier. Then, optimize the $x$ along the direction\n",
    "\n",
    "$$ \\dot{x}^a = -\\nabla^a L(x, \\mu) = -\\nabla^a f(x) - \\mu \\nabla^a g(x), $$\n",
    "\n",
    "where the $\\nabla$ is taken on $x$ only. And optimize the $\\mu$ along the direction\n",
    "\n",
    "$$ \\dot{\\mu} = {\\color{red}+} \\partial_{\\mu} L(x, \\mu) = g(x). $$\n",
    "\n",
    "Indeed, by taking time derivative, we find\n",
    "\n",
    "$$ \\ddot{x}^a + \\left( \\nabla^a \\nabla_b f(x) + \\mu \\nabla^a \\nabla_b g(x) \\right) \\dot{x}^b + \\nabla^a \\left( \\frac{1}{2} g^2(x) \\right) = 0. $$\n",
    "\n",
    "Analogy to the damped mechanic system, we recognize that the $A^a_b(x) := \\nabla^a \\nabla_b f(x) + \\mu \\nabla^a \\nabla_b g(x)$ term is a friction coefficient and $g^2(x)$ a potential. So, the energy is $E(x) := (1/2) \\dot{x}^2 + (1/2) g^2(x)$, and because of friction, the energy loss rate is $\\dot{E}(x) = -A_{a b}(x) \\dot{x}^a \\dot{x}^b$. So, to ensure that the energy losses, $A(x)$ has to be positive definite, at least being positive definite near the minimum. This is true for $\\nabla^a \\nabla_b f(x)$ since $f$ is lower bounded. So, we have to restrict the scale of $g$ such that $A$ is positive definite. To do so, we add an $L_2$-regulation for $g(x)$, that is, a term $c g^2(x)$ for a large enough positive constant $c$.\n",
    "\n",
    "For inequal constraints, like $h(x) \\ge 0$, we can add an auxiliary parameter $z$ and set the $g$ as $h(x) - z^2$. In this way, when $g = 0$, $h(x) \\ge 0$ is fulfilled. Now, the loss function becomes $L(x, z, \\mu) = f(x) + \\mu \\left( h(x) - z^2 \\right)$. The $z$ is optimized in the same way as $x$, that is $\\dot{z} = -\\nabla_z L(x, z, \\mu) = 2 \\mu z$. Remark that when $z = 0$, $\\dot{z} = 0$ too. Thus $z$ will not be updated and keeps vanishing. This is not what we want. So, at least, $z$ shall not be initialized as $0$ in training."
   ]
  },
  {
   "cell_type": "code",
   "execution_count": 8,
   "id": "52a7d9b1-e016-44d6-b11e-7eff090e68b6",
   "metadata": {},
   "outputs": [],
   "source": [
    "def get_train_step(optimizer, l2):\n",
    "    step = tf.Variable(0, dtype=tf.int32, trainable=False)\n",
    "    l2 = tf.convert_to_tensor(l2)\n",
    "\n",
    "    @tf.function\n",
    "    def train_step(log_nu, z, mu, omega):\n",
    "        with tf.GradientTape() as tape:\n",
    "            objective, constraints, loss = get_loss(log_nu, z, mu, omega)\n",
    "            loss += l2 * sum(tf.reduce_sum(tf.square(c)) for c in constraints)\n",
    "\n",
    "        # Compute gradients\n",
    "        vars = [log_nu, z, mu, omega]\n",
    "        grads = tape.gradient(loss, vars, unconnected_gradients='zero')\n",
    "\n",
    "        # Descent for parameters and ascent for multipliers:\n",
    "        grads_and_vars = []\n",
    "        for i, var in enumerate(vars):\n",
    "            if i < 2:\n",
    "                grads_and_vars.append((grads[i], vars[i]))\n",
    "            else:\n",
    "                grads_and_vars.append((-grads[i], vars[i]))\n",
    "\n",
    "        optimizer.apply_gradients(grads_and_vars)\n",
    "        check_nan(vars)\n",
    "        step.assign_add(1)\n",
    "        return objective, constraints, loss, grads_and_vars\n",
    "\n",
    "    return train_step, step\n",
    "\n",
    "def check_nan(xs):\n",
    "    for x in xs:\n",
    "        try:\n",
    "            tf.debugging.check_numerics(x, message='')\n",
    "        except Exception as e:\n",
    "            raise ValueError('NaN value.')"
   ]
  },
  {
   "cell_type": "markdown",
   "id": "896b33a3-c756-49a4-b5b5-99a31c37581b",
   "metadata": {},
   "source": [
    "## Training"
   ]
  },
  {
   "cell_type": "markdown",
   "id": "aed1f2ad-43c7-4645-bb2b-383c60bcbfd0",
   "metadata": {},
   "source": [
    "Initialize the parameters and Lagrangian multipliers:"
   ]
  },
  {
   "cell_type": "code",
   "execution_count": 9,
   "id": "3577792b-2678-4513-b7b3-a7d742f040f3",
   "metadata": {},
   "outputs": [],
   "source": [
    "log_nu = tf.Variable(tf.random.uniform([SAMPLES, LEVELS], np.log(2), np.log(6)))\n",
    "z = tf.Variable(tf.random.uniform([SAMPLES, LEVELS], 0.5, 1.))  # z shall not be zero.\n",
    "mu = tf.Variable(tf.zeros([SAMPLES, 1]))\n",
    "omega = tf.Variable(tf.zeros([SAMPLES, LEVELS]))\n",
    "optimizer = keras.optimizers.adam_v2.Adam()\n",
    "train_step, step = get_train_step(optimizer, 1e-1)\n",
    "objective_logs = []\n",
    "loss_logs = []"
   ]
  },
  {
   "cell_type": "markdown",
   "id": "7941f9c2-3f6e-45d6-b259-c111aad3e791",
   "metadata": {},
   "source": [
    "Let us log the objective and constraints before training."
   ]
  },
  {
   "cell_type": "code",
   "execution_count": 10,
   "id": "cd37f0c9-c281-4b05-819e-30a3c4f7a08c",
   "metadata": {
    "scrolled": true
   },
   "outputs": [
    {
     "data": {
      "text/plain": [
       "(<tf.Tensor: shape=(10,), dtype=float32, numpy=\n",
       " array([0.5015508 , 0.65446323, 0.48367184, 0.5643646 , 0.5231243 ,\n",
       "        0.52457994, 0.48574182, 0.41622874, 0.40424636, 0.6362983 ],\n",
       "       dtype=float32)>,\n",
       " [<tf.Tensor: shape=(10,), dtype=float32, numpy=\n",
       "  array([-20.361494, -20.990639, -20.00923 , -20.617174, -20.229631,\n",
       "         -20.73936 , -21.049255, -20.306458, -20.16538 , -21.004622],\n",
       "        dtype=float32)>,\n",
       "  <tf.Tensor: shape=(10, 20), dtype=float32, numpy=\n",
       "  array([[ 0.35822386,  0.41031158,  1.2176999 ,  0.8435954 ,  0.66743153,\n",
       "           1.4756255 ,  0.5817856 ,  0.90950555,  1.0118196 ,  0.18865216,\n",
       "           0.98958313,  1.0629853 ,  0.842096  ,  0.05623168,  0.79188395,\n",
       "           0.67446816,  0.5415292 ,  0.656713  ,  0.41568568,  1.2700822 ],\n",
       "         [ 0.7272637 ,  0.47206017,  1.0181084 ,  0.25810218,  0.748346  ,\n",
       "          -0.11299056,  1.1282136 ,  0.21328491,  0.37889385,  1.0129815 ,\n",
       "           1.0413439 ,  0.7407811 ,  0.2799478 ,  0.28686053,  0.76170385,\n",
       "           0.8056258 ,  0.7152573 ,  0.76094043,  1.1334207 ,  0.27899766],\n",
       "         [ 1.0599556 ,  0.19345373,  0.33014965,  1.1681838 ,  0.6534871 ,\n",
       "           0.516973  ,  0.6466275 ,  0.960818  ,  0.24862212,  0.55490077,\n",
       "           0.33495325,  0.7583209 ,  1.1077399 ,  0.75381285,  0.68990993,\n",
       "           0.9070299 ,  1.326676  ,  1.2705609 ,  1.1994364 ,  0.6036296 ],\n",
       "         [ 0.38779455,  0.6551517 , -0.02487826,  0.13327861,  0.8849609 ,\n",
       "           1.3319702 ,  0.7803768 ,  0.55299634,  1.0224135 ,  0.4106574 ,\n",
       "           1.1725746 ,  0.80895734,  1.2199626 ,  0.39783472,  1.2292384 ,\n",
       "          -0.14867479,  0.5795528 ,  0.92257947,  0.5273529 ,  0.86285996],\n",
       "         [ 1.3857075 ,  1.2776704 ,  1.0158603 ,  0.43631333,  0.13874197,\n",
       "           0.60702586,  0.9654418 ,  0.17905802,  0.21753436,  0.5476378 ,\n",
       "           0.83425957,  0.73800695,  0.6387512 ,  0.75920117,  0.50498515,\n",
       "           0.98348194,  0.87051123,  0.76421   ,  0.19741333,  1.2052381 ],\n",
       "         [ 0.19249654,  0.71571594,  0.17475563,  1.1568267 ,  0.95862013,\n",
       "           0.20903617,  0.6802077 ,  0.6864406 ,  0.57829565,  1.4263954 ,\n",
       "           0.403302  ,  1.1316249 ,  0.6386733 ,  0.8269248 ,  0.7977621 ,\n",
       "           0.69142324,  0.6443707 ,  0.17860353,  1.260359  ,  1.0175163 ],\n",
       "         [ 0.50313133,  0.6080192 ,  0.13909125,  0.800424  ,  0.24685949,\n",
       "           0.5706115 ,  1.106137  ,  0.4738693 ,  0.02678114,  0.54589146,\n",
       "           0.88360816,  0.6331827 ,  0.6058178 ,  0.6745807 ,  0.56383514,\n",
       "           0.4052474 ,  0.8897346 ,  0.0401755 ,  0.76117045,  1.1133041 ],\n",
       "         [ 0.86222625,  0.30188626,  0.39094627,  1.1020955 ,  0.37046576,\n",
       "           0.4035942 , -0.00835466,  0.72419393,  0.62106794,  0.7026703 ,\n",
       "           0.7991038 ,  1.0732232 ,  0.09634584,  0.6364864 ,  0.9047616 ,\n",
       "           0.37763053,  0.71833175,  0.6729772 ,  1.2897398 ,  0.95230156],\n",
       "         [ 0.64210093,  1.0571638 ,  1.114469  ,  0.23531407,  0.8211335 ,\n",
       "           1.188426  ,  0.24625194,  0.8388654 ,  0.34553778,  1.1590433 ,\n",
       "           0.42014486,  1.4689271 ,  0.7713398 ,  0.12754196,  0.60301936,\n",
       "           1.1302731 ,  1.1943723 ,  0.41675496,  0.8399347 ,  1.5023124 ],\n",
       "         [ 0.23694187, -0.1315319 ,  0.06961012,  1.439892  ,  0.36697215,\n",
       "           0.63254607,  0.59934676,  1.0688016 ,  0.28693506,  0.1890071 ,\n",
       "           0.565638  ,  0.6831252 ,  0.3688637 ,  0.94463575, -0.27466393,\n",
       "           0.6810938 ,  1.0376989 ,  0.43553972,  0.713771  ,  0.59228885]],\n",
       "        dtype=float32)>])"
      ]
     },
     "execution_count": 10,
     "metadata": {},
     "output_type": "execute_result"
    }
   ],
   "source": [
    "objective, constraints, _, _ = train_step(log_nu, z, mu, omega)\n",
    "objective, constraints"
   ]
  },
  {
   "cell_type": "code",
   "execution_count": 11,
   "id": "4fc24899-2e20-4b24-8b6e-12308560848b",
   "metadata": {},
   "outputs": [
    {
     "name": "stderr",
     "output_type": "stream",
     "text": [
      "100%|██████████████████████████████████████████████████| 500000/500000 [05:50<00:00, 1426.86it/s]\n"
     ]
    }
   ],
   "source": [
    "for i in tqdm(range(500000)):\n",
    "    objective, _, loss, _ = train_step(log_nu, z, mu, omega)\n",
    "    objective_logs.append(objective.numpy().mean())\n",
    "    loss_logs.append(loss.numpy())"
   ]
  },
  {
   "cell_type": "code",
   "execution_count": 12,
   "id": "509b3102-c3d5-4472-ade0-8dc19f3baeb2",
   "metadata": {},
   "outputs": [
    {
     "data": {
      "image/png": "[encoded data removed]",
      "text/plain": [
       "<Figure size 640x480 with 1 Axes>"
      ]
     },
     "metadata": {},
     "output_type": "display_data"
    }
   ],
   "source": [
    "plt.plot(objective_logs, label='expected objective')\n",
    "# plt.plot(loss_logs, label='loss', alpha=0.5)\n",
    "plt.xlabel('training steps')\n",
    "plt.legend()\n",
    "plt.show()"
   ]
  },
  {
   "cell_type": "markdown",
   "id": "fcba1bea-d6c0-40a3-b254-e0796bca0cf6",
   "metadata": {},
   "source": [
    "Let us check the optimization results:"
   ]
  },
  {
   "cell_type": "code",
   "execution_count": 13,
   "id": "4b0cbdac-290d-4499-8768-85a5a97e4e34",
   "metadata": {},
   "outputs": [],
   "source": [
    "objective, constraints, _ = get_loss(log_nu, z, mu, omega)"
   ]
  },
  {
   "cell_type": "code",
   "execution_count": 14,
   "id": "01f67547-d7ed-4f6f-a47d-6e085f3749e0",
   "metadata": {
    "scrolled": true
   },
   "outputs": [
    {
     "data": {
      "text/plain": [
       "(<tf.Tensor: shape=(), dtype=int64, numpy=8>,\n",
       " <tf.Tensor: shape=(), dtype=float32, numpy=0.0017884464>,\n",
       " [<tf.Tensor: shape=(), dtype=float32, numpy=0.19229889>,\n",
       "  <tf.Tensor: shape=(20,), dtype=float32, numpy=\n",
       "  array([-0.09135246,  0.09264612, -0.1067977 , -0.08253837,  0.08851719,\n",
       "          0.0799017 ,  0.01009274, -0.04937983,  0.07096386,  0.10009813,\n",
       "         -0.1156292 , -0.05639076,  0.10319757, -0.04201674, -0.07538652,\n",
       "          0.09879208, -0.11145496,  0.05728555,  0.07284975,  0.06654167],\n",
       "        dtype=float32)>])"
      ]
     },
     "execution_count": 14,
     "metadata": {},
     "output_type": "execute_result"
    }
   ],
   "source": [
    "min_i = tf.argmin(objective)\n",
    "min_i, objective[min_i], [c[min_i] for c in constraints]"
   ]
  },
  {
   "cell_type": "markdown",
   "id": "a4234118-77a7-444a-850f-3b176e326410",
   "metadata": {},
   "source": [
    "And for checking fractal:"
   ]
  },
  {
   "cell_type": "code",
   "execution_count": 15,
   "id": "e7fe7734-be11-47a5-af17-c0c45c6f7ee6",
   "metadata": {
    "scrolled": true
   },
   "outputs": [
    {
     "data": {
      "text/plain": [
       "<tf.Tensor: shape=(20,), dtype=float32, numpy=\n",
       "array([4.1677995, 4.861213 , 4.502962 , 3.6936588, 4.4591756, 4.5444136,\n",
       "       3.5875077, 4.349291 , 3.693872 , 4.591625 , 4.140812 , 4.723901 ,\n",
       "       4.022458 , 3.7121122, 3.7484918, 4.397069 , 4.5674434, 3.7025912,\n",
       "       4.7357583, 9.556167 ], dtype=float32)>"
      ]
     },
     "execution_count": 15,
     "metadata": {},
     "output_type": "execute_result"
    }
   ],
   "source": [
    "log_nu[min_i, :]"
   ]
  },
  {
   "cell_type": "code",
   "execution_count": 16,
   "id": "692b5b76-dfc2-49f6-bcce-36012545ed7f",
   "metadata": {},
   "outputs": [
    {
     "data": {
      "image/png": "[encoded data removed]",
      "text/plain": [
       "<Figure size 640x480 with 1 Axes>"
      ]
     },
     "metadata": {},
     "output_type": "display_data"
    }
   ],
   "source": [
    "plt.plot(log_nu[min_i, :], '.', label='$\\\\ln \\\\nu_k$')\n",
    "# plt.plot(tf.exp(log_nu[min_i, :]), '.', label='$\\\\nu_k$')\n",
    "plt.xlabel('$k$')\n",
    "plt.legend()\n",
    "plt.show()"
   ]
  },
  {
   "cell_type": "markdown",
   "id": "97e7900a-54c1-4b6e-8987-71f68f486a7b",
   "metadata": {},
   "source": [
    "Fractal does not emerge. The reason is that the leading term in $R_b$ is not permutation symmetric on all $\\nu_k$."
   ]
  },
  {
   "cell_type": "markdown",
   "id": "e72f02e4-7296-4df3-bb3f-895410d498b9",
   "metadata": {},
   "source": [
    "Now, we can see how many branches there are. Notice that\n",
    "\n",
    "$$ \\frac{n_c}{n_1} = \\frac{n_C}{n_{C-1}} \\cdots \\frac{n_2}{n_1} = \\prod_{k=1}^{C-1} \\nu_k, $$\n",
    "\n",
    "and that $n_1 = 1$, we find\n",
    "\n",
    "$$ n_c = \\prod_{k=1}^{C-1} \\nu_k. $$"
   ]
  },
  {
   "cell_type": "code",
   "execution_count": 17,
   "id": "2a2c0771-88c5-4197-b4c8-e2cf8509b896",
   "metadata": {},
   "outputs": [
    {
     "data": {
      "text/plain": [
       "<tf.Tensor: shape=(), dtype=float32, numpy=38.98154>"
      ]
     },
     "execution_count": 17,
     "metadata": {},
     "output_type": "execute_result"
    }
   ],
   "source": [
    "def get_log10_nc(log_nu):\n",
    "    return tf.reduce_sum(log_nu, axis=1) * np.log10(np.e)\n",
    "\n",
    "get_log10_nc(log_nu)[min_i]"
   ]
  },
  {
   "cell_type": "markdown",
   "id": "0c2922c0-f920-4b37-9549-a6213e4c969a",
   "metadata": {},
   "source": [
    "## Conclusion\n",
    "\n",
    "In the paper of West, et al (1997), the fractal structure is \"analytically derived\". But, as we have numerically tested here, when the `TRUE_LOG_VOLUME` is not large enough, fractal structure will not appear. Instead, it will have a single branching, that is, all $\\nu_k$ except for one are unit.\n",
    "\n",
    "Even when the `TRUE_LOG_VOLUME` is large, fractal does not emerge. It is observed that $n_{C-1} \\gg n_k$ for any $k < C-1$. This is because the leading term ($k = C-1$) of $R_b$ is not permutation symmetric for all $\\nu_k$, but dominated by $\\nu_{C-1}$. In fact, if you modify the objective by\n",
    "\n",
    "$$ \\ln \\sum_{k=0}^{C} \\prod_{i=k}^{C-1} \\nu_i^{{\\color{red}+} 2/3}, $$\n",
    "\n",
    "where we flipped the sign (the red font), fractal will appear. In this case, the leading term ($k = 0$) is permutation symmetric for all $\\nu_k$."
   ]
  }
 ],
 "metadata": {
  "kernelspec": {
   "display_name": ".venv",
   "language": "python",
   "name": ".venv"
  },
  "language_info": {
   "codemirror_mode": {
    "name": "ipython",
    "version": 3
   },
   "file_extension": ".py",
   "mimetype": "text/x-python",
   "name": "python",
   "nbconvert_exporter": "python",
   "pygments_lexer": "ipython3",
   "version": "3.11.6"
  }
 },
 "nbformat": 4,
 "nbformat_minor": 5
}
