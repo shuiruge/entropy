{
 "cells": [
  {
   "cell_type": "markdown",
   "id": "07274ccd-76f1-46a0-b64d-29dd3d7b8019",
   "metadata": {
    "id": "07274ccd-76f1-46a0-b64d-29dd3d7b8019"
   },
   "source": [
    "## Motivation\n",
    "\n",
    "In this notebook, we exame the idea declared in section 1.5.5 on Fashion MNIST data, a classification task.\n",
    "\n",
    "The model follows: https://www.kaggle.com/code/m0hand/fashion-mnist-cnn"
   ]
  },
  {
   "cell_type": "code",
   "execution_count": 1,
   "id": "5c9990d4-b9f1-4cdc-b8d6-b8ca49c39461",
   "metadata": {
    "colab": {
     "base_uri": "https://localhost:8080/"
    },
    "id": "5c9990d4-b9f1-4cdc-b8d6-b8ca49c39461",
    "outputId": "c9a18c2d-4ea1-4da8-8bb4-a1fc955f603a"
   },
   "outputs": [
    {
     "name": "stdout",
     "output_type": "stream",
     "text": [
      "--2024-03-24 07:27:45--  https://raw.githubusercontent.com/shuiruge/maxent/master/actions/utils.py\n",
      "Resolving raw.githubusercontent.com (raw.githubusercontent.com)... 185.199.110.133, 185.199.109.133, 185.199.111.133, ...\n",
      "Connecting to raw.githubusercontent.com (raw.githubusercontent.com)|185.199.110.133|:443... connected.\n",
      "HTTP request sent, awaiting response... 200 OK\n",
      "Length: 4137 (4.0K) [text/plain]\n",
      "Saving to: ‘utils.py’\n",
      "\n",
      "\r",
      "utils.py              0%[                    ]       0  --.-KB/s               \r",
      "utils.py            100%[===================>]   4.04K  --.-KB/s    in 0s      \n",
      "\n",
      "2024-03-24 07:27:45 (55.4 MB/s) - ‘utils.py’ saved [4137/4137]\n",
      "\n"
     ]
    }
   ],
   "source": [
    "# !wget https://raw.githubusercontent.com/shuiruge/maxent/master/actions/utils.py"
   ]
  },
  {
   "cell_type": "code",
   "execution_count": 2,
   "id": "b8ab63f7-841b-4fe7-ae73-b0f8a207430e",
   "metadata": {
    "id": "b8ab63f7-841b-4fe7-ae73-b0f8a207430e"
   },
   "outputs": [],
   "source": [
    "import numpy as np\n",
    "import tensorflow as tf\n",
    "import matplotlib.pyplot as plt\n",
    "from keras.layers import Conv2D, MaxPooling2D, Flatten, Dense\n",
    "from keras.models import Sequential\n",
    "from keras.losses import MSE, CategoricalCrossentropy\n",
    "from sklearn.metrics import accuracy_score\n",
    "from tqdm import tqdm\n",
    "\n",
    "from utils import GradientRelativeEntropy\n",
    "\n",
    "tf.random.set_seed(42)"
   ]
  },
  {
   "cell_type": "markdown",
   "id": "0c8239d4-600f-4b3d-b665-ba64d9bac711",
   "metadata": {
    "id": "0c8239d4-600f-4b3d-b665-ba64d9bac711"
   },
   "source": [
    "## The MNIST Data"
   ]
  },
  {
   "cell_type": "code",
   "execution_count": 3,
   "id": "d7ff4901-8ca8-4413-80ed-9184138a1ffa",
   "metadata": {
    "colab": {
     "base_uri": "https://localhost:8080/"
    },
    "id": "d7ff4901-8ca8-4413-80ed-9184138a1ffa",
    "outputId": "6e450f65-4051-4ac3-849c-03dbac4911aa"
   },
   "outputs": [
    {
     "name": "stdout",
     "output_type": "stream",
     "text": [
      "Downloading data from https://storage.googleapis.com/tensorflow/tf-keras-datasets/train-labels-idx1-ubyte.gz\n",
      "29515/29515 [==============================] - 0s 0us/step\n",
      "Downloading data from https://storage.googleapis.com/tensorflow/tf-keras-datasets/train-images-idx3-ubyte.gz\n",
      "26421880/26421880 [==============================] - 0s 0us/step\n",
      "Downloading data from https://storage.googleapis.com/tensorflow/tf-keras-datasets/t10k-labels-idx1-ubyte.gz\n",
      "5148/5148 [==============================] - 0s 0us/step\n",
      "Downloading data from https://storage.googleapis.com/tensorflow/tf-keras-datasets/t10k-images-idx3-ubyte.gz\n",
      "4422102/4422102 [==============================] - 0s 0us/step\n"
     ]
    },
    {
     "data": {
      "text/plain": [
       "(TensorShape([60000, 28, 28]), TensorShape([60000, 10]))"
      ]
     },
     "execution_count": 3,
     "metadata": {},
     "output_type": "execute_result"
    }
   ],
   "source": [
    "mnist = tf.keras.datasets.fashion_mnist\n",
    "(x_train, y_train), (x_test, y_test) = mnist.load_data()\n",
    "\n",
    "x_train = tf.convert_to_tensor(x_train / 255.0, 'float32')\n",
    "x_test = tf.convert_to_tensor(x_test / 255.0, 'float32')\n",
    "y_train = tf.one_hot(y_train, 10, dtype='float32')\n",
    "y_test = tf.one_hot(y_test, 10, dtype='float32')\n",
    "\n",
    "x_train.shape, y_train.shape"
   ]
  },
  {
   "cell_type": "markdown",
   "id": "405d08b9-61df-44d1-a10f-9b2297783c3b",
   "metadata": {
    "id": "405d08b9-61df-44d1-a10f-9b2297783c3b"
   },
   "source": [
    "## Train a Model with Gradient Loss"
   ]
  },
  {
   "cell_type": "code",
   "execution_count": 4,
   "id": "65e2d654-323d-43d2-805e-3a10fa1c28d2",
   "metadata": {
    "id": "65e2d654-323d-43d2-805e-3a10fa1c28d2"
   },
   "outputs": [],
   "source": [
    "model = Sequential([\n",
    "    Conv2D(64, (3, 3), activation='relu', input_shape=(28,28,1)),\n",
    "    MaxPooling2D((2, 2)),\n",
    "\n",
    "    Conv2D(64, (3, 3), activation='relu'),\n",
    "    MaxPooling2D((2, 2)),\n",
    "\n",
    "    Flatten(),\n",
    "    Dense(64, 'relu'),\n",
    "    Dense(10, 'softmax')\n",
    "])\n",
    "\n",
    "gradient_loss_fn = GradientRelativeEntropy(model)"
   ]
  },
  {
   "cell_type": "code",
   "execution_count": 5,
   "id": "ac0e9b1c-d29b-4ef7-8ede-d29b98e069d6",
   "metadata": {
    "id": "ac0e9b1c-d29b-4ef7-8ede-d29b98e069d6"
   },
   "outputs": [],
   "source": [
    "optimizer = tf.optimizers.Adam()\n",
    "\n",
    "@tf.function\n",
    "def train_step(x, y):\n",
    "    with tf.GradientTape() as tape:\n",
    "        gradient_loss = gradient_loss_fn(x, y)\n",
    "    grads = tape.gradient(gradient_loss.loss, model.variables)\n",
    "    optimizer.apply_gradients(zip(grads, model.variables))\n",
    "    return gradient_loss.loss"
   ]
  },
  {
   "cell_type": "code",
   "execution_count": 6,
   "id": "bd90d270-d554-4474-b95b-33c6826fee95",
   "metadata": {
    "id": "bd90d270-d554-4474-b95b-33c6826fee95"
   },
   "outputs": [],
   "source": [
    "def evaluate(model):\n",
    "    return accuracy_score(\n",
    "        tf.argmax(y_test, axis=1),\n",
    "        tf.argmax(model(x_test), axis=1),\n",
    "    )"
   ]
  },
  {
   "cell_type": "code",
   "execution_count": 7,
   "id": "1992d379-bf40-4022-bcd6-6d26c2b757f7",
   "metadata": {
    "id": "1992d379-bf40-4022-bcd6-6d26c2b757f7"
   },
   "outputs": [],
   "source": [
    "ds = tf.data.Dataset.from_tensor_slices((x_train, y_train))\n",
    "ds = ds.batch(100)"
   ]
  },
  {
   "cell_type": "code",
   "execution_count": 8,
   "id": "7f8317b9-e6c9-4c30-b3c6-7036e6785d07",
   "metadata": {
    "colab": {
     "base_uri": "https://localhost:8080/"
    },
    "id": "7f8317b9-e6c9-4c30-b3c6-7036e6785d07",
    "outputId": "bcd6bf95-f433-4bdd-902e-bc987e1580ac"
   },
   "outputs": [
    {
     "name": "stderr",
     "output_type": "stream",
     "text": [
      "100%|██████████| 600/600 [00:14<00:00, 42.82it/s] \n"
     ]
    },
    {
     "name": "stdout",
     "output_type": "stream",
     "text": [
      "0 0.018842889 0.8054\n"
     ]
    },
    {
     "name": "stderr",
     "output_type": "stream",
     "text": [
      "100%|██████████| 600/600 [00:04<00:00, 127.93it/s]\n"
     ]
    },
    {
     "name": "stdout",
     "output_type": "stream",
     "text": [
      "1 0.017179072 0.846\n"
     ]
    },
    {
     "name": "stderr",
     "output_type": "stream",
     "text": [
      "100%|██████████| 600/600 [00:03<00:00, 161.71it/s]\n"
     ]
    },
    {
     "name": "stdout",
     "output_type": "stream",
     "text": [
      "2 0.016804801 0.8594\n"
     ]
    },
    {
     "name": "stderr",
     "output_type": "stream",
     "text": [
      "100%|██████████| 600/600 [00:03<00:00, 189.52it/s]\n"
     ]
    },
    {
     "name": "stdout",
     "output_type": "stream",
     "text": [
      "3 0.016679283 0.8701\n"
     ]
    },
    {
     "name": "stderr",
     "output_type": "stream",
     "text": [
      "100%|██████████| 600/600 [00:03<00:00, 183.10it/s]\n"
     ]
    },
    {
     "name": "stdout",
     "output_type": "stream",
     "text": [
      "4 0.016442847 0.8751\n"
     ]
    },
    {
     "name": "stderr",
     "output_type": "stream",
     "text": [
      "100%|██████████| 600/600 [00:03<00:00, 190.57it/s]\n"
     ]
    },
    {
     "name": "stdout",
     "output_type": "stream",
     "text": [
      "5 0.016490102 0.8792\n"
     ]
    },
    {
     "name": "stderr",
     "output_type": "stream",
     "text": [
      "100%|██████████| 600/600 [00:03<00:00, 189.94it/s]\n"
     ]
    },
    {
     "name": "stdout",
     "output_type": "stream",
     "text": [
      "6 0.016200982 0.8877\n"
     ]
    },
    {
     "name": "stderr",
     "output_type": "stream",
     "text": [
      "100%|██████████| 600/600 [00:03<00:00, 188.04it/s]\n"
     ]
    },
    {
     "name": "stdout",
     "output_type": "stream",
     "text": [
      "7 0.016018802 0.8894\n"
     ]
    },
    {
     "name": "stderr",
     "output_type": "stream",
     "text": [
      "100%|██████████| 600/600 [00:03<00:00, 185.81it/s]\n"
     ]
    },
    {
     "name": "stdout",
     "output_type": "stream",
     "text": [
      "8 0.016018117 0.8854\n"
     ]
    },
    {
     "name": "stderr",
     "output_type": "stream",
     "text": [
      "100%|██████████| 600/600 [00:03<00:00, 189.20it/s]\n"
     ]
    },
    {
     "name": "stdout",
     "output_type": "stream",
     "text": [
      "9 0.016136598 0.8865\n"
     ]
    },
    {
     "name": "stderr",
     "output_type": "stream",
     "text": [
      "100%|██████████| 600/600 [00:03<00:00, 189.11it/s]\n"
     ]
    },
    {
     "name": "stdout",
     "output_type": "stream",
     "text": [
      "10 0.01595376 0.8937\n"
     ]
    },
    {
     "name": "stderr",
     "output_type": "stream",
     "text": [
      "100%|██████████| 600/600 [00:05<00:00, 117.61it/s]\n"
     ]
    },
    {
     "name": "stdout",
     "output_type": "stream",
     "text": [
      "11 0.016135354 0.8877\n"
     ]
    },
    {
     "name": "stderr",
     "output_type": "stream",
     "text": [
      "100%|██████████| 600/600 [00:03<00:00, 186.90it/s]\n"
     ]
    },
    {
     "name": "stdout",
     "output_type": "stream",
     "text": [
      "12 0.015967306 0.8888\n"
     ]
    },
    {
     "name": "stderr",
     "output_type": "stream",
     "text": [
      "100%|██████████| 600/600 [00:03<00:00, 189.23it/s]\n"
     ]
    },
    {
     "name": "stdout",
     "output_type": "stream",
     "text": [
      "13 0.015888285 0.8921\n"
     ]
    },
    {
     "name": "stderr",
     "output_type": "stream",
     "text": [
      "100%|██████████| 600/600 [00:03<00:00, 182.30it/s]\n"
     ]
    },
    {
     "name": "stdout",
     "output_type": "stream",
     "text": [
      "14 0.01631404 0.8852\n"
     ]
    },
    {
     "name": "stderr",
     "output_type": "stream",
     "text": [
      "100%|██████████| 600/600 [00:03<00:00, 188.78it/s]\n"
     ]
    },
    {
     "name": "stdout",
     "output_type": "stream",
     "text": [
      "15 0.015946122 0.8918\n"
     ]
    },
    {
     "name": "stderr",
     "output_type": "stream",
     "text": [
      "100%|██████████| 600/600 [00:03<00:00, 188.43it/s]\n"
     ]
    },
    {
     "name": "stdout",
     "output_type": "stream",
     "text": [
      "16 0.015885908 0.8877\n"
     ]
    },
    {
     "name": "stderr",
     "output_type": "stream",
     "text": [
      "100%|██████████| 600/600 [00:03<00:00, 188.02it/s]\n"
     ]
    },
    {
     "name": "stdout",
     "output_type": "stream",
     "text": [
      "17 0.015666153 0.8947\n"
     ]
    },
    {
     "name": "stderr",
     "output_type": "stream",
     "text": [
      "100%|██████████| 600/600 [00:03<00:00, 183.86it/s]\n"
     ]
    },
    {
     "name": "stdout",
     "output_type": "stream",
     "text": [
      "18 0.015493089 0.8949\n"
     ]
    },
    {
     "name": "stderr",
     "output_type": "stream",
     "text": [
      "100%|██████████| 600/600 [00:03<00:00, 172.24it/s]\n"
     ]
    },
    {
     "name": "stdout",
     "output_type": "stream",
     "text": [
      "19 0.016118828 0.8965\n"
     ]
    }
   ],
   "source": [
    "for epoch in range(20):\n",
    "    for x, y in tqdm(ds):\n",
    "        loss = train_step(x, y)\n",
    "    print(epoch, loss.numpy(), evaluate(model))"
   ]
  },
  {
   "cell_type": "code",
   "execution_count": 9,
   "id": "55dde9a7-4018-4e64-b909-e069729f096c",
   "metadata": {
    "colab": {
     "base_uri": "https://localhost:8080/"
    },
    "id": "55dde9a7-4018-4e64-b909-e069729f096c",
    "outputId": "39b490e1-e535-488c-c6a8-528ac7927c07"
   },
   "outputs": [
    {
     "data": {
      "text/plain": [
       "0.8965"
      ]
     },
     "execution_count": 9,
     "metadata": {},
     "output_type": "execute_result"
    }
   ],
   "source": [
    "evaluate(model)"
   ]
  },
  {
   "cell_type": "markdown",
   "id": "b7218605-525e-445c-aa7a-0e44d3d39dc1",
   "metadata": {
    "id": "b7218605-525e-445c-aa7a-0e44d3d39dc1"
   },
   "source": [
    "## Baseline Model with Usual Loss"
   ]
  },
  {
   "cell_type": "code",
   "execution_count": 10,
   "id": "b9993ada-54dd-4b1f-ab9e-3e3301695c99",
   "metadata": {
    "id": "b9993ada-54dd-4b1f-ab9e-3e3301695c99"
   },
   "outputs": [],
   "source": [
    "baseline_model = Sequential([\n",
    "    Conv2D(64, (3, 3), activation='relu', input_shape=(28,28,1)),\n",
    "    MaxPooling2D((2, 2)),\n",
    "\n",
    "    Conv2D(64, (3, 3), activation='relu'),\n",
    "    MaxPooling2D((2, 2)),\n",
    "\n",
    "    Flatten(),\n",
    "    Dense(64, 'relu'),\n",
    "    Dense(10, 'softmax')\n",
    "])"
   ]
  },
  {
   "cell_type": "code",
   "execution_count": 11,
   "id": "2dc98178-5940-4567-be22-6735de610d85",
   "metadata": {
    "id": "2dc98178-5940-4567-be22-6735de610d85"
   },
   "outputs": [],
   "source": [
    "baseline_model.compile(\n",
    "    optimizer='adam',\n",
    "    loss=CategoricalCrossentropy(),\n",
    "    metrics=['accuracy'],\n",
    ")"
   ]
  },
  {
   "cell_type": "code",
   "execution_count": 12,
   "id": "9fe0e479-a012-4538-a6ca-132352299fc5",
   "metadata": {
    "colab": {
     "base_uri": "https://localhost:8080/"
    },
    "id": "9fe0e479-a012-4538-a6ca-132352299fc5",
    "outputId": "3aeadc4b-1110-4cde-dc79-3d09b09207d8"
   },
   "outputs": [
    {
     "name": "stdout",
     "output_type": "stream",
     "text": [
      "Epoch 1/20\n",
      "1875/1875 - 9s - loss: 0.4667 - accuracy: 0.8311 - val_loss: 0.3546 - val_accuracy: 0.8721 - 9s/epoch - 5ms/step\n",
      "Epoch 2/20\n",
      "1875/1875 - 6s - loss: 0.3109 - accuracy: 0.8872 - val_loss: 0.3577 - val_accuracy: 0.8695 - 6s/epoch - 3ms/step\n",
      "Epoch 3/20\n",
      "1875/1875 - 7s - loss: 0.2687 - accuracy: 0.9010 - val_loss: 0.2977 - val_accuracy: 0.8941 - 7s/epoch - 4ms/step\n",
      "Epoch 4/20\n",
      "1875/1875 - 6s - loss: 0.2359 - accuracy: 0.9134 - val_loss: 0.2682 - val_accuracy: 0.9026 - 6s/epoch - 3ms/step\n",
      "Epoch 5/20\n",
      "1875/1875 - 6s - loss: 0.2122 - accuracy: 0.9217 - val_loss: 0.2793 - val_accuracy: 0.8991 - 6s/epoch - 3ms/step\n",
      "Epoch 6/20\n",
      "1875/1875 - 6s - loss: 0.1903 - accuracy: 0.9295 - val_loss: 0.2899 - val_accuracy: 0.8950 - 6s/epoch - 3ms/step\n",
      "Epoch 7/20\n",
      "1875/1875 - 6s - loss: 0.1716 - accuracy: 0.9356 - val_loss: 0.2631 - val_accuracy: 0.9106 - 6s/epoch - 3ms/step\n",
      "Epoch 8/20\n",
      "1875/1875 - 6s - loss: 0.1555 - accuracy: 0.9416 - val_loss: 0.2672 - val_accuracy: 0.9092 - 6s/epoch - 3ms/step\n",
      "Epoch 9/20\n",
      "1875/1875 - 6s - loss: 0.1388 - accuracy: 0.9482 - val_loss: 0.2652 - val_accuracy: 0.9102 - 6s/epoch - 3ms/step\n",
      "Epoch 10/20\n",
      "1875/1875 - 6s - loss: 0.1278 - accuracy: 0.9524 - val_loss: 0.2776 - val_accuracy: 0.9083 - 6s/epoch - 3ms/step\n",
      "Epoch 11/20\n",
      "1875/1875 - 6s - loss: 0.1165 - accuracy: 0.9562 - val_loss: 0.2892 - val_accuracy: 0.9079 - 6s/epoch - 3ms/step\n",
      "Epoch 12/20\n",
      "1875/1875 - 6s - loss: 0.1048 - accuracy: 0.9593 - val_loss: 0.3104 - val_accuracy: 0.9101 - 6s/epoch - 3ms/step\n",
      "Epoch 13/20\n",
      "1875/1875 - 6s - loss: 0.0950 - accuracy: 0.9650 - val_loss: 0.3309 - val_accuracy: 0.9051 - 6s/epoch - 3ms/step\n",
      "Epoch 14/20\n",
      "1875/1875 - 6s - loss: 0.0888 - accuracy: 0.9661 - val_loss: 0.3303 - val_accuracy: 0.9152 - 6s/epoch - 3ms/step\n",
      "Epoch 15/20\n",
      "1875/1875 - 6s - loss: 0.0798 - accuracy: 0.9705 - val_loss: 0.3331 - val_accuracy: 0.9118 - 6s/epoch - 3ms/step\n",
      "Epoch 16/20\n",
      "1875/1875 - 10s - loss: 0.0736 - accuracy: 0.9721 - val_loss: 0.3611 - val_accuracy: 0.9091 - 10s/epoch - 5ms/step\n",
      "Epoch 17/20\n",
      "1875/1875 - 6s - loss: 0.0689 - accuracy: 0.9746 - val_loss: 0.3601 - val_accuracy: 0.9105 - 6s/epoch - 3ms/step\n",
      "Epoch 18/20\n",
      "1875/1875 - 6s - loss: 0.0606 - accuracy: 0.9769 - val_loss: 0.3946 - val_accuracy: 0.9074 - 6s/epoch - 3ms/step\n",
      "Epoch 19/20\n",
      "1875/1875 - 6s - loss: 0.0606 - accuracy: 0.9774 - val_loss: 0.4245 - val_accuracy: 0.9079 - 6s/epoch - 3ms/step\n",
      "Epoch 20/20\n",
      "1875/1875 - 6s - loss: 0.0555 - accuracy: 0.9796 - val_loss: 0.4359 - val_accuracy: 0.9044 - 6s/epoch - 3ms/step\n"
     ]
    },
    {
     "data": {
      "text/plain": [
       "<keras.src.callbacks.History at 0x7f540e199030>"
      ]
     },
     "execution_count": 12,
     "metadata": {},
     "output_type": "execute_result"
    }
   ],
   "source": [
    "baseline_model.fit(\n",
    "    x_train, y_train,\n",
    "    epochs=20,\n",
    "    validation_data=(x_test, y_test),\n",
    "    verbose=2,\n",
    ")"
   ]
  },
  {
   "cell_type": "code",
   "execution_count": 13,
   "id": "637a961b-4f4b-4c9a-a5d3-b944c1ea01a9",
   "metadata": {
    "colab": {
     "base_uri": "https://localhost:8080/"
    },
    "id": "637a961b-4f4b-4c9a-a5d3-b944c1ea01a9",
    "outputId": "82de739a-53c2-486f-f0cd-220276615371"
   },
   "outputs": [
    {
     "data": {
      "text/plain": [
       "0.9044"
      ]
     },
     "execution_count": 13,
     "metadata": {},
     "output_type": "execute_result"
    }
   ],
   "source": [
    "evaluate(baseline_model)"
   ]
  },
  {
   "cell_type": "markdown",
   "id": "cff6385a-4ca4-45fb-bf99-9953641fec71",
   "metadata": {
    "id": "cff6385a-4ca4-45fb-bf99-9953641fec71"
   },
   "source": [
    "## Model Robustness\n",
    "\n",
    "Now, we compare the robustness of the model and the baseline. To do so, we add Gaussian noise to the test data and check the accuracy."
   ]
  },
  {
   "cell_type": "code",
   "execution_count": 21,
   "id": "c277734d-f622-4f4b-82df-ea5bed49a5fc",
   "metadata": {
    "colab": {
     "base_uri": "https://localhost:8080/"
    },
    "id": "c277734d-f622-4f4b-82df-ea5bed49a5fc",
    "outputId": "29bb9ed6-cdab-41b2-fe6e-315489b67819"
   },
   "outputs": [
    {
     "name": "stderr",
     "output_type": "stream",
     "text": [
      "100%|██████████| 20/20 [00:04<00:00,  4.44it/s]\n"
     ]
    }
   ],
   "source": [
    "stddevs, model_accs, baseline_accs = [], [], []\n",
    "for stddev in tqdm(np.linspace(0, 0.2, 20)):\n",
    "    stddevs.append(stddev)\n",
    "    x_test_noised = x_test + tf.random.normal(tf.shape(x_test)) * stddev\n",
    "    x_test_noised = tf.clip_by_value(x_test_noised, 0., 1.)\n",
    "    model_accs.append(\n",
    "        accuracy_score(tf.argmax(y_test, axis=1),\n",
    "                       tf.argmax(model(x_test_noised), axis=1))\n",
    "    )\n",
    "    baseline_accs.append(\n",
    "        accuracy_score(tf.argmax(y_test, axis=1),\n",
    "                       tf.argmax(baseline_model(x_test_noised), axis=1))\n",
    "    )"
   ]
  },
  {
   "cell_type": "code",
   "execution_count": 22,
   "id": "aPjkXgf4Yern",
   "metadata": {
    "colab": {
     "base_uri": "https://localhost:8080/",
     "height": 430
    },
    "id": "aPjkXgf4Yern",
    "outputId": "610213ff-df3c-4df7-cd6e-ee5a62891bb4"
   },
   "outputs": [
    {
     "data": {
      "image/png": "[encoded data removed]",
      "text/plain": [
       "<Figure size 640x480 with 1 Axes>"
      ]
     },
     "metadata": {},
     "output_type": "display_data"
    }
   ],
   "source": [
    "plt.plot(stddevs, model_accs, '--', label='model')\n",
    "plt.plot(stddevs, baseline_accs, '--', label='baseline')\n",
    "plt.legend()\n",
    "plt.grid()\n",
    "plt.show()"
   ]
  },
  {
   "cell_type": "markdown",
   "id": "5acca124-9900-4ee4-81cb-092e5fe4ff1e",
   "metadata": {},
   "source": [
    "And for uniform perturbation:"
   ]
  },
  {
   "cell_type": "code",
   "execution_count": 23,
   "id": "u5bCPxaYYQWB",
   "metadata": {
    "colab": {
     "base_uri": "https://localhost:8080/"
    },
    "id": "u5bCPxaYYQWB",
    "outputId": "6428da5f-fc79-4116-e034-6e02253540d5"
   },
   "outputs": [
    {
     "name": "stderr",
     "output_type": "stream",
     "text": [
      "100%|██████████| 20/20 [00:04<00:00,  4.40it/s]\n"
     ]
    }
   ],
   "source": [
    "stddevs, model_accs, baseline_accs = [], [], []\n",
    "for stddev in tqdm(np.linspace(0, 0.2, 20)):\n",
    "    stddevs.append(stddev)\n",
    "    x_test_noised = x_test + tf.random.uniform(tf.shape(x_test), -1., 1.) * stddev\n",
    "    x_test_noised = tf.clip_by_value(x_test_noised, 0., 1.)\n",
    "    model_accs.append(\n",
    "        accuracy_score(tf.argmax(y_test, axis=1),\n",
    "                       tf.argmax(model(x_test_noised), axis=1))\n",
    "    )\n",
    "    baseline_accs.append(\n",
    "        accuracy_score(tf.argmax(y_test, axis=1),\n",
    "                       tf.argmax(baseline_model(x_test_noised), axis=1))\n",
    "    )"
   ]
  },
  {
   "cell_type": "code",
   "execution_count": 24,
   "id": "YA3J5KjFYR_D",
   "metadata": {
    "colab": {
     "base_uri": "https://localhost:8080/",
     "height": 430
    },
    "id": "YA3J5KjFYR_D",
    "outputId": "cd56b3bb-40a2-417a-d5ed-68fffb551675"
   },
   "outputs": [
    {
     "data": {
      "image/png": "[encoded data removed]",
      "text/plain": [
       "<Figure size 640x480 with 1 Axes>"
      ]
     },
     "metadata": {},
     "output_type": "display_data"
    }
   ],
   "source": [
    "plt.plot(stddevs, model_accs, '--', label='model')\n",
    "plt.plot(stddevs, baseline_accs, '--', label='baseline')\n",
    "plt.legend()\n",
    "plt.grid()\n",
    "plt.show()"
   ]
  },
  {
   "cell_type": "markdown",
   "id": "e8736769-691c-4d38-8d3b-a127b31664b7",
   "metadata": {
    "id": "e8736769-691c-4d38-8d3b-a127b31664b7"
   },
   "source": [
    "Or, non-Gaussian \"pixal-flipping\" noise."
   ]
  },
  {
   "cell_type": "code",
   "execution_count": 25,
   "id": "6ddaf024-c6bf-4932-9d62-dca7649b8f42",
   "metadata": {
    "colab": {
     "base_uri": "https://localhost:8080/"
    },
    "id": "6ddaf024-c6bf-4932-9d62-dca7649b8f42",
    "outputId": "6362ebdd-be44-43cf-816a-fd1093d5bdeb"
   },
   "outputs": [
    {
     "name": "stderr",
     "output_type": "stream",
     "text": [
      "100%|██████████| 20/20 [00:04<00:00,  4.38it/s]\n"
     ]
    }
   ],
   "source": [
    "flip_ratios, model_accs, baseline_accs = [], [], []\n",
    "for flip_ratio in tqdm(np.linspace(0, 0.1, 20)):\n",
    "    flip_ratios.append(flip_ratio)\n",
    "    x_test_noised = tf.where(tf.random.uniform(tf.shape(x_test)) < flip_ratio, 1 - x_test, x_test)\n",
    "    model_accs.append(\n",
    "        accuracy_score(tf.argmax(y_test, axis=1),\n",
    "                       tf.argmax(model(x_test_noised), axis=1))\n",
    "    )\n",
    "    baseline_accs.append(\n",
    "        accuracy_score(tf.argmax(y_test, axis=1),\n",
    "                       tf.argmax(baseline_model(x_test_noised), axis=1))\n",
    "    )"
   ]
  },
  {
   "cell_type": "code",
   "execution_count": 26,
   "id": "k_fZ86kpX-pk",
   "metadata": {
    "colab": {
     "base_uri": "https://localhost:8080/",
     "height": 430
    },
    "id": "k_fZ86kpX-pk",
    "outputId": "a9ff71d7-eb35-48a8-963f-0f0b56c9db6a"
   },
   "outputs": [
    {
     "data": {
      "image/png": "[encoded data removed]",
      "text/plain": [
       "<Figure size 640x480 with 1 Axes>"
      ]
     },
     "metadata": {},
     "output_type": "display_data"
    }
   ],
   "source": [
    "plt.plot(stddevs, model_accs, '--', label='model')\n",
    "plt.plot(stddevs, baseline_accs, '--', label='baseline')\n",
    "plt.legend()\n",
    "plt.grid()\n",
    "plt.show()"
   ]
  },
  {
   "cell_type": "markdown",
   "id": "49ce4da5-feaf-42ea-a25a-cbf25b5fd89d",
   "metadata": {
    "id": "49ce4da5-feaf-42ea-a25a-cbf25b5fd89d"
   },
   "source": [
    "## Conclusion\n",
    "\n",
    "- By simply using the \"gradient loss\", we obtained a result that approaches the baseline. But the robustness is greatly out-performs the baseline.\n",
    "- Because the \"gradient loss\" computes gradients twice (once by x and y, and once by model variables), the training duration is doubled.\n",
    "- We also tested non-Gaussian noise, such as flipping the given ratio of pixals. The result is that the model trained by the \"gradient loss\" is no more robust, but no less, than the baseline model. The difference is that the pixal-flipping noise is not continuous. The noised images jump to other local minima of the loss function."
   ]
  }
 ],
 "metadata": {
  "accelerator": "GPU",
  "colab": {
   "gpuType": "T4",
   "provenance": []
  },
  "kernelspec": {
   "display_name": ".venv",
   "language": "python",
   "name": ".venv"
  },
  "language_info": {
   "codemirror_mode": {
    "name": "ipython",
    "version": 3
   },
   "file_extension": ".py",
   "mimetype": "text/x-python",
   "name": "python",
   "nbconvert_exporter": "python",
   "pygments_lexer": "ipython3",
   "version": "3.11.6"
  }
 },
 "nbformat": 4,
 "nbformat_minor": 5
}
