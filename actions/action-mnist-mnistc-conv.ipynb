{
  "cells": [
    {
      "cell_type": "markdown",
      "id": "07274ccd-76f1-46a0-b64d-29dd3d7b8019",
      "metadata": {
        "id": "07274ccd-76f1-46a0-b64d-29dd3d7b8019"
      },
      "source": [
        "## Motivation\n",
        "\n",
        "In this notebook, we expand the previous experiment on the idea declared in section 1.5.5 (see the notebook `action-mnist-mnistc-base.ipynb`), by using a simple convolutional neural network instead of multi-layer perceptron. The code are the same as the previous experiment except for model structure and optimizer."
      ]
    },
    {
      "cell_type": "code",
      "execution_count": null,
      "id": "b8ab63f7-841b-4fe7-ae73-b0f8a207430e",
      "metadata": {
        "id": "b8ab63f7-841b-4fe7-ae73-b0f8a207430e",
        "colab": {
          "base_uri": "https://localhost:8080/"
        },
        "outputId": "e3b4395e-381d-4ff2-f8d2-9803008f7cbc"
      },
      "outputs": [
        {
          "output_type": "stream",
          "name": "stdout",
          "text": [
            "--2024-08-20 01:01:23--  https://raw.githubusercontent.com/shuiruge/maxent/master/actions/utils.py\n",
            "Resolving raw.githubusercontent.com (raw.githubusercontent.com)... 185.199.109.133, 185.199.111.133, 185.199.108.133, ...\n",
            "Connecting to raw.githubusercontent.com (raw.githubusercontent.com)|185.199.109.133|:443... connected.\n",
            "HTTP request sent, awaiting response... 200 OK\n",
            "Length: 4665 (4.6K) [text/plain]\n",
            "Saving to: ‘utils.py’\n",
            "\n",
            "utils.py            100%[===================>]   4.56K  --.-KB/s    in 0s      \n",
            "\n",
            "2024-08-20 01:01:24 (62.2 MB/s) - ‘utils.py’ saved [4665/4665]\n",
            "\n"
          ]
        }
      ],
      "source": [
        "import os\n",
        "import numpy as np\n",
        "import tensorflow as tf\n",
        "import matplotlib.pyplot as plt\n",
        "from sklearn.metrics import accuracy_score\n",
        "from tqdm import tqdm\n",
        "\n",
        "!wget https://raw.githubusercontent.com/shuiruge/maxent/master/actions/utils.py\n",
        "from utils import GradientRelativeEntropy\n",
        "\n",
        "tf.random.set_seed(42)"
      ]
    },
    {
      "cell_type": "markdown",
      "id": "0c8239d4-600f-4b3d-b665-ba64d9bac711",
      "metadata": {
        "id": "0c8239d4-600f-4b3d-b665-ba64d9bac711"
      },
      "source": [
        "## The MNIST Dataset"
      ]
    },
    {
      "cell_type": "code",
      "execution_count": null,
      "id": "d7ff4901-8ca8-4413-80ed-9184138a1ffa",
      "metadata": {
        "id": "d7ff4901-8ca8-4413-80ed-9184138a1ffa",
        "colab": {
          "base_uri": "https://localhost:8080/"
        },
        "outputId": "7c5cf81f-ac7c-4aa9-abb5-6d5cf4130e1f"
      },
      "outputs": [
        {
          "output_type": "stream",
          "name": "stdout",
          "text": [
            "Downloading data from https://storage.googleapis.com/tensorflow/tf-keras-datasets/mnist.npz\n",
            "\u001b[1m11490434/11490434\u001b[0m \u001b[32m━━━━━━━━━━━━━━━━━━━━\u001b[0m\u001b[37m\u001b[0m \u001b[1m2s\u001b[0m 0us/step\n"
          ]
        }
      ],
      "source": [
        "mnist = tf.keras.datasets.mnist\n",
        "(x_train, y_train), (x_test, y_test) = mnist.load_data()\n",
        "\n",
        "def preprocess(x):\n",
        "    x = x.astype('float32').reshape([-1, 28, 28, 1])\n",
        "    x = x / 255.0\n",
        "    return x\n",
        "\n",
        "x_train = preprocess(x_train)\n",
        "x_test = preprocess(x_test)\n",
        "y_train = y_train.astype('float32')\n",
        "y_test = y_test.astype('float32')"
      ]
    },
    {
      "cell_type": "markdown",
      "id": "405d08b9-61df-44d1-a10f-9b2297783c3b",
      "metadata": {
        "id": "405d08b9-61df-44d1-a10f-9b2297783c3b"
      },
      "source": [
        "## Train a CNN Model with the \"Gradient Loss\""
      ]
    },
    {
      "cell_type": "code",
      "execution_count": null,
      "id": "65e2d654-323d-43d2-805e-3a10fa1c28d2",
      "metadata": {
        "id": "65e2d654-323d-43d2-805e-3a10fa1c28d2"
      },
      "outputs": [],
      "source": [
        "model = tf.keras.Sequential([\n",
        "    tf.keras.layers.Conv2D(32, 3),\n",
        "    tf.keras.layers.ReLU(),\n",
        "    tf.keras.layers.Conv2D(64, 3),\n",
        "    tf.keras.layers.ReLU(),\n",
        "    tf.keras.layers.MaxPool2D((2, 2)),\n",
        "    tf.keras.layers.Flatten(),\n",
        "    tf.keras.layers.Dense(128, 'relu'),\n",
        "    tf.keras.layers.Dense(10),\n",
        "])\n",
        "\n",
        "gradient_loss_fn = GradientRelativeEntropy(model)"
      ]
    },
    {
      "cell_type": "code",
      "execution_count": null,
      "id": "ac0e9b1c-d29b-4ef7-8ede-d29b98e069d6",
      "metadata": {
        "id": "ac0e9b1c-d29b-4ef7-8ede-d29b98e069d6"
      },
      "outputs": [],
      "source": [
        "optimizer = tf.optimizers.AdamW()\n",
        "\n",
        "@tf.function\n",
        "def train_step(x, y):\n",
        "    with tf.GradientTape() as tape:\n",
        "        gradient_loss = gradient_loss_fn(x, y)\n",
        "        loss = tf.reduce_mean(gradient_loss.loss)\n",
        "    grads = tape.gradient(loss, model.variables)\n",
        "    optimizer.apply_gradients(zip(grads, model.variables))\n",
        "    return loss"
      ]
    },
    {
      "cell_type": "code",
      "execution_count": null,
      "id": "bd90d270-d554-4474-b95b-33c6826fee95",
      "metadata": {
        "id": "bd90d270-d554-4474-b95b-33c6826fee95"
      },
      "outputs": [],
      "source": [
        "def evaluate(model):\n",
        "    return accuracy_score(y_test, tf.argmax(model(x_test), axis=1))"
      ]
    },
    {
      "cell_type": "code",
      "execution_count": null,
      "id": "1992d379-bf40-4022-bcd6-6d26c2b757f7",
      "metadata": {
        "id": "1992d379-bf40-4022-bcd6-6d26c2b757f7"
      },
      "outputs": [],
      "source": [
        "ds = tf.data.Dataset.from_tensor_slices(\n",
        "    (x_train, tf.one_hot(y_train, 10))\n",
        ")\n",
        "ds = ds.batch(64)"
      ]
    },
    {
      "cell_type": "code",
      "execution_count": null,
      "id": "7f8317b9-e6c9-4c30-b3c6-7036e6785d07",
      "metadata": {
        "colab": {
          "base_uri": "https://localhost:8080/"
        },
        "id": "7f8317b9-e6c9-4c30-b3c6-7036e6785d07",
        "outputId": "fc1af99d-bd48-4a43-b55e-19e28aeb02a2",
        "scrolled": true
      },
      "outputs": [
        {
          "output_type": "stream",
          "name": "stderr",
          "text": [
            "100%|██████████| 938/938 [00:12<00:00, 73.25it/s] \n"
          ]
        },
        {
          "output_type": "stream",
          "name": "stdout",
          "text": [
            "epoch: 0, loss: 0.1178, val_accuracy: 0.9637\n"
          ]
        },
        {
          "output_type": "stream",
          "name": "stderr",
          "text": [
            "100%|██████████| 938/938 [00:10<00:00, 91.74it/s] \n"
          ]
        },
        {
          "output_type": "stream",
          "name": "stdout",
          "text": [
            "epoch: 1, loss: 0.1110, val_accuracy: 0.9742\n"
          ]
        },
        {
          "output_type": "stream",
          "name": "stderr",
          "text": [
            "100%|██████████| 938/938 [00:06<00:00, 150.97it/s]\n"
          ]
        },
        {
          "output_type": "stream",
          "name": "stdout",
          "text": [
            "epoch: 2, loss: 0.1108, val_accuracy: 0.9779\n"
          ]
        },
        {
          "output_type": "stream",
          "name": "stderr",
          "text": [
            "100%|██████████| 938/938 [00:06<00:00, 152.92it/s]\n"
          ]
        },
        {
          "output_type": "stream",
          "name": "stdout",
          "text": [
            "epoch: 3, loss: 0.1094, val_accuracy: 0.9795\n"
          ]
        },
        {
          "output_type": "stream",
          "name": "stderr",
          "text": [
            "100%|██████████| 938/938 [00:06<00:00, 153.19it/s]\n"
          ]
        },
        {
          "output_type": "stream",
          "name": "stdout",
          "text": [
            "epoch: 4, loss: 0.1100, val_accuracy: 0.9804\n"
          ]
        },
        {
          "output_type": "stream",
          "name": "stderr",
          "text": [
            "100%|██████████| 938/938 [00:06<00:00, 151.62it/s]\n"
          ]
        },
        {
          "output_type": "stream",
          "name": "stdout",
          "text": [
            "epoch: 5, loss: 0.1086, val_accuracy: 0.9808\n"
          ]
        },
        {
          "output_type": "stream",
          "name": "stderr",
          "text": [
            "100%|██████████| 938/938 [00:06<00:00, 151.93it/s]\n"
          ]
        },
        {
          "output_type": "stream",
          "name": "stdout",
          "text": [
            "epoch: 6, loss: 0.1091, val_accuracy: 0.9819\n"
          ]
        },
        {
          "output_type": "stream",
          "name": "stderr",
          "text": [
            "100%|██████████| 938/938 [00:10<00:00, 91.72it/s] \n"
          ]
        },
        {
          "output_type": "stream",
          "name": "stdout",
          "text": [
            "epoch: 7, loss: 0.1096, val_accuracy: 0.9819\n"
          ]
        },
        {
          "output_type": "stream",
          "name": "stderr",
          "text": [
            "100%|██████████| 938/938 [00:06<00:00, 152.26it/s]\n"
          ]
        },
        {
          "output_type": "stream",
          "name": "stdout",
          "text": [
            "epoch: 8, loss: 0.1087, val_accuracy: 0.9828\n"
          ]
        },
        {
          "output_type": "stream",
          "name": "stderr",
          "text": [
            "100%|██████████| 938/938 [00:06<00:00, 155.66it/s]\n"
          ]
        },
        {
          "output_type": "stream",
          "name": "stdout",
          "text": [
            "epoch: 9, loss: 0.1085, val_accuracy: 0.9829\n"
          ]
        },
        {
          "output_type": "stream",
          "name": "stderr",
          "text": [
            "100%|██████████| 938/938 [00:06<00:00, 151.86it/s]\n"
          ]
        },
        {
          "output_type": "stream",
          "name": "stdout",
          "text": [
            "epoch: 10, loss: 0.1088, val_accuracy: 0.9834\n"
          ]
        },
        {
          "output_type": "stream",
          "name": "stderr",
          "text": [
            "100%|██████████| 938/938 [00:06<00:00, 155.77it/s]\n"
          ]
        },
        {
          "output_type": "stream",
          "name": "stdout",
          "text": [
            "epoch: 11, loss: 0.1079, val_accuracy: 0.9841\n"
          ]
        },
        {
          "output_type": "stream",
          "name": "stderr",
          "text": [
            "100%|██████████| 938/938 [00:06<00:00, 152.17it/s]\n"
          ]
        },
        {
          "output_type": "stream",
          "name": "stdout",
          "text": [
            "epoch: 12, loss: 0.1078, val_accuracy: 0.9849\n"
          ]
        },
        {
          "output_type": "stream",
          "name": "stderr",
          "text": [
            "100%|██████████| 938/938 [00:06<00:00, 155.27it/s]\n"
          ]
        },
        {
          "output_type": "stream",
          "name": "stdout",
          "text": [
            "epoch: 13, loss: 0.1074, val_accuracy: 0.9850\n"
          ]
        },
        {
          "output_type": "stream",
          "name": "stderr",
          "text": [
            "100%|██████████| 938/938 [00:06<00:00, 152.68it/s]\n"
          ]
        },
        {
          "output_type": "stream",
          "name": "stdout",
          "text": [
            "epoch: 14, loss: 0.1060, val_accuracy: 0.9853\n"
          ]
        },
        {
          "output_type": "stream",
          "name": "stderr",
          "text": [
            "100%|██████████| 938/938 [00:06<00:00, 155.79it/s]\n"
          ]
        },
        {
          "output_type": "stream",
          "name": "stdout",
          "text": [
            "epoch: 15, loss: 0.1070, val_accuracy: 0.9854\n"
          ]
        },
        {
          "output_type": "stream",
          "name": "stderr",
          "text": [
            "100%|██████████| 938/938 [00:06<00:00, 152.28it/s]\n"
          ]
        },
        {
          "output_type": "stream",
          "name": "stdout",
          "text": [
            "epoch: 16, loss: 0.1069, val_accuracy: 0.9848\n"
          ]
        },
        {
          "output_type": "stream",
          "name": "stderr",
          "text": [
            "100%|██████████| 938/938 [00:06<00:00, 155.50it/s]\n"
          ]
        },
        {
          "output_type": "stream",
          "name": "stdout",
          "text": [
            "epoch: 17, loss: 0.1062, val_accuracy: 0.9850\n"
          ]
        },
        {
          "output_type": "stream",
          "name": "stderr",
          "text": [
            "100%|██████████| 938/938 [00:06<00:00, 152.43it/s]\n"
          ]
        },
        {
          "output_type": "stream",
          "name": "stdout",
          "text": [
            "epoch: 18, loss: 0.1053, val_accuracy: 0.9854\n"
          ]
        },
        {
          "output_type": "stream",
          "name": "stderr",
          "text": [
            "100%|██████████| 938/938 [00:06<00:00, 155.85it/s]\n"
          ]
        },
        {
          "output_type": "stream",
          "name": "stdout",
          "text": [
            "epoch: 19, loss: 0.1062, val_accuracy: 0.9848\n"
          ]
        },
        {
          "output_type": "stream",
          "name": "stderr",
          "text": [
            "100%|██████████| 938/938 [00:06<00:00, 152.74it/s]\n"
          ]
        },
        {
          "output_type": "stream",
          "name": "stdout",
          "text": [
            "epoch: 20, loss: 0.1050, val_accuracy: 0.9851\n"
          ]
        },
        {
          "output_type": "stream",
          "name": "stderr",
          "text": [
            "100%|██████████| 938/938 [00:06<00:00, 154.95it/s]\n"
          ]
        },
        {
          "output_type": "stream",
          "name": "stdout",
          "text": [
            "epoch: 21, loss: 0.1025, val_accuracy: 0.9856\n"
          ]
        },
        {
          "output_type": "stream",
          "name": "stderr",
          "text": [
            "100%|██████████| 938/938 [00:06<00:00, 153.19it/s]\n"
          ]
        },
        {
          "output_type": "stream",
          "name": "stdout",
          "text": [
            "epoch: 22, loss: 0.1017, val_accuracy: 0.9867\n"
          ]
        },
        {
          "output_type": "stream",
          "name": "stderr",
          "text": [
            "100%|██████████| 938/938 [00:06<00:00, 152.89it/s]\n"
          ]
        },
        {
          "output_type": "stream",
          "name": "stdout",
          "text": [
            "epoch: 23, loss: 0.1013, val_accuracy: 0.9867\n"
          ]
        },
        {
          "output_type": "stream",
          "name": "stderr",
          "text": [
            "100%|██████████| 938/938 [00:06<00:00, 147.28it/s]\n"
          ]
        },
        {
          "output_type": "stream",
          "name": "stdout",
          "text": [
            "epoch: 24, loss: 0.1007, val_accuracy: 0.9871\n"
          ]
        },
        {
          "output_type": "stream",
          "name": "stderr",
          "text": [
            "100%|██████████| 938/938 [00:06<00:00, 155.71it/s]\n"
          ]
        },
        {
          "output_type": "stream",
          "name": "stdout",
          "text": [
            "epoch: 25, loss: 0.1003, val_accuracy: 0.9877\n"
          ]
        },
        {
          "output_type": "stream",
          "name": "stderr",
          "text": [
            "100%|██████████| 938/938 [00:06<00:00, 152.20it/s]\n"
          ]
        },
        {
          "output_type": "stream",
          "name": "stdout",
          "text": [
            "epoch: 26, loss: 0.0997, val_accuracy: 0.9878\n"
          ]
        },
        {
          "output_type": "stream",
          "name": "stderr",
          "text": [
            "100%|██████████| 938/938 [00:06<00:00, 155.95it/s]\n"
          ]
        },
        {
          "output_type": "stream",
          "name": "stdout",
          "text": [
            "epoch: 27, loss: 0.1000, val_accuracy: 0.9875\n"
          ]
        },
        {
          "output_type": "stream",
          "name": "stderr",
          "text": [
            "100%|██████████| 938/938 [00:06<00:00, 152.42it/s]\n"
          ]
        },
        {
          "output_type": "stream",
          "name": "stdout",
          "text": [
            "epoch: 28, loss: 0.0989, val_accuracy: 0.9877\n"
          ]
        },
        {
          "output_type": "stream",
          "name": "stderr",
          "text": [
            "100%|██████████| 938/938 [00:06<00:00, 155.85it/s]\n"
          ]
        },
        {
          "output_type": "stream",
          "name": "stdout",
          "text": [
            "epoch: 29, loss: 0.0993, val_accuracy: 0.9877\n"
          ]
        },
        {
          "output_type": "stream",
          "name": "stderr",
          "text": [
            "100%|██████████| 938/938 [00:06<00:00, 152.20it/s]\n"
          ]
        },
        {
          "output_type": "stream",
          "name": "stdout",
          "text": [
            "epoch: 30, loss: 0.1002, val_accuracy: 0.9879\n"
          ]
        },
        {
          "output_type": "stream",
          "name": "stderr",
          "text": [
            "100%|██████████| 938/938 [00:06<00:00, 155.53it/s]\n"
          ]
        },
        {
          "output_type": "stream",
          "name": "stdout",
          "text": [
            "epoch: 31, loss: 0.0994, val_accuracy: 0.9877\n"
          ]
        },
        {
          "output_type": "stream",
          "name": "stderr",
          "text": [
            "100%|██████████| 938/938 [00:06<00:00, 152.85it/s]\n"
          ]
        },
        {
          "output_type": "stream",
          "name": "stdout",
          "text": [
            "epoch: 32, loss: 0.0995, val_accuracy: 0.9873\n"
          ]
        },
        {
          "output_type": "stream",
          "name": "stderr",
          "text": [
            "100%|██████████| 938/938 [00:06<00:00, 155.36it/s]\n"
          ]
        },
        {
          "output_type": "stream",
          "name": "stdout",
          "text": [
            "epoch: 33, loss: 0.0992, val_accuracy: 0.9879\n"
          ]
        },
        {
          "output_type": "stream",
          "name": "stderr",
          "text": [
            "100%|██████████| 938/938 [00:06<00:00, 152.46it/s]\n"
          ]
        },
        {
          "output_type": "stream",
          "name": "stdout",
          "text": [
            "epoch: 34, loss: 0.0992, val_accuracy: 0.9875\n"
          ]
        },
        {
          "output_type": "stream",
          "name": "stderr",
          "text": [
            "100%|██████████| 938/938 [00:06<00:00, 154.89it/s]\n"
          ]
        },
        {
          "output_type": "stream",
          "name": "stdout",
          "text": [
            "epoch: 35, loss: 0.0994, val_accuracy: 0.9874\n"
          ]
        },
        {
          "output_type": "stream",
          "name": "stderr",
          "text": [
            "100%|██████████| 938/938 [00:06<00:00, 152.09it/s]\n"
          ]
        },
        {
          "output_type": "stream",
          "name": "stdout",
          "text": [
            "epoch: 36, loss: 0.0992, val_accuracy: 0.9877\n"
          ]
        },
        {
          "output_type": "stream",
          "name": "stderr",
          "text": [
            "100%|██████████| 938/938 [00:06<00:00, 154.55it/s]\n"
          ]
        },
        {
          "output_type": "stream",
          "name": "stdout",
          "text": [
            "epoch: 37, loss: 0.0998, val_accuracy: 0.9876\n"
          ]
        },
        {
          "output_type": "stream",
          "name": "stderr",
          "text": [
            "100%|██████████| 938/938 [00:06<00:00, 153.57it/s]\n"
          ]
        },
        {
          "output_type": "stream",
          "name": "stdout",
          "text": [
            "epoch: 38, loss: 0.0999, val_accuracy: 0.9874\n"
          ]
        },
        {
          "output_type": "stream",
          "name": "stderr",
          "text": [
            "100%|██████████| 938/938 [00:06<00:00, 154.87it/s]\n"
          ]
        },
        {
          "output_type": "stream",
          "name": "stdout",
          "text": [
            "epoch: 39, loss: 0.0994, val_accuracy: 0.9873\n"
          ]
        },
        {
          "output_type": "stream",
          "name": "stderr",
          "text": [
            "100%|██████████| 938/938 [00:06<00:00, 153.85it/s]\n"
          ]
        },
        {
          "output_type": "stream",
          "name": "stdout",
          "text": [
            "epoch: 40, loss: 0.0991, val_accuracy: 0.9875\n"
          ]
        },
        {
          "output_type": "stream",
          "name": "stderr",
          "text": [
            "100%|██████████| 938/938 [00:06<00:00, 154.46it/s]\n"
          ]
        },
        {
          "output_type": "stream",
          "name": "stdout",
          "text": [
            "epoch: 41, loss: 0.0990, val_accuracy: 0.9877\n"
          ]
        },
        {
          "output_type": "stream",
          "name": "stderr",
          "text": [
            "100%|██████████| 938/938 [00:06<00:00, 154.17it/s]\n"
          ]
        },
        {
          "output_type": "stream",
          "name": "stdout",
          "text": [
            "epoch: 42, loss: 0.0992, val_accuracy: 0.9875\n"
          ]
        },
        {
          "output_type": "stream",
          "name": "stderr",
          "text": [
            "100%|██████████| 938/938 [00:06<00:00, 152.18it/s]\n"
          ]
        },
        {
          "output_type": "stream",
          "name": "stdout",
          "text": [
            "epoch: 43, loss: 0.0992, val_accuracy: 0.9871\n"
          ]
        },
        {
          "output_type": "stream",
          "name": "stderr",
          "text": [
            "100%|██████████| 938/938 [00:06<00:00, 148.48it/s]\n"
          ]
        },
        {
          "output_type": "stream",
          "name": "stdout",
          "text": [
            "epoch: 44, loss: 0.0993, val_accuracy: 0.9872\n"
          ]
        },
        {
          "output_type": "stream",
          "name": "stderr",
          "text": [
            "100%|██████████| 938/938 [00:06<00:00, 154.17it/s]\n"
          ]
        },
        {
          "output_type": "stream",
          "name": "stdout",
          "text": [
            "epoch: 45, loss: 0.0994, val_accuracy: 0.9872\n"
          ]
        },
        {
          "output_type": "stream",
          "name": "stderr",
          "text": [
            "100%|██████████| 938/938 [00:06<00:00, 152.41it/s]\n"
          ]
        },
        {
          "output_type": "stream",
          "name": "stdout",
          "text": [
            "epoch: 46, loss: 0.0994, val_accuracy: 0.9874\n"
          ]
        },
        {
          "output_type": "stream",
          "name": "stderr",
          "text": [
            "100%|██████████| 938/938 [00:06<00:00, 155.04it/s]\n"
          ]
        },
        {
          "output_type": "stream",
          "name": "stdout",
          "text": [
            "epoch: 47, loss: 0.0989, val_accuracy: 0.9880\n"
          ]
        },
        {
          "output_type": "stream",
          "name": "stderr",
          "text": [
            "100%|██████████| 938/938 [00:06<00:00, 153.19it/s]\n"
          ]
        },
        {
          "output_type": "stream",
          "name": "stdout",
          "text": [
            "epoch: 48, loss: 0.0987, val_accuracy: 0.9879\n"
          ]
        },
        {
          "output_type": "stream",
          "name": "stderr",
          "text": [
            "100%|██████████| 938/938 [00:06<00:00, 155.03it/s]\n"
          ]
        },
        {
          "output_type": "stream",
          "name": "stdout",
          "text": [
            "epoch: 49, loss: 0.0986, val_accuracy: 0.9882\n"
          ]
        }
      ],
      "source": [
        "for epoch in range(50):\n",
        "    for x, y in tqdm(ds):\n",
        "        loss = train_step(x, y)\n",
        "    print(f'epoch: {epoch}, loss: {loss.numpy():.4f}, val_accuracy: {evaluate(model):.4f}')"
      ]
    },
    {
      "cell_type": "code",
      "execution_count": null,
      "id": "55dde9a7-4018-4e64-b909-e069729f096c",
      "metadata": {
        "id": "55dde9a7-4018-4e64-b909-e069729f096c",
        "colab": {
          "base_uri": "https://localhost:8080/"
        },
        "outputId": "241282b5-4a5e-4a06-9c73-e78c359e0532"
      },
      "outputs": [
        {
          "output_type": "execute_result",
          "data": {
            "text/plain": [
              "0.9882"
            ]
          },
          "metadata": {},
          "execution_count": 8
        }
      ],
      "source": [
        "evaluate(model)"
      ]
    },
    {
      "cell_type": "markdown",
      "id": "b7218605-525e-445c-aa7a-0e44d3d39dc1",
      "metadata": {
        "id": "b7218605-525e-445c-aa7a-0e44d3d39dc1"
      },
      "source": [
        "## Baseline Model with the Usual Loss\n",
        "\n",
        "For comparing, we use the same architecture for baseline model."
      ]
    },
    {
      "cell_type": "code",
      "execution_count": null,
      "id": "b9993ada-54dd-4b1f-ab9e-3e3301695c99",
      "metadata": {
        "id": "b9993ada-54dd-4b1f-ab9e-3e3301695c99"
      },
      "outputs": [],
      "source": [
        "baseline_model = tf.keras.Sequential([\n",
        "    tf.keras.layers.Conv2D(32, 3),\n",
        "    tf.keras.layers.ReLU(),\n",
        "    tf.keras.layers.Conv2D(64, 3),\n",
        "    tf.keras.layers.ReLU(),\n",
        "    tf.keras.layers.MaxPool2D((2, 2)),\n",
        "    tf.keras.layers.Flatten(),\n",
        "    tf.keras.layers.Dense(128, 'relu'),\n",
        "    tf.keras.layers.Dense(10),\n",
        "])\n",
        "\n",
        "baseline_model.compile(\n",
        "    optimizer=tf.optimizers.AdamW(),\n",
        "    loss=tf.losses.SparseCategoricalCrossentropy(from_logits=True),\n",
        "    metrics=['accuracy'],\n",
        ")"
      ]
    },
    {
      "cell_type": "code",
      "execution_count": null,
      "id": "9fe0e479-a012-4538-a6ca-132352299fc5",
      "metadata": {
        "id": "9fe0e479-a012-4538-a6ca-132352299fc5",
        "scrolled": true,
        "colab": {
          "base_uri": "https://localhost:8080/"
        },
        "outputId": "b7a0f9ab-fe59-499b-85dd-de16e82227d7"
      },
      "outputs": [
        {
          "output_type": "stream",
          "name": "stdout",
          "text": [
            "Epoch 1/50\n",
            "938/938 - 9s - 9ms/step - accuracy: 0.9621 - loss: 0.1270 - val_accuracy: 0.9842 - val_loss: 0.0487\n",
            "Epoch 2/50\n",
            "938/938 - 7s - 7ms/step - accuracy: 0.9885 - loss: 0.0377 - val_accuracy: 0.9847 - val_loss: 0.0485\n",
            "Epoch 3/50\n",
            "938/938 - 4s - 4ms/step - accuracy: 0.9932 - loss: 0.0216 - val_accuracy: 0.9846 - val_loss: 0.0506\n",
            "Epoch 4/50\n",
            "938/938 - 4s - 4ms/step - accuracy: 0.9954 - loss: 0.0149 - val_accuracy: 0.9860 - val_loss: 0.0504\n",
            "Epoch 5/50\n",
            "938/938 - 4s - 5ms/step - accuracy: 0.9960 - loss: 0.0121 - val_accuracy: 0.9891 - val_loss: 0.0411\n",
            "Epoch 6/50\n",
            "938/938 - 4s - 4ms/step - accuracy: 0.9969 - loss: 0.0087 - val_accuracy: 0.9870 - val_loss: 0.0547\n",
            "Epoch 7/50\n",
            "938/938 - 6s - 6ms/step - accuracy: 0.9975 - loss: 0.0076 - val_accuracy: 0.9881 - val_loss: 0.0430\n",
            "Epoch 8/50\n",
            "938/938 - 4s - 4ms/step - accuracy: 0.9979 - loss: 0.0064 - val_accuracy: 0.9914 - val_loss: 0.0436\n",
            "Epoch 9/50\n",
            "938/938 - 5s - 5ms/step - accuracy: 0.9982 - loss: 0.0058 - val_accuracy: 0.9907 - val_loss: 0.0424\n",
            "Epoch 10/50\n",
            "938/938 - 4s - 4ms/step - accuracy: 0.9984 - loss: 0.0049 - val_accuracy: 0.9915 - val_loss: 0.0413\n",
            "Epoch 11/50\n",
            "938/938 - 3s - 4ms/step - accuracy: 0.9985 - loss: 0.0049 - val_accuracy: 0.9910 - val_loss: 0.0526\n",
            "Epoch 12/50\n",
            "938/938 - 4s - 4ms/step - accuracy: 0.9987 - loss: 0.0040 - val_accuracy: 0.9904 - val_loss: 0.0426\n",
            "Epoch 13/50\n",
            "938/938 - 6s - 6ms/step - accuracy: 0.9987 - loss: 0.0040 - val_accuracy: 0.9900 - val_loss: 0.0446\n"
          ]
        },
        {
          "output_type": "execute_result",
          "data": {
            "text/plain": [
              "<keras.src.callbacks.history.History at 0x7da7a0736e60>"
            ]
          },
          "metadata": {},
          "execution_count": 10
        }
      ],
      "source": [
        "baseline_model.fit(\n",
        "    x_train, y_train,\n",
        "    batch_size=64,\n",
        "    epochs=50,\n",
        "    validation_data=(x_test, y_test),\n",
        "    verbose=2,\n",
        "    callbacks=[tf.keras.callbacks.EarlyStopping(monitor='val_accuracy', patience=3)]\n",
        ")"
      ]
    },
    {
      "cell_type": "code",
      "execution_count": null,
      "id": "637a961b-4f4b-4c9a-a5d3-b944c1ea01a9",
      "metadata": {
        "colab": {
          "base_uri": "https://localhost:8080/"
        },
        "id": "637a961b-4f4b-4c9a-a5d3-b944c1ea01a9",
        "outputId": "f3aa178c-9412-4e14-882e-eae31660d954"
      },
      "outputs": [
        {
          "output_type": "execute_result",
          "data": {
            "text/plain": [
              "0.99"
            ]
          },
          "metadata": {},
          "execution_count": 11
        }
      ],
      "source": [
        "evaluate(baseline_model)"
      ]
    },
    {
      "cell_type": "markdown",
      "id": "cff6385a-4ca4-45fb-bf99-9953641fec71",
      "metadata": {
        "id": "cff6385a-4ca4-45fb-bf99-9953641fec71"
      },
      "source": [
        "## Model Robustness\n",
        "\n",
        "Now, we compare the robustness of the model and the baseline. To do so, we add Gaussian and uniform noises to the test data and check the accuracy."
      ]
    },
    {
      "cell_type": "code",
      "execution_count": null,
      "id": "4541732f-c484-45a5-b205-3f02d11eb3bd",
      "metadata": {
        "colab": {
          "base_uri": "https://localhost:8080/"
        },
        "id": "4541732f-c484-45a5-b205-3f02d11eb3bd",
        "outputId": "8d758da4-9c6f-4c57-89d7-b692544742c9"
      },
      "outputs": [
        {
          "output_type": "stream",
          "name": "stderr",
          "text": [
            "100%|██████████| 50/50 [00:15<00:00,  3.18it/s]\n"
          ]
        }
      ],
      "source": [
        "stddevs, model_accs, baseline_accs = [], [], []\n",
        "for stddev in tqdm(np.linspace(0, 0.5, 50)):\n",
        "    stddevs.append(stddev)\n",
        "    # x_test_noised = x_test + tf.random.normal(tf.shape(x_test)) * stddev\n",
        "    x_test_noised = x_test + tf.random.uniform(tf.shape(x_test), -1., 1.) * stddev\n",
        "    x_test_noised = tf.clip_by_value(x_test_noised, 0., 1.)\n",
        "    model_accs.append(\n",
        "        accuracy_score(y_test, tf.argmax(model(x_test_noised), axis=1))\n",
        "    )\n",
        "    baseline_accs.append(\n",
        "        accuracy_score(y_test, tf.argmax(baseline_model(x_test_noised), axis=1))\n",
        "    )"
      ]
    },
    {
      "cell_type": "code",
      "execution_count": null,
      "id": "808e7941-5553-4506-aa06-95f8e1040419",
      "metadata": {
        "colab": {
          "base_uri": "https://localhost:8080/",
          "height": 449
        },
        "id": "808e7941-5553-4506-aa06-95f8e1040419",
        "outputId": "ecd78562-86f4-4a75-cb1f-651d96a18ec6"
      },
      "outputs": [
        {
          "output_type": "display_data",
          "data": {
            "text/plain": [
              "<Figure size 640x480 with 1 Axes>"
            ],
            "image/png": "[encoded data removed]"
          },
          "metadata": {}
        }
      ],
      "source": [
        "plt.plot(stddevs, model_accs, '--', label='model')\n",
        "plt.plot(stddevs, baseline_accs, '--', label='baseline')\n",
        "plt.xlabel('noise stddev')\n",
        "plt.ylabel('test accuracy')\n",
        "plt.legend()\n",
        "plt.grid()\n",
        "plt.show()"
      ]
    },
    {
      "cell_type": "markdown",
      "id": "7fba9272-471a-4f4d-a927-f05d9c2f5849",
      "metadata": {
        "id": "7fba9272-471a-4f4d-a927-f05d9c2f5849"
      },
      "source": [
        "## MNIST-C\n",
        "\n",
        "In this section, we are to exame the model and the baseline model on the [MNIST-C](https://github.com/google-research/mnist-c) dataset, which was designed for evaluating the robustness of models trained on MNIST dataset.\n",
        "\n",
        "We have downloaded the ZIP file from [here](https://zenodo.org/records/3239543), and unpacked into the current folder."
      ]
    },
    {
      "cell_type": "code",
      "source": [
        "# !unzip -x mnist_c.zip -d ./"
      ],
      "metadata": {
        "id": "LlhKQSh1vhyB"
      },
      "id": "LlhKQSh1vhyB",
      "execution_count": null,
      "outputs": []
    },
    {
      "cell_type": "markdown",
      "source": [
        "Or, load MNIST-C dataset from drive, where I have uploaded the ZIP file. This will greatly speed up the progress."
      ],
      "metadata": {
        "id": "xDA5Q6t6vngc"
      },
      "id": "xDA5Q6t6vngc"
    },
    {
      "cell_type": "code",
      "source": [
        "from google.colab import drive\n",
        "drive.mount('/content/drive')\n",
        "\n",
        "!unzip /content/drive/MyDrive/mnist_c.zip -d ./"
      ],
      "metadata": {
        "colab": {
          "base_uri": "https://localhost:8080/"
        },
        "id": "EDU99xg7vsKS",
        "outputId": "e5c051c2-097f-4065-8c38-ef8d75c6e45d"
      },
      "id": "EDU99xg7vsKS",
      "execution_count": null,
      "outputs": [
        {
          "output_type": "stream",
          "name": "stdout",
          "text": [
            "Mounted at /content/drive\n",
            "Archive:  /content/drive/MyDrive/mnist_c.zip\n",
            "   creating: ./mnist_c/\n",
            "   creating: ./mnist_c/impulse_noise/\n",
            "  inflating: ./mnist_c/impulse_noise/test_images.npy  \n",
            "  inflating: ./mnist_c/impulse_noise/train_images.npy  \n",
            "  inflating: ./mnist_c/impulse_noise/test_labels.npy  \n",
            "  inflating: ./mnist_c/impulse_noise/train_labels.npy  \n",
            "   creating: ./mnist_c/canny_edges/\n",
            "  inflating: ./mnist_c/canny_edges/test_images.npy  \n",
            "  inflating: ./mnist_c/canny_edges/train_images.npy  \n",
            "  inflating: ./mnist_c/canny_edges/test_labels.npy  \n",
            "  inflating: ./mnist_c/canny_edges/train_labels.npy  \n",
            "   creating: ./mnist_c/zigzag/\n",
            "  inflating: ./mnist_c/zigzag/test_images.npy  \n",
            "  inflating: ./mnist_c/zigzag/train_images.npy  \n",
            "  inflating: ./mnist_c/zigzag/test_labels.npy  \n",
            "  inflating: ./mnist_c/zigzag/train_labels.npy  \n",
            "   creating: ./mnist_c/dotted_line/\n",
            "  inflating: ./mnist_c/dotted_line/test_images.npy  \n",
            "  inflating: ./mnist_c/dotted_line/train_images.npy  \n",
            "  inflating: ./mnist_c/dotted_line/test_labels.npy  \n",
            "  inflating: ./mnist_c/dotted_line/train_labels.npy  \n",
            "   creating: ./mnist_c/rotate/\n",
            "  inflating: ./mnist_c/rotate/test_images.npy  \n",
            "  inflating: ./mnist_c/rotate/train_images.npy  \n",
            "  inflating: ./mnist_c/rotate/test_labels.npy  \n",
            "  inflating: ./mnist_c/rotate/train_labels.npy  \n",
            "   creating: ./mnist_c/translate/\n",
            "  inflating: ./mnist_c/translate/test_images.npy  \n",
            "  inflating: ./mnist_c/translate/train_images.npy  \n",
            "  inflating: ./mnist_c/translate/test_labels.npy  \n",
            "  inflating: ./mnist_c/translate/train_labels.npy  \n",
            "   creating: ./mnist_c/fog/\n",
            "  inflating: ./mnist_c/fog/test_images.npy  \n",
            "  inflating: ./mnist_c/fog/train_images.npy  \n",
            "  inflating: ./mnist_c/fog/test_labels.npy  \n",
            "  inflating: ./mnist_c/fog/train_labels.npy  \n",
            "   creating: ./mnist_c/stripe/\n",
            "  inflating: ./mnist_c/stripe/test_images.npy  \n",
            "  inflating: ./mnist_c/stripe/train_images.npy  \n",
            "  inflating: ./mnist_c/stripe/test_labels.npy  \n",
            "  inflating: ./mnist_c/stripe/train_labels.npy  \n",
            "   creating: ./mnist_c/shot_noise/\n",
            "  inflating: ./mnist_c/shot_noise/test_images.npy  \n",
            "  inflating: ./mnist_c/shot_noise/train_images.npy  \n",
            "  inflating: ./mnist_c/shot_noise/test_labels.npy  \n",
            "  inflating: ./mnist_c/shot_noise/train_labels.npy  \n",
            "   creating: ./mnist_c/motion_blur/\n",
            "  inflating: ./mnist_c/motion_blur/test_images.npy  \n",
            "  inflating: ./mnist_c/motion_blur/train_images.npy  \n",
            "  inflating: ./mnist_c/motion_blur/test_labels.npy  \n",
            "  inflating: ./mnist_c/motion_blur/train_labels.npy  \n",
            "   creating: ./mnist_c/glass_blur/\n",
            "  inflating: ./mnist_c/glass_blur/test_images.npy  \n",
            "  inflating: ./mnist_c/glass_blur/train_images.npy  \n",
            "  inflating: ./mnist_c/glass_blur/test_labels.npy  \n",
            "  inflating: ./mnist_c/glass_blur/train_labels.npy  \n",
            "   creating: ./mnist_c/identity/\n",
            "  inflating: ./mnist_c/identity/test_images.npy  \n",
            "  inflating: ./mnist_c/identity/train_images.npy  \n",
            "  inflating: ./mnist_c/identity/test_labels.npy  \n",
            "  inflating: ./mnist_c/identity/train_labels.npy  \n",
            "   creating: ./mnist_c/shear/\n",
            "  inflating: ./mnist_c/shear/test_images.npy  \n",
            "  inflating: ./mnist_c/shear/train_images.npy  \n",
            "  inflating: ./mnist_c/shear/test_labels.npy  \n",
            "  inflating: ./mnist_c/shear/train_labels.npy  \n",
            "   creating: ./mnist_c/brightness/\n",
            "  inflating: ./mnist_c/brightness/test_images.npy  \n",
            "  inflating: ./mnist_c/brightness/train_images.npy  \n",
            "  inflating: ./mnist_c/brightness/test_labels.npy  \n",
            "  inflating: ./mnist_c/brightness/train_labels.npy  \n",
            "   creating: ./mnist_c/spatter/\n",
            "  inflating: ./mnist_c/spatter/test_images.npy  \n",
            "  inflating: ./mnist_c/spatter/train_images.npy  \n",
            "  inflating: ./mnist_c/spatter/test_labels.npy  \n",
            "  inflating: ./mnist_c/spatter/train_labels.npy  \n",
            "   creating: ./mnist_c/scale/\n",
            "  inflating: ./mnist_c/scale/test_images.npy  \n",
            "  inflating: ./mnist_c/scale/train_images.npy  \n",
            "  inflating: ./mnist_c/scale/test_labels.npy  \n",
            "  inflating: ./mnist_c/scale/train_labels.npy  \n"
          ]
        }
      ]
    },
    {
      "cell_type": "code",
      "execution_count": null,
      "id": "cc449470-bebf-4939-bc66-b2442950f604",
      "metadata": {
        "colab": {
          "base_uri": "https://localhost:8080/"
        },
        "id": "cc449470-bebf-4939-bc66-b2442950f604",
        "outputId": "e7ea9a41-9479-46d1-85b3-316071825b41"
      },
      "outputs": [
        {
          "output_type": "stream",
          "name": "stdout",
          "text": [
            "noise type -- model accuracy -- baseline accuracy -- out perform\n",
            "motion_blur -- 0.9277 -- 0.9479 -- -2.0%\n",
            "rotate -- 0.9159 -- 0.9158 -- 0.0%\n",
            "stripe -- 0.7576 -- 0.9641 -- -20.6%\n",
            "brightness -- 0.9519 -- 0.7718 -- 18.0%\n",
            "glass_blur -- 0.9284 -- 0.879 -- 4.9%\n",
            "identity -- 0.9882 -- 0.99 -- -0.2%\n",
            "spatter -- 0.9794 -- 0.9814 -- -0.2%\n",
            "impulse_noise -- 0.9388 -- 0.8259 -- 11.3%\n",
            "zigzag -- 0.9018 -- 0.8355 -- 6.6%\n",
            "scale -- 0.8981 -- 0.9386 -- -4.0%\n",
            "shear -- 0.9685 -- 0.9737 -- -0.5%\n",
            "translate -- 0.4881 -- 0.4913 -- -0.3%\n",
            "dotted_line -- 0.977 -- 0.9466 -- 3.0%\n",
            "fog -- 0.7413 -- 0.7258 -- 1.5%\n",
            "canny_edges -- 0.8924 -- 0.7382 -- 15.4%\n",
            "shot_noise -- 0.9797 -- 0.9621 -- 1.8%\n"
          ]
        }
      ],
      "source": [
        "print('noise type -- model accuracy -- baseline accuracy -- out perform')\n",
        "for noise_type in os.listdir('mnist_c'):\n",
        "    x_eval = np.load(f'mnist_c/{noise_type}/test_images.npy')\n",
        "    y_eval = np.load(f'mnist_c/{noise_type}/test_labels.npy')\n",
        "\n",
        "    x_eval = preprocess(x_eval)\n",
        "    y_eval = y_eval.astype('float32')\n",
        "\n",
        "    model_eval = accuracy_score(y_eval, tf.argmax(model(x_eval), axis=1))\n",
        "    baseline_eval = accuracy_score(y_eval, tf.argmax(baseline_model(x_eval), axis=1))\n",
        "    out_perform = model_eval - baseline_eval\n",
        "\n",
        "    print(f'{noise_type} -- {model_eval} -- {baseline_eval} -- {out_perform*100:.1f}%')"
      ]
    },
    {
      "cell_type": "code",
      "execution_count": null,
      "id": "cb17e261-c088-4175-8843-9cb660139f2b",
      "metadata": {
        "colab": {
          "base_uri": "https://localhost:8080/",
          "height": 1000
        },
        "id": "cb17e261-c088-4175-8843-9cb660139f2b",
        "outputId": "47925e2b-7280-40f2-cecf-05455eed088d"
      },
      "outputs": [
        {
          "output_type": "display_data",
          "data": {
            "text/plain": [
              "<Figure size 1600x1600 with 16 Axes>"
            ],
            "image/png": "[encoded data removed]"
          },
          "metadata": {}
        }
      ],
      "source": [
        "fig, axs = plt.subplots(4, 4, figsize=(16, 16))\n",
        "for i, noise_type in enumerate(os.listdir('mnist_c')):\n",
        "    j = i // 4\n",
        "    k = i % 4\n",
        "    ax = axs[j][k]\n",
        "\n",
        "    x_eval = np.load(f'mnist_c/{noise_type}/test_images.npy')\n",
        "    x_eval = preprocess(x_eval)\n",
        "\n",
        "    diff = (x_test - x_eval).reshape([-1])\n",
        "    ax.hist(diff, 20, label=noise_type, density=True)\n",
        "    ax.legend()\n",
        "    ax.grid()\n",
        "    ax.set_facecolor('#eafff5')\n",
        "\n",
        "plt.show()"
      ]
    },
    {
      "cell_type": "markdown",
      "id": "49ce4da5-feaf-42ea-a25a-cbf25b5fd89d",
      "metadata": {
        "id": "49ce4da5-feaf-42ea-a25a-cbf25b5fd89d"
      },
      "source": [
        "## Conclusion\n",
        "\n",
        "We have constructed a simple convolutional neural network. Model was trained by minimizing the \"gradient loss\". We also trained a baseline model with the same architecture, by minimizing the loss as usual.\n",
        "\n",
        "- Overfitting is naturall absent in minimizing the \"gradient loss\".\n",
        "- For Gaussian and uniform noises, the robustness is greatly out-performs the baseline.\n",
        "- Examed on the MNIST-C dataset, robustness out-performs the baseline for most of the noise types.\n",
        "- Even though there is no other trick employed here, this result is significantly comparable with the methods listed in the figure 3 of the [MNIST-C paper](https://arxiv.org/pdf/1906.02337)."
      ]
    }
  ],
  "metadata": {
    "accelerator": "GPU",
    "colab": {
      "gpuType": "T4",
      "provenance": []
    },
    "kernelspec": {
      "display_name": ".venv",
      "language": "python",
      "name": ".venv"
    },
    "language_info": {
      "codemirror_mode": {
        "name": "ipython",
        "version": 3
      },
      "file_extension": ".py",
      "mimetype": "text/x-python",
      "name": "python",
      "nbconvert_exporter": "python",
      "pygments_lexer": "ipython3",
      "version": "3.11.6"
    }
  },
  "nbformat": 4,
  "nbformat_minor": 5
}