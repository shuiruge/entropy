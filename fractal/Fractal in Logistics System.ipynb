{
 "cells": [
  {
   "cell_type": "markdown",
   "id": "6b2aaafb-cf13-4129-99f7-f5673e0bfe16",
   "metadata": {},
   "source": [
    "# Fractal in Logistics System\n",
    "\n",
    "In the notebook _Fractal in Biology_, we tested the emergence of fractal from mammalian vessel system. But, the fractal is absent under the assumptions by West, et al. (1997). In this notebook, we try to update the assumptions to make them more plausible. Instead of mammalian vessel system, we consider a much simpler case: the logistic system of a city.\n",
    "\n",
    "## Notations\n",
    "\n",
    "- $C$: number of levels.\n",
    "- $k$: level, from $0$ to $C$.\n",
    "- $n_k$: number of logistics sites at $k$ level.\n",
    "- $l_k$: logistics scale at $k$ level.\n",
    "- $f_k$: flow rate at $k$ level.\n",
    "- $\\nu_k$: $n_{k+1} / n_k$.\n",
    "- $\\lambda_k$: $l_{k+1} / l_k$.\n",
    "- $\\phi_k$: $f_{k+1} / f_{k}$."
   ]
  },
  {
   "cell_type": "markdown",
   "id": "5b28d388-e1b4-491e-85cb-fbca727e1d3d",
   "metadata": {},
   "source": [
    "## Assumptions"
   ]
  },
  {
   "cell_type": "markdown",
   "id": "719ac578-31ea-4353-996d-468fc98cfd73",
   "metadata": {},
   "source": [
    "Assumptions are made as follow. For details, see [this blog](https://shuiruge.github.io/2024/03/01/complex-system/) (TODO: explain the details here).\n",
    "\n",
    "The $f_C$ and $l_C$ are fixed. Naturally, $n_0 = 1$. Thus,\n",
    "\n",
    "$$ l_k = \\frac{l_k}{l_{k+1}} \\cdots \\frac{l_{C-1}}{l_C} l_C = l_C \\lambda_k^{-1} \\cdots \\lambda_{C-1}^{-1} = l_C \\prod_{i=k}^{C-1} \\lambda_i^{-1}. $$\n",
    "\n",
    "The same,\n",
    "\n",
    "$$ f_k = f_C \\prod_{i=k}^{C-1} \\phi_i^{-1}, $$\n",
    "\n",
    "but,\n",
    "\n",
    "$$ n_k = n_0 \\frac{n_1}{n_0} \\cdots \\frac{n_k}{n_{k-1}} = \\nu_0 \\cdots \\nu_{k-1} = \\prod_{i=0}^{k-1} \\nu_i. $$\n",
    "\n",
    "The perserving of flow rate implies\n",
    "\n",
    "$$ f_k = \\nu_k^{-1}. $$\n",
    "\n",
    "And the space-fulfilling assumption implies\n",
    "\n",
    "$$ \\lambda_k = \\nu_k^{-1/2}. $$\n",
    "\n",
    "Because of these, the unique degree of freedom is the $\\nu$."
   ]
  },
  {
   "cell_type": "code",
   "execution_count": 1,
   "id": "499a5415-a2d3-4721-8f5f-d44401f92629",
   "metadata": {},
   "outputs": [
    {
     "name": "stderr",
     "output_type": "stream",
     "text": [
      "2024-03-03 12:12:09.093671: I tensorflow/core/platform/cpu_feature_guard.cc:182] This TensorFlow binary is optimized to use available CPU instructions in performance-critical operations.\n",
      "To enable the following instructions: SSE3 SSE4.1 SSE4.2 AVX AVX2 FMA, in other operations, rebuild TensorFlow with the appropriate compiler flags.\n"
     ]
    }
   ],
   "source": [
    "import numpy as np\n",
    "import tensorflow as tf\n",
    "from tensorflow.python import keras\n",
    "from tqdm import tqdm\n",
    "import matplotlib.pyplot as plt"
   ]
  },
  {
   "cell_type": "markdown",
   "id": "ffaf22ee-6157-4332-a86f-a32b7cf1e1ea",
   "metadata": {},
   "source": [
    "We use several samples in searching optimal parallelly. So, the $\\nu$, or for numerical stability $\\ln \\nu$, has tensor shape `[samples, levels]`."
   ]
  },
  {
   "cell_type": "code",
   "execution_count": 41,
   "id": "76e91d8f-7e3c-4881-847a-62d2c29e64a9",
   "metadata": {},
   "outputs": [],
   "source": [
    "SAMPLES = 10\n",
    "LEVELS = 10"
   ]
  },
  {
   "cell_type": "markdown",
   "id": "e04a0ba0-54fe-417c-bbb8-1fe05d7e6e1d",
   "metadata": {},
   "source": [
    "## Loss Function"
   ]
  },
  {
   "cell_type": "markdown",
   "id": "05193765-5627-4d4f-8c4c-2ba3fe031147",
   "metadata": {},
   "source": [
    "The objective to be minimized is the total consumption logistics. It is\n",
    "\n",
    "$$ F := \\sum_{k=0}^C n_{k} f_{k} l_{k} = f_C l_C \\sum_{k=0}^C \\prod_{i=0}^{k-1} \\nu_i \\prod_{i=k}^{C-1} (\\phi_i \\lambda_i)^{-1}. $$\n",
    "\n",
    "Plugging the relation between $\\nu$ and $\\phi$ and $\\lambda$, we find\n",
    "\n",
    "$$ F = f_C l_C \\sum_{k=0}^C \\prod_{i=0}^{k-1} \\nu_i \\prod_{i=k}^{C-1} \\nu_i^{3/2}. $$\n",
    "\n",
    "For numerical stability, we consider\n",
    "\n",
    "$$ \\ln F = \\ln (f_C l_C) + \\ln \\sum_{k=0}^C \\prod_{i=0}^{k-1} \\nu_i \\prod_{i=k}^{C-1} \\nu_i^{3/2}. $$"
   ]
  },
  {
   "cell_type": "code",
   "execution_count": 42,
   "id": "12747b49-add2-412c-8534-9d3dc9ef0f31",
   "metadata": {},
   "outputs": [
    {
     "data": {
      "text/plain": [
       "<tf.Tensor: shape=(1,), dtype=float64, numpy=array([11.59340619])>"
      ]
     },
     "execution_count": 42,
     "metadata": {},
     "output_type": "execute_result"
    }
   ],
   "source": [
    "def get_log_consumption(log_nu):\n",
    "    \"\"\"Omit the constant.\"\"\"\n",
    "    logits = []\n",
    "    for k in range(LEVELS):\n",
    "        logits.append(\n",
    "            tf.reduce_sum(log_nu[:, :k], axis=1)\n",
    "            + (3/2) * tf.reduce_sum(log_nu[:, k:], axis=1)\n",
    "        )\n",
    "    logits = tf.stack(logits, axis=1)\n",
    "    return tf.reduce_logsumexp(logits, axis=1)\n",
    "\n",
    "log_nu = np.log(2) * np.ones([1, LEVELS])\n",
    "get_log_consumption(log_nu)"
   ]
  },
  {
   "cell_type": "markdown",
   "id": "476a4eb5-94af-4b72-b1c2-235d86426259",
   "metadata": {},
   "source": [
    "The population of the city is proportional to $n_C = \\prod_{k=0}^{C-1} \\nu_k$. To investigate the relation between total consumption of logistics and the population of the city, the population shall be fixed."
   ]
  },
  {
   "cell_type": "code",
   "execution_count": 43,
   "id": "95f72cfb-10fe-4934-bdc0-14ccac6bc342",
   "metadata": {},
   "outputs": [
    {
     "data": {
      "text/plain": [
       "<tf.Tensor: shape=(1,), dtype=float64, numpy=array([6.93147181])>"
      ]
     },
     "execution_count": 43,
     "metadata": {},
     "output_type": "execute_result"
    }
   ],
   "source": [
    "def get_log_population(log_nu):\n",
    "    return tf.reduce_sum(log_nu, axis=1)\n",
    "\n",
    "get_log_population(log_nu)"
   ]
  },
  {
   "cell_type": "markdown",
   "id": "7f2b7cb8-e7a0-4324-aced-be3086625cb3",
   "metadata": {},
   "source": [
    "Since $n_{k+1} \\ge n_k$, $\\nu_k$ shall be greater than unit. So, there is another constraint that, for each $k$,\n",
    "\n",
    "$$ \\ln \\nu_k \\ge 0. $$"
   ]
  },
  {
   "cell_type": "markdown",
   "id": "99beadb8-74a7-4f36-9577-4be6dc346058",
   "metadata": {},
   "source": [
    "Altogether, the loss function shall be\n",
    "\n",
    "$$ \\ln F(\\nu) + \\mu \\left( \\ln n_C(\\nu) - \\ln \\bar{n}_C \\right) + \\sum_{k=1}^{C-1} \\omega_k \\left( \\ln \\nu_k - z_k^2 \\right), $$\n",
    "\n",
    "for some observed values $\\bar{n}_C$ given."
   ]
  },
  {
   "cell_type": "markdown",
   "id": "4d1f87f4-ce5f-434a-8f7a-a8366c794b66",
   "metadata": {},
   "source": [
    "What is a proper value of $\\bar{n}_C$. It is natural to suppose that $n_{k+1}/n_k \\ge 2$. This means $\\bar{n}_C$ shall be greater than the volume given by $\\nu = 2$. And it shall not be too large, for numerical consideration.\n",
    "\n",
    "In fact, it is sufficient for the optimized volume to approximate the order of $\\bar{n}_C$. We can regard this optimized volume as the real $\\bar{n}_C$. In other words, $\\bar{n}_C$ is used to determine the order, but not the accurate value."
   ]
  },
  {
   "cell_type": "code",
   "execution_count": 44,
   "id": "76529753-cb7f-4c76-a7b2-a36d9c05b289",
   "metadata": {},
   "outputs": [
    {
     "data": {
      "text/plain": [
       "<tf.Tensor: shape=(1,), dtype=float64, numpy=array([6.93147181])>"
      ]
     },
     "execution_count": 44,
     "metadata": {},
     "output_type": "execute_result"
    }
   ],
   "source": [
    "least_log_population = get_log_population(np.log(2) * np.ones([1, LEVELS]))\n",
    "least_log_population"
   ]
  },
  {
   "cell_type": "code",
   "execution_count": 46,
   "id": "7adcc3bf-fd48-4ff8-a5b9-18ab200e3d72",
   "metadata": {},
   "outputs": [],
   "source": [
    "TRUE_LOG_NC = 1.5e+1"
   ]
  },
  {
   "cell_type": "markdown",
   "id": "278bae2e-e327-4d4e-9e31-c46ba9790877",
   "metadata": {},
   "source": [
    "We add a configuration for forcing fractal. When forcing fractal, we use the $\\ln \\nu_1$ as $\\ln \\nu_k$ for all $k$. We can compare the final $\\ln R_b$ with and without forcing fractal to see if the fractal is really a result of minimizing $\\ln R_b$."
   ]
  },
  {
   "cell_type": "code",
   "execution_count": 47,
   "id": "a182e14d-32c1-4275-a02e-1a0e3d570823",
   "metadata": {},
   "outputs": [],
   "source": [
    "TEST_FORCE_FRACTAL = False"
   ]
  },
  {
   "cell_type": "code",
   "execution_count": 48,
   "id": "dbcd535f-fa21-47ba-a728-ba7c42a34425",
   "metadata": {},
   "outputs": [
    {
     "data": {
      "text/plain": [
       "(<tf.Tensor: shape=(1,), dtype=float64, numpy=array([11.59340619])>,\n",
       " [<tf.Tensor: shape=(1,), dtype=float64, numpy=array([-8.06852819])>,\n",
       "  <tf.Tensor: shape=(1, 10), dtype=float64, numpy=\n",
       "  array([[-0.30685282, -0.30685282, -0.30685282, -0.30685282, -0.30685282,\n",
       "          -0.30685282, -0.30685282, -0.30685282, -0.30685282, -0.30685282]])>],\n",
       " <tf.Tensor: shape=(), dtype=float64, numpy=10.479700548504006>)"
      ]
     },
     "execution_count": 48,
     "metadata": {},
     "output_type": "execute_result"
    }
   ],
   "source": [
    "def get_loss(log_nu, z, mu, omega):\n",
    "    if TEST_FORCE_FRACTAL:\n",
    "        log_nu = log_nu[:, :1] * tf.ones_like(log_nu)\n",
    "\n",
    "    main = get_log_consumption(log_nu)\n",
    "    loss = tf.reduce_sum(main)\n",
    "    constraints = []\n",
    "    for multiplier, constraint in [\n",
    "        (mu, get_log_population(log_nu) - TRUE_LOG_NC),\n",
    "        (omega, log_nu - tf.square(z)),\n",
    "        # other constraints......\n",
    "    ]:\n",
    "        loss += tf.reduce_sum(multiplier * constraint)\n",
    "        constraints.append(constraint)\n",
    "    return main, constraints, loss\n",
    "\n",
    "z = tf.ones_like(log_nu)\n",
    "get_loss(log_nu, z, 0.1, 0.1)"
   ]
  },
  {
   "cell_type": "markdown",
   "id": "58c02dd3-e79d-4f3d-adda-0450249c5249",
   "metadata": {},
   "source": [
    "## Gradient Descent with Constraints\n",
    "\n",
    "The gradient descent algorithm with constraints is described in [Platt and Barr (1988)](https://papers.nips.cc/paper_files/paper/1987/file/a87ff679a2f3e71d9181a67b7542122c-Paper.pdf). Briefly, descent on the parameters (the $\\ln \\nu$ here) and ascent on the multipliers (the $\\mu$ and $\\omega_k$ here). For numerical stability, it is suggested to add an $L_2$-regulation.\n",
    "\n",
    "For example, consider scalar functions $f$ and $g$ where $f$ is lower bounded. If you want to minimize $f(x)$ with constraint $g(x) = 0$, then the loss function will be\n",
    "\n",
    "$$ L(x, \\mu) = f(x) + \\mu g(x), $$\n",
    "\n",
    "where $\\mu$ is the Lagrangian multiplier. Then, optimize the $x$ along the direction\n",
    "\n",
    "$$ \\dot{x}^a = -\\nabla^a L(x, \\mu) = -\\nabla^a f(x) - \\mu \\nabla^a g(x), $$\n",
    "\n",
    "where the $\\nabla$ is taken on $x$ only. And optimize the $\\mu$ along the direction\n",
    "\n",
    "$$ \\dot{\\mu} = {\\color{red}+} \\partial_{\\mu} L(x, \\mu) = g(x). $$\n",
    "\n",
    "Indeed, by taking time derivative, we find\n",
    "\n",
    "$$ \\ddot{x}^a + \\left( \\nabla^a \\nabla_b f(x) + \\mu \\nabla^a \\nabla_b g(x) \\right) \\dot{x}^b + \\nabla^a \\left( \\frac{1}{2} g^2(x) \\right) = 0. $$\n",
    "\n",
    "Analogy to the damped mechanic system, we recognize that the $A^a_b(x) := \\nabla^a \\nabla_b f(x) + \\mu \\nabla^a \\nabla_b g(x)$ term is a friction coefficient and $g^2(x)$ a potential. So, the energy is $E(x) := (1/2) \\dot{x}^2 + (1/2) g^2(x)$, and because of friction, the energy loss rate is $\\dot{E}(x) = -A_{a b}(x) \\dot{x}^a \\dot{x}^b$. So, to ensure that the energy losses, $A(x)$ has to be positive definite, at least being positive definite near the minimum. This is true for $\\nabla^a \\nabla_b f(x)$ since $f$ is lower bounded. So, we have to restrict the scale of $g$ such that $A$ is positive definite. To do so, we add an $L_2$-regulation for $g(x)$, that is, a term $c g^2(x)$ for a large enough positive constant $c$.\n",
    "\n",
    "For inequal constraints, like $h(x) \\ge 0$, we can add an auxiliary parameter $z$ and set the $g$ as $h(x) - z^2$. In this way, when $g = 0$, $h(x) \\ge 0$ is fulfilled. Now, the loss function becomes $L(x, z, \\mu) = f(x) + \\mu \\left( h(x) - z^2 \\right)$. The $z$ is optimized in the same way as $x$, that is $\\dot{z} = -\\nabla_z L(x, z, \\mu) = 2 \\mu z$. Remark that when $z = 0$, $\\dot{z} = 0$ too. Thus $z$ will not be updated and keeps vanishing. This is not what we want. So, at least, $z$ shall not be initialized as $0$ in training."
   ]
  },
  {
   "cell_type": "code",
   "execution_count": 49,
   "id": "52a7d9b1-e016-44d6-b11e-7eff090e68b6",
   "metadata": {},
   "outputs": [],
   "source": [
    "def get_train_step(optimizer, l2):\n",
    "    step = tf.Variable(0, dtype=tf.int32, trainable=False)\n",
    "    l2 = tf.convert_to_tensor(l2)\n",
    "\n",
    "    @tf.function\n",
    "    def train_step(log_nu, z, mu, omega):\n",
    "        with tf.GradientTape() as tape:\n",
    "            main, constraints, loss = get_loss(log_nu, z, mu, omega)\n",
    "            l2_regulaition = l2 * sum(\n",
    "                tf.reduce_sum(tf.square(c)) for c in constraints)\n",
    "            loss += l2_regulaition\n",
    "\n",
    "        # Compute gradients\n",
    "        vars = [log_nu, z, mu, omega]\n",
    "        grads = tape.gradient(loss, vars, unconnected_gradients='zero')\n",
    "\n",
    "        # Descent for parameters and ascent for multipliers:\n",
    "        grads_and_vars = []\n",
    "        for i, var in enumerate(vars):\n",
    "            if i < 2:\n",
    "                grads_and_vars.append((grads[i], vars[i]))\n",
    "            else:\n",
    "                grads_and_vars.append((-grads[i], vars[i]))\n",
    "\n",
    "        optimizer.apply_gradients(grads_and_vars)\n",
    "        check_nan(vars)\n",
    "        step.assign_add(1)\n",
    "        return main, constraints, loss, grads_and_vars\n",
    "\n",
    "    return train_step, step\n",
    "\n",
    "def check_nan(xs):\n",
    "    for x in xs:\n",
    "        try:\n",
    "            tf.debugging.check_numerics(x, message='')\n",
    "        except Exception as e:\n",
    "            raise ValueError('NaN value.')"
   ]
  },
  {
   "cell_type": "code",
   "execution_count": 50,
   "id": "3577792b-2678-4513-b7b3-a7d742f040f3",
   "metadata": {},
   "outputs": [],
   "source": [
    "log_nu = tf.Variable(tf.random.uniform([SAMPLES, LEVELS], np.log(2), np.log(3)))\n",
    "z = tf.Variable(tf.random.uniform([SAMPLES, LEVELS], 0.5, 1.))  # z shall not be zero.\n",
    "mu = tf.Variable(tf.zeros([SAMPLES, 1]))\n",
    "omega = tf.Variable(tf.zeros([SAMPLES, LEVELS]))\n",
    "optimizer = keras.optimizers.adam_v2.Adam()\n",
    "train_step, step = get_train_step(optimizer, 1e-1)"
   ]
  },
  {
   "cell_type": "code",
   "execution_count": 51,
   "id": "cd37f0c9-c281-4b05-819e-30a3c4f7a08c",
   "metadata": {
    "scrolled": true
   },
   "outputs": [
    {
     "data": {
      "text/plain": [
       "(<tf.Tensor: shape=(10,), dtype=float32, numpy=\n",
       " array([15.084022, 14.854553, 13.761655, 14.833071, 14.660862, 14.506578,\n",
       "        13.909582, 14.148806, 14.552258, 15.074672], dtype=float32)>,\n",
       " [<tf.Tensor: shape=(10,), dtype=float32, numpy=\n",
       "  array([-5.606675 , -5.764819 , -6.502696 , -5.76221  , -5.883466 ,\n",
       "         -6.056896 , -6.438739 , -6.209667 , -5.9744186, -5.570448 ],\n",
       "        dtype=float32)>,\n",
       "  <tf.Tensor: shape=(10, 10), dtype=float32, numpy=\n",
       "  array([[ 0.36862206,  0.35295397,  0.50198364,  0.7426729 ,  0.4816479 ,\n",
       "          -0.25769943,  0.55804896,  0.76644707,  0.5985636 ,  0.15968591],\n",
       "         [ 0.60964775,  0.70433676,  0.4705939 ,  0.53248805,  0.2237714 ,\n",
       "           0.5010156 , -0.20482534,  0.25222456,  0.02861357,  0.13211632],\n",
       "         [-0.06012338,  0.67044115,  0.42037612,  0.17418158,  0.5569472 ,\n",
       "           0.26875323,  0.12809646,  0.34247956,  0.49176127,  0.20108128],\n",
       "         [ 0.16791105,  0.3327125 ,  0.7159732 ,  0.80614686,  0.45336533,\n",
       "           0.37961805,  0.10946786, -0.08944356,  0.7043351 ,  0.29626155],\n",
       "         [ 0.17203522,  0.4392929 ,  0.6702962 ,  0.28428692,  0.21594346,\n",
       "           0.1037755 ,  0.18536961,  0.66479796, -0.19068938,  0.6205195 ],\n",
       "         [ 0.23918584,  0.4915221 ,  0.18430853,  0.54566765,  0.47430533,\n",
       "           0.5215242 ,  0.40911496,  0.0111565 ,  0.53103304,  0.46612376],\n",
       "         [ 0.26190734,  0.11883146, -0.17217195, -0.24440742,  0.0804863 ,\n",
       "           0.47092867,  0.6778228 ,  0.19937193,  0.38563484,  0.42512184],\n",
       "         [ 0.4669632 ,  0.38679236,  0.63912416, -0.05335414,  0.68725276,\n",
       "          -0.0450573 ,  0.46529046,  0.00154668,  0.27541918,  0.3712052 ],\n",
       "         [ 0.3455395 ,  0.49538398,  0.42421222,  0.5281329 ,  0.08923602,\n",
       "           0.45942813,  0.40985382,  0.3012461 ,  0.34479576,  0.58674073],\n",
       "         [ 0.50482345,  0.0311895 ,  0.58215153,  0.6205755 ,  0.30866003,\n",
       "           0.4256308 ,  0.33423316,  0.3570652 ,  0.07099378,  0.04316604]],\n",
       "        dtype=float32)>])"
      ]
     },
     "execution_count": 51,
     "metadata": {},
     "output_type": "execute_result"
    }
   ],
   "source": [
    "main, constraints, _, _ = train_step(log_nu, z, mu, omega)\n",
    "main, constraints"
   ]
  },
  {
   "cell_type": "code",
   "execution_count": 52,
   "id": "4fc24899-2e20-4b24-8b6e-12308560848b",
   "metadata": {},
   "outputs": [
    {
     "name": "stderr",
     "output_type": "stream",
     "text": [
      "100%|██████████████████████████████████████████████████| 100000/100000 [00:59<00:00, 1680.64it/s]\n"
     ]
    }
   ],
   "source": [
    "main_logs = []\n",
    "loss_logs = []\n",
    "for i in tqdm(range(100000)):\n",
    "    main, _, loss, _ = train_step(log_nu, z, mu, omega)\n",
    "    main_logs.append(main.numpy().mean())\n",
    "    loss_logs.append(loss.numpy())"
   ]
  },
  {
   "cell_type": "code",
   "execution_count": 53,
   "id": "bbb46149-3b49-41c0-8136-ee8489180d7f",
   "metadata": {},
   "outputs": [
    {
     "data": {
      "text/plain": [
       "<tf.Variable 'Variable:0' shape=() dtype=int32, numpy=100001>"
      ]
     },
     "execution_count": 53,
     "metadata": {},
     "output_type": "execute_result"
    }
   ],
   "source": [
    "step"
   ]
  },
  {
   "cell_type": "code",
   "execution_count": 54,
   "id": "509b3102-c3d5-4472-ade0-8dc19f3baeb2",
   "metadata": {},
   "outputs": [
    {
     "data": {
      "image/png": "[encoded data removed]",
      "text/plain": [
       "<Figure size 640x480 with 1 Axes>"
      ]
     },
     "metadata": {},
     "output_type": "display_data"
    }
   ],
   "source": [
    "plt.plot(main_logs, label='expected main', alpha=0.5)\n",
    "plt.plot(loss_logs, label='loss', alpha=0.5)\n",
    "plt.xlabel('training steps')\n",
    "plt.legend()\n",
    "plt.show()"
   ]
  },
  {
   "cell_type": "markdown",
   "id": "fcba1bea-d6c0-40a3-b254-e0796bca0cf6",
   "metadata": {},
   "source": [
    "Let us check the optimization results:"
   ]
  },
  {
   "cell_type": "code",
   "execution_count": 55,
   "id": "4b0cbdac-290d-4499-8768-85a5a97e4e34",
   "metadata": {},
   "outputs": [],
   "source": [
    "main, constraints, _ = get_loss(log_nu, z, mu, omega)"
   ]
  },
  {
   "cell_type": "code",
   "execution_count": 56,
   "id": "01f67547-d7ed-4f6f-a47d-6e085f3749e0",
   "metadata": {
    "scrolled": true
   },
   "outputs": [
    {
     "data": {
      "text/plain": [
       "(<tf.Tensor: shape=(), dtype=int64, numpy=9>,\n",
       " <tf.Tensor: shape=(), dtype=float32, numpy=22.825344>,\n",
       " [<tf.Tensor: shape=(), dtype=float32, numpy=0.19493103>,\n",
       "  <tf.Tensor: shape=(10,), dtype=float32, numpy=\n",
       "  array([ 0.00825167,  0.10727   , -0.2302252 , -0.11251056, -0.01769245,\n",
       "          0.00312483, -0.03032732, -0.08443722, -0.05649842, -0.20020565],\n",
       "        dtype=float32)>])"
      ]
     },
     "execution_count": 56,
     "metadata": {},
     "output_type": "execute_result"
    }
   ],
   "source": [
    "min_i = tf.argmin(main)\n",
    "min_i, main[min_i], [c[min_i] for c in constraints]"
   ]
  },
  {
   "cell_type": "markdown",
   "id": "a4234118-77a7-444a-850f-3b176e326410",
   "metadata": {},
   "source": [
    "And for checking fractal:"
   ]
  },
  {
   "cell_type": "code",
   "execution_count": 57,
   "id": "e7fe7734-be11-47a5-af17-c0c45c6f7ee6",
   "metadata": {
    "scrolled": true
   },
   "outputs": [
    {
     "data": {
      "text/plain": [
       "<tf.Tensor: shape=(10,), dtype=float32, numpy=\n",
       "array([7.6524253 , 3.0127184 , 1.6610837 , 1.0255128 , 0.566224  ,\n",
       "       0.39784366, 0.26623937, 0.3381066 , 0.20568936, 0.06908803],\n",
       "      dtype=float32)>"
      ]
     },
     "execution_count": 57,
     "metadata": {},
     "output_type": "execute_result"
    }
   ],
   "source": [
    "log_nu[min_i, :]"
   ]
  },
  {
   "cell_type": "code",
   "execution_count": 58,
   "id": "b8c1ab39-7ae4-47e0-9d3e-0f185ac20abd",
   "metadata": {},
   "outputs": [
    {
     "data": {
      "image/png": "[encoded data removed]",
      "text/plain": [
       "<Figure size 640x480 with 1 Axes>"
      ]
     },
     "metadata": {},
     "output_type": "display_data"
    }
   ],
   "source": [
    "plt.plot(log_nu[min_i, :], '.', label='$\\\\ln \\\\nu_k$')\n",
    "plt.xlabel('$k$')\n",
    "plt.legend()\n",
    "plt.show()"
   ]
  },
  {
   "cell_type": "markdown",
   "id": "651f1a23-4af1-4b6e-a800-96e5ec6859e7",
   "metadata": {},
   "source": [
    "Zoom in:"
   ]
  },
  {
   "cell_type": "code",
   "execution_count": 62,
   "id": "7985201b-6950-477d-81d6-ea77ea364c47",
   "metadata": {},
   "outputs": [
    {
     "data": {
      "image/png": "[encoded data removed]",
      "text/plain": [
       "<Figure size 640x480 with 1 Axes>"
      ]
     },
     "metadata": {},
     "output_type": "display_data"
    }
   ],
   "source": [
    "plt.plot(log_nu[min_i, 3:], '.', label='$\\ln \\\\nu_k$')\n",
    "plt.hlines(np.log(2), linestyle='--', xmin=0, xmax=LEVELS)\n",
    "plt.xlabel('$k$')\n",
    "plt.legend()\n",
    "plt.show()"
   ]
  },
  {
   "cell_type": "markdown",
   "id": "39c4fcba-3e51-48e5-b849-5d66bc01f8e1",
   "metadata": {},
   "source": [
    "Apparently, the $\\ln \\nu_k$ are not equal, thus fractal is not satisfied. But it seems that $\\ln \\nu_k$ obeys a power law on $k$."
   ]
  }
 ],
 "metadata": {
  "kernelspec": {
   "display_name": ".venv",
   "language": "python",
   "name": ".venv"
  },
  "language_info": {
   "codemirror_mode": {
    "name": "ipython",
    "version": 3
   },
   "file_extension": ".py",
   "mimetype": "text/x-python",
   "name": "python",
   "nbconvert_exporter": "python",
   "pygments_lexer": "ipython3",
   "version": "3.11.6"
  }
 },
 "nbformat": 4,
 "nbformat_minor": 5
}
