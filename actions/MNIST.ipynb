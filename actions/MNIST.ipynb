{
 "cells": [
  {
   "cell_type": "markdown",
   "id": "07274ccd-76f1-46a0-b64d-29dd3d7b8019",
   "metadata": {},
   "source": [
    "## Motivation\n",
    "\n",
    "In this notebook, we exame the idea declared in section 1.5.5 on MNIST data, a classification task."
   ]
  },
  {
   "cell_type": "code",
   "execution_count": 1,
   "id": "b8ab63f7-841b-4fe7-ae73-b0f8a207430e",
   "metadata": {},
   "outputs": [
    {
     "name": "stderr",
     "output_type": "stream",
     "text": [
      "2024-03-19 18:43:00.811182: I tensorflow/core/platform/cpu_feature_guard.cc:182] This TensorFlow binary is optimized to use available CPU instructions in performance-critical operations.\n",
      "To enable the following instructions: SSE3 SSE4.1 SSE4.2 AVX AVX2 FMA, in other operations, rebuild TensorFlow with the appropriate compiler flags.\n"
     ]
    }
   ],
   "source": [
    "import numpy as np\n",
    "import tensorflow as tf\n",
    "from keras.losses import MSE\n",
    "from sklearn.metrics import accuracy_score\n",
    "\n",
    "from utils import get_gradient_loss_fn\n",
    "\n",
    "tf.random.set_seed(42)"
   ]
  },
  {
   "cell_type": "markdown",
   "id": "0c8239d4-600f-4b3d-b665-ba64d9bac711",
   "metadata": {},
   "source": [
    "## The MNIST Data"
   ]
  },
  {
   "cell_type": "code",
   "execution_count": 2,
   "id": "d7ff4901-8ca8-4413-80ed-9184138a1ffa",
   "metadata": {},
   "outputs": [],
   "source": [
    "mnist = tf.keras.datasets.mnist\n",
    "(x_train, y_train), (x_test, y_test) = mnist.load_data()\n",
    "x_train = x_train.astype('float32').reshape([-1, 28*28]) / 255.0\n",
    "x_test = x_test.astype('float32').reshape([-1, 28*28]) / 255.0\n",
    "y_train = y_train.astype('float32')\n",
    "y_test = y_test.astype('float32')"
   ]
  },
  {
   "cell_type": "markdown",
   "id": "405d08b9-61df-44d1-a10f-9b2297783c3b",
   "metadata": {},
   "source": [
    "## Train a Model with Gradient Loss"
   ]
  },
  {
   "cell_type": "code",
   "execution_count": 3,
   "id": "65e2d654-323d-43d2-805e-3a10fa1c28d2",
   "metadata": {},
   "outputs": [],
   "source": [
    "model = tf.keras.models.Sequential([\n",
    "    tf.keras.layers.Dense(128, 'relu'),\n",
    "    tf.keras.layers.Dense(128, 'relu'),\n",
    "    tf.keras.layers.Dense(10, 'softmax')\n",
    "])\n",
    "\n",
    "gradient_loss_fn = get_gradient_loss_fn(\n",
    "    lambda inputs: MSE(inputs[1], model(inputs[0]))\n",
    ")"
   ]
  },
  {
   "cell_type": "code",
   "execution_count": 4,
   "id": "ac0e9b1c-d29b-4ef7-8ede-d29b98e069d6",
   "metadata": {},
   "outputs": [],
   "source": [
    "optimizer = tf.optimizers.Adam()\n",
    "\n",
    "@tf.function\n",
    "def train_step(x, y):\n",
    "    with tf.GradientTape() as tape:\n",
    "        loss = gradient_loss_fn((x, y))\n",
    "    grads = tape.gradient(loss, model.variables)\n",
    "    optimizer.apply_gradients(zip(grads, model.variables))\n",
    "    return loss"
   ]
  },
  {
   "cell_type": "code",
   "execution_count": 5,
   "id": "bd90d270-d554-4474-b95b-33c6826fee95",
   "metadata": {},
   "outputs": [],
   "source": [
    "def evaluate(model):\n",
    "    return accuracy_score(y_test, tf.argmax(model(x_test), axis=1))"
   ]
  },
  {
   "cell_type": "code",
   "execution_count": 6,
   "id": "1992d379-bf40-4022-bcd6-6d26c2b757f7",
   "metadata": {},
   "outputs": [],
   "source": [
    "ds = tf.data.Dataset.from_tensor_slices(\n",
    "    (x_train, tf.one_hot(y_train, 10))\n",
    ")\n",
    "ds = ds.batch(100)"
   ]
  },
  {
   "cell_type": "code",
   "execution_count": 7,
   "id": "7f8317b9-e6c9-4c30-b3c6-7036e6785d07",
   "metadata": {},
   "outputs": [
    {
     "name": "stdout",
     "output_type": "stream",
     "text": [
      "0 tf.Tensor(0.00026875423, shape=(), dtype=float32)\n",
      "1 tf.Tensor(0.00036284144, shape=(), dtype=float32)\n",
      "2 tf.Tensor(0.00018488847, shape=(), dtype=float32)\n",
      "3 tf.Tensor(0.000107098764, shape=(), dtype=float32)\n",
      "4 tf.Tensor(0.00010771234, shape=(), dtype=float32)\n",
      "5 tf.Tensor(0.00012284383, shape=(), dtype=float32)\n",
      "6 tf.Tensor(8.736429e-05, shape=(), dtype=float32)\n",
      "7 tf.Tensor(9.960141e-05, shape=(), dtype=float32)\n",
      "8 tf.Tensor(8.0831975e-05, shape=(), dtype=float32)\n",
      "9 tf.Tensor(8.0603975e-05, shape=(), dtype=float32)\n",
      "10 tf.Tensor(8.287506e-05, shape=(), dtype=float32)\n",
      "11 tf.Tensor(8.090177e-05, shape=(), dtype=float32)\n",
      "12 tf.Tensor(8.006299e-05, shape=(), dtype=float32)\n",
      "13 tf.Tensor(8.036914e-05, shape=(), dtype=float32)\n",
      "14 tf.Tensor(0.00012589067, shape=(), dtype=float32)\n",
      "15 tf.Tensor(8.003903e-05, shape=(), dtype=float32)\n",
      "16 tf.Tensor(8.094287e-05, shape=(), dtype=float32)\n",
      "17 tf.Tensor(8.0417e-05, shape=(), dtype=float32)\n",
      "18 tf.Tensor(8.194218e-05, shape=(), dtype=float32)\n",
      "19 tf.Tensor(8.9423935e-05, shape=(), dtype=float32)\n"
     ]
    }
   ],
   "source": [
    "for epoch in range(20):\n",
    "    for x, y in ds:\n",
    "        loss = train_step(x, y)\n",
    "    print(epoch, loss)"
   ]
  },
  {
   "cell_type": "code",
   "execution_count": 8,
   "id": "55dde9a7-4018-4e64-b909-e069729f096c",
   "metadata": {},
   "outputs": [
    {
     "data": {
      "text/plain": [
       "0.9747"
      ]
     },
     "execution_count": 8,
     "metadata": {},
     "output_type": "execute_result"
    }
   ],
   "source": [
    "evaluate(model)"
   ]
  },
  {
   "cell_type": "markdown",
   "id": "b7218605-525e-445c-aa7a-0e44d3d39dc1",
   "metadata": {},
   "source": [
    "## Baseline Model with Usual Loss"
   ]
  },
  {
   "cell_type": "code",
   "execution_count": 9,
   "id": "b9993ada-54dd-4b1f-ab9e-3e3301695c99",
   "metadata": {},
   "outputs": [],
   "source": [
    "baseline_model = tf.keras.models.Sequential([\n",
    "    tf.keras.layers.Dense(128, activation='relu'),\n",
    "    tf.keras.layers.Dense(128, activation='relu'),\n",
    "    tf.keras.layers.Dense(10, 'softmax')\n",
    "])"
   ]
  },
  {
   "cell_type": "code",
   "execution_count": 10,
   "id": "2dc98178-5940-4567-be22-6735de610d85",
   "metadata": {},
   "outputs": [],
   "source": [
    "baseline_model.compile(\n",
    "    optimizer='adam',\n",
    "    loss=tf.keras.losses.SparseCategoricalCrossentropy(),\n",
    "    metrics=['accuracy'],\n",
    ")"
   ]
  },
  {
   "cell_type": "code",
   "execution_count": 11,
   "id": "9fe0e479-a012-4538-a6ca-132352299fc5",
   "metadata": {},
   "outputs": [
    {
     "name": "stdout",
     "output_type": "stream",
     "text": [
      "Epoch 1/20\n",
      "1875/1875 [==============================] - 2s 1ms/step - loss: 0.2334 - accuracy: 0.9315 - val_loss: 0.1165 - val_accuracy: 0.9634\n",
      "Epoch 2/20\n",
      "1875/1875 [==============================] - 2s 1ms/step - loss: 0.0985 - accuracy: 0.9696 - val_loss: 0.1174 - val_accuracy: 0.9632\n",
      "Epoch 3/20\n",
      "1875/1875 [==============================] - 2s 1ms/step - loss: 0.0688 - accuracy: 0.9783 - val_loss: 0.0762 - val_accuracy: 0.9758\n",
      "Epoch 4/20\n",
      "1875/1875 [==============================] - 2s 1ms/step - loss: 0.0510 - accuracy: 0.9830 - val_loss: 0.0937 - val_accuracy: 0.9727\n",
      "Epoch 5/20\n",
      "1875/1875 [==============================] - 2s 1ms/step - loss: 0.0404 - accuracy: 0.9863 - val_loss: 0.1026 - val_accuracy: 0.9719\n",
      "Epoch 6/20\n",
      "1875/1875 [==============================] - 2s 1ms/step - loss: 0.0323 - accuracy: 0.9895 - val_loss: 0.0806 - val_accuracy: 0.9757\n",
      "Epoch 7/20\n",
      "1875/1875 [==============================] - 2s 1ms/step - loss: 0.0276 - accuracy: 0.9912 - val_loss: 0.1060 - val_accuracy: 0.9711\n",
      "Epoch 8/20\n",
      "1875/1875 [==============================] - 2s 1ms/step - loss: 0.0239 - accuracy: 0.9919 - val_loss: 0.0968 - val_accuracy: 0.9762\n",
      "Epoch 9/20\n",
      "1875/1875 [==============================] - 2s 1ms/step - loss: 0.0210 - accuracy: 0.9924 - val_loss: 0.0945 - val_accuracy: 0.9788\n",
      "Epoch 10/20\n",
      "1875/1875 [==============================] - 2s 1ms/step - loss: 0.0161 - accuracy: 0.9947 - val_loss: 0.0880 - val_accuracy: 0.9811\n",
      "Epoch 11/20\n",
      "1875/1875 [==============================] - 2s 1ms/step - loss: 0.0178 - accuracy: 0.9941 - val_loss: 0.0872 - val_accuracy: 0.9794\n",
      "Epoch 12/20\n",
      "1875/1875 [==============================] - 2s 1ms/step - loss: 0.0150 - accuracy: 0.9949 - val_loss: 0.1321 - val_accuracy: 0.9723\n",
      "Epoch 13/20\n",
      "1875/1875 [==============================] - 2s 1ms/step - loss: 0.0133 - accuracy: 0.9954 - val_loss: 0.1024 - val_accuracy: 0.9803\n",
      "Epoch 14/20\n",
      "1875/1875 [==============================] - 2s 1ms/step - loss: 0.0139 - accuracy: 0.9955 - val_loss: 0.1274 - val_accuracy: 0.9764\n",
      "Epoch 15/20\n",
      "1875/1875 [==============================] - 2s 1ms/step - loss: 0.0115 - accuracy: 0.9960 - val_loss: 0.1242 - val_accuracy: 0.9784\n",
      "Epoch 16/20\n",
      "1875/1875 [==============================] - 2s 1ms/step - loss: 0.0126 - accuracy: 0.9958 - val_loss: 0.1111 - val_accuracy: 0.9783\n",
      "Epoch 17/20\n",
      "1875/1875 [==============================] - 2s 1ms/step - loss: 0.0100 - accuracy: 0.9967 - val_loss: 0.1172 - val_accuracy: 0.9802\n",
      "Epoch 18/20\n",
      "1875/1875 [==============================] - 2s 1ms/step - loss: 0.0115 - accuracy: 0.9963 - val_loss: 0.1411 - val_accuracy: 0.9772\n",
      "Epoch 19/20\n",
      "1875/1875 [==============================] - 2s 1ms/step - loss: 0.0104 - accuracy: 0.9966 - val_loss: 0.1325 - val_accuracy: 0.9779\n",
      "Epoch 20/20\n",
      "1875/1875 [==============================] - 2s 1ms/step - loss: 0.0110 - accuracy: 0.9967 - val_loss: 0.1251 - val_accuracy: 0.9809\n"
     ]
    },
    {
     "data": {
      "text/plain": [
       "<keras.src.callbacks.History at 0x7faab8f7b050>"
      ]
     },
     "execution_count": 11,
     "metadata": {},
     "output_type": "execute_result"
    }
   ],
   "source": [
    "baseline_model.fit(\n",
    "    x_train, y_train,\n",
    "    epochs=20,\n",
    "    validation_data=(x_test, y_test),\n",
    ")"
   ]
  },
  {
   "cell_type": "code",
   "execution_count": 12,
   "id": "637a961b-4f4b-4c9a-a5d3-b944c1ea01a9",
   "metadata": {},
   "outputs": [
    {
     "data": {
      "text/plain": [
       "0.9809"
      ]
     },
     "execution_count": 12,
     "metadata": {},
     "output_type": "execute_result"
    }
   ],
   "source": [
    "evaluate(baseline_model)"
   ]
  },
  {
   "cell_type": "markdown",
   "id": "cff6385a-4ca4-45fb-bf99-9953641fec71",
   "metadata": {},
   "source": [
    "## Model Robustness\n",
    "\n",
    "Now, we compare the robustness of the model and the baseline. To do so, we add Gaussian noise to the test data and check the accuracy."
   ]
  },
  {
   "cell_type": "code",
   "execution_count": 13,
   "id": "d4719fdd-c6e1-4206-a2dd-cad3acae2a92",
   "metadata": {},
   "outputs": [],
   "source": [
    "stddev = 3e-1\n",
    "noise = tf.random.normal(tf.shape(x_test)) * stddev"
   ]
  },
  {
   "cell_type": "code",
   "execution_count": 14,
   "id": "41d56ef7-827f-433a-aa72-c939d5beffbf",
   "metadata": {},
   "outputs": [],
   "source": [
    "def evaluate_robustness(model):\n",
    "    accuracy = accuracy_score(\n",
    "        y_test, tf.argmax(model(x_test), axis=1))\n",
    "    noised_accuracy = accuracy_score(\n",
    "        y_test, tf.argmax(model(x_test+noise), axis=1))\n",
    "    print(f'Accuracy: {accuracy} -> {noised_accuracy}')"
   ]
  },
  {
   "cell_type": "code",
   "execution_count": 15,
   "id": "20a92992-0d08-4255-9098-9f091690e48c",
   "metadata": {},
   "outputs": [
    {
     "name": "stdout",
     "output_type": "stream",
     "text": [
      "Accuracy: 0.9747 -> 0.9341\n"
     ]
    }
   ],
   "source": [
    "evaluate_robustness(model)"
   ]
  },
  {
   "cell_type": "code",
   "execution_count": 16,
   "id": "e8d06e85-1c3a-4641-a73f-bf8a5c7383de",
   "metadata": {},
   "outputs": [
    {
     "name": "stdout",
     "output_type": "stream",
     "text": [
      "Accuracy: 0.9809 -> 0.9062\n"
     ]
    }
   ],
   "source": [
    "evaluate_robustness(baseline_model)"
   ]
  },
  {
   "cell_type": "markdown",
   "id": "49ce4da5-feaf-42ea-a25a-cbf25b5fd89d",
   "metadata": {},
   "source": [
    "## Conclusion\n",
    "\n",
    "By simply using the \"gradient loss\", we obtain a result that approaches the baseline. But the robustness is greatly out-performs the baseline."
   ]
  }
 ],
 "metadata": {
  "kernelspec": {
   "display_name": ".venv",
   "language": "python",
   "name": ".venv"
  },
  "language_info": {
   "codemirror_mode": {
    "name": "ipython",
    "version": 3
   },
   "file_extension": ".py",
   "mimetype": "text/x-python",
   "name": "python",
   "nbconvert_exporter": "python",
   "pygments_lexer": "ipython3",
   "version": "3.11.6"
  }
 },
 "nbformat": 4,
 "nbformat_minor": 5
}
