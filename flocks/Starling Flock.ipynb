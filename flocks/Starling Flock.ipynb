{
 "cells": [
  {
   "cell_type": "code",
   "execution_count": 1,
   "id": "52b4754b-f5bc-469e-92be-28f36ecc9813",
   "metadata": {},
   "outputs": [
    {
     "name": "stderr",
     "output_type": "stream",
     "text": [
      "2024-05-22 22:29:58.886811: I tensorflow/core/platform/cpu_feature_guard.cc:182] This TensorFlow binary is optimized to use available CPU instructions in performance-critical operations.\n",
      "To enable the following instructions: SSE3 SSE4.1 SSE4.2 AVX AVX2 FMA, in other operations, rebuild TensorFlow with the appropriate compiler flags.\n"
     ]
    }
   ],
   "source": [
    "import tensorflow as tf\n",
    "from tqdm import tqdm"
   ]
  },
  {
   "cell_type": "code",
   "execution_count": 2,
   "id": "91a3319a-efb0-40e6-9255-1dd24d7258c8",
   "metadata": {},
   "outputs": [],
   "source": [
    "def get_mutual_distance(batch):\n",
    "    \"\"\"See: https://stackoverflow.com/a/37040451\"\"\"\n",
    "    r = tf.reduce_sum(tf.square(batch), axis=1)\n",
    "    # turn r into column vector\n",
    "    r = tf.reshape(r, [-1, 1])\n",
    "    return r - 2 * tf.matmul(batch, tf.transpose(batch)) + tf.transpose(r)"
   ]
  },
  {
   "cell_type": "code",
   "execution_count": 3,
   "id": "6bfce357-8cdd-4f37-9aff-f4a281249458",
   "metadata": {},
   "outputs": [],
   "source": [
    "x = tf.random.uniform([1000, 3])\n",
    "v = tf.random.uniform([1000, 3])"
   ]
  },
  {
   "cell_type": "code",
   "execution_count": 4,
   "id": "daab0c60-a171-4056-a07f-1c6d729ecab9",
   "metadata": {},
   "outputs": [],
   "source": [
    "def get_neighbours(x, num_nb):\n",
    "    dist = get_mutual_distance(x)\n",
    "    return tf.math.top_k(-dist, num_nb+1)[1][:, 1:]"
   ]
  },
  {
   "cell_type": "code",
   "execution_count": 5,
   "id": "0ae262f5-6915-4da6-9c85-3c7e2664b870",
   "metadata": {},
   "outputs": [],
   "source": [
    "nb = get_neighbours(x, 5)"
   ]
  },
  {
   "cell_type": "code",
   "execution_count": 6,
   "id": "af79c7ed-cb10-440c-88d3-176b9ca39902",
   "metadata": {},
   "outputs": [
    {
     "data": {
      "text/plain": [
       "<tf.Tensor: shape=(1000, 5), dtype=int32, numpy=\n",
       "array([[409, 378, 548, 796, 987],\n",
       "       [555, 275, 337, 645, 755],\n",
       "       [927, 388, 402, 360, 380],\n",
       "       ...,\n",
       "       [568, 203,  90, 349, 391],\n",
       "       [431, 882,  57, 371, 778],\n",
       "       [463, 566, 835, 715, 545]], dtype=int32)>"
      ]
     },
     "execution_count": 6,
     "metadata": {},
     "output_type": "execute_result"
    }
   ],
   "source": [
    "nb"
   ]
  },
  {
   "cell_type": "code",
   "execution_count": 7,
   "id": "28e715de-aeb7-4a81-ab3d-8ac8ae8de3ab",
   "metadata": {},
   "outputs": [],
   "source": [
    "# nb[8056, :]"
   ]
  },
  {
   "cell_type": "code",
   "execution_count": 8,
   "id": "f8e3915b-6309-4183-a6bf-87936fe720f1",
   "metadata": {},
   "outputs": [
    {
     "data": {
      "text/plain": [
       "TensorShape([1000, 5, 3])"
      ]
     },
     "execution_count": 8,
     "metadata": {},
     "output_type": "execute_result"
    }
   ],
   "source": [
    "nb_v = tf.gather(v, nb, axis=0)\n",
    "nb_v.shape"
   ]
  },
  {
   "cell_type": "code",
   "execution_count": 9,
   "id": "39ae8f29-f052-47f2-a0fa-b287e974242c",
   "metadata": {},
   "outputs": [
    {
     "data": {
      "text/plain": [
       "TensorShape([1000, 3])"
      ]
     },
     "execution_count": 9,
     "metadata": {},
     "output_type": "execute_result"
    }
   ],
   "source": [
    "tf.reduce_mean(nb_v - tf.expand_dims(v, axis=1), axis=1).shape"
   ]
  },
  {
   "cell_type": "code",
   "execution_count": 23,
   "id": "20a31aba-6e43-408d-9e83-adc123ab751b",
   "metadata": {},
   "outputs": [],
   "source": [
    "def get_dynamics(num_nb, J, dt, T):\n",
    "    @tf.function\n",
    "    def dynamics(x, v):\n",
    "        nb = get_neighbours(x, num_nb)\n",
    "        nb_v = tf.gather(v, nb, axis=0)\n",
    "        v += J * (tf.reduce_mean(nb_v, axis=1) - v) * dt\n",
    "        v += tf.random.normal(tf.shape(v)) * tf.sqrt(2*T*dt)\n",
    "        x += v * dt\n",
    "        return x, v\n",
    "    return dynamics\n",
    "\n",
    "dynamics = get_dynamics(5, 1e+1, 1e-2, 1e-2)"
   ]
  },
  {
   "cell_type": "code",
   "execution_count": 24,
   "id": "6ad2977c-7662-4983-9454-f628430b5fed",
   "metadata": {},
   "outputs": [
    {
     "name": "stderr",
     "output_type": "stream",
     "text": [
      "100%|██████████████████████████████████████████████████████| 3000/3000 [00:07<00:00, 424.19it/s]\n"
     ]
    }
   ],
   "source": [
    "x = tf.random.uniform([1000, 3])\n",
    "v = tf.random.uniform([1000, 3])\n",
    "\n",
    "for _ in tqdm(range(3000)):\n",
    "    x, v = dynamics(x, v)"
   ]
  },
  {
   "cell_type": "code",
   "execution_count": 25,
   "id": "9194b4bc-5a4b-43a4-9de2-a9642e253e08",
   "metadata": {},
   "outputs": [
    {
     "data": {
      "text/plain": [
       "<tf.Tensor: shape=(1000, 3), dtype=float32, numpy=\n",
       "array([[0.26754615, 0.8959832 , 0.70251447],\n",
       "       [0.73039967, 0.32357755, 0.40126997],\n",
       "       [0.6559002 , 0.64199996, 0.3803612 ],\n",
       "       ...,\n",
       "       [0.3917897 , 0.57835096, 0.5278683 ],\n",
       "       [0.25851813, 0.71204674, 0.42719024],\n",
       "       [0.50672305, 0.42646226, 0.37950367]], dtype=float32)>"
      ]
     },
     "execution_count": 25,
     "metadata": {},
     "output_type": "execute_result"
    }
   ],
   "source": [
    "v"
   ]
  },
  {
   "cell_type": "code",
   "execution_count": null,
   "id": "a12ac7f7-bbdc-41b3-945b-df67148a0797",
   "metadata": {},
   "outputs": [],
   "source": []
  }
 ],
 "metadata": {
  "kernelspec": {
   "display_name": ".venv",
   "language": "python",
   "name": ".venv"
  },
  "language_info": {
   "codemirror_mode": {
    "name": "ipython",
    "version": 3
   },
   "file_extension": ".py",
   "mimetype": "text/x-python",
   "name": "python",
   "nbconvert_exporter": "python",
   "pygments_lexer": "ipython3",
   "version": "3.11.6"
  }
 },
 "nbformat": 4,
 "nbformat_minor": 5
}
