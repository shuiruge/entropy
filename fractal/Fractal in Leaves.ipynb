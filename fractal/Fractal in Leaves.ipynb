{
 "cells": [
  {
   "cell_type": "code",
   "execution_count": 1,
   "id": "0779b332-ee59-4df7-8118-fa9ae98a0123",
   "metadata": {},
   "outputs": [],
   "source": [
    "import numpy as np\n",
    "from scipy.optimize import minimize\n",
    "from scipy.special import logsumexp\n",
    "import matplotlib.pyplot as plt"
   ]
  },
  {
   "cell_type": "code",
   "execution_count": 2,
   "id": "b75ef71e-57d6-4caa-bdd1-1f4e68e2e01e",
   "metadata": {},
   "outputs": [
    {
     "data": {
      "text/plain": [
       "4.828313737302301"
      ]
     },
     "execution_count": 2,
     "metadata": {},
     "output_type": "execute_result"
    }
   ],
   "source": [
    "def get_total_length(log_nu):\n",
    "    levels = len(log_nu)\n",
    "    even = [x for i, x in enumerate(log_nu) if i % 2 == 0]\n",
    "    odd = [x for i, x in enumerate(log_nu) if i % 2 != 0]\n",
    "    logits = [0]\n",
    "    for i in range(levels // 2):\n",
    "        logits.append(sum(even[:(i+1)]))\n",
    "        logits.append(sum(odd[:(i+1)]))\n",
    "    return logsumexp(logits)\n",
    "\n",
    "\n",
    "levels = 10\n",
    "log_nu = np.log(2) * np.ones([levels])\n",
    "get_total_length(log_nu)"
   ]
  },
  {
   "cell_type": "code",
   "execution_count": 3,
   "id": "f554dd39-9602-4ef6-941c-2f4f48c22347",
   "metadata": {},
   "outputs": [
    {
     "data": {
      "text/plain": [
       "6.931471805599453"
      ]
     },
     "execution_count": 3,
     "metadata": {},
     "output_type": "execute_result"
    }
   ],
   "source": [
    "def get_log_inversed_minimal_area(log_nu):\n",
    "    return sum(log_nu)\n",
    "\n",
    "get_log_inversed_minimal_area(log_nu)"
   ]
  },
  {
   "cell_type": "code",
   "execution_count": 4,
   "id": "2a02e2a4-dc1e-4810-996d-ec6f80d51ab8",
   "metadata": {},
   "outputs": [
    {
     "data": {
      "text/plain": [
       " message: Optimization terminated successfully\n",
       " success: True\n",
       "  status: 0\n",
       "     fun: 25.693147371297183\n",
       "       x: [ 2.524e+00  6.429e-01  2.832e+00  3.011e-01  1.964e+00\n",
       "            1.041e-06  2.702e+00  7.136e+00  1.498e+01  1.692e+01]\n",
       "     nit: 55\n",
       "     jac: [ 5.000e-01  5.000e-01  5.000e-01  5.000e-01  5.000e-01\n",
       "            5.000e-01  5.000e-01  5.000e-01  5.000e-01  5.000e-01]\n",
       "    nfev: 644\n",
       "    njev: 54"
      ]
     },
     "execution_count": 4,
     "metadata": {},
     "output_type": "execute_result"
    }
   ],
   "source": [
    "initial_values = [np.random.uniform(3., 5.) for _ in range(levels)]\n",
    "bounds = [(0., None) for _ in range(levels)]\n",
    "constraints = [\n",
    "    {\n",
    "        'type': 'eq',\n",
    "        'fun': lambda log_nu: get_log_inversed_minimal_area(log_nu) - 50.\n",
    "    },\n",
    "]\n",
    "result = minimize(\n",
    "    get_total_length,\n",
    "    initial_values,\n",
    "    bounds=bounds,\n",
    "    constraints=constraints,\n",
    "    tol=1e-80,\n",
    "    options={'maxiter': 1000},\n",
    ")\n",
    "result"
   ]
  },
  {
   "cell_type": "code",
   "execution_count": 5,
   "id": "d2ab48bd-186f-4aeb-a105-c8b5f0ebe8aa",
   "metadata": {},
   "outputs": [
    {
     "data": {
      "text/plain": [
       "array([2.52364851e+00, 6.42926478e-01, 2.83150305e+00, 3.01136933e-01,\n",
       "       1.96405670e+00, 1.04116293e-06, 2.70190272e+00, 7.13620438e+00,\n",
       "       1.49788911e+01, 1.69197291e+01])"
      ]
     },
     "execution_count": 5,
     "metadata": {},
     "output_type": "execute_result"
    }
   ],
   "source": [
    "optimized_log_nu = result.x\n",
    "optimized_log_nu"
   ]
  },
  {
   "cell_type": "code",
   "execution_count": 6,
   "id": "7527bc3e-fcc1-4ee3-9c8b-d65f4cd10f1e",
   "metadata": {},
   "outputs": [
    {
     "data": {
      "image/png": "[encoded data removed]",
      "text/plain": [
       "<Figure size 640x480 with 1 Axes>"
      ]
     },
     "metadata": {},
     "output_type": "display_data"
    }
   ],
   "source": [
    "plt.plot(optimized_log_nu, '.', label='$\\\\ln \\\\nu_k$')\n",
    "# plt.plot(np.exp(optimized_log_nu), '.', label='$\\\\nu_k$')\n",
    "plt.xlabel('$k$')\n",
    "plt.legend()\n",
    "plt.show()"
   ]
  },
  {
   "cell_type": "code",
   "execution_count": 13,
   "id": "be1b1670-6358-47e7-ba1a-22330724ab90",
   "metadata": {},
   "outputs": [
    {
     "data": {
      "text/plain": [
       "(25.693147371297183, 50.0)"
      ]
     },
     "execution_count": 13,
     "metadata": {},
     "output_type": "execute_result"
    }
   ],
   "source": [
    "x = 5 * np.ones([levels])\n",
    "x = [0., 0., 0., 0., 0., 0., 0., 0., 0., 50.]\n",
    "x = optimized_log_nu\n",
    "get_total_length(x), get_log_inversed_minimal_area(x)"
   ]
  }
 ],
 "metadata": {
  "kernelspec": {
   "display_name": ".venv",
   "language": "python",
   "name": ".venv"
  },
  "language_info": {
   "codemirror_mode": {
    "name": "ipython",
    "version": 3
   },
   "file_extension": ".py",
   "mimetype": "text/x-python",
   "name": "python",
   "nbconvert_exporter": "python",
   "pygments_lexer": "ipython3",
   "version": "3.11.6"
  }
 },
 "nbformat": 4,
 "nbformat_minor": 5
}
