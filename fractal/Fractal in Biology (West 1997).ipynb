{
 "cells": [
  {
   "cell_type": "markdown",
   "id": "6b2aaafb-cf13-4129-99f7-f5673e0bfe16",
   "metadata": {},
   "source": [
    "# Fractal in Biology (West 1997)\n",
    "\n",
    "This notebook checks the result in [West, et al. (1997)](https://www.science.org/doi/10.1126/science.276.5309.122). This paper concludes that fractal in biology results in the minimization of total energy cost. In the specific case considered by the authors, the mammalian circulatory systems, the fractal branching of capillary vessel naturally arises from reducing the energy cost of vessel circulation. Here, we check this result by numerical optimization method.\n",
    "\n",
    "## Notations\n",
    "\n",
    "We follow the notations:\n",
    "\n",
    "- $C$: number of branching levels.\n",
    "- $k$: branching level, from $0$ to $C$.\n",
    "- $n_k$: number of branches at $k$ level.\n",
    "- $r_k$: radius of vessel at $k$ level.\n",
    "- $l_k$: length of vessel at $k$ level.\n",
    "- $\\nu_k$: $n_{k+1} / n_k$.\n",
    "- $\\rho_k$: $r_{k+1} / r_k$.\n",
    "- $\\lambda_k$: $l_{k+1} / l_k$."
   ]
  },
  {
   "cell_type": "markdown",
   "id": "5b28d388-e1b4-491e-85cb-fbca727e1d3d",
   "metadata": {},
   "source": [
    "## Assumptions"
   ]
  },
  {
   "cell_type": "markdown",
   "id": "719ac578-31ea-4353-996d-468fc98cfd73",
   "metadata": {},
   "source": [
    "The assumption that the properties of capillary are universal for all mammals implies that the $n_C$, $l_C$, and $r_C$ are fixed. So, we have\n",
    "\n",
    "$$ l_k = \\frac{l_k}{l_{k+1}} \\cdots \\frac{l_{C-1}}{l_C} l_C = l_C \\lambda_k^{-1} \\cdots \\lambda_{C-1}^{-1} = l_C \\prod_{i=k}^{C-1} \\lambda_i^{-1}. $$\n",
    "\n",
    "The same,\n",
    "\n",
    "$$ r_k = r_C \\prod_{i=k}^{C-1} \\rho_i^{-1}, $$\n",
    "\n",
    "  and\n",
    "\n",
    "$$ n_k = n_C \\prod_{i=k}^{C-1} \\nu_i^{-1}. $$\n",
    "\n",
    "Based on assumption of area-preserving, we have that $n_k r_k^2$ is independent of $k$. This implies\n",
    "\n",
    "$$ \\rho_k = \\nu_k^{-1/2}. $$\n",
    "\n",
    "And by assumption of space-fulfilling, we have that $n_k l_k^3$ is independent of $k$. This implies\n",
    "\n",
    "$$ \\lambda_k = \\nu_k^{-1/3}. $$\n",
    "\n",
    "Because of these, the unique degree of freedom is the $\\nu$."
   ]
  },
  {
   "cell_type": "code",
   "execution_count": 1,
   "id": "499a5415-a2d3-4721-8f5f-d44401f92629",
   "metadata": {},
   "outputs": [
    {
     "name": "stderr",
     "output_type": "stream",
     "text": [
      "2024-03-03 20:44:35.789092: I tensorflow/core/platform/cpu_feature_guard.cc:182] This TensorFlow binary is optimized to use available CPU instructions in performance-critical operations.\n",
      "To enable the following instructions: SSE3 SSE4.1 SSE4.2 AVX AVX2 FMA, in other operations, rebuild TensorFlow with the appropriate compiler flags.\n"
     ]
    }
   ],
   "source": [
    "import numpy as np\n",
    "import tensorflow as tf\n",
    "from tensorflow.python import keras\n",
    "from tqdm import tqdm\n",
    "import matplotlib.pyplot as plt"
   ]
  },
  {
   "cell_type": "markdown",
   "id": "ffaf22ee-6157-4332-a86f-a32b7cf1e1ea",
   "metadata": {},
   "source": [
    "We use several samples in searching optimal parallelly. So, the $\\nu$, or for numerical stability $\\ln \\nu$, has tensor shape `[samples, levels]`."
   ]
  },
  {
   "cell_type": "code",
   "execution_count": 2,
   "id": "76e91d8f-7e3c-4881-847a-62d2c29e64a9",
   "metadata": {},
   "outputs": [],
   "source": [
    "SAMPLES = 100\n",
    "LEVELS = 20"
   ]
  },
  {
   "cell_type": "markdown",
   "id": "e04a0ba0-54fe-417c-bbb8-1fe05d7e6e1d",
   "metadata": {},
   "source": [
    "## Loss Function"
   ]
  },
  {
   "cell_type": "markdown",
   "id": "05193765-5627-4d4f-8c4c-2ba3fe031147",
   "metadata": {},
   "source": [
    "The quantity to be minimized is the total resistance of the vessel system. By [Hagen-Poiseuille equation](https://en.wikipedia.org/wiki/Hagen%E2%80%93Poiseuille_equation#Equation), we have the difference of pressure at level $k$, $\\Delta p_k = Q_k R_k$ where $Q_k$ represents the flow rate and $R_k := (8 \\mu l_k)/(\\pi r_k^4)$. Analogy to electricity, $\\Delta p_k$ corresponds to difference of potential $\\Delta V$, and $Q_k$ to current $I$. So, the $R_k$ is the resistance. At level $k$, the vessels are parallel. And for different levels, vessels are serial. So, the total resistance comes to be\n",
    "\n",
    "$$ R_b = \\sum_{k=0}^{C} \\frac{R_k}{n_k} = \\frac{8\\mu}{\\pi} \\sum_{k=0}^{C} \\frac{l_k}{r_k^4 n_k} = \\frac{8\\mu}{\\pi} \\frac{l_C}{r_C^4 n_C} \\sum_{k=0}^{C} \\prod_{i=k}^{C-1} \\frac{\\rho_i^4 \\nu_i}{\\lambda_i}. $$\n",
    "\n",
    "Plugging into the relation between $\\rho$, $\\lambda$ and $\\nu$, we find\n",
    "\n",
    "$$ R_b = \\frac{8\\mu}{\\pi} \\frac{l_C}{r_C^4 n_C} \\sum_{k=0}^{C} \\prod_{i=k}^{C-1} \\nu_i^{-2/3}. $$\n",
    "\n",
    "For numerical stability, we consider\n",
    "\n",
    "$$ \\ln R_b = \\ln \\left( \\frac{8\\mu}{\\pi} \\frac{l_C}{r_C^4 n_C} \\right) + \\ln \\sum_{k=0}^{C} \\prod_{i=k}^{C-1} \\nu_i^{-2/3}. $$"
   ]
  },
  {
   "cell_type": "code",
   "execution_count": 3,
   "id": "12747b49-add2-412c-8534-9d3dc9ef0f31",
   "metadata": {},
   "outputs": [
    {
     "data": {
      "text/plain": [
       "<tf.Tensor: shape=(1,), dtype=float64, numpy=array([0.99408455])>"
      ]
     },
     "execution_count": 3,
     "metadata": {},
     "output_type": "execute_result"
    }
   ],
   "source": [
    "def get_log_resistance(log_nu):\n",
    "    \"\"\"Omit the constant.\"\"\"\n",
    "    logits = []\n",
    "    for k in range(LEVELS+1):\n",
    "        logits.append(-(2/3) * tf.reduce_sum(log_nu[:, k:], axis=1))\n",
    "    logits = tf.stack(logits, axis=1)\n",
    "    return tf.reduce_logsumexp(logits, axis=1)\n",
    "\n",
    "log_nu = np.log(2) * np.ones([1, LEVELS])\n",
    "get_log_resistance(log_nu)"
   ]
  },
  {
   "cell_type": "markdown",
   "id": "476a4eb5-94af-4b72-b1c2-235d86426259",
   "metadata": {},
   "source": [
    "It is also assumed that the blood volume is proportional to the body size. The blood volumne is given by\n",
    "\n",
    "$$ V_b = \\pi \\sum_{k=0}^C r_k^2 l_k n_k = \\pi r_C^2 l_C n_C \\sum_{k=0}^C \\prod_{i=k}^{C-1} \\frac{1}{\\rho_i^2 \\lambda_i \\nu_i} = \\pi r_C^2 l_C n_C \\sum_{k=0}^C \\prod_{i=k}^{C-1} \\nu_i^{1/3}. $$\n",
    "\n",
    "If the body size is fixed, then $V_b$ shall be fixed too. Then,\n",
    "\n",
    "$$ \\ln V_b = \\ln \\left( \\pi r_C^2 l_C n_C \\right) + \\ln \\sum_{k=0}^C \\prod_{i=k}^{C-1} \\nu_i^{1/3}. $$"
   ]
  },
  {
   "cell_type": "code",
   "execution_count": 4,
   "id": "95f72cfb-10fe-4934-bdc0-14ccac6bc342",
   "metadata": {},
   "outputs": [
    {
     "data": {
      "text/plain": [
       "<tf.Tensor: shape=(1,), dtype=float64, numpy=array([6.19156443])>"
      ]
     },
     "execution_count": 4,
     "metadata": {},
     "output_type": "execute_result"
    }
   ],
   "source": [
    "def get_log_volume(log_nu):\n",
    "    \"\"\"Omit the constant.\"\"\"\n",
    "    logits = []\n",
    "    for k in range(LEVELS+1):\n",
    "        logits.append((1/3) * tf.reduce_sum(log_nu[:, k:], axis=1))\n",
    "    logits = tf.stack(logits, axis=1)\n",
    "    return tf.reduce_logsumexp(logits, axis=1)\n",
    "\n",
    "get_log_volume(log_nu)"
   ]
  },
  {
   "cell_type": "markdown",
   "id": "7f2b7cb8-e7a0-4324-aced-be3086625cb3",
   "metadata": {},
   "source": [
    "Since $n_{k+1} \\ge n_k$, $\\nu_k$ shall be greater than unit. So, there is another constraint that, for each $k$,\n",
    "\n",
    "$$ \\ln \\nu_k \\ge 0. $$"
   ]
  },
  {
   "cell_type": "markdown",
   "id": "99beadb8-74a7-4f36-9577-4be6dc346058",
   "metadata": {},
   "source": [
    "Altogether, the loss function shall be\n",
    "\n",
    "$$ \\ln R_b(\\nu) + \\mu \\left( \\ln V_b(\\nu) - \\ln \\bar{V}_b \\right) + \\sum_{k=1}^{C-1} \\omega_k \\left( \\ln \\nu_k - z_k^2 \\right), $$\n",
    "\n",
    "for some observed values $\\bar{V}_b$ given."
   ]
  },
  {
   "cell_type": "markdown",
   "id": "4d1f87f4-ce5f-434a-8f7a-a8366c794b66",
   "metadata": {},
   "source": [
    "What is a proper value of $\\bar{V}_b$. It is natural to suppose that $n_{k+1}/n_k \\ge 2$. This means $\\bar{V}_b$ shall be greater than the volume given by $\\nu = 2$. And it shall not be too large, for numerical consideration.\n",
    "\n",
    "In fact, it is sufficient for the optimized volume to approximate the order of $\\bar{V}_b$. We can regard this optimized volume as the real $\\bar{V}_b$. In other words, $\\bar{V}_b$ is used to determine the order, but not the accurate value."
   ]
  },
  {
   "cell_type": "code",
   "execution_count": 5,
   "id": "76529753-cb7f-4c76-a7b2-a36d9c05b289",
   "metadata": {},
   "outputs": [
    {
     "data": {
      "text/plain": [
       "<tf.Tensor: shape=(1,), dtype=float64, numpy=array([6.19156443])>"
      ]
     },
     "execution_count": 5,
     "metadata": {},
     "output_type": "execute_result"
    }
   ],
   "source": [
    "least_log_volume = get_log_volume(np.log(2) * np.ones([1, LEVELS]))\n",
    "least_log_volume"
   ]
  },
  {
   "cell_type": "code",
   "execution_count": 6,
   "id": "7adcc3bf-fd48-4ff8-a5b9-18ab200e3d72",
   "metadata": {},
   "outputs": [],
   "source": [
    "TRUE_LOG_VOLUME = 3e+1"
   ]
  },
  {
   "cell_type": "code",
   "execution_count": 7,
   "id": "dbcd535f-fa21-47ba-a728-ba7c42a34425",
   "metadata": {},
   "outputs": [
    {
     "data": {
      "text/plain": [
       "(<tf.Tensor: shape=(1,), dtype=float64, numpy=array([0.99408455])>,\n",
       " [<tf.Tensor: shape=(1,), dtype=float64, numpy=array([-23.80843557])>,\n",
       "  <tf.Tensor: shape=(1, 20), dtype=float64, numpy=\n",
       "  array([[-0.30685282, -0.30685282, -0.30685282, -0.30685282, -0.30685282,\n",
       "          -0.30685282, -0.30685282, -0.30685282, -0.30685282, -0.30685282,\n",
       "          -0.30685282, -0.30685282, -0.30685282, -0.30685282, -0.30685282,\n",
       "          -0.30685282, -0.30685282, -0.30685282, -0.30685282, -0.30685282]])>],\n",
       " <tf.Tensor: shape=(), dtype=float64, numpy=-2.0004646427167665>)"
      ]
     },
     "execution_count": 7,
     "metadata": {},
     "output_type": "execute_result"
    }
   ],
   "source": [
    "def get_loss(log_nu, z, mu, omega):\n",
    "    objective = get_log_resistance(log_nu)\n",
    "    batch_size = tf.cast(tf.shape(log_nu)[0], log_nu.dtype)\n",
    "    loss = tf.reduce_sum(objective) / batch_size\n",
    "    constraints = []\n",
    "    for multiplier, constraint in [\n",
    "        (mu, get_log_volume(log_nu) - TRUE_LOG_VOLUME),\n",
    "        (omega, log_nu - tf.square(z)),\n",
    "        # other constraints......\n",
    "    ]:\n",
    "        loss += tf.reduce_sum(multiplier * constraint) / batch_size\n",
    "        constraints.append(constraint)\n",
    "    return objective, constraints, loss\n",
    "\n",
    "z = tf.ones_like(log_nu)\n",
    "get_loss(log_nu, z, 0.1, 0.1)"
   ]
  },
  {
   "cell_type": "markdown",
   "id": "58c02dd3-e79d-4f3d-adda-0450249c5249",
   "metadata": {},
   "source": [
    "## Gradient Descent with Constraints\n",
    "\n",
    "The gradient descent algorithm with constraints is described in [Platt and Barr (1988)](https://papers.nips.cc/paper_files/paper/1987/file/a87ff679a2f3e71d9181a67b7542122c-Paper.pdf). Briefly, descent on the parameters (the $\\ln \\nu$ here) and ascent on the multipliers (the $\\mu$ and $\\omega_k$ here). For numerical stability, it is suggested to add an $L_2$-regulation.\n",
    "\n",
    "For example, consider scalar functions $f$ and $g$ where $f$ is lower bounded. If you want to minimize $f(x)$ with constraint $g(x) = 0$, then the loss function will be\n",
    "\n",
    "$$ L(x, \\mu) = f(x) + \\mu g(x), $$\n",
    "\n",
    "where $\\mu$ is the Lagrangian multiplier. Then, optimize the $x$ along the direction\n",
    "\n",
    "$$ \\dot{x}^a = -\\nabla^a L(x, \\mu) = -\\nabla^a f(x) - \\mu \\nabla^a g(x), $$\n",
    "\n",
    "where the $\\nabla$ is taken on $x$ only. And optimize the $\\mu$ along the direction\n",
    "\n",
    "$$ \\dot{\\mu} = {\\color{red}+} \\partial_{\\mu} L(x, \\mu) = g(x). $$\n",
    "\n",
    "Indeed, by taking time derivative, we find\n",
    "\n",
    "$$ \\ddot{x}^a + \\left( \\nabla^a \\nabla_b f(x) + \\mu \\nabla^a \\nabla_b g(x) \\right) \\dot{x}^b + \\nabla^a \\left( \\frac{1}{2} g^2(x) \\right) = 0. $$\n",
    "\n",
    "Analogy to the damped mechanic system, we recognize that the $A^a_b(x) := \\nabla^a \\nabla_b f(x) + \\mu \\nabla^a \\nabla_b g(x)$ term is a friction coefficient and $g^2(x)$ a potential. So, the energy is $E(x) := (1/2) \\dot{x}^2 + (1/2) g^2(x)$, and because of friction, the energy loss rate is $\\dot{E}(x) = -A_{a b}(x) \\dot{x}^a \\dot{x}^b$. So, to ensure that the energy losses, $A(x)$ has to be positive definite, at least being positive definite near the minimum. This is true for $\\nabla^a \\nabla_b f(x)$ since $f$ is lower bounded. So, we have to restrict the scale of $g$ such that $A$ is positive definite. To do so, we add an $L_2$-regulation for $g(x)$, that is, a term $c g^2(x)$ for a large enough positive constant $c$.\n",
    "\n",
    "For inequal constraints, like $h(x) \\ge 0$, we can add an auxiliary parameter $z$ and set the $g$ as $h(x) - z^2$. In this way, when $g = 0$, $h(x) \\ge 0$ is fulfilled. Now, the loss function becomes $L(x, z, \\mu) = f(x) + \\mu \\left( h(x) - z^2 \\right)$. The $z$ is optimized in the same way as $x$, that is $\\dot{z} = -\\nabla_z L(x, z, \\mu) = 2 \\mu z$. Remark that when $z = 0$, $\\dot{z} = 0$ too. Thus $z$ will not be updated and keeps vanishing. This is not what we want. So, at least, $z$ shall not be initialized as $0$ in training."
   ]
  },
  {
   "cell_type": "code",
   "execution_count": 8,
   "id": "52a7d9b1-e016-44d6-b11e-7eff090e68b6",
   "metadata": {},
   "outputs": [],
   "source": [
    "def get_train_step(optimizer, l2):\n",
    "    step = tf.Variable(0, dtype=tf.int32, trainable=False)\n",
    "    l2 = tf.convert_to_tensor(l2)\n",
    "\n",
    "    @tf.function\n",
    "    def train_step(log_nu, z, mu, omega):\n",
    "        batch_size = tf.cast(tf.shape(log_nu)[0], log_nu.dtype)\n",
    "\n",
    "        with tf.GradientTape() as tape:\n",
    "            objective, constraints, loss = get_loss(log_nu, z, mu, omega)\n",
    "            l2_regulaition = l2 * sum(\n",
    "                tf.reduce_sum(tf.square(c)) / batch_size\n",
    "                for c in constraints)\n",
    "            loss += l2_regulaition\n",
    "\n",
    "        # Compute gradients\n",
    "        vars = [log_nu, z, mu, omega]\n",
    "        grads = tape.gradient(loss, vars, unconnected_gradients='zero')\n",
    "\n",
    "        # Descent for parameters and ascent for multipliers:\n",
    "        grads_and_vars = []\n",
    "        for i, var in enumerate(vars):\n",
    "            if i < 2:\n",
    "                grads_and_vars.append((grads[i], vars[i]))\n",
    "            else:\n",
    "                grads_and_vars.append((-grads[i], vars[i]))\n",
    "\n",
    "        optimizer.apply_gradients(grads_and_vars)\n",
    "        check_nan(vars)\n",
    "        step.assign_add(1)\n",
    "        return objective, constraints, loss, grads_and_vars\n",
    "\n",
    "    return train_step, step\n",
    "\n",
    "def check_nan(xs):\n",
    "    for x in xs:\n",
    "        try:\n",
    "            tf.debugging.check_numerics(x, message='')\n",
    "        except Exception as e:\n",
    "            raise ValueError('NaN value.')"
   ]
  },
  {
   "cell_type": "markdown",
   "id": "896b33a3-c756-49a4-b5b5-99a31c37581b",
   "metadata": {},
   "source": [
    "## Training"
   ]
  },
  {
   "cell_type": "markdown",
   "id": "aed1f2ad-43c7-4645-bb2b-383c60bcbfd0",
   "metadata": {},
   "source": [
    "Initialize the parameters and Lagrangian multipliers:"
   ]
  },
  {
   "cell_type": "code",
   "execution_count": 9,
   "id": "3577792b-2678-4513-b7b3-a7d742f040f3",
   "metadata": {},
   "outputs": [],
   "source": [
    "log_nu = tf.Variable(tf.random.uniform([SAMPLES, LEVELS], np.log(2), np.log(6)))\n",
    "z = tf.Variable(tf.random.uniform([SAMPLES, LEVELS], 0.5, 1.))  # z shall not be zero.\n",
    "mu = tf.Variable(tf.zeros([SAMPLES, 1]))\n",
    "omega = tf.Variable(tf.zeros([SAMPLES, LEVELS]))\n",
    "optimizer = keras.optimizers.adam_v2.Adam(1e-4)\n",
    "train_step, step = get_train_step(optimizer, 1e-1)"
   ]
  },
  {
   "cell_type": "markdown",
   "id": "7941f9c2-3f6e-45d6-b259-c111aad3e791",
   "metadata": {},
   "source": [
    "Let us log the objective and constraints before training."
   ]
  },
  {
   "cell_type": "code",
   "execution_count": 10,
   "id": "cd37f0c9-c281-4b05-819e-30a3c4f7a08c",
   "metadata": {
    "scrolled": true
   },
   "outputs": [
    {
     "data": {
      "text/plain": [
       "(<tf.Tensor: shape=(100,), dtype=float32, numpy=\n",
       " array([0.5781461 , 0.641171  , 0.47044277, 0.6745846 , 0.65233576,\n",
       "        0.58721465, 0.7514878 , 0.49018055, 0.53156954, 0.5791774 ,\n",
       "        0.46375   , 0.56263417, 0.43286294, 0.55201113, 0.49260104,\n",
       "        0.6490934 , 0.57726914, 0.70045936, 0.4977888 , 0.5747638 ,\n",
       "        0.5692277 , 0.5255671 , 0.5843069 , 0.48747396, 0.63610464,\n",
       "        0.61724854, 0.65340555, 0.60809314, 0.56879723, 0.42355916,\n",
       "        0.7419208 , 0.66234654, 0.7837548 , 0.4935676 , 0.54612017,\n",
       "        0.65227985, 0.4615273 , 0.7216283 , 0.381564  , 0.5149565 ,\n",
       "        0.62974775, 0.60631365, 0.4251786 , 0.44239005, 0.45596635,\n",
       "        0.50590056, 0.68026996, 0.7345606 , 0.6443572 , 0.71910864,\n",
       "        0.7619628 , 0.7256421 , 0.6650822 , 0.5692314 , 0.5925604 ,\n",
       "        0.71288925, 0.52539915, 0.72143126, 0.6786766 , 0.56177396,\n",
       "        0.7356049 , 0.49154574, 0.59839094, 0.56681806, 0.70737255,\n",
       "        0.61999434, 0.73613226, 0.6260783 , 0.47696945, 0.638194  ,\n",
       "        0.48964077, 0.4787326 , 0.72595614, 0.7338793 , 0.50145185,\n",
       "        0.69599545, 0.4780962 , 0.44834465, 0.703846  , 0.6297092 ,\n",
       "        0.62999004, 0.64672   , 0.7271404 , 0.56358147, 0.7475044 ,\n",
       "        0.6013339 , 0.5712047 , 0.5994253 , 0.5082263 , 0.6434676 ,\n",
       "        0.40385243, 0.4796653 , 0.6525167 , 0.6955979 , 0.48269463,\n",
       "        0.64027786, 0.68220204, 0.46454126, 0.6559762 , 0.7321413 ],\n",
       "       dtype=float32)>,\n",
       " [<tf.Tensor: shape=(100,), dtype=float32, numpy=\n",
       "  array([-20.288794, -21.095398, -20.497156, -20.753506, -20.722208,\n",
       "         -20.573025, -20.556051, -20.362137, -20.451548, -20.801514,\n",
       "         -20.50104 , -20.510756, -20.990873, -20.856224, -19.696678,\n",
       "         -20.465296, -20.772673, -21.184162, -20.290785, -20.553753,\n",
       "         -20.202475, -19.603283, -20.124472, -19.992733, -20.443537,\n",
       "         -19.925716, -21.458801, -20.40922 , -20.181303, -19.817812,\n",
       "         -20.981628, -20.809374, -21.13626 , -19.820196, -21.324656,\n",
       "         -21.528456, -20.601236, -20.42439 , -19.929417, -20.359665,\n",
       "         -20.81732 , -21.11776 , -21.014645, -20.331263, -20.394665,\n",
       "         -20.211012, -20.902542, -20.936186, -20.297626, -21.490614,\n",
       "         -21.25236 , -20.60544 , -20.571074, -20.919008, -20.95027 ,\n",
       "         -21.762283, -21.091066, -21.418606, -20.49036 , -20.634153,\n",
       "         -21.549057, -20.292973, -20.808111, -20.48462 , -21.161495,\n",
       "         -20.225615, -20.986708, -20.544537, -20.713068, -21.172333,\n",
       "         -20.559666, -21.4167  , -20.42962 , -21.311066, -20.569267,\n",
       "         -21.146555, -20.901407, -20.441624, -20.461042, -20.695292,\n",
       "         -20.903383, -20.897655, -21.198963, -21.784313, -20.91197 ,\n",
       "         -19.98893 , -20.815525, -20.727982, -21.182858, -20.668085,\n",
       "         -20.323954, -20.50239 , -20.483463, -21.1999  , -21.037207,\n",
       "         -21.095034, -21.08716 , -20.295076, -20.822159, -20.373081],\n",
       "        dtype=float32)>,\n",
       "  <tf.Tensor: shape=(100, 20), dtype=float32, numpy=\n",
       "  array([[-0.03511322,  0.9634067 ,  0.8187042 , ...,  0.6539692 ,\n",
       "           1.0849206 ,  0.29373372],\n",
       "         [ 0.5264649 ,  0.39743096,  0.09397382, ...,  0.44689095,\n",
       "           0.22576201,  0.95101076],\n",
       "         [ 0.6157738 ,  1.0651429 ,  0.6302868 , ..., -0.02232796,\n",
       "           0.46190292,  1.3917489 ],\n",
       "         ...,\n",
       "         [ 0.9713954 ,  0.914802  ,  0.995712  , ...,  1.2309158 ,\n",
       "           0.35058528,  1.2266214 ],\n",
       "         [ 0.79955846,  1.0493435 ,  0.862823  , ...,  0.77220124,\n",
       "           0.95155364,  0.23285729],\n",
       "         [ 0.6738844 ,  1.3812584 ,  0.65880436, ...,  0.25453085,\n",
       "          -0.20507014,  0.3112942 ]], dtype=float32)>])"
      ]
     },
     "execution_count": 10,
     "metadata": {},
     "output_type": "execute_result"
    }
   ],
   "source": [
    "objective, constraints, _, _ = train_step(log_nu, z, mu, omega)\n",
    "objective, constraints"
   ]
  },
  {
   "cell_type": "code",
   "execution_count": 11,
   "id": "4fc24899-2e20-4b24-8b6e-12308560848b",
   "metadata": {},
   "outputs": [
    {
     "name": "stderr",
     "output_type": "stream",
     "text": [
      "100%|███████████████████████████████████████████████████| 500000/500000 [08:31<00:00, 978.13it/s]\n"
     ]
    }
   ],
   "source": [
    "objective_logs = []\n",
    "loss_logs = []\n",
    "for i in tqdm(range(500000)):\n",
    "    objective, _, loss, _ = train_step(log_nu, z, mu, omega)\n",
    "    objective_logs.append(objective.numpy().mean())\n",
    "    loss_logs.append(loss.numpy())"
   ]
  },
  {
   "cell_type": "code",
   "execution_count": 12,
   "id": "cc07c5cd-18e9-4530-810f-4fd2039f384b",
   "metadata": {},
   "outputs": [
    {
     "data": {
      "text/plain": [
       "<tf.Variable 'Variable:0' shape=() dtype=int32, numpy=500001>"
      ]
     },
     "execution_count": 12,
     "metadata": {},
     "output_type": "execute_result"
    }
   ],
   "source": [
    "step"
   ]
  },
  {
   "cell_type": "code",
   "execution_count": 13,
   "id": "509b3102-c3d5-4472-ade0-8dc19f3baeb2",
   "metadata": {},
   "outputs": [
    {
     "data": {
      "image/png": "[encoded data removed]",
      "text/plain": [
       "<Figure size 640x480 with 1 Axes>"
      ]
     },
     "metadata": {},
     "output_type": "display_data"
    }
   ],
   "source": [
    "plt.plot(objective_logs, label='expected objective', alpha=0.5)\n",
    "plt.plot(loss_logs, label='loss', alpha=0.5)\n",
    "plt.xlabel('training steps')\n",
    "plt.legend()\n",
    "plt.show()"
   ]
  },
  {
   "cell_type": "markdown",
   "id": "fcba1bea-d6c0-40a3-b254-e0796bca0cf6",
   "metadata": {},
   "source": [
    "Let us check the optimization results:"
   ]
  },
  {
   "cell_type": "code",
   "execution_count": 14,
   "id": "4b0cbdac-290d-4499-8768-85a5a97e4e34",
   "metadata": {},
   "outputs": [],
   "source": [
    "objective, constraints, _ = get_loss(log_nu, z, mu, omega)"
   ]
  },
  {
   "cell_type": "code",
   "execution_count": 15,
   "id": "01f67547-d7ed-4f6f-a47d-6e085f3749e0",
   "metadata": {
    "scrolled": true
   },
   "outputs": [
    {
     "data": {
      "text/plain": [
       "(<tf.Tensor: shape=(), dtype=int64, numpy=42>,\n",
       " <tf.Tensor: shape=(), dtype=float32, numpy=0.023155993>,\n",
       " [<tf.Tensor: shape=(), dtype=float32, numpy=-0.2234993>,\n",
       "  <tf.Tensor: shape=(20,), dtype=float32, numpy=\n",
       "  array([-7.91358948e-03, -8.13341141e-03, -4.48989868e-03, -1.08227730e-02,\n",
       "          8.56018066e-03, -1.06010437e-02, -1.67512894e-03,  1.14853382e-02,\n",
       "          2.81286240e-03,  1.12028122e-02,  1.14974976e-02, -1.82723999e-03,\n",
       "         -9.38415527e-04, -7.00950623e-05, -1.10964775e-02, -6.66379929e-03,\n",
       "          9.53102112e-03, -1.06091499e-02,  1.07688904e-02, -8.38422775e-03],\n",
       "        dtype=float32)>])"
      ]
     },
     "execution_count": 15,
     "metadata": {},
     "output_type": "execute_result"
    }
   ],
   "source": [
    "min_i = tf.argmin(objective)\n",
    "min_i, objective[min_i], [c[min_i] for c in constraints]"
   ]
  },
  {
   "cell_type": "markdown",
   "id": "a4234118-77a7-444a-850f-3b176e326410",
   "metadata": {},
   "source": [
    "And for checking fractal:"
   ]
  },
  {
   "cell_type": "code",
   "execution_count": 16,
   "id": "e7fe7734-be11-47a5-af17-c0c45c6f7ee6",
   "metadata": {
    "scrolled": true
   },
   "outputs": [
    {
     "data": {
      "text/plain": [
       "<tf.Tensor: shape=(20,), dtype=float32, numpy=\n",
       "array([4.830943 , 4.0739956, 4.125885 , 4.722409 , 4.7813454, 4.9644737,\n",
       "       4.0082273, 3.9020538, 4.420433 , 3.9297912, 4.1415005, 4.9602814,\n",
       "       4.12408  , 4.2641935, 3.9467592, 3.9877725, 4.1406164, 4.811581 ,\n",
       "       4.7880106, 5.693809 ], dtype=float32)>"
      ]
     },
     "execution_count": 16,
     "metadata": {},
     "output_type": "execute_result"
    }
   ],
   "source": [
    "log_nu[min_i, :]"
   ]
  },
  {
   "cell_type": "code",
   "execution_count": 17,
   "id": "692b5b76-dfc2-49f6-bcce-36012545ed7f",
   "metadata": {},
   "outputs": [
    {
     "data": {
      "image/png": "[encoded data removed]",
      "text/plain": [
       "<Figure size 640x480 with 1 Axes>"
      ]
     },
     "metadata": {},
     "output_type": "display_data"
    }
   ],
   "source": [
    "plt.plot(log_nu[min_i, :], '.', label='$\\\\ln \\\\nu_k$')\n",
    "plt.xlabel('$k$')\n",
    "plt.legend()\n",
    "plt.show()"
   ]
  },
  {
   "cell_type": "markdown",
   "id": "97e7900a-54c1-4b6e-8987-71f68f486a7b",
   "metadata": {},
   "source": [
    "Fractal emerges, since the $\\ln \\nu_k$ are approximately equal for all $k$."
   ]
  },
  {
   "cell_type": "markdown",
   "id": "e72f02e4-7296-4df3-bb3f-895410d498b9",
   "metadata": {},
   "source": [
    "Now, we can see how many branches there are. Notice that\n",
    "\n",
    "$$ \\frac{n_c}{n_1} = \\frac{n_C}{n_{C-1}} \\cdots \\frac{n_2}{n_1} = \\prod_{k=1}^{C-1} \\nu_k, $$\n",
    "\n",
    "and that $n_1 = 1$, we find\n",
    "\n",
    "$$ n_c = \\prod_{k=1}^{C-1} \\nu_k. $$"
   ]
  },
  {
   "cell_type": "code",
   "execution_count": 18,
   "id": "2a2c0771-88c5-4197-b4c8-e2cf8509b896",
   "metadata": {},
   "outputs": [
    {
     "data": {
      "text/plain": [
       "<tf.Tensor: shape=(), dtype=float32, numpy=38.48638>"
      ]
     },
     "execution_count": 18,
     "metadata": {},
     "output_type": "execute_result"
    }
   ],
   "source": [
    "def get_log10_nc(log_nu):\n",
    "    return tf.reduce_sum(log_nu, axis=1) * np.log10(np.e)\n",
    "\n",
    "get_log10_nc(log_nu)[min_i]"
   ]
  },
  {
   "cell_type": "markdown",
   "id": "0c2922c0-f920-4b37-9549-a6213e4c969a",
   "metadata": {},
   "source": [
    "## Conclusion\n",
    "\n",
    "In the paper of West, et al (1997), the fractal structure is \"analytically derived\". But, as we have numerically tested here, when the `TRUE_LOG_VOLUME` is not large enough, fractal structure will not appear. Instead, it will have a single branching, that is, all $\\nu_k$ except for one are unit."
   ]
  }
 ],
 "metadata": {
  "kernelspec": {
   "display_name": ".venv",
   "language": "python",
   "name": ".venv"
  },
  "language_info": {
   "codemirror_mode": {
    "name": "ipython",
    "version": 3
   },
   "file_extension": ".py",
   "mimetype": "text/x-python",
   "name": "python",
   "nbconvert_exporter": "python",
   "pygments_lexer": "ipython3",
   "version": "3.11.6"
  }
 },
 "nbformat": 4,
 "nbformat_minor": 5
}
