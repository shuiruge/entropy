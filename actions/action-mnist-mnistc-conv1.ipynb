{
  "cells": [
    {
      "cell_type": "markdown",
      "id": "07274ccd-76f1-46a0-b64d-29dd3d7b8019",
      "metadata": {
        "id": "07274ccd-76f1-46a0-b64d-29dd3d7b8019"
      },
      "source": [
        "## Motivation\n",
        "\n",
        "In this notebook, we expand the previous experiment on the idea declared in section 1.5.5 (see the notebook `action-mnist-mnistc-base.ipynb`), by using convolutional neural network instead of multi-layer perceptron. The code are the same as the previous experiment except for model structure and optimizer.\n",
        "\n",
        "We follow the [MNIST-C paper](https://arxiv.org/pdf/1906.02337.pdf), re-constructed the `Conv1` model (see their PyTorch code [on GitHub](https://github.com/pytorch/examples/blob/main/mnist/main.py))."
      ]
    },
    {
      "cell_type": "code",
      "execution_count": null,
      "id": "b8ab63f7-841b-4fe7-ae73-b0f8a207430e",
      "metadata": {
        "id": "b8ab63f7-841b-4fe7-ae73-b0f8a207430e",
        "colab": {
          "base_uri": "https://localhost:8080/"
        },
        "outputId": "b350d470-c7f4-4983-c969-6176fb8363b9"
      },
      "outputs": [
        {
          "output_type": "stream",
          "name": "stdout",
          "text": [
            "--2024-08-19 09:43:31--  https://raw.githubusercontent.com/shuiruge/maxent/master/actions/utils.py\n",
            "Resolving raw.githubusercontent.com (raw.githubusercontent.com)... 185.199.108.133, 185.199.109.133, 185.199.110.133, ...\n",
            "Connecting to raw.githubusercontent.com (raw.githubusercontent.com)|185.199.108.133|:443... connected.\n",
            "HTTP request sent, awaiting response... 200 OK\n",
            "Length: 4677 (4.6K) [text/plain]\n",
            "Saving to: ‘utils.py’\n",
            "\n",
            "\rutils.py              0%[                    ]       0  --.-KB/s               \rutils.py            100%[===================>]   4.57K  --.-KB/s    in 0s      \n",
            "\n",
            "2024-08-19 09:43:31 (57.0 MB/s) - ‘utils.py’ saved [4677/4677]\n",
            "\n"
          ]
        }
      ],
      "source": [
        "import os\n",
        "import numpy as np\n",
        "import tensorflow as tf\n",
        "import matplotlib.pyplot as plt\n",
        "from sklearn.metrics import accuracy_score\n",
        "from tqdm import tqdm\n",
        "\n",
        "!wget https://raw.githubusercontent.com/shuiruge/maxent/master/actions/utils.py\n",
        "from utils import GradientRelativeEntropy\n",
        "\n",
        "tf.random.set_seed(42)"
      ]
    },
    {
      "cell_type": "markdown",
      "id": "0c8239d4-600f-4b3d-b665-ba64d9bac711",
      "metadata": {
        "id": "0c8239d4-600f-4b3d-b665-ba64d9bac711"
      },
      "source": [
        "## The MNIST Dataset\n",
        "\n",
        "We follow [their code](https://github.com/pytorch/examples/blob/main/mnist/main.py#L119) for data preprocessing. The strange rescaling by `0.1307` and `0.3081` can greatly speed up the training and obtain significantly better results."
      ]
    },
    {
      "cell_type": "code",
      "execution_count": null,
      "id": "d7ff4901-8ca8-4413-80ed-9184138a1ffa",
      "metadata": {
        "id": "d7ff4901-8ca8-4413-80ed-9184138a1ffa"
      },
      "outputs": [],
      "source": [
        "mnist = tf.keras.datasets.mnist\n",
        "(x_train, y_train), (x_test, y_test) = mnist.load_data()\n",
        "\n",
        "def preprocess(x):\n",
        "    x = x.astype('float32').reshape([-1, 28, 28, 1])\n",
        "    x = x / 255.0\n",
        "    x = (x - 0.1307) / 0.3081\n",
        "    return x\n",
        "\n",
        "x_train = preprocess(x_train)\n",
        "x_test = preprocess(x_test)\n",
        "y_train = y_train.astype('float32')\n",
        "y_test = y_test.astype('float32')"
      ]
    },
    {
      "cell_type": "markdown",
      "id": "405d08b9-61df-44d1-a10f-9b2297783c3b",
      "metadata": {
        "id": "405d08b9-61df-44d1-a10f-9b2297783c3b"
      },
      "source": [
        "## Train a CNN Model with the \"Gradient Loss\""
      ]
    },
    {
      "cell_type": "code",
      "execution_count": null,
      "id": "65e2d654-323d-43d2-805e-3a10fa1c28d2",
      "metadata": {
        "id": "65e2d654-323d-43d2-805e-3a10fa1c28d2"
      },
      "outputs": [],
      "source": [
        "model = tf.keras.Sequential([\n",
        "    tf.keras.layers.Conv2D(32, 3),\n",
        "    tf.keras.layers.ReLU(),\n",
        "    tf.keras.layers.Conv2D(64, 3),\n",
        "    tf.keras.layers.ReLU(),\n",
        "    tf.keras.layers.MaxPool2D((2, 2)),\n",
        "    tf.keras.layers.Dropout(0.25),\n",
        "    tf.keras.layers.Flatten(),\n",
        "    tf.keras.layers.Dense(128, 'relu'),\n",
        "    tf.keras.layers.Dropout(0.5),\n",
        "    tf.keras.layers.Dense(10),\n",
        "])\n",
        "\n",
        "gradient_loss_fn = GradientRelativeEntropy(model)"
      ]
    },
    {
      "cell_type": "code",
      "execution_count": null,
      "id": "ac0e9b1c-d29b-4ef7-8ede-d29b98e069d6",
      "metadata": {
        "id": "ac0e9b1c-d29b-4ef7-8ede-d29b98e069d6"
      },
      "outputs": [],
      "source": [
        "lr_schedule = tf.keras.optimizers.schedules.ExponentialDecay(\n",
        "    initial_learning_rate=1., decay_steps=10000, decay_rate=0.7, staircase=True)\n",
        "optimizer = tf.optimizers.Adadelta(lr_schedule)\n",
        "\n",
        "@tf.function\n",
        "def train_step(x, y):\n",
        "    with tf.GradientTape() as tape:\n",
        "        gradient_loss = gradient_loss_fn(x, y)\n",
        "        loss = tf.reduce_mean(gradient_loss.loss)\n",
        "    grads = tape.gradient(loss, model.variables)\n",
        "    optimizer.apply_gradients(zip(grads, model.variables))\n",
        "    return loss"
      ]
    },
    {
      "cell_type": "code",
      "execution_count": null,
      "id": "bd90d270-d554-4474-b95b-33c6826fee95",
      "metadata": {
        "id": "bd90d270-d554-4474-b95b-33c6826fee95"
      },
      "outputs": [],
      "source": [
        "def evaluate(model):\n",
        "    return accuracy_score(y_test, tf.argmax(model(x_test), axis=1))"
      ]
    },
    {
      "cell_type": "code",
      "execution_count": null,
      "id": "1992d379-bf40-4022-bcd6-6d26c2b757f7",
      "metadata": {
        "id": "1992d379-bf40-4022-bcd6-6d26c2b757f7"
      },
      "outputs": [],
      "source": [
        "ds = tf.data.Dataset.from_tensor_slices(\n",
        "    (x_train, tf.one_hot(y_train, 10))\n",
        ")\n",
        "ds = ds.batch(64)"
      ]
    },
    {
      "cell_type": "code",
      "execution_count": null,
      "id": "7f8317b9-e6c9-4c30-b3c6-7036e6785d07",
      "metadata": {
        "colab": {
          "base_uri": "https://localhost:8080/"
        },
        "id": "7f8317b9-e6c9-4c30-b3c6-7036e6785d07",
        "outputId": "10136b15-913c-4f76-f2de-546516162bf9",
        "scrolled": true
      },
      "outputs": [
        {
          "output_type": "stream",
          "name": "stderr",
          "text": [
            "\r  0%|          | 0/938 [00:00<?, ?it/s]/usr/local/lib/python3.10/dist-packages/keras/src/optimizers/base_optimizer.py:664: UserWarning: Gradients do not exist for variables ['seed_generator_state', 'seed_generator_state'] when minimizing the loss. If using `model.compile()`, did you forget to provide a `loss` argument?\n",
            "  warnings.warn(\n",
            "100%|██████████| 938/938 [00:23<00:00, 40.35it/s] \n"
          ]
        },
        {
          "output_type": "stream",
          "name": "stdout",
          "text": [
            "epoch: 0, loss: 0.1093, val_accuracy: 0.9843\n"
          ]
        },
        {
          "output_type": "stream",
          "name": "stderr",
          "text": [
            "100%|██████████| 938/938 [00:06<00:00, 151.98it/s]\n"
          ]
        },
        {
          "output_type": "stream",
          "name": "stdout",
          "text": [
            "epoch: 1, loss: 0.0997, val_accuracy: 0.9881\n"
          ]
        },
        {
          "output_type": "stream",
          "name": "stderr",
          "text": [
            "100%|██████████| 938/938 [00:06<00:00, 153.53it/s]\n"
          ]
        },
        {
          "output_type": "stream",
          "name": "stdout",
          "text": [
            "epoch: 2, loss: 0.0992, val_accuracy: 0.9898\n"
          ]
        },
        {
          "output_type": "stream",
          "name": "stderr",
          "text": [
            "100%|██████████| 938/938 [00:05<00:00, 160.80it/s]\n"
          ]
        },
        {
          "output_type": "stream",
          "name": "stdout",
          "text": [
            "epoch: 3, loss: 0.0957, val_accuracy: 0.9901\n"
          ]
        },
        {
          "output_type": "stream",
          "name": "stderr",
          "text": [
            "100%|██████████| 938/938 [00:05<00:00, 158.01it/s]\n"
          ]
        },
        {
          "output_type": "stream",
          "name": "stdout",
          "text": [
            "epoch: 4, loss: 0.0974, val_accuracy: 0.9908\n"
          ]
        },
        {
          "output_type": "stream",
          "name": "stderr",
          "text": [
            "100%|██████████| 938/938 [00:05<00:00, 161.27it/s]\n"
          ]
        },
        {
          "output_type": "stream",
          "name": "stdout",
          "text": [
            "epoch: 5, loss: 0.0963, val_accuracy: 0.9908\n"
          ]
        },
        {
          "output_type": "stream",
          "name": "stderr",
          "text": [
            "100%|██████████| 938/938 [00:05<00:00, 157.28it/s]\n"
          ]
        },
        {
          "output_type": "stream",
          "name": "stdout",
          "text": [
            "epoch: 6, loss: 0.0953, val_accuracy: 0.9908\n"
          ]
        },
        {
          "output_type": "stream",
          "name": "stderr",
          "text": [
            "100%|██████████| 938/938 [00:05<00:00, 160.50it/s]\n"
          ]
        },
        {
          "output_type": "stream",
          "name": "stdout",
          "text": [
            "epoch: 7, loss: 0.0951, val_accuracy: 0.9913\n"
          ]
        },
        {
          "output_type": "stream",
          "name": "stderr",
          "text": [
            "100%|██████████| 938/938 [00:05<00:00, 156.78it/s]\n"
          ]
        },
        {
          "output_type": "stream",
          "name": "stdout",
          "text": [
            "epoch: 8, loss: 0.0946, val_accuracy: 0.9914\n"
          ]
        },
        {
          "output_type": "stream",
          "name": "stderr",
          "text": [
            "100%|██████████| 938/938 [00:05<00:00, 160.24it/s]\n"
          ]
        },
        {
          "output_type": "stream",
          "name": "stdout",
          "text": [
            "epoch: 9, loss: 0.0948, val_accuracy: 0.9918\n"
          ]
        },
        {
          "output_type": "stream",
          "name": "stderr",
          "text": [
            "100%|██████████| 938/938 [00:06<00:00, 156.18it/s]\n"
          ]
        },
        {
          "output_type": "stream",
          "name": "stdout",
          "text": [
            "epoch: 10, loss: 0.0939, val_accuracy: 0.9918\n"
          ]
        },
        {
          "output_type": "stream",
          "name": "stderr",
          "text": [
            "100%|██████████| 938/938 [00:05<00:00, 159.25it/s]\n"
          ]
        },
        {
          "output_type": "stream",
          "name": "stdout",
          "text": [
            "epoch: 11, loss: 0.0937, val_accuracy: 0.9921\n"
          ]
        },
        {
          "output_type": "stream",
          "name": "stderr",
          "text": [
            "100%|██████████| 938/938 [00:06<00:00, 155.16it/s]\n"
          ]
        },
        {
          "output_type": "stream",
          "name": "stdout",
          "text": [
            "epoch: 12, loss: 0.0938, val_accuracy: 0.9921\n"
          ]
        },
        {
          "output_type": "stream",
          "name": "stderr",
          "text": [
            "100%|██████████| 938/938 [00:06<00:00, 153.94it/s]\n"
          ]
        },
        {
          "output_type": "stream",
          "name": "stdout",
          "text": [
            "epoch: 13, loss: 0.0937, val_accuracy: 0.9921\n"
          ]
        },
        {
          "output_type": "stream",
          "name": "stderr",
          "text": [
            "100%|██████████| 938/938 [00:06<00:00, 155.32it/s]\n"
          ]
        },
        {
          "output_type": "stream",
          "name": "stdout",
          "text": [
            "epoch: 14, loss: 0.0937, val_accuracy: 0.9922\n"
          ]
        },
        {
          "output_type": "stream",
          "name": "stderr",
          "text": [
            "100%|██████████| 938/938 [00:05<00:00, 159.26it/s]\n"
          ]
        },
        {
          "output_type": "stream",
          "name": "stdout",
          "text": [
            "epoch: 15, loss: 0.0937, val_accuracy: 0.9924\n"
          ]
        },
        {
          "output_type": "stream",
          "name": "stderr",
          "text": [
            "100%|██████████| 938/938 [00:06<00:00, 155.57it/s]\n"
          ]
        },
        {
          "output_type": "stream",
          "name": "stdout",
          "text": [
            "epoch: 16, loss: 0.0936, val_accuracy: 0.9922\n"
          ]
        },
        {
          "output_type": "stream",
          "name": "stderr",
          "text": [
            "100%|██████████| 938/938 [00:06<00:00, 149.78it/s]\n"
          ]
        },
        {
          "output_type": "stream",
          "name": "stdout",
          "text": [
            "epoch: 17, loss: 0.0936, val_accuracy: 0.9924\n"
          ]
        },
        {
          "output_type": "stream",
          "name": "stderr",
          "text": [
            "100%|██████████| 938/938 [00:06<00:00, 156.09it/s]\n"
          ]
        },
        {
          "output_type": "stream",
          "name": "stdout",
          "text": [
            "epoch: 18, loss: 0.0935, val_accuracy: 0.9924\n"
          ]
        },
        {
          "output_type": "stream",
          "name": "stderr",
          "text": [
            "100%|██████████| 938/938 [00:05<00:00, 159.65it/s]\n"
          ]
        },
        {
          "output_type": "stream",
          "name": "stdout",
          "text": [
            "epoch: 19, loss: 0.0936, val_accuracy: 0.9924\n"
          ]
        },
        {
          "output_type": "stream",
          "name": "stderr",
          "text": [
            "100%|██████████| 938/938 [00:06<00:00, 156.03it/s]\n"
          ]
        },
        {
          "output_type": "stream",
          "name": "stdout",
          "text": [
            "epoch: 20, loss: 0.0935, val_accuracy: 0.9924\n"
          ]
        },
        {
          "output_type": "stream",
          "name": "stderr",
          "text": [
            "100%|██████████| 938/938 [00:05<00:00, 159.42it/s]\n"
          ]
        },
        {
          "output_type": "stream",
          "name": "stdout",
          "text": [
            "epoch: 21, loss: 0.0931, val_accuracy: 0.9924\n"
          ]
        },
        {
          "output_type": "stream",
          "name": "stderr",
          "text": [
            "100%|██████████| 938/938 [00:06<00:00, 155.25it/s]\n"
          ]
        },
        {
          "output_type": "stream",
          "name": "stdout",
          "text": [
            "epoch: 22, loss: 0.0931, val_accuracy: 0.9926\n"
          ]
        },
        {
          "output_type": "stream",
          "name": "stderr",
          "text": [
            "100%|██████████| 938/938 [00:05<00:00, 157.93it/s]\n"
          ]
        },
        {
          "output_type": "stream",
          "name": "stdout",
          "text": [
            "epoch: 23, loss: 0.0932, val_accuracy: 0.9925\n"
          ]
        },
        {
          "output_type": "stream",
          "name": "stderr",
          "text": [
            "100%|██████████| 938/938 [00:06<00:00, 155.39it/s]\n"
          ]
        },
        {
          "output_type": "stream",
          "name": "stdout",
          "text": [
            "epoch: 24, loss: 0.0931, val_accuracy: 0.9927\n"
          ]
        },
        {
          "output_type": "stream",
          "name": "stderr",
          "text": [
            "100%|██████████| 938/938 [00:05<00:00, 158.74it/s]\n"
          ]
        },
        {
          "output_type": "stream",
          "name": "stdout",
          "text": [
            "epoch: 25, loss: 0.0931, val_accuracy: 0.9925\n"
          ]
        },
        {
          "output_type": "stream",
          "name": "stderr",
          "text": [
            "100%|██████████| 938/938 [00:06<00:00, 155.66it/s]\n"
          ]
        },
        {
          "output_type": "stream",
          "name": "stdout",
          "text": [
            "epoch: 26, loss: 0.0930, val_accuracy: 0.9925\n"
          ]
        },
        {
          "output_type": "stream",
          "name": "stderr",
          "text": [
            "100%|██████████| 938/938 [00:05<00:00, 158.85it/s]\n"
          ]
        },
        {
          "output_type": "stream",
          "name": "stdout",
          "text": [
            "epoch: 27, loss: 0.0931, val_accuracy: 0.9925\n"
          ]
        },
        {
          "output_type": "stream",
          "name": "stderr",
          "text": [
            "100%|██████████| 938/938 [00:06<00:00, 155.05it/s]\n"
          ]
        },
        {
          "output_type": "stream",
          "name": "stdout",
          "text": [
            "epoch: 28, loss: 0.0930, val_accuracy: 0.9925\n"
          ]
        },
        {
          "output_type": "stream",
          "name": "stderr",
          "text": [
            "100%|██████████| 938/938 [00:05<00:00, 158.75it/s]\n"
          ]
        },
        {
          "output_type": "stream",
          "name": "stdout",
          "text": [
            "epoch: 29, loss: 0.0931, val_accuracy: 0.9925\n"
          ]
        },
        {
          "output_type": "stream",
          "name": "stderr",
          "text": [
            "100%|██████████| 938/938 [00:06<00:00, 154.90it/s]\n"
          ]
        },
        {
          "output_type": "stream",
          "name": "stdout",
          "text": [
            "epoch: 30, loss: 0.0930, val_accuracy: 0.9925\n"
          ]
        },
        {
          "output_type": "stream",
          "name": "stderr",
          "text": [
            "100%|██████████| 938/938 [00:05<00:00, 158.53it/s]\n"
          ]
        },
        {
          "output_type": "stream",
          "name": "stdout",
          "text": [
            "epoch: 31, loss: 0.0930, val_accuracy: 0.9926\n"
          ]
        },
        {
          "output_type": "stream",
          "name": "stderr",
          "text": [
            "100%|██████████| 938/938 [00:06<00:00, 156.17it/s]\n"
          ]
        },
        {
          "output_type": "stream",
          "name": "stdout",
          "text": [
            "epoch: 32, loss: 0.0930, val_accuracy: 0.9926\n"
          ]
        },
        {
          "output_type": "stream",
          "name": "stderr",
          "text": [
            "100%|██████████| 938/938 [00:05<00:00, 158.90it/s]\n"
          ]
        },
        {
          "output_type": "stream",
          "name": "stdout",
          "text": [
            "epoch: 33, loss: 0.0929, val_accuracy: 0.9926\n"
          ]
        },
        {
          "output_type": "stream",
          "name": "stderr",
          "text": [
            "100%|██████████| 938/938 [00:06<00:00, 155.55it/s]\n"
          ]
        },
        {
          "output_type": "stream",
          "name": "stdout",
          "text": [
            "epoch: 34, loss: 0.0929, val_accuracy: 0.9926\n"
          ]
        },
        {
          "output_type": "stream",
          "name": "stderr",
          "text": [
            "100%|██████████| 938/938 [00:05<00:00, 158.31it/s]\n"
          ]
        },
        {
          "output_type": "stream",
          "name": "stdout",
          "text": [
            "epoch: 35, loss: 0.0930, val_accuracy: 0.9926\n"
          ]
        },
        {
          "output_type": "stream",
          "name": "stderr",
          "text": [
            "100%|██████████| 938/938 [00:06<00:00, 155.20it/s]\n"
          ]
        },
        {
          "output_type": "stream",
          "name": "stdout",
          "text": [
            "epoch: 36, loss: 0.0929, val_accuracy: 0.9925\n"
          ]
        },
        {
          "output_type": "stream",
          "name": "stderr",
          "text": [
            "100%|██████████| 938/938 [00:05<00:00, 158.98it/s]\n"
          ]
        },
        {
          "output_type": "stream",
          "name": "stdout",
          "text": [
            "epoch: 37, loss: 0.0929, val_accuracy: 0.9926\n"
          ]
        },
        {
          "output_type": "stream",
          "name": "stderr",
          "text": [
            "100%|██████████| 938/938 [00:05<00:00, 156.42it/s]\n"
          ]
        },
        {
          "output_type": "stream",
          "name": "stdout",
          "text": [
            "epoch: 38, loss: 0.0929, val_accuracy: 0.9926\n"
          ]
        },
        {
          "output_type": "stream",
          "name": "stderr",
          "text": [
            "100%|██████████| 938/938 [00:05<00:00, 158.85it/s]\n"
          ]
        },
        {
          "output_type": "stream",
          "name": "stdout",
          "text": [
            "epoch: 39, loss: 0.0928, val_accuracy: 0.9926\n"
          ]
        },
        {
          "output_type": "stream",
          "name": "stderr",
          "text": [
            "100%|██████████| 938/938 [00:06<00:00, 155.81it/s]\n"
          ]
        },
        {
          "output_type": "stream",
          "name": "stdout",
          "text": [
            "epoch: 40, loss: 0.0928, val_accuracy: 0.9927\n"
          ]
        },
        {
          "output_type": "stream",
          "name": "stderr",
          "text": [
            "100%|██████████| 938/938 [00:05<00:00, 156.66it/s]\n"
          ]
        },
        {
          "output_type": "stream",
          "name": "stdout",
          "text": [
            "epoch: 41, loss: 0.0928, val_accuracy: 0.9927\n"
          ]
        },
        {
          "output_type": "stream",
          "name": "stderr",
          "text": [
            "100%|██████████| 938/938 [00:05<00:00, 156.72it/s]\n"
          ]
        },
        {
          "output_type": "stream",
          "name": "stdout",
          "text": [
            "epoch: 42, loss: 0.0929, val_accuracy: 0.9925\n"
          ]
        },
        {
          "output_type": "stream",
          "name": "stderr",
          "text": [
            "100%|██████████| 938/938 [00:05<00:00, 157.71it/s]\n"
          ]
        },
        {
          "output_type": "stream",
          "name": "stdout",
          "text": [
            "epoch: 43, loss: 0.0928, val_accuracy: 0.9927\n"
          ]
        },
        {
          "output_type": "stream",
          "name": "stderr",
          "text": [
            "100%|██████████| 938/938 [00:10<00:00, 91.76it/s] \n"
          ]
        },
        {
          "output_type": "stream",
          "name": "stdout",
          "text": [
            "epoch: 44, loss: 0.0928, val_accuracy: 0.9925\n"
          ]
        },
        {
          "output_type": "stream",
          "name": "stderr",
          "text": [
            "100%|██████████| 938/938 [00:05<00:00, 158.71it/s]\n"
          ]
        },
        {
          "output_type": "stream",
          "name": "stdout",
          "text": [
            "epoch: 45, loss: 0.0928, val_accuracy: 0.9926\n"
          ]
        },
        {
          "output_type": "stream",
          "name": "stderr",
          "text": [
            "100%|██████████| 938/938 [00:06<00:00, 154.91it/s]\n"
          ]
        },
        {
          "output_type": "stream",
          "name": "stdout",
          "text": [
            "epoch: 46, loss: 0.0928, val_accuracy: 0.9926\n"
          ]
        },
        {
          "output_type": "stream",
          "name": "stderr",
          "text": [
            "100%|██████████| 938/938 [00:05<00:00, 158.65it/s]\n"
          ]
        },
        {
          "output_type": "stream",
          "name": "stdout",
          "text": [
            "epoch: 47, loss: 0.0928, val_accuracy: 0.9926\n"
          ]
        },
        {
          "output_type": "stream",
          "name": "stderr",
          "text": [
            "100%|██████████| 938/938 [00:06<00:00, 155.49it/s]\n"
          ]
        },
        {
          "output_type": "stream",
          "name": "stdout",
          "text": [
            "epoch: 48, loss: 0.0928, val_accuracy: 0.9926\n"
          ]
        },
        {
          "output_type": "stream",
          "name": "stderr",
          "text": [
            "100%|██████████| 938/938 [00:05<00:00, 158.96it/s]\n"
          ]
        },
        {
          "output_type": "stream",
          "name": "stdout",
          "text": [
            "epoch: 49, loss: 0.0928, val_accuracy: 0.9927\n"
          ]
        }
      ],
      "source": [
        "for epoch in range(50):\n",
        "    for x, y in tqdm(ds):\n",
        "        loss = train_step(x, y)\n",
        "    print(f'epoch: {epoch}, loss: {loss.numpy():.4f}, val_accuracy: {evaluate(model):.4f}')"
      ]
    },
    {
      "cell_type": "code",
      "execution_count": null,
      "id": "55dde9a7-4018-4e64-b909-e069729f096c",
      "metadata": {
        "colab": {
          "base_uri": "https://localhost:8080/"
        },
        "id": "55dde9a7-4018-4e64-b909-e069729f096c",
        "outputId": "8f19d031-4ee8-499e-b426-79e9880faf65"
      },
      "outputs": [
        {
          "output_type": "execute_result",
          "data": {
            "text/plain": [
              "0.9927"
            ]
          },
          "metadata": {},
          "execution_count": 8
        }
      ],
      "source": [
        "evaluate(model)"
      ]
    },
    {
      "cell_type": "markdown",
      "id": "b7218605-525e-445c-aa7a-0e44d3d39dc1",
      "metadata": {
        "id": "b7218605-525e-445c-aa7a-0e44d3d39dc1"
      },
      "source": [
        "## Baseline Model with the Usual Loss\n",
        "\n",
        "For comparing, we use the same architecture for baseline model."
      ]
    },
    {
      "cell_type": "code",
      "execution_count": null,
      "id": "b9993ada-54dd-4b1f-ab9e-3e3301695c99",
      "metadata": {
        "id": "b9993ada-54dd-4b1f-ab9e-3e3301695c99"
      },
      "outputs": [],
      "source": [
        "baseline_model = tf.keras.Sequential([\n",
        "    tf.keras.layers.Conv2D(32, 3),\n",
        "    tf.keras.layers.ReLU(),\n",
        "    tf.keras.layers.Conv2D(64, 3),\n",
        "    tf.keras.layers.ReLU(),\n",
        "    tf.keras.layers.MaxPool2D((2, 2)),\n",
        "    tf.keras.layers.Dropout(0.25),\n",
        "    tf.keras.layers.Flatten(),\n",
        "    tf.keras.layers.Dense(128, 'relu'),\n",
        "    tf.keras.layers.Dropout(0.5),\n",
        "    tf.keras.layers.Dense(10),\n",
        "])\n",
        "\n",
        "lr_schedule = tf.keras.optimizers.schedules.ExponentialDecay(\n",
        "    initial_learning_rate=1., decay_steps=10000, decay_rate=0.7, staircase=True)\n",
        "baseline_model.compile(\n",
        "    optimizer=tf.optimizers.Adadelta(lr_schedule),\n",
        "    loss=tf.losses.SparseCategoricalCrossentropy(from_logits=True),\n",
        "    metrics=['accuracy'],\n",
        ")"
      ]
    },
    {
      "cell_type": "code",
      "execution_count": null,
      "id": "9fe0e479-a012-4538-a6ca-132352299fc5",
      "metadata": {
        "id": "9fe0e479-a012-4538-a6ca-132352299fc5",
        "scrolled": true,
        "colab": {
          "base_uri": "https://localhost:8080/"
        },
        "outputId": "bf526ca3-7a9a-41af-b22a-030ace88b9c6"
      },
      "outputs": [
        {
          "output_type": "stream",
          "name": "stdout",
          "text": [
            "Epoch 1/14\n",
            "938/938 - 9s - 10ms/step - accuracy: 0.9426 - loss: 0.1909 - val_accuracy: 0.9831 - val_loss: 0.0537\n",
            "Epoch 2/14\n",
            "938/938 - 4s - 4ms/step - accuracy: 0.9784 - loss: 0.0727 - val_accuracy: 0.9841 - val_loss: 0.0463\n",
            "Epoch 3/14\n",
            "938/938 - 4s - 4ms/step - accuracy: 0.9833 - loss: 0.0567 - val_accuracy: 0.9871 - val_loss: 0.0387\n",
            "Epoch 4/14\n",
            "938/938 - 4s - 4ms/step - accuracy: 0.9860 - loss: 0.0477 - val_accuracy: 0.9887 - val_loss: 0.0338\n",
            "Epoch 5/14\n",
            "938/938 - 6s - 6ms/step - accuracy: 0.9883 - loss: 0.0413 - val_accuracy: 0.9886 - val_loss: 0.0323\n",
            "Epoch 6/14\n",
            "938/938 - 5s - 5ms/step - accuracy: 0.9888 - loss: 0.0375 - val_accuracy: 0.9894 - val_loss: 0.0318\n",
            "Epoch 7/14\n",
            "938/938 - 4s - 4ms/step - accuracy: 0.9900 - loss: 0.0362 - val_accuracy: 0.9894 - val_loss: 0.0313\n",
            "Epoch 8/14\n",
            "938/938 - 4s - 5ms/step - accuracy: 0.9906 - loss: 0.0322 - val_accuracy: 0.9914 - val_loss: 0.0322\n",
            "Epoch 9/14\n",
            "938/938 - 4s - 5ms/step - accuracy: 0.9907 - loss: 0.0327 - val_accuracy: 0.9910 - val_loss: 0.0299\n",
            "Epoch 10/14\n",
            "938/938 - 4s - 4ms/step - accuracy: 0.9913 - loss: 0.0297 - val_accuracy: 0.9901 - val_loss: 0.0342\n",
            "Epoch 11/14\n",
            "938/938 - 6s - 6ms/step - accuracy: 0.9920 - loss: 0.0273 - val_accuracy: 0.9898 - val_loss: 0.0335\n",
            "Epoch 12/14\n",
            "938/938 - 4s - 4ms/step - accuracy: 0.9929 - loss: 0.0250 - val_accuracy: 0.9917 - val_loss: 0.0308\n",
            "Epoch 13/14\n",
            "938/938 - 4s - 4ms/step - accuracy: 0.9927 - loss: 0.0245 - val_accuracy: 0.9895 - val_loss: 0.0356\n",
            "Epoch 14/14\n",
            "938/938 - 6s - 6ms/step - accuracy: 0.9934 - loss: 0.0240 - val_accuracy: 0.9901 - val_loss: 0.0351\n"
          ]
        },
        {
          "output_type": "execute_result",
          "data": {
            "text/plain": [
              "<keras.src.callbacks.history.History at 0x7d992b5a93f0>"
            ]
          },
          "metadata": {},
          "execution_count": 19
        }
      ],
      "source": [
        "baseline_model.fit(\n",
        "    x_train, y_train,\n",
        "    batch_size=64,\n",
        "    epochs=14,\n",
        "    validation_data=(x_test, y_test),\n",
        "    verbose=2,\n",
        ")"
      ]
    },
    {
      "cell_type": "code",
      "execution_count": null,
      "id": "637a961b-4f4b-4c9a-a5d3-b944c1ea01a9",
      "metadata": {
        "colab": {
          "base_uri": "https://localhost:8080/"
        },
        "id": "637a961b-4f4b-4c9a-a5d3-b944c1ea01a9",
        "outputId": "a0e692e5-3165-4f9e-b934-17a7bd2f3fd3"
      },
      "outputs": [
        {
          "output_type": "execute_result",
          "data": {
            "text/plain": [
              "0.9901"
            ]
          },
          "metadata": {},
          "execution_count": 20
        }
      ],
      "source": [
        "evaluate(baseline_model)"
      ]
    },
    {
      "cell_type": "markdown",
      "id": "cff6385a-4ca4-45fb-bf99-9953641fec71",
      "metadata": {
        "id": "cff6385a-4ca4-45fb-bf99-9953641fec71"
      },
      "source": [
        "## Model Robustness\n",
        "\n",
        "Now, we compare the robustness of the model and the baseline. To do so, we add Gaussian and uniform noises to the test data and check the accuracy. (Because of the rescaling of input data, we shall not clip the input value as before.)"
      ]
    },
    {
      "cell_type": "code",
      "execution_count": null,
      "id": "4541732f-c484-45a5-b205-3f02d11eb3bd",
      "metadata": {
        "colab": {
          "base_uri": "https://localhost:8080/"
        },
        "id": "4541732f-c484-45a5-b205-3f02d11eb3bd",
        "outputId": "6b1bbf40-1a29-417e-aa15-057bdafa0475"
      },
      "outputs": [
        {
          "output_type": "stream",
          "name": "stderr",
          "text": [
            "100%|██████████| 50/50 [00:16<00:00,  3.07it/s]\n"
          ]
        }
      ],
      "source": [
        "stddevs, model_accs, baseline_accs = [], [], []\n",
        "for stddev in tqdm(np.linspace(0, 0.5, 50)):\n",
        "    stddevs.append(stddev)\n",
        "    x_test_noised = x_test + tf.random.normal(tf.shape(x_test)) * stddev\n",
        "    # x_test_noised = x_test + tf.random.uniform(tf.shape(x_test), -1., 1.) * stddev\n",
        "    model_accs.append(\n",
        "        accuracy_score(y_test, tf.argmax(model(x_test_noised), axis=1))\n",
        "    )\n",
        "    baseline_accs.append(\n",
        "        accuracy_score(y_test, tf.argmax(baseline_model(x_test_noised), axis=1))\n",
        "    )"
      ]
    },
    {
      "cell_type": "code",
      "execution_count": null,
      "id": "808e7941-5553-4506-aa06-95f8e1040419",
      "metadata": {
        "colab": {
          "base_uri": "https://localhost:8080/",
          "height": 449
        },
        "id": "808e7941-5553-4506-aa06-95f8e1040419",
        "outputId": "854fd185-a5a0-468f-bd8c-f409e5ce05a4"
      },
      "outputs": [
        {
          "output_type": "display_data",
          "data": {
            "text/plain": [
              "<Figure size 640x480 with 1 Axes>"
            ],
            "image/png": "[encoded data removed]"
          },
          "metadata": {}
        }
      ],
      "source": [
        "plt.plot(stddevs, model_accs, '--', label='model')\n",
        "plt.plot(stddevs, baseline_accs, '--', label='baseline')\n",
        "plt.xlabel('noise stddev')\n",
        "plt.ylabel('test accuracy')\n",
        "plt.legend()\n",
        "plt.grid()\n",
        "plt.show()"
      ]
    },
    {
      "cell_type": "markdown",
      "id": "7fba9272-471a-4f4d-a927-f05d9c2f5849",
      "metadata": {
        "id": "7fba9272-471a-4f4d-a927-f05d9c2f5849"
      },
      "source": [
        "## MNIST-C\n",
        "\n",
        "In this section, we are to exame the model and the baseline model on the [MNIST-C](https://github.com/google-research/mnist-c) dataset, which was designed for evaluating the robustness of models trained on MNIST dataset.\n",
        "\n",
        "We have downloaded the ZIP file from [here](https://zenodo.org/records/3239543), and unpacked into the current folder."
      ]
    },
    {
      "cell_type": "code",
      "source": [
        "# !unzip -x mnist_c.zip -d ./"
      ],
      "metadata": {
        "id": "LlhKQSh1vhyB"
      },
      "id": "LlhKQSh1vhyB",
      "execution_count": null,
      "outputs": []
    },
    {
      "cell_type": "markdown",
      "source": [
        "Or, load MNIST-C dataset from drive, where I have uploaded the ZIP file. This will greatly speed up the progress."
      ],
      "metadata": {
        "id": "xDA5Q6t6vngc"
      },
      "id": "xDA5Q6t6vngc"
    },
    {
      "cell_type": "code",
      "source": [
        "from google.colab import drive\n",
        "drive.mount('/content/drive')\n",
        "\n",
        "!unzip /content/drive/MyDrive/mnist_c.zip -d ./"
      ],
      "metadata": {
        "colab": {
          "base_uri": "https://localhost:8080/"
        },
        "id": "EDU99xg7vsKS",
        "outputId": "fce16945-4851-48e5-ea6b-41124d7b0663"
      },
      "id": "EDU99xg7vsKS",
      "execution_count": null,
      "outputs": [
        {
          "output_type": "stream",
          "name": "stdout",
          "text": [
            "Mounted at /content/drive\n",
            "Archive:  /content/drive/MyDrive/mnist_c.zip\n",
            "   creating: ./mnist_c/\n",
            "   creating: ./mnist_c/impulse_noise/\n",
            "  inflating: ./mnist_c/impulse_noise/test_images.npy  \n",
            "  inflating: ./mnist_c/impulse_noise/train_images.npy  \n",
            "  inflating: ./mnist_c/impulse_noise/test_labels.npy  \n",
            "  inflating: ./mnist_c/impulse_noise/train_labels.npy  \n",
            "   creating: ./mnist_c/canny_edges/\n",
            "  inflating: ./mnist_c/canny_edges/test_images.npy  \n",
            "  inflating: ./mnist_c/canny_edges/train_images.npy  \n",
            "  inflating: ./mnist_c/canny_edges/test_labels.npy  \n",
            "  inflating: ./mnist_c/canny_edges/train_labels.npy  \n",
            "   creating: ./mnist_c/zigzag/\n",
            "  inflating: ./mnist_c/zigzag/test_images.npy  \n",
            "  inflating: ./mnist_c/zigzag/train_images.npy  \n",
            "  inflating: ./mnist_c/zigzag/test_labels.npy  \n",
            "  inflating: ./mnist_c/zigzag/train_labels.npy  \n",
            "   creating: ./mnist_c/dotted_line/\n",
            "  inflating: ./mnist_c/dotted_line/test_images.npy  \n",
            "  inflating: ./mnist_c/dotted_line/train_images.npy  \n",
            "  inflating: ./mnist_c/dotted_line/test_labels.npy  \n",
            "  inflating: ./mnist_c/dotted_line/train_labels.npy  \n",
            "   creating: ./mnist_c/rotate/\n",
            "  inflating: ./mnist_c/rotate/test_images.npy  \n",
            "  inflating: ./mnist_c/rotate/train_images.npy  \n",
            "  inflating: ./mnist_c/rotate/test_labels.npy  \n",
            "  inflating: ./mnist_c/rotate/train_labels.npy  \n",
            "   creating: ./mnist_c/translate/\n",
            "  inflating: ./mnist_c/translate/test_images.npy  \n",
            "  inflating: ./mnist_c/translate/train_images.npy  \n",
            "  inflating: ./mnist_c/translate/test_labels.npy  \n",
            "  inflating: ./mnist_c/translate/train_labels.npy  \n",
            "   creating: ./mnist_c/fog/\n",
            "  inflating: ./mnist_c/fog/test_images.npy  \n",
            "  inflating: ./mnist_c/fog/train_images.npy  \n",
            "  inflating: ./mnist_c/fog/test_labels.npy  \n",
            "  inflating: ./mnist_c/fog/train_labels.npy  \n",
            "   creating: ./mnist_c/stripe/\n",
            "  inflating: ./mnist_c/stripe/test_images.npy  \n",
            "  inflating: ./mnist_c/stripe/train_images.npy  \n",
            "  inflating: ./mnist_c/stripe/test_labels.npy  \n",
            "  inflating: ./mnist_c/stripe/train_labels.npy  \n",
            "   creating: ./mnist_c/shot_noise/\n",
            "  inflating: ./mnist_c/shot_noise/test_images.npy  \n",
            "  inflating: ./mnist_c/shot_noise/train_images.npy  \n",
            "  inflating: ./mnist_c/shot_noise/test_labels.npy  \n",
            "  inflating: ./mnist_c/shot_noise/train_labels.npy  \n",
            "   creating: ./mnist_c/motion_blur/\n",
            "  inflating: ./mnist_c/motion_blur/test_images.npy  \n",
            "  inflating: ./mnist_c/motion_blur/train_images.npy  \n",
            "  inflating: ./mnist_c/motion_blur/test_labels.npy  \n",
            "  inflating: ./mnist_c/motion_blur/train_labels.npy  \n",
            "   creating: ./mnist_c/glass_blur/\n",
            "  inflating: ./mnist_c/glass_blur/test_images.npy  \n",
            "  inflating: ./mnist_c/glass_blur/train_images.npy  \n",
            "  inflating: ./mnist_c/glass_blur/test_labels.npy  \n",
            "  inflating: ./mnist_c/glass_blur/train_labels.npy  \n",
            "   creating: ./mnist_c/identity/\n",
            "  inflating: ./mnist_c/identity/test_images.npy  \n",
            "  inflating: ./mnist_c/identity/train_images.npy  \n",
            "  inflating: ./mnist_c/identity/test_labels.npy  \n",
            "  inflating: ./mnist_c/identity/train_labels.npy  \n",
            "   creating: ./mnist_c/shear/\n",
            "  inflating: ./mnist_c/shear/test_images.npy  \n",
            "  inflating: ./mnist_c/shear/train_images.npy  \n",
            "  inflating: ./mnist_c/shear/test_labels.npy  \n",
            "  inflating: ./mnist_c/shear/train_labels.npy  \n",
            "   creating: ./mnist_c/brightness/\n",
            "  inflating: ./mnist_c/brightness/test_images.npy  \n",
            "  inflating: ./mnist_c/brightness/train_images.npy  \n",
            "  inflating: ./mnist_c/brightness/test_labels.npy  \n",
            "  inflating: ./mnist_c/brightness/train_labels.npy  \n",
            "   creating: ./mnist_c/spatter/\n",
            "  inflating: ./mnist_c/spatter/test_images.npy  \n",
            "  inflating: ./mnist_c/spatter/train_images.npy  \n",
            "  inflating: ./mnist_c/spatter/test_labels.npy  \n",
            "  inflating: ./mnist_c/spatter/train_labels.npy  \n",
            "   creating: ./mnist_c/scale/\n",
            "  inflating: ./mnist_c/scale/test_images.npy  \n",
            "  inflating: ./mnist_c/scale/train_images.npy  \n",
            "  inflating: ./mnist_c/scale/test_labels.npy  \n",
            "  inflating: ./mnist_c/scale/train_labels.npy  \n"
          ]
        }
      ]
    },
    {
      "cell_type": "code",
      "execution_count": null,
      "id": "cc449470-bebf-4939-bc66-b2442950f604",
      "metadata": {
        "colab": {
          "base_uri": "https://localhost:8080/"
        },
        "id": "cc449470-bebf-4939-bc66-b2442950f604",
        "outputId": "48ccbb78-d9ec-4539-d340-e23dcb2469a4"
      },
      "outputs": [
        {
          "output_type": "stream",
          "name": "stdout",
          "text": [
            "noise type -- model accuracy -- baseline accuracy -- out perform\n",
            "shot_noise -- 0.9839 -- 0.9434 -- 4.0%\n",
            "translate -- 0.611 -- 0.5305 -- 8.1%\n",
            "scale -- 0.9567 -- 0.9499 -- 0.7%\n",
            "fog -- 0.3166 -- 0.6505 -- -33.4%\n",
            "glass_blur -- 0.9213 -- 0.8405 -- 8.1%\n",
            "dotted_line -- 0.9824 -- 0.9594 -- 2.3%\n",
            "impulse_noise -- 0.8729 -- 0.589 -- 28.4%\n",
            "identity -- 0.9927 -- 0.9901 -- 0.3%\n",
            "spatter -- 0.9852 -- 0.9802 -- 0.5%\n",
            "brightness -- 0.3483 -- 0.7058 -- -35.8%\n",
            "canny_edges -- 0.7815 -- 0.7373 -- 4.4%\n",
            "rotate -- 0.941 -- 0.9153 -- 2.6%\n",
            "zigzag -- 0.8715 -- 0.8526 -- 1.9%\n",
            "shear -- 0.9825 -- 0.9778 -- 0.5%\n",
            "motion_blur -- 0.9602 -- 0.8886 -- 7.2%\n",
            "stripe -- 0.92 -- 0.9666 -- -4.7%\n"
          ]
        }
      ],
      "source": [
        "print('noise type -- model accuracy -- baseline accuracy -- out perform')\n",
        "for noise_type in os.listdir('mnist_c'):\n",
        "    x_eval = np.load(f'mnist_c/{noise_type}/test_images.npy')\n",
        "    y_eval = np.load(f'mnist_c/{noise_type}/test_labels.npy')\n",
        "\n",
        "    x_eval = preprocess(x_eval)\n",
        "    y_eval = y_eval.astype('float32')\n",
        "\n",
        "    model_eval = accuracy_score(y_eval, tf.argmax(model(x_eval), axis=1))\n",
        "    baseline_eval = accuracy_score(y_eval, tf.argmax(baseline_model(x_eval), axis=1))\n",
        "    out_perform = model_eval - baseline_eval\n",
        "\n",
        "    print(f'{noise_type} -- {model_eval} -- {baseline_eval} -- {out_perform*100:.1f}%')"
      ]
    },
    {
      "cell_type": "code",
      "execution_count": null,
      "id": "cb17e261-c088-4175-8843-9cb660139f2b",
      "metadata": {
        "colab": {
          "base_uri": "https://localhost:8080/",
          "height": 1000
        },
        "id": "cb17e261-c088-4175-8843-9cb660139f2b",
        "outputId": "5edb958d-e801-42b7-c2eb-1098a0204d75"
      },
      "outputs": [
        {
          "output_type": "display_data",
          "data": {
            "text/plain": [
              "<Figure size 1600x1600 with 16 Axes>"
            ],
            "image/png": "[encoded data removed]"
          },
          "metadata": {}
        }
      ],
      "source": [
        "fig, axs = plt.subplots(4, 4, figsize=(16, 16))\n",
        "for i, noise_type in enumerate(os.listdir('mnist_c')):\n",
        "    j = i // 4\n",
        "    k = i % 4\n",
        "    ax = axs[j][k]\n",
        "\n",
        "    x_eval = np.load(f'mnist_c/{noise_type}/test_images.npy')\n",
        "    x_eval = preprocess(x_eval)\n",
        "\n",
        "    diff = (x_test - x_eval).reshape([-1])\n",
        "    ax.hist(diff, 20, label=noise_type, density=True)\n",
        "    ax.legend()\n",
        "    ax.grid()\n",
        "    ax.set_facecolor('#eafff5')\n",
        "\n",
        "plt.show()"
      ]
    },
    {
      "cell_type": "markdown",
      "id": "49ce4da5-feaf-42ea-a25a-cbf25b5fd89d",
      "metadata": {
        "id": "49ce4da5-feaf-42ea-a25a-cbf25b5fd89d"
      },
      "source": [
        "## Conclusion\n",
        "\n",
        "We follow the MNIST-C paper, constructed a Conv1 neural network, used an optimizer with scheduled learning-rate and a strange input preprocess. Model was trained by minimizing the \"gradient loss\". We also trained a baseline model with the same architecture, by minimizing the loss as usual.\n",
        "\n",
        "- We cannot reproduce the figure 3 in the paper.\n",
        "- Again, for Gaussian and uniform noises, the robustness is greatly out-performs the baseline.\n",
        "- Examed on the MNIST-C dataset, robustness out-performs the baseline for most of the noise types. And for some noise types, it is significiant."
      ]
    }
  ],
  "metadata": {
    "accelerator": "GPU",
    "colab": {
      "gpuType": "T4",
      "provenance": []
    },
    "kernelspec": {
      "display_name": ".venv",
      "language": "python",
      "name": ".venv"
    },
    "language_info": {
      "codemirror_mode": {
        "name": "ipython",
        "version": 3
      },
      "file_extension": ".py",
      "mimetype": "text/x-python",
      "name": "python",
      "nbconvert_exporter": "python",
      "pygments_lexer": "ipython3",
      "version": "3.11.6"
    }
  },
  "nbformat": 4,
  "nbformat_minor": 5
}