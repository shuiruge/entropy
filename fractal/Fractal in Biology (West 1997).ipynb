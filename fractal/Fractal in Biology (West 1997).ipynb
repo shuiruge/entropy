{
 "cells": [
  {
   "cell_type": "markdown",
   "id": "6b2aaafb-cf13-4129-99f7-f5673e0bfe16",
   "metadata": {},
   "source": [
    "# Fractal in Biology (West 1997)\n",
    "\n",
    "This notebook checks the result in [West, et al. (1997)](https://www.science.org/doi/10.1126/science.276.5309.122). This paper concludes that fractal in biology results in the minimization of total energy cost. In the specific case considered by the authors, the mammalian circulatory systems, the fractal branching of capillary vessel naturally arises from reducing the energy cost of vessel circulation. Here, we check this result by numerical optimization method.\n",
    "\n",
    "## Notations\n",
    "\n",
    "We follow the notations:\n",
    "\n",
    "- $C$: number of branching levels.\n",
    "- $k$: branching level, from $0$ to $C$.\n",
    "- $n_k$: number of branches at $k$ level.\n",
    "- $r_k$: radius of vessel at $k$ level.\n",
    "- $l_k$: length of vessel at $k$ level.\n",
    "- $\\nu_k$: $n_{k+1} / n_k$.\n",
    "- $\\rho_k$: $r_{k+1} / r_k$.\n",
    "- $\\lambda_k$: $l_{k+1} / l_k$."
   ]
  },
  {
   "cell_type": "markdown",
   "id": "5b28d388-e1b4-491e-85cb-fbca727e1d3d",
   "metadata": {},
   "source": [
    "## Assumptions"
   ]
  },
  {
   "cell_type": "markdown",
   "id": "719ac578-31ea-4353-996d-468fc98cfd73",
   "metadata": {},
   "source": [
    "The assumption that the properties of capillary are universal for all mammals implies that the $n_C$, $l_C$, and $r_C$ are fixed. So, we have\n",
    "\n",
    "$$ l_k = \\frac{l_k}{l_{k+1}} \\cdots \\frac{l_{C-1}}{l_C} l_C = l_C \\lambda_k^{-1} \\cdots \\lambda_{C-1}^{-1} = l_C \\prod_{i=k}^{C-1} \\lambda_i^{-1}. $$\n",
    "\n",
    "The same,\n",
    "\n",
    "$$ r_k = r_C \\prod_{i=k}^{C-1} \\rho_i^{-1}, $$\n",
    "\n",
    "  and\n",
    "\n",
    "$$ n_k = n_C \\prod_{i=k}^{C-1} \\nu_i^{-1}. $$\n",
    "\n",
    "Based on assumption of area-preserving, we have that $n_k r_k^2$ is independent of $k$. This implies\n",
    "\n",
    "$$ \\rho_k = \\nu_k^{-1/2}. $$\n",
    "\n",
    "And by assumption of space-fulfilling, we have that $n_k l_k^3$ is independent of $k$. This implies\n",
    "\n",
    "$$ \\lambda_k = \\nu_k^{-1/3}. $$\n",
    "\n",
    "Because of these, the unique degree of freedom is the $\\nu$."
   ]
  },
  {
   "cell_type": "code",
   "execution_count": 1,
   "id": "499a5415-a2d3-4721-8f5f-d44401f92629",
   "metadata": {},
   "outputs": [],
   "source": [
    "import numpy as np\n",
    "from scipy.optimize import minimize\n",
    "from scipy.special import logsumexp\n",
    "import matplotlib.pyplot as plt"
   ]
  },
  {
   "cell_type": "markdown",
   "id": "ffaf22ee-6157-4332-a86f-a32b7cf1e1ea",
   "metadata": {},
   "source": [
    "We use several samples in searching optimal parallelly. So, the $\\nu$, or for numerical stability $\\ln \\nu$, has tensor shape `[samples, levels]`."
   ]
  },
  {
   "cell_type": "code",
   "execution_count": 2,
   "id": "76e91d8f-7e3c-4881-847a-62d2c29e64a9",
   "metadata": {},
   "outputs": [],
   "source": [
    "LEVELS = 10"
   ]
  },
  {
   "cell_type": "markdown",
   "id": "e04a0ba0-54fe-417c-bbb8-1fe05d7e6e1d",
   "metadata": {},
   "source": [
    "## Loss Function"
   ]
  },
  {
   "cell_type": "markdown",
   "id": "05193765-5627-4d4f-8c4c-2ba3fe031147",
   "metadata": {},
   "source": [
    "The quantity to be minimized is the total resistance of the vessel system. By [Hagen-Poiseuille equation](https://en.wikipedia.org/wiki/Hagen%E2%80%93Poiseuille_equation#Equation), we have the difference of pressure at level $k$, $\\Delta p_k = Q_k R_k$ where $Q_k$ represents the flow rate and $R_k := (8 \\mu l_k)/(\\pi r_k^4)$. Analogy to electricity, $\\Delta p_k$ corresponds to difference of potential $\\Delta V$, and $Q_k$ to current $I$. So, the $R_k$ is the resistance. At level $k$, the vessels are parallel. And for different levels, vessels are serial. So, the total resistance comes to be\n",
    "\n",
    "$$ R_b = \\sum_{k=0}^{C} \\frac{R_k}{n_k} = \\frac{8\\mu}{\\pi} \\sum_{k=0}^{C} \\frac{l_k}{r_k^4 n_k} = \\frac{8\\mu}{\\pi} \\frac{l_C}{r_C^4 n_C} \\sum_{k=0}^{C} \\prod_{i=k}^{C-1} \\frac{\\rho_i^4 \\nu_i}{\\lambda_i}. $$\n",
    "\n",
    "Plugging into the relation between $\\rho$, $\\lambda$ and $\\nu$, we find\n",
    "\n",
    "$$ R_b = \\frac{8\\mu}{\\pi} \\frac{l_C}{r_C^4 n_C} \\sum_{k=0}^{C} \\prod_{i=k}^{C-1} \\nu_i^{-2/3}. $$\n",
    "\n",
    "For numerical stability, we consider\n",
    "\n",
    "$$ \\ln R_b = \\ln \\left( \\frac{8\\mu}{\\pi} \\frac{l_C}{r_C^4 n_C} \\right) + \\ln \\sum_{k=0}^{C} \\prod_{i=k}^{C-1} \\nu_i^{-2/3}. $$"
   ]
  },
  {
   "cell_type": "code",
   "execution_count": 3,
   "id": "12747b49-add2-412c-8534-9d3dc9ef0f31",
   "metadata": {},
   "outputs": [
    {
     "data": {
      "text/plain": [
       "0.9879254996304317"
      ]
     },
     "execution_count": 3,
     "metadata": {},
     "output_type": "execute_result"
    }
   ],
   "source": [
    "def get_log_resistance(log_nu):\n",
    "    \"\"\"Omit the constant.\"\"\"\n",
    "    logits = np.stack([\n",
    "        -(2/3) * np.sum(log_nu[k:]) for k in range(LEVELS+1)\n",
    "    ])\n",
    "    return logsumexp(logits)\n",
    "\n",
    "\n",
    "log_nu = np.log(2) * np.ones([LEVELS])\n",
    "get_log_resistance(log_nu)"
   ]
  },
  {
   "cell_type": "markdown",
   "id": "476a4eb5-94af-4b72-b1c2-235d86426259",
   "metadata": {},
   "source": [
    "It is also assumed that the blood volume is proportional to the body size. The blood volumne is given by\n",
    "\n",
    "$$ V_b = \\pi \\sum_{k=0}^C r_k^2 l_k n_k = \\pi r_C^2 l_C n_C \\sum_{k=0}^C \\prod_{i=k}^{C-1} \\frac{1}{\\rho_i^2 \\lambda_i \\nu_i} = \\pi r_C^2 l_C n_C \\sum_{k=0}^C \\prod_{i=k}^{C-1} \\nu_i^{1/3}. $$\n",
    "\n",
    "If the body size is fixed, then $V_b$ shall be fixed too. Then,\n",
    "\n",
    "$$ \\ln V_b = \\ln \\left( \\pi r_C^2 l_C n_C \\right) + \\ln \\sum_{k=0}^C \\prod_{i=k}^{C-1} \\nu_i^{1/3}. $$"
   ]
  },
  {
   "cell_type": "code",
   "execution_count": 4,
   "id": "95f72cfb-10fe-4934-bdc0-14ccac6bc342",
   "metadata": {},
   "outputs": [
    {
     "data": {
      "text/plain": [
       "3.8068985310703907"
      ]
     },
     "execution_count": 4,
     "metadata": {},
     "output_type": "execute_result"
    }
   ],
   "source": [
    "def get_log_volume(log_nu):\n",
    "    \"\"\"Omit the constant.\"\"\"\n",
    "    logits = np.stack([\n",
    "        (1/3) * np.sum(log_nu[k:]) for k in range(LEVELS+1)\n",
    "    ])\n",
    "    return logsumexp(logits)\n",
    "\n",
    "get_log_volume(log_nu)"
   ]
  },
  {
   "cell_type": "markdown",
   "id": "7f2b7cb8-e7a0-4324-aced-be3086625cb3",
   "metadata": {},
   "source": [
    "Since $n_{k+1} \\ge n_k$, $\\nu_k$ shall be greater than unit. So, there is another constraint that, for each $k$,\n",
    "\n",
    "$$ \\ln \\nu_k \\ge 0. $$"
   ]
  },
  {
   "cell_type": "markdown",
   "id": "99beadb8-74a7-4f36-9577-4be6dc346058",
   "metadata": {},
   "source": [
    "Altogether, the loss function shall be\n",
    "\n",
    "$$ \\ln R_b(\\nu) + \\mu \\left( \\ln V_b(\\nu) - \\ln \\bar{V}_b \\right) + \\sum_{k=1}^{C-1} \\omega_k \\left( \\ln \\nu_k - z_k^2 \\right), $$\n",
    "\n",
    "for some observed values $\\bar{V}_b$ given."
   ]
  },
  {
   "cell_type": "markdown",
   "id": "4d1f87f4-ce5f-434a-8f7a-a8366c794b66",
   "metadata": {},
   "source": [
    "What is a proper value of $\\bar{V}_b$. It is natural to suppose that $n_{k+1}/n_k \\ge 2$. This means $\\bar{V}_b$ shall be greater than the volume given by $\\nu = 2$.\n",
    "\n",
    "In fact, it is sufficient for the optimized volume to approximate the order of $\\bar{V}_b$. We can regard this optimized volume as the real $\\bar{V}_b$. In other words, $\\bar{V}_b$ is used to determine the order, but not the accurate value."
   ]
  },
  {
   "cell_type": "code",
   "execution_count": 5,
   "id": "76529753-cb7f-4c76-a7b2-a36d9c05b289",
   "metadata": {},
   "outputs": [
    {
     "data": {
      "text/plain": [
       "3.8068985310703907"
      ]
     },
     "execution_count": 5,
     "metadata": {},
     "output_type": "execute_result"
    }
   ],
   "source": [
    "least_log_volume = get_log_volume(np.log(2) * np.ones([LEVELS]))\n",
    "least_log_volume"
   ]
  },
  {
   "cell_type": "code",
   "execution_count": 6,
   "id": "7adcc3bf-fd48-4ff8-a5b9-18ab200e3d72",
   "metadata": {},
   "outputs": [],
   "source": [
    "TRUE_LOG_VOLUME = 5e+2"
   ]
  },
  {
   "cell_type": "markdown",
   "id": "6e2e7bd5-4eb2-423e-aed6-317cd5f9afad",
   "metadata": {},
   "source": [
    "## Optimization"
   ]
  },
  {
   "cell_type": "code",
   "execution_count": 7,
   "id": "dbcd535f-fa21-47ba-a728-ba7c42a34425",
   "metadata": {},
   "outputs": [
    {
     "data": {
      "text/plain": [
       " message: Optimization terminated successfully\n",
       " success: True\n",
       "  status: 0\n",
       "     fun: 0.0\n",
       "       x: [ 1.038e+02  1.424e+02  1.535e+02  1.574e+02  1.562e+02\n",
       "            1.572e+02  1.572e+02  1.565e+02  1.582e+02  1.575e+02]\n",
       "     nit: 5\n",
       "     jac: [ 0.000e+00  0.000e+00  0.000e+00  0.000e+00  0.000e+00\n",
       "            0.000e+00  0.000e+00  0.000e+00  0.000e+00  0.000e+00]\n",
       "    nfev: 56\n",
       "    njev: 5"
      ]
     },
     "execution_count": 7,
     "metadata": {},
     "output_type": "execute_result"
    }
   ],
   "source": [
    "initial_values = [np.random.uniform(3., 5.) for _ in range(LEVELS)]\n",
    "bounds = [(0., None) for _ in range(LEVELS)]\n",
    "constraints = [\n",
    "    {\n",
    "        'type': 'eq',\n",
    "        'fun': lambda log_nu: get_log_volume(log_nu) - TRUE_LOG_VOLUME,\n",
    "    },\n",
    "]\n",
    "result = minimize(\n",
    "    get_log_resistance,\n",
    "    initial_values,\n",
    "    bounds=bounds,\n",
    "    constraints=constraints,\n",
    "    tol=1e-40,\n",
    "    options={'maxiter': 1000},\n",
    ")\n",
    "result"
   ]
  },
  {
   "cell_type": "code",
   "execution_count": 8,
   "id": "6dd2d227-b3cc-4adc-8a9a-350538a05a28",
   "metadata": {},
   "outputs": [],
   "source": [
    "optimized_log_nu = result.x"
   ]
  },
  {
   "cell_type": "markdown",
   "id": "fcba1bea-d6c0-40a3-b254-e0796bca0cf6",
   "metadata": {},
   "source": [
    "Let us check the optimization results:"
   ]
  },
  {
   "cell_type": "code",
   "execution_count": 9,
   "id": "4b0cbdac-290d-4499-8768-85a5a97e4e34",
   "metadata": {},
   "outputs": [
    {
     "data": {
      "text/plain": [
       "(0.0, 500.0)"
      ]
     },
     "execution_count": 9,
     "metadata": {},
     "output_type": "execute_result"
    }
   ],
   "source": [
    "get_log_resistance(optimized_log_nu), get_log_volume(optimized_log_nu)"
   ]
  },
  {
   "cell_type": "markdown",
   "id": "3de5493c-a1a3-4f67-8e31-21932f7ba576",
   "metadata": {},
   "source": [
    "It is strange that the `minimize` does not give the true extreme!"
   ]
  },
  {
   "cell_type": "code",
   "execution_count": 18,
   "id": "a3d07b2c-b642-41d7-b3b6-1acec67d888b",
   "metadata": {},
   "outputs": [
    {
     "data": {
      "text/plain": [
       "(0.0, 502.30258509299404)"
      ]
     },
     "execution_count": 18,
     "metadata": {},
     "output_type": "execute_result"
    }
   ],
   "source": [
    "test_log_nu = [0., 0., 0., 0., 0., 0., 0., 0., 0., 1500.]  # the true extreme.\n",
    "get_log_resistance(test_log_nu), get_log_volume(test_log_nu)"
   ]
  },
  {
   "cell_type": "markdown",
   "id": "3f6fda39-17f8-47ed-9242-0191e76c94db",
   "metadata": {},
   "source": [
    "So the true extreme should be:"
   ]
  },
  {
   "cell_type": "code",
   "execution_count": 19,
   "id": "a98ba302-a512-46fc-b94a-b42df6d41f0e",
   "metadata": {},
   "outputs": [],
   "source": [
    "optimized_log_nu = test_log_nu"
   ]
  },
  {
   "cell_type": "markdown",
   "id": "a4234118-77a7-444a-850f-3b176e326410",
   "metadata": {},
   "source": [
    "And for checking fractal:"
   ]
  },
  {
   "cell_type": "code",
   "execution_count": 20,
   "id": "e7fe7734-be11-47a5-af17-c0c45c6f7ee6",
   "metadata": {},
   "outputs": [
    {
     "data": {
      "image/png": "[encoded data removed]",
      "text/plain": [
       "<Figure size 640x480 with 1 Axes>"
      ]
     },
     "metadata": {},
     "output_type": "display_data"
    }
   ],
   "source": [
    "plt.plot(optimized_log_nu, '.', label='$\\\\ln \\\\nu_k$')\n",
    "# plt.plot(np.exp(optimized_log_nu), '.', label='$\\\\nu_k$')\n",
    "plt.xlabel('$k$')\n",
    "plt.legend()\n",
    "plt.show()"
   ]
  },
  {
   "cell_type": "markdown",
   "id": "97e7900a-54c1-4b6e-8987-71f68f486a7b",
   "metadata": {},
   "source": [
    "Fractal does not emerge. The reason is that the leading term in $R_b$ is not permutation symmetric on all $\\nu_k$."
   ]
  },
  {
   "cell_type": "markdown",
   "id": "e72f02e4-7296-4df3-bb3f-895410d498b9",
   "metadata": {},
   "source": [
    "Now, we can see how many branches there are. Notice that\n",
    "\n",
    "$$ \\frac{n_c}{n_1} = \\frac{n_C}{n_{C-1}} \\cdots \\frac{n_2}{n_1} = \\prod_{k=1}^{C-1} \\nu_k, $$\n",
    "\n",
    "and that $n_1 = 1$, we find\n",
    "\n",
    "$$ n_c = \\prod_{k=1}^{C-1} \\nu_k. $$"
   ]
  },
  {
   "cell_type": "code",
   "execution_count": 13,
   "id": "2a2c0771-88c5-4197-b4c8-e2cf8509b896",
   "metadata": {},
   "outputs": [
    {
     "data": {
      "text/plain": [
       "1500.0"
      ]
     },
     "execution_count": 13,
     "metadata": {},
     "output_type": "execute_result"
    }
   ],
   "source": [
    "def get_log_nc(log_nu):\n",
    "    return np.sum(log_nu)\n",
    "\n",
    "get_log_nc(optimized_log_nu)"
   ]
  },
  {
   "cell_type": "markdown",
   "id": "0c2922c0-f920-4b37-9549-a6213e4c969a",
   "metadata": {},
   "source": [
    "## Conclusion\n",
    "\n",
    "In the paper of West, et al (1997), the fractal structure is \"analytically derived\". But, as we have numerically tested here, when the `TRUE_LOG_VOLUME` is not large enough, fractal structure will not appear. Instead, it will have a single branching, that is, all $\\nu_k$ except for one are unit.\n",
    "\n",
    "Even when the `TRUE_LOG_VOLUME` is large, fractal does not emerge. It is observed that $n_{C-1} \\gg n_k$ for any $k < C-1$. This is because the leading term ($k = C-1$) of $R_b$ is not permutation symmetric for all $\\nu_k$, but dominated by $\\nu_{C-1}$. In fact, if you modify the objective by\n",
    "\n",
    "$$ \\ln \\sum_{k=0}^{C} \\prod_{i=k}^{C-1} \\nu_i^{{\\color{red}+} 2/3}, $$\n",
    "\n",
    "where we flipped the sign (the red font), fractal will appear. In this case, the leading term ($k = 0$) is permutation symmetric for all $\\nu_k$."
   ]
  }
 ],
 "metadata": {
  "kernelspec": {
   "display_name": ".venv",
   "language": "python",
   "name": ".venv"
  },
  "language_info": {
   "codemirror_mode": {
    "name": "ipython",
    "version": 3
   },
   "file_extension": ".py",
   "mimetype": "text/x-python",
   "name": "python",
   "nbconvert_exporter": "python",
   "pygments_lexer": "ipython3",
   "version": "3.11.6"
  }
 },
 "nbformat": 4,
 "nbformat_minor": 5
}
