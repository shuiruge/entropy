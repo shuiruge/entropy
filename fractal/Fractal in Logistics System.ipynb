{
 "cells": [
  {
   "cell_type": "markdown",
   "id": "6b2aaafb-cf13-4129-99f7-f5673e0bfe16",
   "metadata": {},
   "source": [
    "# Fractal in Logistics System\n",
    "\n",
    "In the notebook _Fractal in Biology_, we tested the emergence of fractal from mammalian vessel system. But, the fractal is absent under the assumptions by West, et al. (1997). In this notebook, we try to update the assumptions to make them more plausible. Instead of mammalian vessel system, we consider a much simpler case: the logistic system of a city.\n",
    "\n",
    "## Notations\n",
    "\n",
    "- $C$: number of levels.\n",
    "- $k$: level, from $0$ to $C$.\n",
    "- $n_k$: number of logistics sites at $k$ level.\n",
    "- $l_k$: logistics scale at $k$ level.\n",
    "- $f_k$: flow rate at $k$ level.\n",
    "- $\\nu_k$: $n_{k+1} / n_k$.\n",
    "- $\\lambda_k$: $l_{k+1} / l_k$.\n",
    "- $\\phi_k$: $f_{k+1} / f_{k}$."
   ]
  },
  {
   "cell_type": "markdown",
   "id": "5b28d388-e1b4-491e-85cb-fbca727e1d3d",
   "metadata": {},
   "source": [
    "## Assumptions"
   ]
  },
  {
   "cell_type": "markdown",
   "id": "719ac578-31ea-4353-996d-468fc98cfd73",
   "metadata": {},
   "source": [
    "Assumptions are made as follow. For details, see [this blog](https://shuiruge.github.io/2024/03/01/complex-system/) (TODO: explain the details here).\n",
    "\n",
    "The $f_C$ and $l_C$ are fixed. Naturally, $n_0 = 1$. Thus,\n",
    "\n",
    "$$ l_k = \\frac{l_k}{l_{k+1}} \\cdots \\frac{l_{C-1}}{l_C} l_C = l_C \\lambda_k^{-1} \\cdots \\lambda_{C-1}^{-1} = l_C \\prod_{i=k}^{C-1} \\lambda_i^{-1}. $$\n",
    "\n",
    "The same,\n",
    "\n",
    "$$ f_k = f_C \\prod_{i=k}^{C-1} \\phi_i^{-1}, $$\n",
    "\n",
    "but,\n",
    "\n",
    "$$ n_k = n_0 \\frac{n_1}{n_0} \\cdots \\frac{n_k}{n_{k-1}} = \\nu_0 \\cdots \\nu_{k-1} = \\prod_{i=0}^{k-1} \\nu_i. $$\n",
    "\n",
    "The perserving of flow rate implies\n",
    "\n",
    "$$ f_k = \\nu_k^{-1}. $$\n",
    "\n",
    "And the space-fulfilling assumption implies\n",
    "\n",
    "$$ \\lambda_k = \\nu_k^{-1/2}. $$\n",
    "\n",
    "Because of these, the unique degree of freedom is the $\\nu$."
   ]
  },
  {
   "cell_type": "code",
   "execution_count": 1,
   "id": "499a5415-a2d3-4721-8f5f-d44401f92629",
   "metadata": {},
   "outputs": [],
   "source": [
    "import numpy as np\n",
    "from scipy.optimize import minimize\n",
    "from scipy.special import logsumexp\n",
    "import matplotlib.pyplot as plt"
   ]
  },
  {
   "cell_type": "markdown",
   "id": "ffaf22ee-6157-4332-a86f-a32b7cf1e1ea",
   "metadata": {},
   "source": [
    "We use several samples in searching optimal parallelly. So, the $\\nu$, or for numerical stability $\\ln \\nu$, has tensor shape `[samples, levels]`."
   ]
  },
  {
   "cell_type": "code",
   "execution_count": 2,
   "id": "76e91d8f-7e3c-4881-847a-62d2c29e64a9",
   "metadata": {},
   "outputs": [],
   "source": [
    "LEVELS = 5"
   ]
  },
  {
   "cell_type": "markdown",
   "id": "e04a0ba0-54fe-417c-bbb8-1fe05d7e6e1d",
   "metadata": {},
   "source": [
    "## Loss Function"
   ]
  },
  {
   "cell_type": "markdown",
   "id": "05193765-5627-4d4f-8c4c-2ba3fe031147",
   "metadata": {},
   "source": [
    "The objective to be minimized is the total consumption logistics. It is\n",
    "\n",
    "$$ F := \\sum_{k=0}^C n_{k} f_{k} l_{k} = f_C l_C \\sum_{k=0}^C \\prod_{i=0}^{k-1} \\nu_i \\prod_{i=k}^{C-1} (\\phi_i \\lambda_i)^{-1}. $$\n",
    "\n",
    "Plugging the relation between $\\nu$ and $\\phi$ and $\\lambda$, we find\n",
    "\n",
    "$$ F = f_C l_C \\sum_{k=0}^C \\prod_{i=0}^{k-1} \\nu_i \\prod_{i=k}^{C-1} \\nu_i^{3/2}. $$\n",
    "\n",
    "For numerical stability, we consider\n",
    "\n",
    "$$ \\ln F = \\ln (f_C l_C) + \\ln \\sum_{k=0}^C \\prod_{i=0}^{k-1} \\nu_i \\prod_{i=k}^{C-1} \\nu_i^{3/2}. $$"
   ]
  },
  {
   "cell_type": "code",
   "execution_count": 3,
   "id": "12747b49-add2-412c-8534-9d3dc9ef0f31",
   "metadata": {},
   "outputs": [
    {
     "data": {
      "text/plain": [
       "5.8319391794405995"
      ]
     },
     "execution_count": 3,
     "metadata": {},
     "output_type": "execute_result"
    }
   ],
   "source": [
    "def get_log_consumption(log_nu):\n",
    "    \"\"\"Omit the constant.\"\"\"\n",
    "    logits = np.stack([\n",
    "        np.sum(log_nu[:k]) + (3/2) * np.sum(log_nu[k:])\n",
    "        for k in range(LEVELS+1)\n",
    "    ])\n",
    "    return logsumexp(logits)\n",
    "\n",
    "log_nu = np.log(2) * np.ones([1, LEVELS])\n",
    "get_log_consumption(log_nu)"
   ]
  },
  {
   "cell_type": "markdown",
   "id": "476a4eb5-94af-4b72-b1c2-235d86426259",
   "metadata": {},
   "source": [
    "The population of the city is proportional to $n_C = \\prod_{k=0}^{C-1} \\nu_k$. To investigate the relation between total consumption of logistics and the population of the city, the population shall be fixed."
   ]
  },
  {
   "cell_type": "code",
   "execution_count": 4,
   "id": "95f72cfb-10fe-4934-bdc0-14ccac6bc342",
   "metadata": {},
   "outputs": [
    {
     "data": {
      "text/plain": [
       "3.4657359027997265"
      ]
     },
     "execution_count": 4,
     "metadata": {},
     "output_type": "execute_result"
    }
   ],
   "source": [
    "def get_log_population(log_nu):\n",
    "    return np.sum(log_nu)\n",
    "\n",
    "get_log_population(log_nu)"
   ]
  },
  {
   "cell_type": "markdown",
   "id": "7f2b7cb8-e7a0-4324-aced-be3086625cb3",
   "metadata": {},
   "source": [
    "Since $n_{k+1} \\ge n_k$, $\\nu_k$ shall be greater than unit. So, there is another constraint that, for each $k$,\n",
    "\n",
    "$$ \\ln \\nu_k \\ge 0. $$"
   ]
  },
  {
   "cell_type": "markdown",
   "id": "99beadb8-74a7-4f36-9577-4be6dc346058",
   "metadata": {},
   "source": [
    "Altogether, the loss function shall be\n",
    "\n",
    "$$ \\ln F(\\nu) + \\mu \\left( \\ln n_C(\\nu) - \\ln \\bar{n}_C \\right) + \\sum_{k=1}^{C-1} \\omega_k \\left( \\ln \\nu_k - z_k^2 \\right), $$\n",
    "\n",
    "for some observed values $\\bar{n}_C$ given."
   ]
  },
  {
   "cell_type": "markdown",
   "id": "4d1f87f4-ce5f-434a-8f7a-a8366c794b66",
   "metadata": {},
   "source": [
    "What is a proper value of $\\bar{n}_C$. It is natural to suppose that $n_{k+1}/n_k \\ge 2$. This means $\\bar{n}_C$ shall be greater than the volume given by $\\nu = 2$. And it shall not be too large, for numerical consideration.\n",
    "\n",
    "In fact, it is sufficient for the optimized volume to approximate the order of $\\bar{n}_C$. We can regard this optimized volume as the real $\\bar{n}_C$. In other words, $\\bar{n}_C$ is used to determine the order, but not the accurate value."
   ]
  },
  {
   "cell_type": "code",
   "execution_count": 5,
   "id": "76529753-cb7f-4c76-a7b2-a36d9c05b289",
   "metadata": {},
   "outputs": [
    {
     "data": {
      "text/plain": [
       "3.4657359027997265"
      ]
     },
     "execution_count": 5,
     "metadata": {},
     "output_type": "execute_result"
    }
   ],
   "source": [
    "least_log_population = get_log_population(np.log(2) * np.ones([LEVELS]))\n",
    "least_log_population"
   ]
  },
  {
   "cell_type": "code",
   "execution_count": 6,
   "id": "7adcc3bf-fd48-4ff8-a5b9-18ab200e3d72",
   "metadata": {},
   "outputs": [],
   "source": [
    "TRUE_LOG_POPULATION = 5e+2"
   ]
  },
  {
   "cell_type": "markdown",
   "id": "f2302e20-aa55-4a76-9f03-4c2697d2beda",
   "metadata": {},
   "source": [
    "## Optimization"
   ]
  },
  {
   "cell_type": "code",
   "execution_count": 7,
   "id": "4b4a63f4-8810-44b4-94ca-9634eb151fb3",
   "metadata": {},
   "outputs": [
    {
     "data": {
      "text/plain": [
       " message: Optimization terminated successfully\n",
       " success: True\n",
       "  status: 0\n",
       "     fun: 750.0\n",
       "       x: [ 9.901e+01  1.004e+02  1.007e+02  1.003e+02  9.964e+01]\n",
       "     nit: 3\n",
       "     jac: [ 1.500e+00  1.500e+00  1.500e+00  1.500e+00  1.500e+00]\n",
       "    nfev: 12\n",
       "    njev: 2"
      ]
     },
     "execution_count": 7,
     "metadata": {},
     "output_type": "execute_result"
    }
   ],
   "source": [
    "initial_values = [np.random.uniform(3., 5.) for _ in range(LEVELS)]\n",
    "bounds = [(0., None) for _ in range(LEVELS)]\n",
    "constraints = [\n",
    "    {\n",
    "        'type': 'eq',\n",
    "        'fun': lambda log_nu: get_log_population(log_nu) - TRUE_LOG_POPULATION,\n",
    "    },\n",
    "]\n",
    "result = minimize(\n",
    "    get_log_consumption,\n",
    "    initial_values,\n",
    "    bounds=bounds,\n",
    "    constraints=constraints,\n",
    "    tol=1e-50,\n",
    "    options={'maxiter': 1000},\n",
    ")\n",
    "result"
   ]
  },
  {
   "cell_type": "code",
   "execution_count": 8,
   "id": "2e708ae1-41b3-4e19-9163-15c140b8a61c",
   "metadata": {},
   "outputs": [],
   "source": [
    "optimized_log_nu = result.x"
   ]
  },
  {
   "cell_type": "markdown",
   "id": "fcba1bea-d6c0-40a3-b254-e0796bca0cf6",
   "metadata": {},
   "source": [
    "Let us check the optimization results:"
   ]
  },
  {
   "cell_type": "code",
   "execution_count": 9,
   "id": "4b0cbdac-290d-4499-8768-85a5a97e4e34",
   "metadata": {},
   "outputs": [
    {
     "data": {
      "text/plain": [
       "(750.0, 500.0)"
      ]
     },
     "execution_count": 9,
     "metadata": {},
     "output_type": "execute_result"
    }
   ],
   "source": [
    "get_log_consumption(optimized_log_nu), get_log_population(optimized_log_nu)"
   ]
  },
  {
   "cell_type": "markdown",
   "id": "a4234118-77a7-444a-850f-3b176e326410",
   "metadata": {},
   "source": [
    "And for checking fractal:"
   ]
  },
  {
   "cell_type": "code",
   "execution_count": 10,
   "id": "b8c1ab39-7ae4-47e0-9d3e-0f185ac20abd",
   "metadata": {},
   "outputs": [
    {
     "data": {
      "image/png": "[encoded data removed]",
      "text/plain": [
       "<Figure size 640x480 with 1 Axes>"
      ]
     },
     "metadata": {},
     "output_type": "display_data"
    }
   ],
   "source": [
    "plt.plot(optimized_log_nu, '.', label='$\\\\ln \\\\nu_k$')\n",
    "# plt.plot(np.exp(optimized_log_nu), '.', label='$\\\\nu_k$')\n",
    "plt.xlabel('$k$')\n",
    "plt.legend()\n",
    "plt.show()"
   ]
  },
  {
   "cell_type": "markdown",
   "id": "9156d5e6-dc04-4194-a084-e3c4611dbb82",
   "metadata": {},
   "source": [
    "Fractal emerges, since the $\\ln \\nu_k$ are approximately equal for $k > 0$."
   ]
  }
 ],
 "metadata": {
  "kernelspec": {
   "display_name": ".venv",
   "language": "python",
   "name": ".venv"
  },
  "language_info": {
   "codemirror_mode": {
    "name": "ipython",
    "version": 3
   },
   "file_extension": ".py",
   "mimetype": "text/x-python",
   "name": "python",
   "nbconvert_exporter": "python",
   "pygments_lexer": "ipython3",
   "version": "3.11.6"
  }
 },
 "nbformat": 4,
 "nbformat_minor": 5
}
